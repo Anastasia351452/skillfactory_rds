{
 "cells": [
  {
   "cell_type": "markdown",
   "metadata": {},
   "source": [
    "### Часть 2. Кластеризация рейсов для определения контрольной группы"
   ]
  },
  {
   "cell_type": "markdown",
   "metadata": {},
   "source": [
    "Если в продуктовых тестах, осуществляемых на сайте, четко определены тестовая и контрольная группы, то технология проведения ценовых тестов (изменение цен на дополнительные услуги) не предусматривает выделения контрольной группы. В связи с этим возникает проблема определения эффективности теста.\n",
    "\n",
    "Как вариант решения проблемы - кластеризация рейсов с целью выявления похожих рейсов по ряду параметров: пенетрация услуги \"Выбор места\", удельная выручка на пассажира, средний чек, расстояние. \n",
    "\n",
    "При этом важно понимать, что маршрутная сеть разнообразна и часть рейсов будут уникальны и не войдут ни в один кластер (выбросы), поэтому предлагается для рейсов в одном кластере применять межрейсовое сравнение, а для специфичных рейсов при проведении тестов сравнивать результаты до и после тестов."
   ]
  },
  {
   "cell_type": "markdown",
   "metadata": {},
   "source": [
    "![](https://pro.arcgis.com/ru/pro-app/latest/tool-reference/spatial-statistics/GUID-A06A412D-2F4F-4D35-8FFF-1F4B3B3A8F16-web.png)"
   ]
  },
  {
   "cell_type": "markdown",
   "metadata": {},
   "source": [
    "**Оценка качества** кластеризации будет проходить с использованием **коэффициент силуэта**, который показывает, насколько объект похож на свой кластер по сравнению с другими кластерами:\n",
    "$$S = {{b-a}\\over\\max(a,b)}$$\n",
    "\n",
    "a — среднее расстояние от данного объекта до объектов из того же кластера;\n",
    "\n",
    "b — среднее расстояние от данного объекта до объектов из ближайшего кластера.\n",
    "\n",
    "Значение коэффициента находится в диапазоне от **-1 до +1**, где высокое значение указывает, что объект хорошо согласуется с кластером, которому он принадлежит, и плохо согласуется с «чужими» кластерами. Если у подавляющего большинства объектов этот коэффициент высокий, то можно считать кластеризацию достаточно качественной. Если же у большого числа объектов низкий или отрицательный коэффициент силуэта, то, возможно, кластеров слишком много, слишком мало или просто данные плохо поддаются разделению на кластеры."
   ]
  },
  {
   "cell_type": "markdown",
   "metadata": {},
   "source": [
    "### 1. Импортирование библиотек"
   ]
  },
  {
   "cell_type": "code",
   "execution_count": 1,
   "metadata": {},
   "outputs": [],
   "source": [
    "# библиотеки для работы с данными\n",
    "import pandas as pd\n",
    "import numpy as np\n",
    "from datetime import datetime, timedelta\n",
    "\n",
    "# библиотеки для статистического анализа\n",
    "from scipy.stats import ttest_ind\n",
    "from scipy.stats import chi2_contingency\n",
    "from scipy.stats import chi2\n",
    "\n",
    "# библиотеки для визуализации\n",
    "import altair as alt\n",
    "# отключение ограничения в 5000 строк для alt\n",
    "alt.data_transformers.disable_max_rows()\n",
    "import matplotlib.pyplot as plt\n",
    "import seaborn as sns\n",
    "%matplotlib inline\n",
    "\n",
    "# опции для вывода данных в нужном количестве и формате\n",
    "pd.set_option('display.max_columns', 50)\n",
    "pd.set_option('display.max_rows', 100)\n",
    "pd.set_option('display.float_format', '{:.5f}'.format)\n",
    "\n",
    "# импортируем библиотеку для работы с алгоритмом K-means\n",
    "from sklearn.cluster import KMeans\n",
    "\n",
    "# импортируем библиотеку для работы с ЕМ - алгоритмом\n",
    "from sklearn.mixture import GaussianMixture\n",
    "\n",
    "# импортируем библиотеку для работы с агломеративной кластеризацией\n",
    "from sklearn.cluster import AgglomerativeClustering\n",
    "\n",
    "# импортируем библиотеки для работы с агломеративной кластеризацией и построением дендограммы\n",
    "from scipy.cluster.hierarchy import dendrogram, linkage\n",
    "\n",
    "# импортируем библиотеку для работы с алгоритмом DBSCAN\n",
    "from sklearn.cluster import DBSCAN\n",
    "\n",
    "# библиотеки для стандартизации и нормализации данных\n",
    "from sklearn.preprocessing import StandardScaler, normalize\n",
    "from sklearn.decomposition import PCA\n",
    "from sklearn.metrics import silhouette_score\n",
    "\n",
    "from catboost import CatBoostRegressor\n",
    "import warnings\n",
    "from sklearn.neighbors import kneighbors_graph"
   ]
  },
  {
   "cell_type": "markdown",
   "metadata": {},
   "source": [
    "### 2. Применяемые функции"
   ]
  },
  {
   "cell_type": "code",
   "execution_count": 2,
   "metadata": {},
   "outputs": [],
   "source": [
    "def count_elem_in_cluster(x, y, data, numb):\n",
    "    \n",
    "    \"\"\"Функция используется для подсчета количества элементов в кластере\"\"\"\n",
    "    \n",
    "    cluster_count = pd.DataFrame(data.pivot_table(values = [x], index = [y], \n",
    "                                            aggfunc = 'count')).reset_index()\n",
    "    cluster_count.columns = [['Номер кластера','Количество элементов']]\n",
    "    cluster_count.iloc[:,1]\n",
    "    \n",
    "    plt.figure(figsize=(10,5))\n",
    "    plt.bar(numb, list(cluster_count.iloc[:,1]))\n",
    "    plt.title('Количество элементов, относящихся к каждому кластеру', fontsize=12, color='black')\n",
    "    plt.xlabel('Количество кластеров', fontsize=12, color='black')\n",
    "    plt.ylabel('Количество элементов', fontsize=12, color='black')\n",
    "    plt.grid(True)\n",
    "    plt.show()\n",
    "    \n",
    "    \n",
    "def dif_cluster(x):\n",
    "    \n",
    "    \"\"\"Функция используется для вывода средних метрик по каждому кластеру\"\"\"\n",
    "    \n",
    "    cluster = pd.DataFrame(df.pivot_table(values = ['Пенетрация_услуги','Расстояние','Средний_чек_услуги',\n",
    "                                                'Удельная_выручка_на_пассажира'], index = [x], \n",
    "                                      aggfunc = 'mean')).reset_index()\n",
    "    cluster.columns = [[\"Номер кластера\",\"Пенетрация\",\"Расстояние, км.\",\"Средний чек, руб.\",\"Уд. выручка на пас.\"]]\n",
    "    return cluster"
   ]
  },
  {
   "cell_type": "markdown",
   "metadata": {},
   "source": [
    "### 3. Обеспечение воспроизводимости экспериментов"
   ]
  },
  {
   "cell_type": "code",
   "execution_count": 3,
   "metadata": {},
   "outputs": [],
   "source": [
    "# фиксация random_seed для воспроивзодимости экспериментов\n",
    "RANDOM_SEED = 42\n",
    "np.random.seed(RANDOM_SEED)"
   ]
  },
  {
   "cell_type": "markdown",
   "metadata": {},
   "source": [
    "### 4. Знакомство с данными"
   ]
  },
  {
   "cell_type": "code",
   "execution_count": 4,
   "metadata": {},
   "outputs": [],
   "source": [
    "df=pd.read_excel(r'C:\\Users\\1201065\\Desktop\\Дипломный проект\\Данные для модели.xlsx')"
   ]
  },
  {
   "cell_type": "code",
   "execution_count": 5,
   "metadata": {
    "scrolled": false
   },
   "outputs": [
    {
     "data": {
      "text/html": [
       "<div>\n",
       "<style scoped>\n",
       "    .dataframe tbody tr th:only-of-type {\n",
       "        vertical-align: middle;\n",
       "    }\n",
       "\n",
       "    .dataframe tbody tr th {\n",
       "        vertical-align: top;\n",
       "    }\n",
       "\n",
       "    .dataframe thead th {\n",
       "        text-align: right;\n",
       "    }\n",
       "</style>\n",
       "<table border=\"1\" class=\"dataframe\">\n",
       "  <thead>\n",
       "    <tr style=\"text-align: right;\">\n",
       "      <th></th>\n",
       "      <th>Маршрут</th>\n",
       "      <th>Пенетрация_услуги</th>\n",
       "      <th>Удельная_выручка_на_пассажира</th>\n",
       "      <th>Тип_ВС</th>\n",
       "      <th>Средний_чек_услуги</th>\n",
       "      <th>Количество_проданных_сегментов</th>\n",
       "      <th>ВВЛ/МВЛ</th>\n",
       "      <th>Направленность</th>\n",
       "      <th>Налет</th>\n",
       "      <th>Тип_маршрута</th>\n",
       "      <th>Расстояние</th>\n",
       "    </tr>\n",
       "  </thead>\n",
       "  <tbody>\n",
       "    <tr>\n",
       "      <td>0</td>\n",
       "      <td>IKT-VKO</td>\n",
       "      <td>0.40268</td>\n",
       "      <td>191.33119</td>\n",
       "      <td>Boeing Московский</td>\n",
       "      <td>487.57926</td>\n",
       "      <td>6337</td>\n",
       "      <td>ВВЛ</td>\n",
       "      <td>Московские</td>\n",
       "      <td>5.46666</td>\n",
       "      <td>Московские</td>\n",
       "      <td>4413.00000</td>\n",
       "    </tr>\n",
       "    <tr>\n",
       "      <td>1</td>\n",
       "      <td>AAQ-VKO</td>\n",
       "      <td>0.37797</td>\n",
       "      <td>163.35751</td>\n",
       "      <td>Boeing Московский</td>\n",
       "      <td>421.38962</td>\n",
       "      <td>84801</td>\n",
       "      <td>ВВЛ</td>\n",
       "      <td>Московские</td>\n",
       "      <td>2.08626</td>\n",
       "      <td>Московские</td>\n",
       "      <td>1390.68746</td>\n",
       "    </tr>\n",
       "    <tr>\n",
       "      <td>2</td>\n",
       "      <td>AER-TJM</td>\n",
       "      <td>0.36009</td>\n",
       "      <td>172.33264</td>\n",
       "      <td>Boeing Региональный</td>\n",
       "      <td>480.23171</td>\n",
       "      <td>9988</td>\n",
       "      <td>ВВЛ</td>\n",
       "      <td>Региональные</td>\n",
       "      <td>3.44479</td>\n",
       "      <td>Региональные</td>\n",
       "      <td>2548.65625</td>\n",
       "    </tr>\n",
       "  </tbody>\n",
       "</table>\n",
       "</div>"
      ],
      "text/plain": [
       "   Маршрут  Пенетрация_услуги  Удельная_выручка_на_пассажира  \\\n",
       "0  IKT-VKO            0.40268                      191.33119   \n",
       "1  AAQ-VKO            0.37797                      163.35751   \n",
       "2  AER-TJM            0.36009                      172.33264   \n",
       "\n",
       "                Тип_ВС  Средний_чек_услуги  Количество_проданных_сегментов  \\\n",
       "0    Boeing Московский           487.57926                            6337   \n",
       "1    Boeing Московский           421.38962                           84801   \n",
       "2  Boeing Региональный           480.23171                            9988   \n",
       "\n",
       "  ВВЛ/МВЛ Направленность   Налет  Тип_маршрута  Расстояние  \n",
       "0     ВВЛ     Московские 5.46666    Московские  4413.00000  \n",
       "1     ВВЛ     Московские 2.08626    Московские  1390.68746  \n",
       "2     ВВЛ   Региональные 3.44479  Региональные  2548.65625  "
      ]
     },
     "execution_count": 5,
     "metadata": {},
     "output_type": "execute_result"
    }
   ],
   "source": [
    "df.head(3)"
   ]
  },
  {
   "cell_type": "code",
   "execution_count": 6,
   "metadata": {
    "scrolled": true
   },
   "outputs": [
    {
     "name": "stdout",
     "output_type": "stream",
     "text": [
      "<class 'pandas.core.frame.DataFrame'>\n",
      "RangeIndex: 160 entries, 0 to 159\n",
      "Data columns (total 11 columns):\n",
      "Маршрут                           160 non-null object\n",
      "Пенетрация_услуги                 160 non-null float64\n",
      "Удельная_выручка_на_пассажира     160 non-null float64\n",
      "Тип_ВС                            160 non-null object\n",
      "Средний_чек_услуги                160 non-null float64\n",
      "Количество_проданных_сегментов    160 non-null int64\n",
      "ВВЛ/МВЛ                           160 non-null object\n",
      "Направленность                    160 non-null object\n",
      "Налет                             160 non-null float64\n",
      "Тип_маршрута                      160 non-null object\n",
      "Расстояние                        160 non-null float64\n",
      "dtypes: float64(5), int64(1), object(5)\n",
      "memory usage: 13.9+ KB\n"
     ]
    }
   ],
   "source": [
    "df.info()"
   ]
  },
  {
   "cell_type": "markdown",
   "metadata": {},
   "source": [
    "Работа будет проведена над dataset, содержащим 160 строк, 11 колонок и следующие поля:\n",
    "* **маршрут** - категориальная переменная, содержит информацию о пункте прилета и вылета;\n",
    "* **пенетрация_услуги** - число, содержит информацию о том, сколько услуг \"Выбор места\" приходится на пассажиров;\n",
    "* **удельная_выручка_на_пассажира** - число, удельная выручка по услуге;\n",
    "* **тип_ВС** - категориальная переменная, тип воздушного судна;\n",
    "* **средний_чек_услуги** - число;\n",
    "* **количество_проданных_сегментов** - число;\n",
    "* **ВВЛ/МВЛ** - категориальная переменная, внутренние и международные перевозки;\n",
    "* **направленность** - категориальная переменная;\n",
    "* **налет** -  число;\n",
    "* **тип_маршрута** - категориальная переменная;\n",
    "* **расстояние** - число."
   ]
  },
  {
   "cell_type": "code",
   "execution_count": 7,
   "metadata": {},
   "outputs": [
    {
     "data": {
      "text/html": [
       "<div>\n",
       "<style scoped>\n",
       "    .dataframe tbody tr th:only-of-type {\n",
       "        vertical-align: middle;\n",
       "    }\n",
       "\n",
       "    .dataframe tbody tr th {\n",
       "        vertical-align: top;\n",
       "    }\n",
       "\n",
       "    .dataframe thead th {\n",
       "        text-align: right;\n",
       "    }\n",
       "</style>\n",
       "<table border=\"1\" class=\"dataframe\">\n",
       "  <thead>\n",
       "    <tr style=\"text-align: right;\">\n",
       "      <th></th>\n",
       "      <th>Пенетрация_услуги</th>\n",
       "      <th>Удельная_выручка_на_пассажира</th>\n",
       "      <th>Средний_чек_услуги</th>\n",
       "      <th>Количество_проданных_сегментов</th>\n",
       "      <th>Налет</th>\n",
       "      <th>Расстояние</th>\n",
       "    </tr>\n",
       "  </thead>\n",
       "  <tbody>\n",
       "    <tr>\n",
       "      <td>count</td>\n",
       "      <td>160.00000</td>\n",
       "      <td>160.00000</td>\n",
       "      <td>160.00000</td>\n",
       "      <td>160.00000</td>\n",
       "      <td>160.00000</td>\n",
       "      <td>160.00000</td>\n",
       "    </tr>\n",
       "    <tr>\n",
       "      <td>mean</td>\n",
       "      <td>0.19071</td>\n",
       "      <td>84.55933</td>\n",
       "      <td>431.21865</td>\n",
       "      <td>10082.80625</td>\n",
       "      <td>2.49464</td>\n",
       "      <td>1528.64077</td>\n",
       "    </tr>\n",
       "    <tr>\n",
       "      <td>std</td>\n",
       "      <td>0.08127</td>\n",
       "      <td>45.29248</td>\n",
       "      <td>121.42053</td>\n",
       "      <td>16788.50766</td>\n",
       "      <td>1.20772</td>\n",
       "      <td>1076.52374</td>\n",
       "    </tr>\n",
       "    <tr>\n",
       "      <td>min</td>\n",
       "      <td>0.01187</td>\n",
       "      <td>3.59033</td>\n",
       "      <td>277.11111</td>\n",
       "      <td>20.00000</td>\n",
       "      <td>0.63889</td>\n",
       "      <td>217.44071</td>\n",
       "    </tr>\n",
       "    <tr>\n",
       "      <td>25%</td>\n",
       "      <td>0.13382</td>\n",
       "      <td>49.98401</td>\n",
       "      <td>328.62849</td>\n",
       "      <td>2100.50000</td>\n",
       "      <td>1.56335</td>\n",
       "      <td>648.11237</td>\n",
       "    </tr>\n",
       "    <tr>\n",
       "      <td>50%</td>\n",
       "      <td>0.18807</td>\n",
       "      <td>80.80268</td>\n",
       "      <td>432.77198</td>\n",
       "      <td>3667.50000</td>\n",
       "      <td>2.27387</td>\n",
       "      <td>1254.74650</td>\n",
       "    </tr>\n",
       "    <tr>\n",
       "      <td>75%</td>\n",
       "      <td>0.24953</td>\n",
       "      <td>115.18452</td>\n",
       "      <td>492.76478</td>\n",
       "      <td>9788.75000</td>\n",
       "      <td>3.16583</td>\n",
       "      <td>2211.31510</td>\n",
       "    </tr>\n",
       "    <tr>\n",
       "      <td>max</td>\n",
       "      <td>0.40268</td>\n",
       "      <td>259.27917</td>\n",
       "      <td>1085.06556</td>\n",
       "      <td>84801.00000</td>\n",
       "      <td>8.68444</td>\n",
       "      <td>6506.46471</td>\n",
       "    </tr>\n",
       "  </tbody>\n",
       "</table>\n",
       "</div>"
      ],
      "text/plain": [
       "       Пенетрация_услуги  Удельная_выручка_на_пассажира  Средний_чек_услуги  \\\n",
       "count          160.00000                      160.00000           160.00000   \n",
       "mean             0.19071                       84.55933           431.21865   \n",
       "std              0.08127                       45.29248           121.42053   \n",
       "min              0.01187                        3.59033           277.11111   \n",
       "25%              0.13382                       49.98401           328.62849   \n",
       "50%              0.18807                       80.80268           432.77198   \n",
       "75%              0.24953                      115.18452           492.76478   \n",
       "max              0.40268                      259.27917          1085.06556   \n",
       "\n",
       "       Количество_проданных_сегментов     Налет  Расстояние  \n",
       "count                       160.00000 160.00000   160.00000  \n",
       "mean                      10082.80625   2.49464  1528.64077  \n",
       "std                       16788.50766   1.20772  1076.52374  \n",
       "min                          20.00000   0.63889   217.44071  \n",
       "25%                        2100.50000   1.56335   648.11237  \n",
       "50%                        3667.50000   2.27387  1254.74650  \n",
       "75%                        9788.75000   3.16583  2211.31510  \n",
       "max                       84801.00000   8.68444  6506.46471  "
      ]
     },
     "execution_count": 7,
     "metadata": {},
     "output_type": "execute_result"
    }
   ],
   "source": [
    "df.describe()"
   ]
  },
  {
   "cell_type": "code",
   "execution_count": 8,
   "metadata": {},
   "outputs": [],
   "source": [
    "# категориальные переменные в число\n",
    "for colum in ['Тип_ВС','ВВЛ/МВЛ','Направленность','Тип_маршрута']:\n",
    "    df[colum] = df[colum].astype('category').cat.codes"
   ]
  },
  {
   "cell_type": "code",
   "execution_count": 9,
   "metadata": {},
   "outputs": [],
   "source": [
    "# возьмем только числовые признаки для анализа\n",
    "X=df[['Пенетрация_услуги','Расстояние','Средний_чек_услуги','Удельная_выручка_на_пассажира']]"
   ]
  },
  {
   "cell_type": "code",
   "execution_count": 10,
   "metadata": {},
   "outputs": [],
   "source": [
    "# проведем стандартизацию признаков\n",
    "scaler = StandardScaler() \n",
    "scaled_df = scaler.fit_transform(X) "
   ]
  },
  {
   "cell_type": "code",
   "execution_count": 11,
   "metadata": {},
   "outputs": [],
   "source": [
    "# нормализируем признаки\n",
    "X = normalize(scaled_df) \n",
    "  \n",
    "# конвертируем матрицу в df и извлекаем значения\n",
    "X = pd.DataFrame(X).values"
   ]
  },
  {
   "cell_type": "code",
   "execution_count": 12,
   "metadata": {},
   "outputs": [
    {
     "data": {
      "text/plain": [
       "array([[ 0.58682308,  0.60283381,  0.10443725,  0.53039885],\n",
       "       [ 0.79697001, -0.04432277, -0.02799865,  0.60173945],\n",
       "       [ 0.68863581,  0.3130621 ,  0.13337272,  0.64030037],\n",
       "       [ 0.63995428,  0.33865699,  0.20276242,  0.65928549],\n",
       "       [ 0.75881671, -0.02126505,  0.08410738,  0.64550053],\n",
       "       [ 0.77092138,  0.00227841,  0.06798013,  0.63328803],\n",
       "       [ 0.66698196,  0.37009306,  0.15582569,  0.62760222],\n",
       "       [ 0.85774342, -0.05382455, -0.4410869 ,  0.25849852],\n",
       "       [ 0.52485151,  0.68221124,  0.11972017,  0.49475832],\n",
       "       [ 0.72472095,  0.40834342,  0.03310541,  0.55402097],\n",
       "       [ 0.56678389,  0.56421716,  0.20024667,  0.56596492],\n",
       "       [ 0.62636874,  0.43063364,  0.20309937,  0.61722566],\n",
       "       [ 0.55416918,  0.53877985,  0.23044946,  0.59119019],\n",
       "       [ 0.7814394 , -0.36035026, -0.47296816,  0.18921226],\n",
       "       [ 0.58287751,  0.5956853 ,  0.14318353,  0.53377083],\n",
       "       [ 0.67398446,  0.64176204, -0.17985645,  0.31865042],\n",
       "       [ 0.50388541,  0.55902415,  0.29176302,  0.59030994],\n",
       "       [ 0.64457819,  0.38008913,  0.19602528,  0.63373914],\n",
       "       [ 0.23912485,  0.85474885,  0.25375638,  0.3844885 ],\n",
       "       [ 0.6441762 ,  0.04383829,  0.29251753,  0.70537134],\n",
       "       [ 0.47905746,  0.57179172,  0.32083954,  0.58362674],\n",
       "       [ 0.74073062, -0.40663258, -0.51565463,  0.14166296],\n",
       "       [ 0.53075686,  0.56403488,  0.25396346,  0.57936549],\n",
       "       [ 0.59635445,  0.30621511,  0.31412771,  0.67224807],\n",
       "       [ 0.47407329,  0.64367139,  0.27801949,  0.53258504],\n",
       "       [ 0.60569514, -0.61478522, -0.49979112,  0.07335783],\n",
       "       [ 0.49607732,  0.673785  ,  0.23326797,  0.49548675],\n",
       "       [ 0.67819825,  0.07009996,  0.27063067,  0.6796265 ],\n",
       "       [ 0.46899572,  0.68844512,  0.24672576,  0.49518959],\n",
       "       [ 0.49184952,  0.38644809,  0.42862578,  0.65193701],\n",
       "       [ 0.50307347,  0.68789723,  0.22056413,  0.47441117],\n",
       "       [ 0.3691689 , -0.19342295,  0.60707719,  0.67657902],\n",
       "       [ 0.5767471 ,  0.52740105,  0.25222088,  0.5706098 ],\n",
       "       [ 0.68066395, -0.36532708, -0.63288558,  0.05185129],\n",
       "       [ 0.70215602,  0.56958078, -0.08389473,  0.4189467 ],\n",
       "       [ 0.61618504,  0.64471534,  0.00743418,  0.45233047],\n",
       "       [ 0.58893256, -0.06725957,  0.40829122,  0.69421385],\n",
       "       [ 0.68890078,  0.3844547 ,  0.1531116 ,  0.59511943],\n",
       "       [ 0.80443996,  0.36110799, -0.29655469,  0.36678698],\n",
       "       [ 0.26965079,  0.94324967,  0.0060312 ,  0.19373213],\n",
       "       [ 0.44660053,  0.06971284,  0.56384553,  0.69120641],\n",
       "       [ 0.78970544,  0.40816467, -0.2471011 ,  0.38562671],\n",
       "       [ 0.72191559, -0.43159049,  0.04790447,  0.5387696 ],\n",
       "       [ 0.57957949, -0.25146689,  0.39630189,  0.66618078],\n",
       "       [ 0.53281412,  0.16558845,  0.49611321,  0.66525278],\n",
       "       [ 0.39258901, -0.72587329, -0.5577806 , -0.08867152],\n",
       "       [ 0.41502327,  0.73701288,  0.280408  ,  0.45380507],\n",
       "       [ 0.69348657, -0.20456417,  0.2440764 ,  0.64626356],\n",
       "       [ 0.08869474, -0.11234243,  0.80456397,  0.5763586 ],\n",
       "       [ 0.64159367, -0.18488624,  0.34095418,  0.66175893],\n",
       "       [ 0.29803635,  0.49171806,  0.58277988,  0.57424324],\n",
       "       [ 0.37361547, -0.74229191, -0.54871522, -0.09124584],\n",
       "       [ 0.38149757, -0.68597343, -0.60757497, -0.12146075],\n",
       "       [ 0.34994328,  0.55989045,  0.51595519,  0.54575876],\n",
       "       [ 0.28202206,  0.38837374,  0.64947259,  0.58975821],\n",
       "       [ 0.51604146,  0.32928198,  0.47577993,  0.63159167],\n",
       "       [ 0.48621966,  0.70242554,  0.23719079,  0.46252496],\n",
       "       [ 0.49316898,  0.13705938,  0.56403778,  0.64796641],\n",
       "       [ 0.45471482,  0.84246041, -0.0191522 ,  0.28831941],\n",
       "       [ 0.25000748, -0.76753239, -0.56390647, -0.17435535],\n",
       "       [ 0.31122765,  0.90121419,  0.13129474,  0.27149959],\n",
       "       [ 0.22649633, -0.69679336, -0.63711927, -0.23928532],\n",
       "       [ 0.21741158, -0.59532569, -0.719764  , -0.28330074],\n",
       "       [ 0.36261172, -0.91245791, -0.13755535,  0.13042939],\n",
       "       [ 0.23086977,  0.31303697,  0.73924719,  0.54974594],\n",
       "       [ 0.16873504, -0.69362196, -0.64710033, -0.26772787],\n",
       "       [ 0.06472766, -0.25243804,  0.83555919,  0.48365918],\n",
       "       [ 0.23064337,  0.32825879,  0.76399119,  0.50533876],\n",
       "       [ 0.46012559, -0.77714984,  0.29691069,  0.31010742],\n",
       "       [ 0.04195859,  0.93643657,  0.30111301,  0.17509135],\n",
       "       [ 0.17309537, -0.19017986, -0.87723634, -0.40537146],\n",
       "       [ 0.04794035, -0.5106955 , -0.7570344 , -0.4047107 ],\n",
       "       [ 0.04193404, -0.80846995, -0.51500964, -0.2817498 ],\n",
       "       [ 0.07253361, -0.06955106,  0.91262626,  0.39625098],\n",
       "       [ 0.01501538, -0.69343367, -0.62916905, -0.35081417],\n",
       "       [ 0.03177349, -0.80620804,  0.5471483 ,  0.22281783],\n",
       "       [ 0.01323861, -0.694699  , -0.62817025, -0.35017163],\n",
       "       [ 0.01346114, -0.3754432 , -0.80527057, -0.45869435],\n",
       "       [ 0.00201356,  0.91579603,  0.38514424,  0.11391879],\n",
       "       [-0.02506035, -0.35587447, -0.80704386, -0.47053752],\n",
       "       [-0.02865415, -0.59583223, -0.68961291, -0.41060556],\n",
       "       [-0.0441228 , -0.59619857, -0.6852678 , -0.41594289],\n",
       "       [-0.23856301,  0.11069891,  0.95517638,  0.13590997],\n",
       "       [-0.05364446,  0.92368118,  0.36557407,  0.10144429],\n",
       "       [-0.14457548, -0.96099834, -0.07503446, -0.22349485],\n",
       "       [-0.12511231, -0.7528182 ,  0.62815707,  0.15175756],\n",
       "       [-0.17940295,  0.31436278,  0.90481843,  0.22426375],\n",
       "       [-0.09008627, -0.57447206, -0.68449309, -0.43969935],\n",
       "       [-0.11948422, -0.33713797, -0.77945571, -0.51430565],\n",
       "       [-0.12377456, -0.50603059, -0.7047153 , -0.48165261],\n",
       "       [-0.34740618,  0.53783827,  0.75573157,  0.13750906],\n",
       "       [-0.11327343, -0.62980555, -0.63530384, -0.43232296],\n",
       "       [-0.14486413, -0.4850703 , -0.7127104 , -0.48555646],\n",
       "       [-0.09531674,  0.23882159,  0.90900387,  0.32801058],\n",
       "       [-0.21177832, -0.84904306,  0.48386682,  0.0121958 ],\n",
       "       [-0.4111263 ,  0.23079711,  0.86022368, -0.1942243 ],\n",
       "       [-0.16968727, -0.64157929, -0.60197243, -0.44408495],\n",
       "       [-0.27287516,  0.13828517,  0.93852927,  0.1599349 ],\n",
       "       [-0.15304081,  0.74996865,  0.6287849 ,  0.13694919],\n",
       "       [-0.19246844, -0.63411765, -0.59432404, -0.45566396],\n",
       "       [-0.2454203 ,  0.25982737,  0.91329043,  0.19534382],\n",
       "       [-0.22389229, -0.53227022, -0.64387128, -0.50198648],\n",
       "       [-0.22152233, -0.39754242, -0.71767827, -0.52709182],\n",
       "       [-0.61111386, -0.59058235,  0.28012706, -0.4464092 ],\n",
       "       [-0.26585479, -0.59672355, -0.57786659, -0.48919571],\n",
       "       [-0.45116578, -0.36597389,  0.8115481 , -0.06246784],\n",
       "       [-0.2504115 , -0.66749696, -0.53697675, -0.45099652],\n",
       "       [-0.13647376,  0.23254205,  0.92500329,  0.26770883],\n",
       "       [-0.35910003, -0.35527781, -0.63781752, -0.58138942],\n",
       "       [-0.29806323, -0.60453953, -0.55280386, -0.48999813],\n",
       "       [-0.30471651,  0.89350517,  0.29420645, -0.1491272 ],\n",
       "       [-0.31875341, -0.60742696, -0.53474913, -0.49342895],\n",
       "       [-0.35932026, -0.46978678, -0.59285757, -0.54654298],\n",
       "       [-0.17008919, -0.26213031,  0.92486313,  0.21676152],\n",
       "       [-0.37604633, -0.46531099, -0.58230257, -0.55045305],\n",
       "       [-0.37727323,  0.26926608,  0.88600932,  0.01217274],\n",
       "       [-0.37452116, -0.5193027 , -0.55646964, -0.52952823],\n",
       "       [-0.4756959 , -0.26427362, -0.57214057, -0.61361881],\n",
       "       [-0.42943802, -0.51368896, -0.50281117, -0.5467061 ],\n",
       "       [-0.47712155, -0.17322225, -0.59800268, -0.62027564],\n",
       "       [-0.44020082, -0.51604427, -0.49232879, -0.5454667 ],\n",
       "       [-0.40868575, -0.50536206, -0.54617844, -0.52846406],\n",
       "       [-0.48208863, -0.33695727, -0.55492166, -0.5883131 ],\n",
       "       [-0.51009838,  0.08005166, -0.59138899, -0.61939522],\n",
       "       [-0.47885629, -0.53624857, -0.43476008, -0.54232628],\n",
       "       [-0.44867033, -0.54375181, -0.47215026, -0.52924761],\n",
       "       [-0.73031041,  0.39814727,  0.23095829, -0.50476105],\n",
       "       [-0.3653944 , -0.46891748,  0.80273358, -0.04713942],\n",
       "       [-0.74341537,  0.09875222, -0.10739459, -0.65272351],\n",
       "       [-0.52900461, -0.15397842, -0.55964928, -0.61906175],\n",
       "       [-0.54456491, -0.32576389, -0.48474937, -0.60195099],\n",
       "       [-0.77158741, -0.1110594 ,  0.29660704, -0.55167286],\n",
       "       [-0.51894737,  0.5314421 ,  0.62479284, -0.2406176 ],\n",
       "       [-0.55723743, -0.33002372, -0.46240803, -0.60559855],\n",
       "       [-0.50040517, -0.49787634, -0.44670874, -0.54969547],\n",
       "       [-0.49925722, -0.38190101, -0.52774034, -0.57130025],\n",
       "       [-0.54275181, -0.30593596, -0.50391011, -0.59824599],\n",
       "       [-0.73555857,  0.20332545,  0.42827015, -0.48393907],\n",
       "       [-0.53974468, -0.44331103, -0.43824242, -0.56576903],\n",
       "       [-0.54032627, -0.47527688, -0.41553027, -0.55632186],\n",
       "       [-0.43698416,  0.21937104,  0.86138743, -0.13759679],\n",
       "       [-0.46555204,  0.76713686,  0.341301  , -0.2797784 ],\n",
       "       [-0.52947614, -0.43271903, -0.47327886, -0.55535248],\n",
       "       [-0.59544098, -0.39955237, -0.41212177, -0.56210638],\n",
       "       [-0.61816606, -0.39074775, -0.37311588, -0.5709391 ],\n",
       "       [-0.38990837,  0.8358614 ,  0.28388581, -0.26213742],\n",
       "       [-0.63707568, -0.39534012, -0.32737981, -0.57503324],\n",
       "       [-0.55935177, -0.44263179, -0.4558991 , -0.53231449],\n",
       "       [-0.59881881, -0.45372302, -0.36779786, -0.54797463],\n",
       "       [-0.51283525,  0.49383391,  0.62395163, -0.32219937],\n",
       "       [-0.60458682, -0.40189924, -0.41757202, -0.54642968],\n",
       "       [-0.6163897 , -0.40056111, -0.39846051, -0.54849226],\n",
       "       [-0.51590952,  0.19408649,  0.76707718, -0.32826879],\n",
       "       [-0.68155916, -0.25445237, -0.35826316, -0.58513127],\n",
       "       [-0.67808499, -0.3287703 , -0.3195482 , -0.57445607],\n",
       "       [-0.63088381, -0.35288211, -0.42211922, -0.54706051],\n",
       "       [-0.65775742, -0.37345828, -0.34984036, -0.55271676],\n",
       "       [-0.67333527, -0.39095452, -0.29567455, -0.55348959],\n",
       "       [-0.69330245, -0.35424065, -0.27037764, -0.56634019],\n",
       "       [-0.68433004, -0.3360684 , -0.33117146, -0.55594594]])"
      ]
     },
     "execution_count": 12,
     "metadata": {},
     "output_type": "execute_result"
    }
   ],
   "source": [
    "X"
   ]
  },
  {
   "cell_type": "markdown",
   "metadata": {},
   "source": [
    "### 5. Применение алгоритмов кластеризации (обучение без учителя)"
   ]
  },
  {
   "cell_type": "markdown",
   "metadata": {},
   "source": [
    "### 5.1. k-means"
   ]
  },
  {
   "cell_type": "markdown",
   "metadata": {},
   "source": [
    "**k-means** является одним из самых популярных и простых алгоритмов кластеризации. В ходе этого алгоритма все элементы пространства разбиваются на заранее известное (заданное) количество кластеров. Суть алгоритма состоит в том, что он пытается оптимизировать расстояние всех точек кластера от центра этого кластера. То есть он формирует кластеры так, чтобы внутри каждого сумма квадратов расстояний от точек до центра кластера была как можно меньше."
   ]
  },
  {
   "cell_type": "markdown",
   "metadata": {},
   "source": [
    "**Этапы работы алгоритма:**\n",
    "* выбрать количество кластеров, которое нам кажется оптимальным для наших данных;\n",
    "* выбрать случайным образом в пространство наших данных центроиды;\n",
    "* для каждой точки набора данных посчитать, к какому центроиду она ближе;\n",
    "* переместить каждый центроид в центр выборки, которую мы отнесли к этому центроиду. Каждый центроид на каждой итерации — вектор, элементы которого представляют собой средние значения признаков, вычисленные по всем записям кластера;\n",
    "* повторять шаги 3-4 фиксированное число раз или до тех пор, пока центроиды не сойдутся."
   ]
  },
  {
   "cell_type": "markdown",
   "metadata": {},
   "source": [
    "Для начала необходимо определить **оптимальное количество** групп (кластеров) K. Для этого воспользуемся двумя методами:\n",
    "1. **\"метод локтя\"**, который подразумевает многократное циклическое исполнение алгоритма с увеличением количества выбираемых кластеров, а также последующим откладыванием на графике балла кластеризации, вычисленного как функция от количества кластеров.  Балл, как правило, является мерой входных данных по целевой функции k-средних, то есть некой формой отношения внутрикластерного расстояния к межкластерному расстоянию.\n",
    "\n",
    "Определим количество кластеров первым способом."
   ]
  },
  {
   "cell_type": "code",
   "execution_count": 13,
   "metadata": {},
   "outputs": [],
   "source": [
    "# в цикле будем увеличивать кол-во кластеров и обучать модель, добавляя в список wcss inertia\n",
    "\n",
    "wcss = []\n",
    "for i in range(1, 11):\n",
    "    # кол-во кластеров перебираем от 1 до 10, метод инициализации k-means++\n",
    "    kmeans = KMeans(n_clusters = i, init = 'k-means++', random_state = 42)\n",
    "    # обучаем модель\n",
    "    kmeans.fit(X)\n",
    "    # inertia это сумма квадратов расстояний от образцов до ближайшего центра кластера\n",
    "    wcss.append(kmeans.inertia_)"
   ]
  },
  {
   "cell_type": "code",
   "execution_count": 14,
   "metadata": {},
   "outputs": [
    {
     "data": {
      "image/png": "[encoded data removed]",
      "text/plain": [
       "<Figure size 720x360 with 1 Axes>"
      ]
     },
     "metadata": {
      "needs_background": "light"
     },
     "output_type": "display_data"
    }
   ],
   "source": [
    "# выведем график\n",
    "\n",
    "plt.figure(figsize=(10,5))\n",
    "sns.lineplot(range(1, 11), wcss, marker='o',color='blue',size=7)\n",
    "plt.title('Определение количества кластеров \"методом локтя\"', fontsize=12, color='black')\n",
    "plt.xlabel('Количество кластеров', fontsize=12, color='black')\n",
    "plt.ylabel('Сумма квадратов расстояний от точки до центра', fontsize=12, color='black')\n",
    "plt.grid(True)\n",
    "plt.show()"
   ]
  },
  {
   "cell_type": "markdown",
   "metadata": {},
   "source": [
    "\"Метод локтя\" указывает на то, что оптимальное количество кластеров **4 или 5 шт.**"
   ]
  },
  {
   "cell_type": "markdown",
   "metadata": {},
   "source": [
    "2. **коэффициент силуэта**.\n",
    "\n",
    "Определим количество кластеров вторым способом:"
   ]
  },
  {
   "cell_type": "code",
   "execution_count": 15,
   "metadata": {},
   "outputs": [
    {
     "data": {
      "image/png": "[encoded data removed]",
      "text/plain": [
       "<Figure size 720x360 with 1 Axes>"
      ]
     },
     "metadata": {
      "needs_background": "light"
     },
     "output_type": "display_data"
    }
   ],
   "source": [
    "# данные по оценке\n",
    "silhouette_scores = [] \n",
    "\n",
    "for n_cluster in range(2, 11):\n",
    "    silhouette_scores.append(silhouette_score(X, KMeans(n_clusters = n_cluster).fit_predict(X))) \n",
    "    \n",
    "plt.figure(figsize=(10,5))\n",
    "k = [2,3,4,5,6,7,8,9,10]\n",
    "plt.bar(k, silhouette_scores)\n",
    "plt.title('Определение количества кластеров \"силуэтом\"', fontsize=12, color='black')\n",
    "plt.xlabel('Количество кластеров', fontsize=12, color='black')\n",
    "plt.ylabel('Оценка', fontsize=12, color='black')\n",
    "plt.grid(True)\n",
    "plt.show()"
   ]
  },
  {
   "cell_type": "markdown",
   "metadata": {},
   "source": [
    "Значение коэффициента указывает на то, что оптимальное количество кластеров **2 шт.**"
   ]
  },
  {
   "cell_type": "code",
   "execution_count": 16,
   "metadata": {},
   "outputs": [],
   "source": [
    "# обучим модель\n",
    "kmeans = KMeans(n_clusters = 2, init = 'k-means++', random_state = 42)\n",
    "y_kmeans = kmeans.fit_predict(X)"
   ]
  },
  {
   "cell_type": "code",
   "execution_count": 17,
   "metadata": {
    "scrolled": true
   },
   "outputs": [
    {
     "data": {
      "text/html": [
       "<div>\n",
       "<style scoped>\n",
       "    .dataframe tbody tr th:only-of-type {\n",
       "        vertical-align: middle;\n",
       "    }\n",
       "\n",
       "    .dataframe tbody tr th {\n",
       "        vertical-align: top;\n",
       "    }\n",
       "\n",
       "    .dataframe thead th {\n",
       "        text-align: right;\n",
       "    }\n",
       "</style>\n",
       "<table border=\"1\" class=\"dataframe\">\n",
       "  <thead>\n",
       "    <tr style=\"text-align: right;\">\n",
       "      <th></th>\n",
       "      <th>Маршрут</th>\n",
       "      <th>Пенетрация_услуги</th>\n",
       "      <th>Удельная_выручка_на_пассажира</th>\n",
       "      <th>Тип_ВС</th>\n",
       "      <th>Средний_чек_услуги</th>\n",
       "      <th>Количество_проданных_сегментов</th>\n",
       "      <th>ВВЛ/МВЛ</th>\n",
       "      <th>Направленность</th>\n",
       "      <th>Налет</th>\n",
       "      <th>Тип_маршрута</th>\n",
       "      <th>Расстояние</th>\n",
       "      <th>Кластер K-means</th>\n",
       "    </tr>\n",
       "  </thead>\n",
       "  <tbody>\n",
       "    <tr>\n",
       "      <td>0</td>\n",
       "      <td>IKT-VKO</td>\n",
       "      <td>0.40268</td>\n",
       "      <td>191.33119</td>\n",
       "      <td>2</td>\n",
       "      <td>487.57926</td>\n",
       "      <td>6337</td>\n",
       "      <td>0</td>\n",
       "      <td>1</td>\n",
       "      <td>5.46666</td>\n",
       "      <td>0</td>\n",
       "      <td>4413.00000</td>\n",
       "      <td>0</td>\n",
       "    </tr>\n",
       "    <tr>\n",
       "      <td>1</td>\n",
       "      <td>AAQ-VKO</td>\n",
       "      <td>0.37797</td>\n",
       "      <td>163.35751</td>\n",
       "      <td>2</td>\n",
       "      <td>421.38962</td>\n",
       "      <td>84801</td>\n",
       "      <td>0</td>\n",
       "      <td>1</td>\n",
       "      <td>2.08626</td>\n",
       "      <td>0</td>\n",
       "      <td>1390.68746</td>\n",
       "      <td>0</td>\n",
       "    </tr>\n",
       "    <tr>\n",
       "      <td>2</td>\n",
       "      <td>AER-TJM</td>\n",
       "      <td>0.36009</td>\n",
       "      <td>172.33264</td>\n",
       "      <td>3</td>\n",
       "      <td>480.23171</td>\n",
       "      <td>9988</td>\n",
       "      <td>0</td>\n",
       "      <td>2</td>\n",
       "      <td>3.44479</td>\n",
       "      <td>1</td>\n",
       "      <td>2548.65625</td>\n",
       "      <td>0</td>\n",
       "    </tr>\n",
       "  </tbody>\n",
       "</table>\n",
       "</div>"
      ],
      "text/plain": [
       "   Маршрут  Пенетрация_услуги  Удельная_выручка_на_пассажира  Тип_ВС  \\\n",
       "0  IKT-VKO            0.40268                      191.33119       2   \n",
       "1  AAQ-VKO            0.37797                      163.35751       2   \n",
       "2  AER-TJM            0.36009                      172.33264       3   \n",
       "\n",
       "   Средний_чек_услуги  Количество_проданных_сегментов  ВВЛ/МВЛ  \\\n",
       "0           487.57926                            6337        0   \n",
       "1           421.38962                           84801        0   \n",
       "2           480.23171                            9988        0   \n",
       "\n",
       "   Направленность   Налет  Тип_маршрута  Расстояние  Кластер K-means  \n",
       "0               1 5.46666             0  4413.00000                0  \n",
       "1               1 2.08626             0  1390.68746                0  \n",
       "2               2 3.44479             1  2548.65625                0  "
      ]
     },
     "execution_count": 17,
     "metadata": {},
     "output_type": "execute_result"
    }
   ],
   "source": [
    "# добавим номер кластера отдельной колонкой в df\n",
    "df['Кластер K-means'] = kmeans.labels_\n",
    "df.head(3)"
   ]
  },
  {
   "cell_type": "code",
   "execution_count": 18,
   "metadata": {},
   "outputs": [
    {
     "data": {
      "text/plain": [
       "array([0, 1], dtype=int64)"
      ]
     },
     "execution_count": 18,
     "metadata": {},
     "output_type": "execute_result"
    }
   ],
   "source": [
    "# список номеров кластера\n",
    "df['Кластер K-means'].unique()"
   ]
  },
  {
   "cell_type": "code",
   "execution_count": 19,
   "metadata": {},
   "outputs": [
    {
     "data": {
      "image/png": "[encoded data removed]",
      "text/plain": [
       "<Figure size 720x360 with 1 Axes>"
      ]
     },
     "metadata": {
      "needs_background": "light"
     },
     "output_type": "display_data"
    }
   ],
   "source": [
    "# посмотрим на кол-во элементов в каждом кластере\n",
    "count_elem_in_cluster('Маршрут','Кластер K-means', df, list(df['Кластер K-means'].unique()))"
   ]
  },
  {
   "cell_type": "code",
   "execution_count": 20,
   "metadata": {
    "scrolled": true
   },
   "outputs": [
    {
     "data": {
      "text/html": [
       "<div>\n",
       "<style scoped>\n",
       "    .dataframe tbody tr th:only-of-type {\n",
       "        vertical-align: middle;\n",
       "    }\n",
       "\n",
       "    .dataframe tbody tr th {\n",
       "        vertical-align: top;\n",
       "    }\n",
       "\n",
       "    .dataframe thead tr th {\n",
       "        text-align: left;\n",
       "    }\n",
       "</style>\n",
       "<table border=\"1\" class=\"dataframe\">\n",
       "  <thead>\n",
       "    <tr>\n",
       "      <th></th>\n",
       "      <th>Номер кластера</th>\n",
       "      <th>Пенетрация</th>\n",
       "      <th>Расстояние, км.</th>\n",
       "      <th>Средний чек, руб.</th>\n",
       "      <th>Уд. выручка на пас.</th>\n",
       "    </tr>\n",
       "  </thead>\n",
       "  <tbody>\n",
       "    <tr>\n",
       "      <td>0</td>\n",
       "      <td>0</td>\n",
       "      <td>0.23402</td>\n",
       "      <td>2238.61699</td>\n",
       "      <td>515.31880</td>\n",
       "      <td>116.84244</td>\n",
       "    </tr>\n",
       "    <tr>\n",
       "      <td>1</td>\n",
       "      <td>1</td>\n",
       "      <td>0.14283</td>\n",
       "      <td>743.93022</td>\n",
       "      <td>338.26585</td>\n",
       "      <td>48.87801</td>\n",
       "    </tr>\n",
       "  </tbody>\n",
       "</table>\n",
       "</div>"
      ],
      "text/plain": [
       "  Номер кластера Пенетрация Расстояние, км. Средний чек, руб.  \\\n",
       "0              0    0.23402      2238.61699         515.31880   \n",
       "1              1    0.14283       743.93022         338.26585   \n",
       "\n",
       "  Уд. выручка на пас.  \n",
       "0           116.84244  \n",
       "1            48.87801  "
      ]
     },
     "execution_count": 20,
     "metadata": {},
     "output_type": "execute_result"
    }
   ],
   "source": [
    "# выведем отличия между кластерами\n",
    "dif_cluster('Кластер K-means')"
   ]
  },
  {
   "cell_type": "code",
   "execution_count": 21,
   "metadata": {
    "scrolled": true
   },
   "outputs": [
    {
     "data": {
      "image/png": "[encoded data removed]",
      "text/plain": [
       "<Figure size 1080x504 with 1 Axes>"
      ]
     },
     "metadata": {
      "needs_background": "light"
     },
     "output_type": "display_data"
    }
   ],
   "source": [
    "# строим визуализацию\n",
    "\n",
    "plt.figure(figsize=(15,7))\n",
    "sns.scatterplot(X[y_kmeans == 0, 0], X[y_kmeans == 0, 1], color = 'red', label = 'кластер 1',s=50)\n",
    "sns.scatterplot(X[y_kmeans == 1, 0], X[y_kmeans == 1, 1], color = 'blue', label = 'кластер 2',s=50)\n",
    "# выведем центры\n",
    "sns.scatterplot(kmeans.cluster_centers_[:, 0], kmeans.cluster_centers_[:, 1], color = 'black', label = 'центроид',\n",
    "                s=500, marker='.')\n",
    "plt.title('Кластеризация маршрутов методом K-means', fontsize=12, color='black')\n",
    "plt.legend()\n",
    "plt.show()"
   ]
  },
  {
   "cell_type": "code",
   "execution_count": null,
   "metadata": {},
   "outputs": [],
   "source": []
  },
  {
   "cell_type": "markdown",
   "metadata": {},
   "source": [
    "**Вывод:** используя метод k-means имеющиеся данные можно разделить на 2 кластера с коэффициентов силуэта, равным 0,53."
   ]
  },
  {
   "cell_type": "markdown",
   "metadata": {},
   "source": [
    "### 5.2.  Aлгоритм максимизации ожидания (EM)"
   ]
  },
  {
   "cell_type": "markdown",
   "metadata": {},
   "source": [
    "**Схема действий EM-алгоритма:**\n",
    "\n",
    "* выбрать количество кластеров, которое нам кажется оптимальным для наших данных;\n",
    "* выбрать случайным образом в пространство наших данных параметры распределений;\n",
    "* для каждой точки нашего набора данных посчитать вероятность принадлежности к каждому кластеру;\n",
    "* обновить параметры распределений таким образом, чтобы максимизировать вероятность принадлежности точек, отнесённых к кластеру;\n",
    "* повторять шаги 3-4 фиксированное число раз, либо до тех пор пока центроиды не сойдутся."
   ]
  },
  {
   "cell_type": "code",
   "execution_count": 22,
   "metadata": {},
   "outputs": [
    {
     "data": {
      "image/png": "[encoded data removed]",
      "text/plain": [
       "<Figure size 720x360 with 1 Axes>"
      ]
     },
     "metadata": {
      "needs_background": "light"
     },
     "output_type": "display_data"
    }
   ],
   "source": [
    "silhouette_score_em = []\n",
    "\n",
    "for n_cluster in range(2,11):\n",
    "    em_gm = GaussianMixture(n_components=n_cluster, # количество кластеров\n",
    "                        max_iter=100, # количество интераций\n",
    "                        init_params='kmeans' # 'kmeans’, ‘random’\n",
    "                       )\n",
    "    y_pred_em = em_gm.fit_predict(X)\n",
    "    silhouette_score_em.append(silhouette_score(X=X, labels=y_pred_em, metric='euclidean'))\n",
    "\n",
    "plt.figure(figsize=(10,5))\n",
    "k = [2,3,4,5,6,7,8,9,10]\n",
    "plt.bar(k, silhouette_score_em)\n",
    "plt.title('Определение количества кластеров \"силуэтом\"', fontsize=12, color='black')\n",
    "plt.xlabel('Количество кластеров', fontsize=12, color='black')\n",
    "plt.ylabel('Оценка', fontsize=12, color='black')\n",
    "plt.grid(True)\n",
    "plt.show()"
   ]
  },
  {
   "cell_type": "markdown",
   "metadata": {},
   "source": [
    "Согласно коэффициенту силуэта оптимальное количество кластеров - **2 шт. (0,5)**. Однако попробуем разделить данные на 4 кластера с коэффициентом силуэта 0,47."
   ]
  },
  {
   "cell_type": "code",
   "execution_count": 23,
   "metadata": {},
   "outputs": [],
   "source": [
    "# создадим объект\n",
    "em_gm = GaussianMixture(n_components=4, # количество кластеров\n",
    "                        max_iter=100, # количество интераций\n",
    "                        init_params='kmeans' # 'kmeans’, ‘random’\n",
    "                       )"
   ]
  },
  {
   "cell_type": "code",
   "execution_count": 24,
   "metadata": {},
   "outputs": [
    {
     "data": {
      "text/plain": [
       "array([0, 3, 0, 0, 3, 3, 0, 3, 0, 0, 0, 0, 0, 3, 0, 0, 0, 0, 0, 3, 0, 3,\n",
       "       0, 0, 0, 3, 0, 3, 0, 0, 0, 3, 0, 3, 0, 0, 3, 0, 0, 0, 0, 0, 3, 3,\n",
       "       0, 1, 0, 3, 2, 3, 0, 1, 1, 0, 0, 0, 0, 0, 0, 1, 0, 1, 1, 3, 0, 1,\n",
       "       2, 0, 3, 0, 1, 1, 1, 2, 1, 2, 1, 1, 0, 1, 1, 1, 2, 0, 2, 2, 2, 1,\n",
       "       1, 1, 2, 1, 1, 2, 2, 2, 1, 2, 2, 1, 2, 1, 1, 2, 1, 2, 1, 2, 1, 1,\n",
       "       2, 1, 1, 2, 1, 2, 1, 1, 1, 1, 1, 1, 1, 1, 1, 1, 2, 2, 2, 1, 1, 2,\n",
       "       2, 1, 1, 1, 1, 2, 1, 1, 2, 2, 1, 1, 1, 2, 1, 1, 1, 2, 1, 1, 2, 1,\n",
       "       1, 1, 1, 1, 1, 1], dtype=int64)"
      ]
     },
     "execution_count": 24,
     "metadata": {},
     "output_type": "execute_result"
    }
   ],
   "source": [
    "# обучим модель\n",
    "y_pred_em = em_gm.fit_predict(X)\n",
    "y_pred_em"
   ]
  },
  {
   "cell_type": "code",
   "execution_count": 25,
   "metadata": {
    "scrolled": true
   },
   "outputs": [
    {
     "data": {
      "text/html": [
       "<div>\n",
       "<style scoped>\n",
       "    .dataframe tbody tr th:only-of-type {\n",
       "        vertical-align: middle;\n",
       "    }\n",
       "\n",
       "    .dataframe tbody tr th {\n",
       "        vertical-align: top;\n",
       "    }\n",
       "\n",
       "    .dataframe thead th {\n",
       "        text-align: right;\n",
       "    }\n",
       "</style>\n",
       "<table border=\"1\" class=\"dataframe\">\n",
       "  <thead>\n",
       "    <tr style=\"text-align: right;\">\n",
       "      <th></th>\n",
       "      <th>Маршрут</th>\n",
       "      <th>Пенетрация_услуги</th>\n",
       "      <th>Удельная_выручка_на_пассажира</th>\n",
       "      <th>Тип_ВС</th>\n",
       "      <th>Средний_чек_услуги</th>\n",
       "      <th>Количество_проданных_сегментов</th>\n",
       "      <th>ВВЛ/МВЛ</th>\n",
       "      <th>Направленность</th>\n",
       "      <th>Налет</th>\n",
       "      <th>Тип_маршрута</th>\n",
       "      <th>Расстояние</th>\n",
       "      <th>Кластер K-means</th>\n",
       "      <th>Кластер EM</th>\n",
       "    </tr>\n",
       "  </thead>\n",
       "  <tbody>\n",
       "    <tr>\n",
       "      <td>0</td>\n",
       "      <td>IKT-VKO</td>\n",
       "      <td>0.40268</td>\n",
       "      <td>191.33119</td>\n",
       "      <td>2</td>\n",
       "      <td>487.57926</td>\n",
       "      <td>6337</td>\n",
       "      <td>0</td>\n",
       "      <td>1</td>\n",
       "      <td>5.46666</td>\n",
       "      <td>0</td>\n",
       "      <td>4413.00000</td>\n",
       "      <td>0</td>\n",
       "      <td>0</td>\n",
       "    </tr>\n",
       "    <tr>\n",
       "      <td>1</td>\n",
       "      <td>AAQ-VKO</td>\n",
       "      <td>0.37797</td>\n",
       "      <td>163.35751</td>\n",
       "      <td>2</td>\n",
       "      <td>421.38962</td>\n",
       "      <td>84801</td>\n",
       "      <td>0</td>\n",
       "      <td>1</td>\n",
       "      <td>2.08626</td>\n",
       "      <td>0</td>\n",
       "      <td>1390.68746</td>\n",
       "      <td>0</td>\n",
       "      <td>3</td>\n",
       "    </tr>\n",
       "    <tr>\n",
       "      <td>2</td>\n",
       "      <td>AER-TJM</td>\n",
       "      <td>0.36009</td>\n",
       "      <td>172.33264</td>\n",
       "      <td>3</td>\n",
       "      <td>480.23171</td>\n",
       "      <td>9988</td>\n",
       "      <td>0</td>\n",
       "      <td>2</td>\n",
       "      <td>3.44479</td>\n",
       "      <td>1</td>\n",
       "      <td>2548.65625</td>\n",
       "      <td>0</td>\n",
       "      <td>0</td>\n",
       "    </tr>\n",
       "  </tbody>\n",
       "</table>\n",
       "</div>"
      ],
      "text/plain": [
       "   Маршрут  Пенетрация_услуги  Удельная_выручка_на_пассажира  Тип_ВС  \\\n",
       "0  IKT-VKO            0.40268                      191.33119       2   \n",
       "1  AAQ-VKO            0.37797                      163.35751       2   \n",
       "2  AER-TJM            0.36009                      172.33264       3   \n",
       "\n",
       "   Средний_чек_услуги  Количество_проданных_сегментов  ВВЛ/МВЛ  \\\n",
       "0           487.57926                            6337        0   \n",
       "1           421.38962                           84801        0   \n",
       "2           480.23171                            9988        0   \n",
       "\n",
       "   Направленность   Налет  Тип_маршрута  Расстояние  Кластер K-means  \\\n",
       "0               1 5.46666             0  4413.00000                0   \n",
       "1               1 2.08626             0  1390.68746                0   \n",
       "2               2 3.44479             1  2548.65625                0   \n",
       "\n",
       "   Кластер EM  \n",
       "0           0  \n",
       "1           3  \n",
       "2           0  "
      ]
     },
     "execution_count": 25,
     "metadata": {},
     "output_type": "execute_result"
    }
   ],
   "source": [
    "df['Кластер EM'] = y_pred_em\n",
    "df.head(3)"
   ]
  },
  {
   "cell_type": "code",
   "execution_count": 26,
   "metadata": {},
   "outputs": [
    {
     "data": {
      "text/plain": [
       "array([0, 3, 1, 2], dtype=int64)"
      ]
     },
     "execution_count": 26,
     "metadata": {},
     "output_type": "execute_result"
    }
   ],
   "source": [
    "# список номеров кластера\n",
    "df['Кластер EM'].unique()"
   ]
  },
  {
   "cell_type": "code",
   "execution_count": 27,
   "metadata": {},
   "outputs": [
    {
     "data": {
      "image/png": "[encoded data removed]",
      "text/plain": [
       "<Figure size 720x360 with 1 Axes>"
      ]
     },
     "metadata": {
      "needs_background": "light"
     },
     "output_type": "display_data"
    }
   ],
   "source": [
    "# посмотрим на кол-во элементов в каждом кластере\n",
    "count_elem_in_cluster('Маршрут','Кластер EM', df, list(df['Кластер EM'].unique()))"
   ]
  },
  {
   "cell_type": "code",
   "execution_count": 28,
   "metadata": {},
   "outputs": [
    {
     "data": {
      "text/html": [
       "<div>\n",
       "<style scoped>\n",
       "    .dataframe tbody tr th:only-of-type {\n",
       "        vertical-align: middle;\n",
       "    }\n",
       "\n",
       "    .dataframe tbody tr th {\n",
       "        vertical-align: top;\n",
       "    }\n",
       "\n",
       "    .dataframe thead tr th {\n",
       "        text-align: left;\n",
       "    }\n",
       "</style>\n",
       "<table border=\"1\" class=\"dataframe\">\n",
       "  <thead>\n",
       "    <tr>\n",
       "      <th></th>\n",
       "      <th>Номер кластера</th>\n",
       "      <th>Пенетрация</th>\n",
       "      <th>Расстояние, км.</th>\n",
       "      <th>Средний чек, руб.</th>\n",
       "      <th>Уд. выручка на пас.</th>\n",
       "    </tr>\n",
       "  </thead>\n",
       "  <tbody>\n",
       "    <tr>\n",
       "      <td>0</td>\n",
       "      <td>0</td>\n",
       "      <td>0.26649</td>\n",
       "      <td>2688.76858</td>\n",
       "      <td>484.96035</td>\n",
       "      <td>128.57604</td>\n",
       "    </tr>\n",
       "    <tr>\n",
       "      <td>1</td>\n",
       "      <td>1</td>\n",
       "      <td>0.13612</td>\n",
       "      <td>674.01117</td>\n",
       "      <td>324.02225</td>\n",
       "      <td>44.64932</td>\n",
       "    </tr>\n",
       "    <tr>\n",
       "      <td>2</td>\n",
       "      <td>2</td>\n",
       "      <td>0.14844</td>\n",
       "      <td>1807.72406</td>\n",
       "      <td>573.44392</td>\n",
       "      <td>85.19609</td>\n",
       "    </tr>\n",
       "    <tr>\n",
       "      <td>3</td>\n",
       "      <td>3</td>\n",
       "      <td>0.27350</td>\n",
       "      <td>1218.33567</td>\n",
       "      <td>431.11758</td>\n",
       "      <td>117.50506</td>\n",
       "    </tr>\n",
       "  </tbody>\n",
       "</table>\n",
       "</div>"
      ],
      "text/plain": [
       "  Номер кластера Пенетрация Расстояние, км. Средний чек, руб.  \\\n",
       "0              0    0.26649      2688.76858         484.96035   \n",
       "1              1    0.13612       674.01117         324.02225   \n",
       "2              2    0.14844      1807.72406         573.44392   \n",
       "3              3    0.27350      1218.33567         431.11758   \n",
       "\n",
       "  Уд. выручка на пас.  \n",
       "0           128.57604  \n",
       "1            44.64932  \n",
       "2            85.19609  \n",
       "3           117.50506  "
      ]
     },
     "execution_count": 28,
     "metadata": {},
     "output_type": "execute_result"
    }
   ],
   "source": [
    "# выведем отличия между кластерами\n",
    "dif_cluster('Кластер EM')"
   ]
  },
  {
   "cell_type": "code",
   "execution_count": 29,
   "metadata": {
    "scrolled": true
   },
   "outputs": [
    {
     "data": {
      "image/png": "[encoded data removed]",
      "text/plain": [
       "<Figure size 1080x504 with 1 Axes>"
      ]
     },
     "metadata": {
      "needs_background": "light"
     },
     "output_type": "display_data"
    }
   ],
   "source": [
    "# строим визуализацию\n",
    "\n",
    "plt.figure(figsize=(15,7))\n",
    "sns.scatterplot(X[y_pred_em == 0, 0], X[y_pred_em == 0, 1], color = 'red', label = 'кластер 1',s=50)\n",
    "sns.scatterplot(X[y_pred_em == 1, 0], X[y_pred_em == 1, 1], color = 'blue', label = 'кластер 2',s=50)\n",
    "sns.scatterplot(X[y_pred_em == 2, 0], X[y_pred_em == 2, 1], color = 'green', label = 'кластер 3',s=50)\n",
    "sns.scatterplot(X[y_pred_em == 3, 0], X[y_pred_em == 3, 1], color = 'orange', label = 'кластер 4',s=50)\n",
    "# выведем средние значения\n",
    "sns.scatterplot(em_gm.means_[:, 0], em_gm.means_[:, 1], color = 'black', label = 'центроид',\n",
    "                s=500, marker='.')\n",
    "plt.title('Кластеризация маршрутов ЕМ алгоритмом', fontsize=12, color='black')\n",
    "plt.legend()\n",
    "plt.show()"
   ]
  },
  {
   "cell_type": "markdown",
   "metadata": {},
   "source": [
    "**Вывод:** используя EM алгоритм имеющиеся данные можно разделить на 4 кластера с коэффициентов силуэта, равным 0,47."
   ]
  },
  {
   "cell_type": "markdown",
   "metadata": {},
   "source": [
    "### 5.3. Агломеративная кластеризация"
   ]
  },
  {
   "cell_type": "markdown",
   "metadata": {},
   "source": [
    "Иерархическая кластеризация делится на две стратегии: **агломеративная** — снизу-вверх, объединяем точки в кластеры и **дивизионная** — сверху-вниз, разделяем один большой кластер на малые.\n",
    "\n",
    "* назначаем каждой точке свой кластер.\n",
    "* сортируем попарные расстояния между центрами кластеров по возрастанию.\n",
    "* берём пару ближайших кластеров, склеиваем их в один и пересчитываем центр кластера.\n",
    "* повторяем шаги 2-3 до тех пор, пока все данные не склеятся в один кластер."
   ]
  },
  {
   "cell_type": "code",
   "execution_count": 30,
   "metadata": {
    "scrolled": true
   },
   "outputs": [
    {
     "name": "stderr",
     "output_type": "stream",
     "text": [
      "C:\\ProgramData\\Anaconda3\\lib\\site-packages\\sklearn\\cluster\\_agglomerative.py:502: UserWarning: the number of connected components of the connectivity matrix is 12 > 1. Completing it to avoid stopping the tree early.\n",
      "  affinity=affinity)\n",
      "C:\\ProgramData\\Anaconda3\\lib\\site-packages\\sklearn\\cluster\\_agglomerative.py:502: UserWarning: the number of connected components of the connectivity matrix is 12 > 1. Completing it to avoid stopping the tree early.\n",
      "  affinity=affinity)\n",
      "C:\\ProgramData\\Anaconda3\\lib\\site-packages\\sklearn\\cluster\\_agglomerative.py:502: UserWarning: the number of connected components of the connectivity matrix is 12 > 1. Completing it to avoid stopping the tree early.\n",
      "  affinity=affinity)\n",
      "C:\\ProgramData\\Anaconda3\\lib\\site-packages\\sklearn\\cluster\\_agglomerative.py:502: UserWarning: the number of connected components of the connectivity matrix is 12 > 1. Completing it to avoid stopping the tree early.\n",
      "  affinity=affinity)\n",
      "C:\\ProgramData\\Anaconda3\\lib\\site-packages\\sklearn\\cluster\\_agglomerative.py:502: UserWarning: the number of connected components of the connectivity matrix is 12 > 1. Completing it to avoid stopping the tree early.\n",
      "  affinity=affinity)\n",
      "C:\\ProgramData\\Anaconda3\\lib\\site-packages\\sklearn\\cluster\\_agglomerative.py:502: UserWarning: the number of connected components of the connectivity matrix is 12 > 1. Completing it to avoid stopping the tree early.\n",
      "  affinity=affinity)\n",
      "C:\\ProgramData\\Anaconda3\\lib\\site-packages\\sklearn\\cluster\\_agglomerative.py:502: UserWarning: the number of connected components of the connectivity matrix is 12 > 1. Completing it to avoid stopping the tree early.\n",
      "  affinity=affinity)\n",
      "C:\\ProgramData\\Anaconda3\\lib\\site-packages\\sklearn\\cluster\\_agglomerative.py:502: UserWarning: the number of connected components of the connectivity matrix is 12 > 1. Completing it to avoid stopping the tree early.\n",
      "  affinity=affinity)\n",
      "C:\\ProgramData\\Anaconda3\\lib\\site-packages\\sklearn\\cluster\\_agglomerative.py:502: UserWarning: the number of connected components of the connectivity matrix is 12 > 1. Completing it to avoid stopping the tree early.\n",
      "  affinity=affinity)\n",
      "C:\\ProgramData\\Anaconda3\\lib\\site-packages\\sklearn\\cluster\\_agglomerative.py:502: UserWarning: the number of connected components of the connectivity matrix is 12 > 1. Completing it to avoid stopping the tree early.\n",
      "  affinity=affinity)\n",
      "C:\\ProgramData\\Anaconda3\\lib\\site-packages\\sklearn\\cluster\\_agglomerative.py:502: UserWarning: the number of connected components of the connectivity matrix is 12 > 1. Completing it to avoid stopping the tree early.\n",
      "  affinity=affinity)\n",
      "C:\\ProgramData\\Anaconda3\\lib\\site-packages\\sklearn\\cluster\\_agglomerative.py:502: UserWarning: the number of connected components of the connectivity matrix is 12 > 1. Completing it to avoid stopping the tree early.\n",
      "  affinity=affinity)\n",
      "C:\\ProgramData\\Anaconda3\\lib\\site-packages\\sklearn\\cluster\\_agglomerative.py:502: UserWarning: the number of connected components of the connectivity matrix is 12 > 1. Completing it to avoid stopping the tree early.\n",
      "  affinity=affinity)\n",
      "C:\\ProgramData\\Anaconda3\\lib\\site-packages\\sklearn\\cluster\\_agglomerative.py:502: UserWarning: the number of connected components of the connectivity matrix is 12 > 1. Completing it to avoid stopping the tree early.\n",
      "  affinity=affinity)\n",
      "C:\\ProgramData\\Anaconda3\\lib\\site-packages\\sklearn\\cluster\\_agglomerative.py:502: UserWarning: the number of connected components of the connectivity matrix is 12 > 1. Completing it to avoid stopping the tree early.\n",
      "  affinity=affinity)\n",
      "C:\\ProgramData\\Anaconda3\\lib\\site-packages\\sklearn\\cluster\\_agglomerative.py:502: UserWarning: the number of connected components of the connectivity matrix is 12 > 1. Completing it to avoid stopping the tree early.\n",
      "  affinity=affinity)\n",
      "C:\\ProgramData\\Anaconda3\\lib\\site-packages\\sklearn\\cluster\\_agglomerative.py:502: UserWarning: the number of connected components of the connectivity matrix is 12 > 1. Completing it to avoid stopping the tree early.\n",
      "  affinity=affinity)\n",
      "C:\\ProgramData\\Anaconda3\\lib\\site-packages\\sklearn\\cluster\\_agglomerative.py:502: UserWarning: the number of connected components of the connectivity matrix is 12 > 1. Completing it to avoid stopping the tree early.\n",
      "  affinity=affinity)\n"
     ]
    },
    {
     "data": {
      "image/png": "[encoded data removed]",
      "text/plain": [
       "<Figure size 720x360 with 1 Axes>"
      ]
     },
     "metadata": {
      "needs_background": "light"
     },
     "output_type": "display_data"
    }
   ],
   "source": [
    "silhouette_score_ac = []\n",
    "\n",
    "for n_cluster in range(2,11):\n",
    "    # строим матрицу смежности\n",
    "    connectivity = kneighbors_graph(X, n_neighbors=2, include_self=False)\n",
    "    # делаем матрицу смежности симметричной\n",
    "    connectivity = 0.5 * (connectivity + connectivity.T)\n",
    "    # создаем объет\n",
    "    ac = AgglomerativeClustering(n_clusters=n_cluster, linkage='average', connectivity=connectivity)\n",
    "    ac.fit(X)\n",
    "    y_pred_ac = ac.labels_.astype(np.int)\n",
    "    y_pred_ac = ac.fit_predict(X)\n",
    "    silhouette_score_ac.append(silhouette_score(X=X, labels=y_pred_ac, metric='euclidean'))\n",
    "\n",
    "plt.figure(figsize=(10,5))\n",
    "k = [2,3,4,5,6,7,8,9,10]\n",
    "plt.bar(k, silhouette_score_ac)\n",
    "plt.title('Определение количества кластеров \"силуэтом\"', fontsize=12, color='black')\n",
    "plt.xlabel('Количество кластеров', fontsize=12, color='black')\n",
    "plt.ylabel('Оценка', fontsize=12, color='black')\n",
    "plt.grid(True)\n",
    "plt.show()"
   ]
  },
  {
   "cell_type": "markdown",
   "metadata": {},
   "source": [
    "Оптимальное количество кластеров **2 шт.** с коэффициентом силуэта - 0,53. Однако разделим данные на 4 кластера с коэффициентом - 0.46."
   ]
  },
  {
   "cell_type": "code",
   "execution_count": 31,
   "metadata": {},
   "outputs": [],
   "source": [
    "# создаем объект\n",
    "ac = AgglomerativeClustering(n_clusters=4, # кол-во кластеров\n",
    "                             affinity='euclidean', # расстояние : “euclidean”, “l1”, “l2”, “manhattan”, “cosine”, “precomputed”\n",
    "                             linkage='ward', # способ определения ближайшего соседа: “ward”, “complete”, “average”, “single”\n",
    "                            )"
   ]
  },
  {
   "cell_type": "markdown",
   "metadata": {},
   "source": [
    "В расчетах будем использовать матрицу смежности, для которой нужен параметр n_neighbors, то есть число ближайших соседей.\n",
    "**Матрица смежности** — это матрица, которая соответствует графу, и которая отражает, с какими соседями объект соединен или нет."
   ]
  },
  {
   "cell_type": "code",
   "execution_count": 32,
   "metadata": {},
   "outputs": [],
   "source": [
    "# строим матрицу смежности\n",
    "connectivity = kneighbors_graph(X, n_neighbors=2, include_self=False)\n",
    "\n",
    "# делаем матрицу смежности симметричной\n",
    "connectivity = 0.5 * (connectivity + connectivity.T)"
   ]
  },
  {
   "cell_type": "code",
   "execution_count": 33,
   "metadata": {},
   "outputs": [],
   "source": [
    "# создаем объет\n",
    "ac = AgglomerativeClustering(n_clusters=4, linkage='average', connectivity=connectivity)"
   ]
  },
  {
   "cell_type": "code",
   "execution_count": 34,
   "metadata": {},
   "outputs": [
    {
     "name": "stderr",
     "output_type": "stream",
     "text": [
      "C:\\ProgramData\\Anaconda3\\lib\\site-packages\\sklearn\\cluster\\_agglomerative.py:502: UserWarning: the number of connected components of the connectivity matrix is 12 > 1. Completing it to avoid stopping the tree early.\n",
      "  affinity=affinity)\n"
     ]
    }
   ],
   "source": [
    "# обучаем модель\n",
    "ac.fit(X)\n",
    "y_pred_ac = ac.labels_.astype(np.int)"
   ]
  },
  {
   "cell_type": "code",
   "execution_count": 35,
   "metadata": {},
   "outputs": [
    {
     "data": {
      "text/html": [
       "<div>\n",
       "<style scoped>\n",
       "    .dataframe tbody tr th:only-of-type {\n",
       "        vertical-align: middle;\n",
       "    }\n",
       "\n",
       "    .dataframe tbody tr th {\n",
       "        vertical-align: top;\n",
       "    }\n",
       "\n",
       "    .dataframe thead th {\n",
       "        text-align: right;\n",
       "    }\n",
       "</style>\n",
       "<table border=\"1\" class=\"dataframe\">\n",
       "  <thead>\n",
       "    <tr style=\"text-align: right;\">\n",
       "      <th></th>\n",
       "      <th>Маршрут</th>\n",
       "      <th>Пенетрация_услуги</th>\n",
       "      <th>Удельная_выручка_на_пассажира</th>\n",
       "      <th>Тип_ВС</th>\n",
       "      <th>Средний_чек_услуги</th>\n",
       "      <th>Количество_проданных_сегментов</th>\n",
       "      <th>ВВЛ/МВЛ</th>\n",
       "      <th>Направленность</th>\n",
       "      <th>Налет</th>\n",
       "      <th>Тип_маршрута</th>\n",
       "      <th>Расстояние</th>\n",
       "      <th>Кластер K-means</th>\n",
       "      <th>Кластер EM</th>\n",
       "      <th>Кластер AC</th>\n",
       "    </tr>\n",
       "  </thead>\n",
       "  <tbody>\n",
       "    <tr>\n",
       "      <td>0</td>\n",
       "      <td>IKT-VKO</td>\n",
       "      <td>0.40268</td>\n",
       "      <td>191.33119</td>\n",
       "      <td>2</td>\n",
       "      <td>487.57926</td>\n",
       "      <td>6337</td>\n",
       "      <td>0</td>\n",
       "      <td>1</td>\n",
       "      <td>5.46666</td>\n",
       "      <td>0</td>\n",
       "      <td>4413.00000</td>\n",
       "      <td>0</td>\n",
       "      <td>0</td>\n",
       "      <td>2</td>\n",
       "    </tr>\n",
       "    <tr>\n",
       "      <td>1</td>\n",
       "      <td>AAQ-VKO</td>\n",
       "      <td>0.37797</td>\n",
       "      <td>163.35751</td>\n",
       "      <td>2</td>\n",
       "      <td>421.38962</td>\n",
       "      <td>84801</td>\n",
       "      <td>0</td>\n",
       "      <td>1</td>\n",
       "      <td>2.08626</td>\n",
       "      <td>0</td>\n",
       "      <td>1390.68746</td>\n",
       "      <td>0</td>\n",
       "      <td>3</td>\n",
       "      <td>2</td>\n",
       "    </tr>\n",
       "    <tr>\n",
       "      <td>2</td>\n",
       "      <td>AER-TJM</td>\n",
       "      <td>0.36009</td>\n",
       "      <td>172.33264</td>\n",
       "      <td>3</td>\n",
       "      <td>480.23171</td>\n",
       "      <td>9988</td>\n",
       "      <td>0</td>\n",
       "      <td>2</td>\n",
       "      <td>3.44479</td>\n",
       "      <td>1</td>\n",
       "      <td>2548.65625</td>\n",
       "      <td>0</td>\n",
       "      <td>0</td>\n",
       "      <td>2</td>\n",
       "    </tr>\n",
       "  </tbody>\n",
       "</table>\n",
       "</div>"
      ],
      "text/plain": [
       "   Маршрут  Пенетрация_услуги  Удельная_выручка_на_пассажира  Тип_ВС  \\\n",
       "0  IKT-VKO            0.40268                      191.33119       2   \n",
       "1  AAQ-VKO            0.37797                      163.35751       2   \n",
       "2  AER-TJM            0.36009                      172.33264       3   \n",
       "\n",
       "   Средний_чек_услуги  Количество_проданных_сегментов  ВВЛ/МВЛ  \\\n",
       "0           487.57926                            6337        0   \n",
       "1           421.38962                           84801        0   \n",
       "2           480.23171                            9988        0   \n",
       "\n",
       "   Направленность   Налет  Тип_маршрута  Расстояние  Кластер K-means  \\\n",
       "0               1 5.46666             0  4413.00000                0   \n",
       "1               1 2.08626             0  1390.68746                0   \n",
       "2               2 3.44479             1  2548.65625                0   \n",
       "\n",
       "   Кластер EM  Кластер AC  \n",
       "0           0           2  \n",
       "1           3           2  \n",
       "2           0           2  "
      ]
     },
     "execution_count": 35,
     "metadata": {},
     "output_type": "execute_result"
    }
   ],
   "source": [
    "# добавим столбец с номером кластера\n",
    "df['Кластер AC'] = y_pred_ac\n",
    "df.head(3)"
   ]
  },
  {
   "cell_type": "code",
   "execution_count": 36,
   "metadata": {},
   "outputs": [
    {
     "data": {
      "text/plain": [
       "array([2, 0, 3, 1], dtype=int64)"
      ]
     },
     "execution_count": 36,
     "metadata": {},
     "output_type": "execute_result"
    }
   ],
   "source": [
    "# список номеров кластера\n",
    "df['Кластер AC'].unique()"
   ]
  },
  {
   "cell_type": "code",
   "execution_count": 37,
   "metadata": {},
   "outputs": [
    {
     "data": {
      "image/png": "[encoded data removed]",
      "text/plain": [
       "<Figure size 720x360 with 1 Axes>"
      ]
     },
     "metadata": {
      "needs_background": "light"
     },
     "output_type": "display_data"
    }
   ],
   "source": [
    "# посмотрим на кол-во элементов в каждом кластере\n",
    "count_elem_in_cluster('Маршрут','Кластер AC', df, list(df['Кластер AC'].unique()))"
   ]
  },
  {
   "cell_type": "code",
   "execution_count": 38,
   "metadata": {},
   "outputs": [
    {
     "data": {
      "text/html": [
       "<div>\n",
       "<style scoped>\n",
       "    .dataframe tbody tr th:only-of-type {\n",
       "        vertical-align: middle;\n",
       "    }\n",
       "\n",
       "    .dataframe tbody tr th {\n",
       "        vertical-align: top;\n",
       "    }\n",
       "\n",
       "    .dataframe thead tr th {\n",
       "        text-align: left;\n",
       "    }\n",
       "</style>\n",
       "<table border=\"1\" class=\"dataframe\">\n",
       "  <thead>\n",
       "    <tr>\n",
       "      <th></th>\n",
       "      <th>Номер кластера</th>\n",
       "      <th>Пенетрация</th>\n",
       "      <th>Расстояние, км.</th>\n",
       "      <th>Средний чек, руб.</th>\n",
       "      <th>Уд. выручка на пас.</th>\n",
       "    </tr>\n",
       "  </thead>\n",
       "  <tbody>\n",
       "    <tr>\n",
       "      <td>0</td>\n",
       "      <td>0</td>\n",
       "      <td>0.14755</td>\n",
       "      <td>762.77404</td>\n",
       "      <td>337.38881</td>\n",
       "      <td>50.30979</td>\n",
       "    </tr>\n",
       "    <tr>\n",
       "      <td>1</td>\n",
       "      <td>1</td>\n",
       "      <td>0.16508</td>\n",
       "      <td>796.36168</td>\n",
       "      <td>527.82304</td>\n",
       "      <td>85.45976</td>\n",
       "    </tr>\n",
       "    <tr>\n",
       "      <td>2</td>\n",
       "      <td>2</td>\n",
       "      <td>0.27333</td>\n",
       "      <td>2395.96666</td>\n",
       "      <td>482.72199</td>\n",
       "      <td>131.34537</td>\n",
       "    </tr>\n",
       "    <tr>\n",
       "      <td>3</td>\n",
       "      <td>3</td>\n",
       "      <td>0.15387</td>\n",
       "      <td>2254.92115</td>\n",
       "      <td>602.30316</td>\n",
       "      <td>92.36360</td>\n",
       "    </tr>\n",
       "  </tbody>\n",
       "</table>\n",
       "</div>"
      ],
      "text/plain": [
       "  Номер кластера Пенетрация Расстояние, км. Средний чек, руб.  \\\n",
       "0              0    0.14755       762.77404         337.38881   \n",
       "1              1    0.16508       796.36168         527.82304   \n",
       "2              2    0.27333      2395.96666         482.72199   \n",
       "3              3    0.15387      2254.92115         602.30316   \n",
       "\n",
       "  Уд. выручка на пас.  \n",
       "0            50.30979  \n",
       "1            85.45976  \n",
       "2           131.34537  \n",
       "3            92.36360  "
      ]
     },
     "execution_count": 38,
     "metadata": {},
     "output_type": "execute_result"
    }
   ],
   "source": [
    "# выведем отличия между кластерами\n",
    "dif_cluster('Кластер AC')"
   ]
  },
  {
   "cell_type": "code",
   "execution_count": 39,
   "metadata": {
    "scrolled": true
   },
   "outputs": [
    {
     "data": {
      "image/png": "[encoded data removed]",
      "text/plain": [
       "<Figure size 1080x504 with 1 Axes>"
      ]
     },
     "metadata": {
      "needs_background": "light"
     },
     "output_type": "display_data"
    }
   ],
   "source": [
    "# строим визуализацию\n",
    "\n",
    "plt.figure(figsize=(15,7))\n",
    "sns.scatterplot(X[y_pred_ac == 0, 0], X[y_pred_ac == 0, 1], color = 'red', label = 'кластер 1',s=50)\n",
    "sns.scatterplot(X[y_pred_ac == 1, 0], X[y_pred_ac == 1, 1], color = 'blue', label = 'кластер 2',s=50)\n",
    "sns.scatterplot(X[y_pred_ac == 2, 0], X[y_pred_ac == 2, 1], color = 'green', label = 'кластер 3',s=50)\n",
    "sns.scatterplot(X[y_pred_ac == 3, 0], X[y_pred_ac == 3, 1], color = 'orange', label = 'кластер 4',s=50)\n",
    "plt.title('Кластеризация маршрутов ЕМ алгоритмом', fontsize=12, color='black')\n",
    "plt.legend()\n",
    "plt.show()"
   ]
  },
  {
   "cell_type": "markdown",
   "metadata": {},
   "source": [
    "Еще один способ проведения агломеративной кластеризации через пакет scipy.cluster.hierarchy с построением **дендограммы**."
   ]
  },
  {
   "cell_type": "code",
   "execution_count": 40,
   "metadata": {
    "scrolled": true
   },
   "outputs": [
    {
     "data": {
      "image/png": "[encoded data removed]",
      "text/plain": [
       "<Figure size 1080x720 with 1 Axes>"
      ]
     },
     "metadata": {
      "needs_background": "light"
     },
     "output_type": "display_data"
    }
   ],
   "source": [
    "# подготовим данные для построения дендрограммы\n",
    "# ещё один способ выполнить агломеративную кластеризацию\n",
    "Z = linkage(X, \"ward\")\n",
    "\n",
    "ind = df.set_index('Маршрут')\n",
    "\n",
    "# строим дендрограмму\n",
    "plt.figure(figsize=(15,10))\n",
    "dendrogram(Z, labels=ind.index, leaf_rotation=90.)\n",
    "plt.title('Кластеризация маршрутов ЕМ алгоритмом', fontsize=12, color='black')\n",
    "plt.xlabel('Маршруты', fontsize=15, color='black')\n",
    "plt.show()"
   ]
  },
  {
   "cell_type": "markdown",
   "metadata": {},
   "source": [
    "Дендограмма тоже делит данные на 2 больших кластера."
   ]
  },
  {
   "cell_type": "markdown",
   "metadata": {},
   "source": [
    "**Вывод:** используя агломеративную кластеризацию имеющиеся данные можно разделить на 4 кластера с коэффициентов силуэта, равным 0,46."
   ]
  },
  {
   "cell_type": "markdown",
   "metadata": {},
   "source": [
    "### 5.4. DBSCAN"
   ]
  },
  {
   "cell_type": "markdown",
   "metadata": {},
   "source": [
    "Расшифровывается как **Dense-based spatial clustering of applications with noise**. Это основанная на плотности пространственная кластеризация для приложений с шумами.\n",
    "\n",
    "Схема действия DBSCAN\n",
    "\n",
    "* случайно выбираем точку, которую не посещали. Окрестность точки извлекается с использованием расстояния .\n",
    "* если в этой окрестности точек ≥ minPoints, тогда точка становится первой точкой в новом кластере. Иначе — помечаем точку как шум, она становится посещённой.\n",
    "* точки из окрестности становятся частью кластера. Для каждой из них изучаем окрестность: если точек в окрестности < minPoints, то помечаем точку как граничную.\n",
    "* повторяем пункты 2 и 3, пока не определим все точки в кластере.\n",
    "* повторяем пункты 1–4, пока все точки не станут просмотренными."
   ]
  },
  {
   "cell_type": "code",
   "execution_count": 41,
   "metadata": {},
   "outputs": [
    {
     "data": {
      "image/png": "[encoded data removed]",
      "text/plain": [
       "<Figure size 720x360 with 1 Axes>"
      ]
     },
     "metadata": {
      "needs_background": "light"
     },
     "output_type": "display_data"
    }
   ],
   "source": [
    "# данные по оценке\n",
    "silhouette_scores_db = [] \n",
    "\n",
    "for n_cluster in range(2, 11):\n",
    "    dbscan = DBSCAN(eps=0.2, min_samples=5)\n",
    "    dbscan.fit(X)\n",
    "    y_pred_db = dbscan.labels_.astype(np.int)\n",
    "    silhouette_scores_db.append(silhouette_score(X, labels=y_pred_db)) \n",
    "    \n",
    "plt.figure(figsize=(10,5))\n",
    "k = [2,3,4,5,6,7,8,9,10]\n",
    "plt.bar(k, silhouette_scores_db)\n",
    "plt.title('Определение количества кластеров \"силуэтом\"', fontsize=12, color='black')\n",
    "plt.xlabel('Количество кластеров', fontsize=12, color='black')\n",
    "plt.ylabel('Оценка', fontsize=12, color='black')\n",
    "plt.grid(True)\n",
    "plt.show()"
   ]
  },
  {
   "cell_type": "code",
   "execution_count": 42,
   "metadata": {},
   "outputs": [],
   "source": [
    "# создаем объект\n",
    "dbscan = DBSCAN(eps=0.2, # размер окрестности\n",
    "                min_samples=5) # минимальное число точек в окрестности"
   ]
  },
  {
   "cell_type": "code",
   "execution_count": 43,
   "metadata": {},
   "outputs": [],
   "source": [
    "# обучаем модель\n",
    "dbscan.fit(X)\n",
    "y_pred_db = dbscan.labels_.astype(np.int)"
   ]
  },
  {
   "cell_type": "code",
   "execution_count": 44,
   "metadata": {},
   "outputs": [
    {
     "data": {
      "text/html": [
       "<div>\n",
       "<style scoped>\n",
       "    .dataframe tbody tr th:only-of-type {\n",
       "        vertical-align: middle;\n",
       "    }\n",
       "\n",
       "    .dataframe tbody tr th {\n",
       "        vertical-align: top;\n",
       "    }\n",
       "\n",
       "    .dataframe thead th {\n",
       "        text-align: right;\n",
       "    }\n",
       "</style>\n",
       "<table border=\"1\" class=\"dataframe\">\n",
       "  <thead>\n",
       "    <tr style=\"text-align: right;\">\n",
       "      <th></th>\n",
       "      <th>Маршрут</th>\n",
       "      <th>Пенетрация_услуги</th>\n",
       "      <th>Удельная_выручка_на_пассажира</th>\n",
       "      <th>Тип_ВС</th>\n",
       "      <th>Средний_чек_услуги</th>\n",
       "      <th>Количество_проданных_сегментов</th>\n",
       "      <th>ВВЛ/МВЛ</th>\n",
       "      <th>Направленность</th>\n",
       "      <th>Налет</th>\n",
       "      <th>Тип_маршрута</th>\n",
       "      <th>Расстояние</th>\n",
       "      <th>Кластер K-means</th>\n",
       "      <th>Кластер EM</th>\n",
       "      <th>Кластер AC</th>\n",
       "      <th>Кластер DB</th>\n",
       "    </tr>\n",
       "  </thead>\n",
       "  <tbody>\n",
       "    <tr>\n",
       "      <td>0</td>\n",
       "      <td>IKT-VKO</td>\n",
       "      <td>0.40268</td>\n",
       "      <td>191.33119</td>\n",
       "      <td>2</td>\n",
       "      <td>487.57926</td>\n",
       "      <td>6337</td>\n",
       "      <td>0</td>\n",
       "      <td>1</td>\n",
       "      <td>5.46666</td>\n",
       "      <td>0</td>\n",
       "      <td>4413.00000</td>\n",
       "      <td>0</td>\n",
       "      <td>0</td>\n",
       "      <td>2</td>\n",
       "      <td>0</td>\n",
       "    </tr>\n",
       "    <tr>\n",
       "      <td>1</td>\n",
       "      <td>AAQ-VKO</td>\n",
       "      <td>0.37797</td>\n",
       "      <td>163.35751</td>\n",
       "      <td>2</td>\n",
       "      <td>421.38962</td>\n",
       "      <td>84801</td>\n",
       "      <td>0</td>\n",
       "      <td>1</td>\n",
       "      <td>2.08626</td>\n",
       "      <td>0</td>\n",
       "      <td>1390.68746</td>\n",
       "      <td>0</td>\n",
       "      <td>3</td>\n",
       "      <td>2</td>\n",
       "      <td>-1</td>\n",
       "    </tr>\n",
       "    <tr>\n",
       "      <td>2</td>\n",
       "      <td>AER-TJM</td>\n",
       "      <td>0.36009</td>\n",
       "      <td>172.33264</td>\n",
       "      <td>3</td>\n",
       "      <td>480.23171</td>\n",
       "      <td>9988</td>\n",
       "      <td>0</td>\n",
       "      <td>2</td>\n",
       "      <td>3.44479</td>\n",
       "      <td>1</td>\n",
       "      <td>2548.65625</td>\n",
       "      <td>0</td>\n",
       "      <td>0</td>\n",
       "      <td>2</td>\n",
       "      <td>0</td>\n",
       "    </tr>\n",
       "  </tbody>\n",
       "</table>\n",
       "</div>"
      ],
      "text/plain": [
       "   Маршрут  Пенетрация_услуги  Удельная_выручка_на_пассажира  Тип_ВС  \\\n",
       "0  IKT-VKO            0.40268                      191.33119       2   \n",
       "1  AAQ-VKO            0.37797                      163.35751       2   \n",
       "2  AER-TJM            0.36009                      172.33264       3   \n",
       "\n",
       "   Средний_чек_услуги  Количество_проданных_сегментов  ВВЛ/МВЛ  \\\n",
       "0           487.57926                            6337        0   \n",
       "1           421.38962                           84801        0   \n",
       "2           480.23171                            9988        0   \n",
       "\n",
       "   Направленность   Налет  Тип_маршрута  Расстояние  Кластер K-means  \\\n",
       "0               1 5.46666             0  4413.00000                0   \n",
       "1               1 2.08626             0  1390.68746                0   \n",
       "2               2 3.44479             1  2548.65625                0   \n",
       "\n",
       "   Кластер EM  Кластер AC  Кластер DB  \n",
       "0           0           2           0  \n",
       "1           3           2          -1  \n",
       "2           0           2           0  "
      ]
     },
     "execution_count": 44,
     "metadata": {},
     "output_type": "execute_result"
    }
   ],
   "source": [
    "# добавим столбец с номером кластера\n",
    "df['Кластер DB'] = y_pred_db\n",
    "df.head(3)"
   ]
  },
  {
   "cell_type": "code",
   "execution_count": 45,
   "metadata": {},
   "outputs": [
    {
     "data": {
      "text/plain": [
       "array([ 0, -1,  1,  2], dtype=int64)"
      ]
     },
     "execution_count": 45,
     "metadata": {},
     "output_type": "execute_result"
    }
   ],
   "source": [
    "# список номеров кластера\n",
    "df['Кластер DB'].unique()"
   ]
  },
  {
   "cell_type": "markdown",
   "metadata": {},
   "source": [
    "DBSCAN определяет **выбросы**, относя их к кластеру -1. "
   ]
  },
  {
   "cell_type": "code",
   "execution_count": 46,
   "metadata": {},
   "outputs": [
    {
     "data": {
      "image/png": "[encoded data removed]",
      "text/plain": [
       "<Figure size 720x360 with 1 Axes>"
      ]
     },
     "metadata": {
      "needs_background": "light"
     },
     "output_type": "display_data"
    }
   ],
   "source": [
    "# посмотрим на кол-во элементов в каждом кластере\n",
    "count_elem_in_cluster('Маршрут','Кластер DB', df, list(df['Кластер DB'].unique()))"
   ]
  },
  {
   "cell_type": "code",
   "execution_count": 47,
   "metadata": {},
   "outputs": [
    {
     "data": {
      "text/html": [
       "<div>\n",
       "<style scoped>\n",
       "    .dataframe tbody tr th:only-of-type {\n",
       "        vertical-align: middle;\n",
       "    }\n",
       "\n",
       "    .dataframe tbody tr th {\n",
       "        vertical-align: top;\n",
       "    }\n",
       "\n",
       "    .dataframe thead tr th {\n",
       "        text-align: left;\n",
       "    }\n",
       "</style>\n",
       "<table border=\"1\" class=\"dataframe\">\n",
       "  <thead>\n",
       "    <tr>\n",
       "      <th></th>\n",
       "      <th>Номер кластера</th>\n",
       "      <th>Пенетрация</th>\n",
       "      <th>Расстояние, км.</th>\n",
       "      <th>Средний чек, руб.</th>\n",
       "      <th>Уд. выручка на пас.</th>\n",
       "    </tr>\n",
       "  </thead>\n",
       "  <tbody>\n",
       "    <tr>\n",
       "      <td>0</td>\n",
       "      <td>-1</td>\n",
       "      <td>0.20542</td>\n",
       "      <td>1859.47007</td>\n",
       "      <td>500.54887</td>\n",
       "      <td>99.74441</td>\n",
       "    </tr>\n",
       "    <tr>\n",
       "      <td>1</td>\n",
       "      <td>0</td>\n",
       "      <td>0.28912</td>\n",
       "      <td>2725.30880</td>\n",
       "      <td>483.31023</td>\n",
       "      <td>138.92779</td>\n",
       "    </tr>\n",
       "    <tr>\n",
       "      <td>2</td>\n",
       "      <td>1</td>\n",
       "      <td>0.13534</td>\n",
       "      <td>646.54848</td>\n",
       "      <td>323.49576</td>\n",
       "      <td>44.28797</td>\n",
       "    </tr>\n",
       "    <tr>\n",
       "      <td>3</td>\n",
       "      <td>2</td>\n",
       "      <td>0.17221</td>\n",
       "      <td>1876.75791</td>\n",
       "      <td>588.37453</td>\n",
       "      <td>100.77647</td>\n",
       "    </tr>\n",
       "  </tbody>\n",
       "</table>\n",
       "</div>"
      ],
      "text/plain": [
       "  Номер кластера Пенетрация Расстояние, км. Средний чек, руб.  \\\n",
       "0             -1    0.20542      1859.47007         500.54887   \n",
       "1              0    0.28912      2725.30880         483.31023   \n",
       "2              1    0.13534       646.54848         323.49576   \n",
       "3              2    0.17221      1876.75791         588.37453   \n",
       "\n",
       "  Уд. выручка на пас.  \n",
       "0            99.74441  \n",
       "1           138.92779  \n",
       "2            44.28797  \n",
       "3           100.77647  "
      ]
     },
     "execution_count": 47,
     "metadata": {},
     "output_type": "execute_result"
    }
   ],
   "source": [
    "# выведем отличия между кластерами\n",
    "dif_cluster('Кластер DB')"
   ]
  },
  {
   "cell_type": "code",
   "execution_count": 48,
   "metadata": {
    "scrolled": true
   },
   "outputs": [
    {
     "data": {
      "image/png": "[encoded data removed]",
      "text/plain": [
       "<Figure size 1080x504 with 1 Axes>"
      ]
     },
     "metadata": {
      "needs_background": "light"
     },
     "output_type": "display_data"
    }
   ],
   "source": [
    "# строим визуализацию\n",
    "\n",
    "plt.figure(figsize=(15,7))\n",
    "sns.scatterplot(X[y_pred_db == -1, 0], X[y_pred_db == -1, 1], color = 'black', label = 'Выбросы',s=50)\n",
    "sns.scatterplot(X[y_pred_db == 0, 0], X[y_pred_db == 0, 1], color = 'blue', label = 'кластер 1',s=100)\n",
    "sns.scatterplot(X[y_pred_db == 1, 0], X[y_pred_db == 1, 1], color = 'orange', label = 'кластер 2',s=100)\n",
    "sns.scatterplot(X[y_pred_db == 2, 0], X[y_pred_db == 2, 1], color = 'green', label = 'кластер 3',s=100)\n",
    "\n",
    "plt.title('Кластеризация маршрутов алгоритмом DBSCAN', fontsize=12, color='black')\n",
    "plt.legend()\n",
    "plt.show()"
   ]
  },
  {
   "cell_type": "markdown",
   "metadata": {},
   "source": [
    "**Вывод:** коэффициент силуэта составляет 0,25, что ниже порогового значения в 0,5. Однако алгоритм DBSCAN лучше кластеризирует имеющиеся данные за счет распознавания выбросов."
   ]
  },
  {
   "cell_type": "markdown",
   "metadata": {},
   "source": [
    "Выведем список маршрутов в каждом кластере."
   ]
  },
  {
   "cell_type": "code",
   "execution_count": 49,
   "metadata": {},
   "outputs": [
    {
     "name": "stdout",
     "output_type": "stream",
     "text": [
      "Список маршрутов в 1 кластере ['IKT-VKO', 'AER-TJM', 'LED-NJC', 'GDZ-TJM', 'KJA-VKO', 'AAQ-TJM', 'AAQ-NJC', 'EGO-SGC', 'AER-NJC', 'GDZ-SGC', 'AER-SGC', 'LED-SGC', 'KRR-NJC', 'MRV-SGC', 'LED-TJM', 'AAQ-SGC', 'AER-HMA', 'KRR-SGC', 'KRO-VKO', 'HMA-KRR', 'MRV-TJM', 'AAQ-SVX', 'KRR-TJM', 'AER-UFA', 'ROV-SGC', 'TJM-VKO', 'AAQ-SCW']\n",
      "\n",
      "Список маршрутов в 2 кластере ['AER-KRR', 'AER-MRV', 'AER-OGZ', 'AAQ-AER', 'AER-ROV', 'OMS-SGC', 'KJA-OVB', 'KZN-LPK', 'SGC-TJM', 'AER-GRV', 'ASF-MRV', 'PEE-SGC', 'KUF-TJM', 'BAX-OMS', 'ASF-KRR', 'NJC-OMS', 'BAX-SGC', 'NOZ-OMS', 'KRR-VOG', 'HMA-OMS', 'KZN-UFA', 'MCX-STW', 'AER-MCX', 'SGC-SVX', 'KUF-SVX', 'SVX-TJM', 'LPK-MRV', 'SVX-URJ', 'ASF-VOG', 'NJC-TJM', 'TJM-UFA', 'OVS-SVX', 'UFA-VOG', 'PEE-TJM', 'KJA-SGC', 'OMS-TJM', 'KUF-UFA', 'OVB-SGC', 'NYA-SGC', 'TJM-URJ', 'HMA-UFA', 'IKT-KJA', 'CEK-HMA', 'SVX-UFA', 'HMA-SVX', 'SGC-TOF', 'AER-ESL', 'PEE-UFA', 'HMA-TJM', 'HMA-NJC', 'OVS-TJM', 'ESL-ROV', 'OVS-URJ', 'ESL-MRV', 'HMA-URJ', 'HMA-OVS', 'EYK-TJM', 'EYK-SGC', 'HMA-KGP', 'HMA-NYA', 'EYK-NYA', 'EYK-OVS', 'EYK-HMA']\n",
      "\n",
      "Список маршрутов в 3 кластере ['NJC-UFA', 'USK-VKO', 'NAJ-VKO', 'KJA-TJM', 'GRV-UFA', 'DXB-GRV']\n",
      "\n",
      "Список уникальных маршрутов ['AAQ-VKO', 'GDZ-VKO', 'AER-VKO', 'AER-VOZ', 'AER-ASF', 'AAQ-HMA', 'DYR-VKO', 'OGZ-VKO', 'AER-VOG', 'AER-STW', 'IGT-VKO', 'OVB-TJM', 'KZN-TJM', 'MRV-VKO', 'GDZ-UFA', 'VIE-VKO', 'GRV-VKO', 'AAQ-UFA', 'KGD-VKO', 'ROV-VKO', 'MRV-UFA', 'STW-VKO', 'SKG-VKO', 'KRR-VKO', 'NOJ-VKO', 'SGC-VOG', 'GRV-LED', 'KUF-SGC', 'AER-SCW', 'SGC-VKO', 'KZN-VKO', 'MCX-VKO', 'MSQ-VKO', 'KUF-NJC', 'UFA-VKO', 'TXL-VKO', 'SGC-UFA', 'UCT-VKO', 'KUF-VKO', 'HMA-VKO', 'KGP-VKO', 'LED-VKO', 'ULV-VKO', 'KRR-UFA', 'EGO-VKO', 'GRV-IST', 'GRV-SGC', 'SCW-VKO', 'NUX-TJM', 'MCX-SGC', 'RIX-VKO', 'EVN-VKO', 'NNM-VKO', 'GSV-SGC', 'MIL-VKO', 'MMK-VKO', 'UFA-USK', 'NUX-VKO', 'NUX-UFA', 'GYD-VKO', 'MCX-NUX', 'IST-MCX', 'DYU-VKO', 'GYD-TJM']\n"
     ]
    }
   ],
   "source": [
    "print(\"Список маршрутов в 1 кластере\",list(df[df['Кластер DB'] == 0]['Маршрут']))\n",
    "print()\n",
    "print(\"Список маршрутов в 2 кластере\",list(df[df['Кластер DB'] == 1]['Маршрут']))\n",
    "print()\n",
    "print(\"Список маршрутов в 3 кластере\",list(df[df['Кластер DB'] == 2]['Маршрут']))\n",
    "print()\n",
    "print(\"Список уникальных маршрутов\",list(df[df['Кластер DB'] == -1]['Маршрут']))"
   ]
  },
  {
   "cell_type": "markdown",
   "metadata": {},
   "source": [
    "**Вывод:** для кластеризации маршрутов лучше всего использовать алгоритм DBSCAN, т.к. он различает выбросы (в нашем случае это специфичные рейсы). Даныне были разбиты алгоритмом на 3 кластера. Маршруты, находящиеся в 1 кластере можно использовать для сравнения друг с другом."
   ]
  }
 ],
 "metadata": {
  "kernelspec": {
   "display_name": "Python 3",
   "language": "python",
   "name": "python3"
  },
  "language_info": {
   "codemirror_mode": {
    "name": "ipython",
    "version": 3
   },
   "file_extension": ".py",
   "mimetype": "text/x-python",
   "name": "python",
   "nbconvert_exporter": "python",
   "pygments_lexer": "ipython3",
   "version": "3.7.4"
  }
 },
 "nbformat": 4,
 "nbformat_minor": 2
}

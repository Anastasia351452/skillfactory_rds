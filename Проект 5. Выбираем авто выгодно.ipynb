{
 "cells": [
  {
   "cell_type": "markdown",
   "metadata": {},
   "source": [
    "## **Цели и задачи исследования**\n",
    "***\n",
    "**Цель исследования** - *построить модель, которая бы предсказывала стоимость автомобиля по его характеристикам.*\n",
    "\n",
    "*Целью исследования определяются следующие* **задачи:**\n",
    "\n",
    "* *собрать актуальную информацию по характеристикам и ценам на автомобили с сайта [Auto.ru](https://auto.ru/ \"Сайт Auto.ru\") с помощью парсинга*;\n",
    "* *провести разведавательный анализ данных;*\n",
    "* *разработать модель, которая бы предсказывала цену автомобиля.*"
   ]
  },
  {
   "cell_type": "markdown",
   "metadata": {},
   "source": [
    "\n",
    "\n",
    "<img src=\"https://cdnimg.rg.ru/img/content/208/02/46/renault_sandero_stepway_ru-spec_15_d_850.jpeg\" />"
   ]
  },
  {
   "cell_type": "markdown",
   "metadata": {},
   "source": [
    "### 1. Импортирование библиотек"
   ]
  },
  {
   "cell_type": "code",
   "execution_count": 1,
   "metadata": {
    "_cell_guid": "b1076dfc-b9ad-4769-8c92-a6c4dae69d19",
    "_uuid": "8f2839f25d086af736a60e9eeb907d3b93b6e0e5",
    "execution": {
     "iopub.execute_input": "2020-10-26T12:46:41.400302Z",
     "iopub.status.busy": "2020-10-26T12:46:41.399317Z",
     "iopub.status.idle": "2020-10-26T12:46:42.581426Z",
     "shell.execute_reply": "2020-10-26T12:46:42.580431Z"
    },
    "papermill": {
     "duration": 1.219772,
     "end_time": "2020-10-26T12:46:42.581597",
     "exception": false,
     "start_time": "2020-10-26T12:46:41.361825",
     "status": "completed"
    },
    "tags": []
   },
   "outputs": [],
   "source": [
    "# библиотеки для работы с dataset\n",
    "import numpy as np\n",
    "import pandas as pd\n",
    "from pandas.io.json import json_normalize\n",
    "\n",
    "# опции для вывода данных в нужном количестве и формате\n",
    "pd.set_option('display.max_columns', 50)\n",
    "pd.set_option('display.max_rows', 100)\n",
    "\n",
    "# системная библиотека\n",
    "import sys\n",
    "\n",
    "# библиотеки для ML\n",
    "from sklearn.model_selection import train_test_split\n",
    "from sklearn.model_selection import KFold\n",
    "from tqdm.notebook import tqdm\n",
    "from catboost import CatBoostRegressor\n",
    "from sklearn.preprocessing import LabelEncoder\n",
    "\n",
    "# библиотеки для парсинга сайта\n",
    "import requests, json\n",
    "\n",
    "# библиотека для перевода слов\n",
    "import goslate\n",
    "gs = goslate.Goslate()\n",
    "\n",
    "# библиотеки для визуализации\n",
    "import altair as alt\n",
    "# отключение ограничения в 5000 строк для alt\n",
    "alt.data_transformers.disable_max_rows()\n",
    "import matplotlib.pyplot as plt\n",
    "import seaborn as sns\n",
    "%matplotlib inline\n",
    "\n",
    "# библиотеки для статистического анализа\n",
    "from scipy.stats import ttest_ind\n",
    "from scipy.stats import chi2_contingency\n",
    "from scipy.stats import chi2"
   ]
  },
  {
   "cell_type": "markdown",
   "metadata": {},
   "source": [
    "### 2. Обеспечение воспроизводимости экспериментов"
   ]
  },
  {
   "cell_type": "code",
   "execution_count": 2,
   "metadata": {
    "_kg_hide-input": true,
    "execution": {
     "iopub.execute_input": "2020-10-26T12:46:42.646795Z",
     "iopub.status.busy": "2020-10-26T12:46:42.645765Z",
     "iopub.status.idle": "2020-10-26T12:46:42.649793Z",
     "shell.execute_reply": "2020-10-26T12:46:42.650407Z"
    },
    "papermill": {
     "duration": 0.040034,
     "end_time": "2020-10-26T12:46:42.650603",
     "exception": false,
     "start_time": "2020-10-26T12:46:42.610569",
     "status": "completed"
    },
    "tags": []
   },
   "outputs": [
    {
     "name": "stdout",
     "output_type": "stream",
     "text": [
      "Python       : 3.7.4 (default, Aug  9 2019, 18:34:13) [MSC v.1915 64 bit (AMD64)]\n",
      "Numpy        : 1.16.5\n"
     ]
    }
   ],
   "source": [
    "# Определяем версии Python и библиотеки Numpy\n",
    "print('Python       :', sys.version.split('\\n')[0])\n",
    "print('Numpy        :', np.__version__)"
   ]
  },
  {
   "cell_type": "code",
   "execution_count": 3,
   "metadata": {
    "_kg_hide-input": true,
    "execution": {
     "iopub.execute_input": "2020-10-26T12:46:42.716039Z",
     "iopub.status.busy": "2020-10-26T12:46:42.715184Z",
     "iopub.status.idle": "2020-10-26T12:46:47.852433Z",
     "shell.execute_reply": "2020-10-26T12:46:47.851661Z"
    },
    "papermill": {
     "duration": 5.172536,
     "end_time": "2020-10-26T12:46:47.852593",
     "exception": false,
     "start_time": "2020-10-26T12:46:42.680057",
     "status": "completed"
    },
    "tags": []
   },
   "outputs": [
    {
     "name": "stderr",
     "output_type": "stream",
     "text": [
      "WARNING: Could not generate requirement for distribution -cikit-learn 0.23.2 (c:\\programdata\\anaconda3\\lib\\site-packages): Parse error at \"'-cikit-l'\": Expected W:(abcd...)\n"
     ]
    }
   ],
   "source": [
    "# фиксация версий пакетов, для воспроизводимсти экспериментов\n",
    "!pip freeze > requirements.txt"
   ]
  },
  {
   "cell_type": "code",
   "execution_count": 4,
   "metadata": {
    "execution": {
     "iopub.execute_input": "2020-10-26T12:46:47.919419Z",
     "iopub.status.busy": "2020-10-26T12:46:47.918168Z",
     "iopub.status.idle": "2020-10-26T12:46:47.922267Z",
     "shell.execute_reply": "2020-10-26T12:46:47.921365Z"
    },
    "papermill": {
     "duration": 0.039842,
     "end_time": "2020-10-26T12:46:47.922434",
     "exception": false,
     "start_time": "2020-10-26T12:46:47.882592",
     "status": "completed"
    },
    "tags": []
   },
   "outputs": [],
   "source": [
    "# фиксация random_seed для воспроивзодимости экспериментов\n",
    "RANDOM_SEED = 42"
   ]
  },
  {
   "cell_type": "markdown",
   "metadata": {},
   "source": [
    "### 3. Определение метрики качества модели"
   ]
  },
  {
   "cell_type": "markdown",
   "metadata": {},
   "source": [
    "*MAPE(Mean Percentage Absolute Error)- средняя абсолютная ошибка в процентах.*\n",
    "$$MAPE={1\\over{n}}+{\\sum{|y-\\bar{Y}|\\over\\bar{Y}}}$$\n",
    "\n",
    "*где:*\n",
    "* y  - *фактическое значение за анализируемый период;*\n",
    "* Y - *значение прогнозной модели за анализируемый период;*\n",
    "* n - *количество периодов.*"
   ]
  },
  {
   "cell_type": "code",
   "execution_count": 5,
   "metadata": {
    "_kg_hide-input": true
   },
   "outputs": [],
   "source": [
    "# функция для расчета средней абсолютной ошибки\n",
    "def mape(y_true, y_pred):\n",
    "    return np.mean(np.abs((y_pred-y_true)/y_true))"
   ]
  },
  {
   "cell_type": "markdown",
   "metadata": {
    "papermill": {
     "duration": 0.028837,
     "end_time": "2020-10-26T12:46:47.981435",
     "exception": false,
     "start_time": "2020-10-26T12:46:47.952598",
     "status": "completed"
    },
    "tags": []
   },
   "source": [
    "### 4. Переменные"
   ]
  },
  {
   "cell_type": "code",
   "execution_count": 6,
   "metadata": {
    "execution": {
     "iopub.execute_input": "2020-10-26T12:46:48.05046Z",
     "iopub.status.busy": "2020-10-26T12:46:48.049412Z",
     "iopub.status.idle": "2020-10-26T12:46:48.052578Z",
     "shell.execute_reply": "2020-10-26T12:46:48.051917Z"
    },
    "papermill": {
     "duration": 0.039969,
     "end_time": "2020-10-26T12:46:48.052728",
     "exception": false,
     "start_time": "2020-10-26T12:46:48.012759",
     "status": "completed"
    },
    "tags": []
   },
   "outputs": [],
   "source": [
    "VERSION = 16\n",
    "VAL_SIZE = 0.20"
   ]
  },
  {
   "cell_type": "markdown",
   "metadata": {},
   "source": [
    "### 5. Функции, используемые для обработки данных"
   ]
  },
  {
   "cell_type": "code",
   "execution_count": 7,
   "metadata": {},
   "outputs": [],
   "source": [
    "def description_column(x):\n",
    "    \n",
    "    \"\"\"Функция используется для описания \n",
    "     столбца текстового типа \"\"\"\n",
    "    \n",
    "    print('Количество уникальных значений в столбце:',x.nunique())\n",
    "    print('Перечень уникальных значений:', x.unique())\n",
    "    print('Длина столбца:',len(x))\n",
    "    print('Количество значений \"NaN\":', x.isna().sum())\n",
    "    print(\"Количество значений, встретившихся в столбце более 10 раз:\", (x.value_counts()>10).sum())\n",
    "\n",
    "def description_column_count(x):\n",
    "    \n",
    "    \"\"\"Функция используется для описания \n",
    "     столбца числового типа \"\"\"\n",
    "    \n",
    "    print('Длина столбца:',len(x))\n",
    "    print('Количество значений \"NaN\":', x.isna().sum())\n",
    "    print('Минимальное значение:', x.min())\n",
    "    print('Максимальное значение:',x.max())  \n",
    "    \n",
    "def outliers(x): \n",
    "    \n",
    "    \"\"\"Функция используется для \n",
    "    определения границ выбросов\"\"\"\n",
    "    \n",
    "    median = x.median()\n",
    "    IQR = x.quantile(0.75)-x.quantile(0.25)\n",
    "    q25 = x.quantile(0.25)\n",
    "    q75 = x.quantile(0.75)\n",
    "    print('25-й квартиль: {},'.format(q25), '75-й квартиль: {},'.format(q75), 'IQR: {},'.format(IQR),\n",
    "     \"границы выбросов: [{x_min},{x_max}].\".format(x_min = q25-1.5*IQR, x_max = q75+1.5*IQR))\n",
    "\n",
    "def delete_outliers(x): \n",
    "    \n",
    "    \"\"\"Функция используется для \n",
    "    очистки данных от выбросов\"\"\"\n",
    "    \n",
    "    median = x.median()\n",
    "    IQR = x.quantile(0.75)-x.quantile(0.25)\n",
    "    q25 = x.quantile(0.25)\n",
    "    q75 = x.quantile(0.75)\n",
    "    x_min =q25-1.5*IQR\n",
    "    x_max =q75+1.5*IQR\n",
    "    return x_min, x_max\n",
    "    \n",
    "def boxplot(x1,y1,d,t,tx,ty):\n",
    "    \n",
    "    \"\"\"Функция используется для \n",
    "    вывода boxplot по нескольким признакам\"\"\"\n",
    "    \n",
    "    red_square = dict(markerfacecolor='k', marker='s')\n",
    "    plt.figure(figsize=(18, 5))\n",
    "    plt.style.use('seaborn')\n",
    "    sns.boxplot(x=x1, y=y1, data=d, linewidth=1, flierprops=red_square)\n",
    "    plt.title(t, fontsize=15, color='black')\n",
    "    plt.xlabel(tx, fontsize=15, color='black')\n",
    "    plt.ylabel(ty, fontsize=15, color='black')\n",
    "    plt.tick_params(axis='both', labelsize=15)\n",
    "    plt.grid(True)\n",
    "    \n",
    "\n",
    "def one_boxplot(x, title, x_title):\n",
    "    \n",
    "    \"\"\"Функция используется для \n",
    "    вывода boxplot по одному признаку\"\"\"\n",
    "    \n",
    "    red_square = dict(markerfacecolor='k', marker='s')\n",
    "    plt.figure(figsize=(18, 5))\n",
    "    plt.style.use('seaborn')\n",
    "    plt.tick_params(axis='both', labelsize=15)\n",
    "    ax=sns.boxplot(x, linewidth=1, flierprops=red_square)\n",
    "    ax.set_title(title, fontsize=15, color='black')\n",
    "    ax.set_xlabel(x_title, fontsize=15, color='black')\n",
    "\n",
    "def correlation(x,y):\n",
    "    \n",
    "    \"\"\"Функция используется для \n",
    "    расчета коэффициента корреляции\"\"\" \n",
    "        \n",
    "    display(pd.DataFrame(all_data[[x,y]].corr()))\n",
    "\n",
    "def get_stat_dif(column):\n",
    "    cols = all_data.loc[:, column].value_counts().index[:10]\n",
    "    combinations_all = list(combinations(cols, 2))\n",
    "    for comb in combinations_all:\n",
    "        if ttest_ind(all_data.loc[all_data.loc[:, column] == comb[0], 'score'], \n",
    "                        all_data.loc[all_data.loc[:, column] == comb[1], 'score']).pvalue \\\n",
    "            <= 0.05/len(combinations_all): # Учли поправку Бонферони\n",
    "            print('Найдены статистически значимые различия для колонки', column)\n",
    "            break\n",
    "\n",
    "def cm_to_inch(value):\n",
    "    return value/2.54\n",
    "\n",
    "def bar_pivot_table(x,z,y,c,t,xl,yl):\n",
    "    \n",
    "    \"\"\"Функция используется для \n",
    "    вывода диаграммы по одному признаку\"\"\"\n",
    "    \n",
    "    plt.style.use('seaborn')\n",
    "    plt.rcParams[\"figure.figsize\"] = (20,7)\n",
    "    all_data.pivot_table(values = [x, z], index = [y], aggfunc = c).plot(kind = 'area', title = t)\n",
    "    plt.xlabel(xl, fontsize=15, color='black')\n",
    "    plt.ylabel(yl, fontsize=15, color='black')\n",
    "    plt.title(t, fontsize=15, color='black')\n",
    "    plt.tick_params(axis='both', labelsize=15)\n",
    "    plt.legend(loc='lower right', facecolor='black', fontsize=15)\n",
    "    plt.legend()\n",
    "    plt.grid(False)\n",
    "    plt.show()\n",
    "\n",
    "def area_two_pivot_table(x,z,y,c,t,xl,yl):\n",
    "    \n",
    "    \"\"\"Функция используется для \n",
    "    вывода диаграммы по одному признаку\"\"\"\n",
    "    \n",
    "    plt.style.use('seaborn')\n",
    "    plt.rcParams[\"figure.figsize\"] = (20,7)\n",
    "    all_data.pivot_table(values = [x], index = [y], columns=[z], aggfunc = c).plot(kind = 'area',stacked=True,title = t)\n",
    "    plt.xlabel(xl, fontsize=15, color='black')\n",
    "    plt.ylabel(yl, fontsize=15, color='black')\n",
    "    plt.legend()\n",
    "    plt.grid(False)\n",
    "    plt.show()\n",
    "    \n",
    "def share(x, x_name, y_name, title):\n",
    "    \n",
    "    \"\"\"Функция используется для \n",
    "    вывода диаграммы по долям\"\"\"\n",
    "    \n",
    "    new=pd.DataFrame(x.value_counts(normalize = True)*100).reset_index(level=0).head(10)\n",
    "    new.columns=([x_name, y_name])\n",
    "    plt.style.use('seaborn')\n",
    "    plt.figure(figsize=(18, 5))\n",
    "    plt.tick_params(axis='both', labelsize=15)\n",
    "    ax=sns.barplot(x=x_name, y=y_name, data=new)   \n",
    "    ax.set_ylabel(y_name, fontsize=15, color='black')\n",
    "    ax.set_xlabel(x_name, fontsize=15, color='black')\n",
    "    ax.set_title(title, fontsize=15, color='black')\n",
    "    for counter, value in enumerate(new[y_name]):\n",
    "        ax.text(counter, value, round(value), ha='left', size=16)\n",
    "\n",
    "\n",
    "def share_count(x, x_name, y_name, title):\n",
    "    \n",
    "    \"\"\"Функция используется для \n",
    "    вывода диаграммы по долям\"\"\"\n",
    "    \n",
    "    new=pd.DataFrame(x.value_counts()).reset_index(level=0).head(10).sort_values(by=['index'])\n",
    "    new.columns=([x_name, y_name])\n",
    "    plt.style.use('seaborn')\n",
    "    plt.figure(figsize=(18, 5))\n",
    "    plt.tick_params(axis='both', labelsize=15)\n",
    "    ax=sns.barplot(x=x_name, y=y_name, data=new)\n",
    "    ax.set_ylabel(y_name, fontsize=15, color='black')\n",
    "    ax.set_xlabel(x_name, fontsize=15, color='black')\n",
    "    ax.set_title(title, fontsize=15, color='black')\n",
    "    for counter, value in enumerate(new[y_name]):\n",
    "        ax.text(counter, value, round(value), ha='center', size=16)\n",
    "\n",
    "def bar_groupby(x,y,z,t,xl,yl):\n",
    "    \n",
    "    \"\"\"Функция используется для \n",
    "    вывода диаграммы по нескольким признакам\"\"\"\n",
    "    \n",
    "    plt.style.use('seaborn')\n",
    "    plt.rcParams[\"figure.figsize\"] = (20,7)\n",
    "    all_data.groupby(by=[x,y])[z].value_counts(normalize=True).plot(kind='bar', title=t)\n",
    "    plt.xlabel(xl, fontsize=15, color='black')\n",
    "    plt.ylabel(yl, fontsize=15, color='black')\n",
    "    plt.tick_params(axis='both', labelsize=15)\n",
    "    plt.grid(True)\n",
    "    plt.show()\n",
    "\n",
    "def hist_(x):\n",
    "    plt.style.use('seaborn')\n",
    "    plt.tick_params(axis='both', labelsize=15)\n",
    "    plt.hist(x)\n",
    "    \n",
    "def correlation_vis(x_name, y_name, title):\n",
    "    \n",
    "    \"\"\"Функция используется для \n",
    "    вывода графика распределения\"\"\"\n",
    "    \n",
    "    plt.style.use('seaborn')\n",
    "    ax = sns.jointplot(x=x_name, y=y_name, data=df_corr, kind='scatter')\n",
    "\n",
    "def altair_bar(data, x_name, y_name, legend_name, title_name):\n",
    "    \n",
    "    bar = alt.Chart(data,title=title_name).mark_bar(size=100).encode(\n",
    "    x=alt.X(x_name, axis=alt.Axis(title=x_name, labelFontSize=13, titleFontSize=13, labelAngle=360)),\n",
    "    y=alt.Y(y_name, axis=alt.Axis(title=y_name, labelFontSize=13, titleFontSize=13)),\n",
    "    text=y_name,\n",
    "    color=alt.value(\"SteelBlue\"),\n",
    "    size=alt.value(13)\n",
    "    )\n",
    "\n",
    "    text = bar.mark_text(\n",
    "    align='center',\n",
    "    baseline='middle',\n",
    "    angle=0,\n",
    "    dy=-5).encode(\n",
    "    text=alt.Text(y_name, format=\"s\"),\n",
    "    color=alt.value(\"black\"))\n",
    "    \n",
    "    return (bar + text).properties(height=250, width=840)\n",
    "\n",
    "def altair_bar_share(data, x_name, y_name, title_name, sort):\n",
    "    \n",
    "    new=pd.DataFrame(data.value_counts(normalize = True)).reset_index(level=0).head(10).sort_values(by=sort, \n",
    "                                                                                                    ascending=False)\n",
    "    new.columns=([x_name, y_name])\n",
    "    \n",
    "    bar = alt.Chart(new, title=title_name).mark_bar(orient='horizontal').encode(\n",
    "    y=alt.Y(x_name, axis=alt.Axis(title=x_name, labelFontSize=13, titleFontSize=13)),\n",
    "    x=alt.X(y_name, axis=alt.Axis(title=y_name, format='%', labelFontSize=13, titleFontSize=13)),\n",
    "    text=y_name,\n",
    "    color=alt.value(\"SteelBlue\"),\n",
    "    size=alt.value(13)\n",
    "    )\n",
    "\n",
    "    text = bar.mark_text(\n",
    "    align='center',\n",
    "    baseline='middle',\n",
    "    angle=0,\n",
    "    dx=40).encode(\n",
    "    text=alt.Text(y_name, format=\"p\"),\n",
    "    color=alt.value(\"black\"))\n",
    "    \n",
    "    return (bar + text).properties(height=250, width=820)\n",
    "\n",
    "def hist(data, x1, x2, ylabel, xlabel, title):\n",
    "    bins = np.arange(0, x1, x2)\n",
    "    plt.style.use('seaborn')\n",
    "    _, ax = plt.subplots(figsize=(18, 5))\n",
    "    plt.tick_params(axis='both', labelsize=15)\n",
    "    ax.hist(data, bins = bins)\n",
    "    ax.set_ylabel(ylabel, fontsize=15, color='black')\n",
    "    ax.set_xlabel(xlabel, fontsize=15, color='black')\n",
    "    ax.set_title(title, fontsize=15, color='black')"
   ]
  },
  {
   "cell_type": "markdown",
   "metadata": {},
   "source": [
    "### 6. Сбор данных и формирование тренировочного dataset"
   ]
  },
  {
   "cell_type": "markdown",
   "metadata": {},
   "source": [
    "**Комментарий**: *Для создания ML модели, предсказывающей стоимость автомобиля не хватает акутальных данных. Необходимо собрать информацию с сайта [Auto.ru](https://auto.ru/ \"Сайт Auto.ru\") с помощью парсинга.*"
   ]
  },
  {
   "cell_type": "code",
   "execution_count": 8,
   "metadata": {},
   "outputs": [],
   "source": [
    "# ссылка, по которой лежат данные и куда будет передан POST запрос с параметрами\n",
    "# url='https://auto.ru/-/ajax/desktop/listing/'"
   ]
  },
  {
   "cell_type": "code",
   "execution_count": 9,
   "metadata": {},
   "outputs": [],
   "source": [
    "# заголовки запроса\n",
    "headers = \"\"\"\n",
    "Host: auto.ru\n",
    "User-Agent: Mozilla/5.0 (Windows NT 10.0; Win64; x64; rv:74.0) Gecko/20100101 Firefox/74.0\n",
    "Accept: */*\n",
    "Accept-Language: ru-RU,ru;q=0.8,en-US;q=0.5,en;q=0.3\n",
    "Accept-Encoding: gzip, deflate, br\n",
    "Referer: https://auto.ru/cars/all/?top_days=1&year_from=1890&year_to=2021&page=2\n",
    "x-client-app-version: e1e19dc95df\n",
    "x-page-request-id: 84d9c1ebcd26ce0180f887982ad272a8\n",
    "x-client-date: 1623918157662\n",
    "x-csrf-token: 6da8ffea230eea0863601675d68560d57061c57bb7267e06\n",
    "x-requested-with: fetch\n",
    "content-type: application/json\n",
    "X-KL-Ajax-Request: Ajax_Request\n",
    "Origin: https://auto.ru\n",
    "Content-Length: 91\n",
    "Connection: keep-alive\n",
    "Cookie: _csrf_token=6da8ffea230eea0863601675d68560d57061c57bb7267e06; autoru_sid=a%3Ag60caf8e323c861n8k6gbkot3h0s1tb6.91fe2c562185a4a1326a7d1c27b3eaa0%7C1623914723236.604800.tuORHRMWIkPzETrFBJkSpA.DMoK-CYOt0wXSFr_Kla-EhewJGG19bRfEo7GKF634Hw; autoruuid=g60caf8e323c861n8k6gbkot3h0s1tb6.91fe2c562185a4a1326a7d1c27b3eaa0; suid=305432ef193b81eecc5b7af2cb76cf70.cb93241c5fc46d5e723a99df560f314a; from_lifetime=1623918516562; from=direct; salon_phone_utms=utm_medium%3Ddesktop%26utm_source%3Dauto_wizard%26utm_campaign%3Dcommon.tabs.tabs_generation_recommend.exp_tabs_generation_recommend%26utm_content%3Dlisting; X-Vertis-DC=vla; yuidlt=1; yandexuid=4858703531584026877; crookie=EIjVgzGzjUjuPaFVNqaO4ZzfoYTa6NAIBGPZP3MlFrO2brx9NXOTKzE5k9wlqZBGHjiA41i7J+Fq7y49epN363wC06M=; cmtchd=MTYyMzkxNDM3ODk3MQ==; gdpr=0; cycada=VJcuXNud2Kst+WWmr8SHvGA1lKSuD8M6rDi+9dja1Hk=; _ym_uid=162391437940542129; _ym_d=1623918516; _ym_isad=2; listing_view_session={%22top_days%22:%221%22}; listing_view=%7B%22version%22%3A1%7D\n",
    "\"\"\".strip().split('\\n')\n",
    "\n",
    "# т.к. параметр headers принимает на вход словарь, изменим строку\n",
    "# dict_headers={}\n",
    "# for header in headers:\n",
    "#    key, value =  header.split(': ')\n",
    "#    dict_headers[key] = value"
   ]
  },
  {
   "cell_type": "code",
   "execution_count": 10,
   "metadata": {},
   "outputs": [],
   "source": [
    "# сохраняем данные по машинам\n",
    "offers = []\n",
    "\n",
    "# цикл собирает данные с 1 по 500 страницу по всем параметрам за последние 30 дней\n",
    "for x in range(1, 500):\n",
    "    param = {\"category\":\"cars\",\n",
    "         \"page\":x,\n",
    "         \"section\":\"all\",\n",
    "         \"top_days\":\"30\",\n",
    "         \"year_from\":1890,\n",
    "         \"year_to\":2021,\n",
    "        }\n",
    "    # выполняем запрос (код 200 успех, 400 ошибка)\n",
    "    # response = requests.post(url, json=param, headers=dict_headers)\n",
    "    \n",
    "    # сохраняем результаты в data\n",
    "    # data = response.json()\n",
    "    \n",
    "    # берем не все данные, а только описание машин во вкладке offers\n",
    "    # offers.extend(data['offers'])\n",
    "    \n",
    "    \n",
    "# сохранить результаты запроса в json\n",
    "# with open(\"data.json\", 'w') as f:\n",
    "#     json.dump(offers, f)"
   ]
  },
  {
   "cell_type": "code",
   "execution_count": 11,
   "metadata": {},
   "outputs": [],
   "source": [
    "# загуржает dataset с данными\n",
    "with open(\"data.json\", 'r', encoding='utf8') as f:\n",
    "    data = json.load(f)"
   ]
  },
  {
   "cell_type": "code",
   "execution_count": 12,
   "metadata": {
    "scrolled": false
   },
   "outputs": [
    {
     "name": "stdout",
     "output_type": "stream",
     "text": [
      "Длина полученного dataset: 18962 строки.\n"
     ]
    }
   ],
   "source": [
    "print(\"Длина полученного dataset:\",len(data), \"строки.\")"
   ]
  },
  {
   "cell_type": "markdown",
   "metadata": {},
   "source": [
    "**Комментарий**: *из всего объема собранных данных (файл data.json) необходимо выбрать признаки, повторяющиеся в тестовом dataset (файл test.csv).*"
   ]
  },
  {
   "cell_type": "code",
   "execution_count": 13,
   "metadata": {
    "scrolled": true
   },
   "outputs": [
    {
     "name": "stdout",
     "output_type": "stream",
     "text": [
      "Длина стобца color: 18962\n",
      "Длина стобца modelDate: 18962\n",
      "Длина стобца owner_number: 18962\n",
      "Длина стобца pts: 18962\n",
      "Длина стобца price: 18962\n",
      "Длина стобца currency: 18962\n",
      "Длина стобца numberOfDoors: 18962\n",
      "Длина стобца bodyType: 18962\n",
      "Длина стобца brand: 18962\n",
      "Длина стобца displacement: 18962\n",
      "Длина стобца fuelType: 18962\n",
      "Длина стобца gear_type: 18962\n",
      "Длина стобца transmission: 18962\n",
      "Длина стобца power: 18962\n",
      "Длина стобца power_kvt: 18962\n",
      "Длина стобца acceleration: 18962\n",
      "Длина стобца clearance_min: 18962\n",
      "Длина стобца fuel_rate: 18962\n",
      "Длина стобца mileage: 18962\n",
      "Длина стобца model_name: 18962\n",
      "Длина стобца name: 18962\n",
      "Длина стобца vendor: 18962\n",
      "Длина стобца wheel: 18962\n"
     ]
    }
   ],
   "source": [
    "# собираем столбцы тренировочного dataset\n",
    "color = []\n",
    "for item in data:\n",
    "    try:\n",
    "        color.append(item['color_hex'])\n",
    "    except KeyError:\n",
    "        color.append(0)\n",
    "print(\"Длина стобца color:\",len(color))\n",
    "\n",
    "modelDate = []\n",
    "for item in data:\n",
    "    try:\n",
    "        modelDate.append(item['documents']['year'])\n",
    "    except KeyError:\n",
    "        modelDate.append(0)\n",
    "print(\"Длина стобца modelDate:\",len(modelDate))\n",
    "\n",
    "owner_number = []\n",
    "for item in data:\n",
    "    try:\n",
    "        owner_number.append(item['documents']['owners_number'])\n",
    "    except KeyError:\n",
    "        owner_number.append(0)\n",
    "print(\"Длина стобца owner_number:\",len(owner_number))\n",
    "\n",
    "pts = []\n",
    "for item in data:\n",
    "    try:\n",
    "        pts.append(item['documents']['pts'])\n",
    "    except KeyError:\n",
    "        pts.append(0)\n",
    "print(\"Длина стобца pts:\",len(pts))\n",
    "\n",
    "price = []\n",
    "for item in data:\n",
    "    try:\n",
    "        price.append(item['price_info']['price'])\n",
    "    except KeyError:\n",
    "        price.append(0)\n",
    "print(\"Длина стобца price:\",len(price))\n",
    "\n",
    "currency = []\n",
    "for item in data:\n",
    "    try:\n",
    "        currency.append(item['price_info']['currency'])\n",
    "    except KeyError:\n",
    "        currency.append(0)\n",
    "print(\"Длина стобца currency:\",len(currency))\n",
    "                                                             \n",
    "numberOfDoors = []\n",
    "for item in data:\n",
    "    try:\n",
    "        numberOfDoors.append(item['vehicle_info']['configuration']['doors_count'])\n",
    "    except KeyError:\n",
    "        numberOfDoors.append(0)\n",
    "print(\"Длина стобца numberOfDoors:\",len(numberOfDoors))\n",
    "                                                               \n",
    "bodyType = []\n",
    "for item in data:\n",
    "    try:\n",
    "        bodyType.append(item['vehicle_info']['configuration']['human_name'])\n",
    "    except KeyError:\n",
    "        bodyType.append(0)\n",
    "print(\"Длина стобца bodyType:\",len(bodyType))\n",
    "                                                                                                                              \n",
    "brand = []\n",
    "for item in data:\n",
    "    try:\n",
    "        brand.append(item['vehicle_info']['mark_info']['code'])\n",
    "    except KeyError:\n",
    "        brand.append(0)\n",
    "print(\"Длина стобца brand:\",len(brand))\n",
    "                                                               \n",
    "displacement = []\n",
    "for item in data:\n",
    "    try:\n",
    "        displacement.append(item['vehicle_info']['tech_param']['displacement'])\n",
    "    except KeyError:\n",
    "        displacement.append(0)\n",
    "print(\"Длина стобца displacement:\",len(displacement))\n",
    "                                                               \n",
    "fuelType = []\n",
    "for item in data:\n",
    "    try:\n",
    "        fuelType.append(item['vehicle_info']['tech_param']['engine_type'])\n",
    "    except KeyError:\n",
    "        fuelType.append(0)\n",
    "print(\"Длина стобца fuelType:\",len(fuelType)) \n",
    "\n",
    "gear_type = []\n",
    "for item in data:\n",
    "    try:\n",
    "        gear_type.append(item['vehicle_info']['tech_param']['gear_type'])\n",
    "    except KeyError:\n",
    "        gear_type.append(0)\n",
    "print(\"Длина стобца gear_type:\",len(gear_type)) \n",
    "\n",
    "transmission = []\n",
    "for item in data:\n",
    "    try:\n",
    "        transmission.append(item['vehicle_info']['tech_param']['transmission'])\n",
    "    except KeyError:\n",
    "        transmission.append(0)\n",
    "print(\"Длина стобца transmission:\",len(transmission)) \n",
    "                                                               \n",
    "power = []\n",
    "for item in data:\n",
    "    try:\n",
    "        power.append(item['vehicle_info']['tech_param']['power'])\n",
    "    except KeyError:\n",
    "        power.append(0)\n",
    "print(\"Длина стобца power:\",len(power)) \n",
    "                                                               \n",
    "power_kvt = []\n",
    "for item in data:\n",
    "    try:\n",
    "        power_kvt.append(item['vehicle_info']['tech_param']['power_kvt'])\n",
    "    except KeyError:\n",
    "        power_kvt.append(0)\n",
    "print(\"Длина стобца power_kvt:\",len(power_kvt)) \n",
    "                                                               \n",
    "acceleration = []\n",
    "for item in data:\n",
    "    try:\n",
    "        acceleration.append(item['vehicle_info']['tech_param']['acceleration'])\n",
    "    except KeyError:\n",
    "        acceleration.append(0)\n",
    "print(\"Длина стобца acceleration:\",len(acceleration)) \n",
    "                                                               \n",
    "clearance_min = []\n",
    "for item in data:\n",
    "    try:\n",
    "        clearance_min.append(item['vehicle_info']['tech_param']['clearance_min'])\n",
    "    except KeyError:\n",
    "        clearance_min.append(0)\n",
    "print(\"Длина стобца clearance_min:\",len(clearance_min)) \n",
    "\n",
    "fuel_rate = []\n",
    "for item in data:\n",
    "    try:\n",
    "        fuel_rate.append(item['vehicle_info']['tech_param']['fuel_rate'])\n",
    "    except KeyError:\n",
    "        fuel_rate.append(0)\n",
    "print(\"Длина стобца fuel_rate:\",len(fuel_rate)) \n",
    "\n",
    "mileage = []\n",
    "for item in data:\n",
    "    try:\n",
    "        mileage.append(item['state']['mileage'])\n",
    "    except KeyError:\n",
    "        mileage.append(0)\n",
    "print(\"Длина стобца mileage:\",len(mileage)) \n",
    "\n",
    "\n",
    "model_name = []\n",
    "for item in data:\n",
    "    try:\n",
    "        model_name.append(item['vehicle_info']['model_info']['code'])\n",
    "    except KeyError:\n",
    "        model_name.append(0)\n",
    "print(\"Длина стобца model_name:\",len(model_name)) \n",
    "\n",
    "name = []\n",
    "for item in data:\n",
    "    try:\n",
    "        name.append(item['vehicle_info']['tech_param']['human_name'])\n",
    "    except KeyError:\n",
    "        name.append(0)\n",
    "print(\"Длина стобца name:\",len(name)) \n",
    "\n",
    "vendor = []\n",
    "for item in data:\n",
    "    try:\n",
    "        vendor.append(item['vehicle_info']['vendor'])\n",
    "    except KeyError:\n",
    "        vendor.append(0)\n",
    "print(\"Длина стобца vendor:\",len(vendor))\n",
    "\n",
    "wheel = []\n",
    "for item in data:\n",
    "    try:\n",
    "        wheel.append(item['vehicle_info']['steering_wheel'])\n",
    "    except KeyError:\n",
    "        wheel.append(0)\n",
    "print(\"Длина стобца wheel:\",len(wheel))"
   ]
  },
  {
   "cell_type": "code",
   "execution_count": 14,
   "metadata": {},
   "outputs": [],
   "source": [
    "# формируем тренировочный dataframe\n",
    "df = pd.DataFrame(pd.concat([pd.Series(color), pd.Series(modelDate), pd.Series(owner_number), pd.Series(price),\n",
    "                             pd.Series(currency),  pd.Series(numberOfDoors), pd.Series(bodyType),  pd.Series(brand), \n",
    "                             pd.Series(displacement), pd.Series(fuelType), pd.Series(gear_type), pd.Series(transmission), \n",
    "                             pd.Series(power), pd.Series(power_kvt), pd.Series(acceleration), pd.Series(clearance_min), \n",
    "                             pd.Series(fuel_rate), pd.Series(mileage), pd.Series(model_name), \n",
    "                             pd.Series(name), pd.Series(vendor), pd.Series(pts), pd.Series(wheel)], axis=1))"
   ]
  },
  {
   "cell_type": "code",
   "execution_count": 15,
   "metadata": {},
   "outputs": [],
   "source": [
    "# переименуем столбцы\n",
    "df.columns=['color', 'year', 'owner', 'price', 'currency', 'doors', 'bodyType',  'brand', 'displacement', \n",
    "            'engine_type', 'gear_type', 'transmission', 'power', 'power_kvt', 'acceleration', 'clearance_min', 'fuel_rate', \n",
    "            'mileage','model_name','name','vendor', 'pts', 'wheel']"
   ]
  },
  {
   "cell_type": "code",
   "execution_count": 16,
   "metadata": {},
   "outputs": [
    {
     "name": "stdout",
     "output_type": "stream",
     "text": [
      "В скольких строках не проставлена цена машины: 499\n"
     ]
    }
   ],
   "source": [
    "print(\"В скольких строках не проставлена цена машины:\",len(df[df['price']==0]))"
   ]
  },
  {
   "cell_type": "code",
   "execution_count": 17,
   "metadata": {},
   "outputs": [],
   "source": [
    "# сохраняю только те строки, где цена проставлена\n",
    "df_train = df[df['price']>0]"
   ]
  },
  {
   "cell_type": "code",
   "execution_count": 18,
   "metadata": {},
   "outputs": [
    {
     "name": "stderr",
     "output_type": "stream",
     "text": [
      "C:\\ProgramData\\Anaconda3\\lib\\site-packages\\ipykernel_launcher.py:2: SettingWithCopyWarning: \n",
      "A value is trying to be set on a copy of a slice from a DataFrame.\n",
      "Try using .loc[row_indexer,col_indexer] = value instead\n",
      "\n",
      "See the caveats in the documentation: http://pandas.pydata.org/pandas-docs/stable/user_guide/indexing.html#returning-a-view-versus-a-copy\n",
      "  \n"
     ]
    }
   ],
   "source": [
    "# помечаем, что это тренировочный dataframe\n",
    "df_train['sample']= 'train'"
   ]
  },
  {
   "cell_type": "code",
   "execution_count": 19,
   "metadata": {
    "scrolled": true
   },
   "outputs": [
    {
     "data": {
      "text/html": [
       "<div>\n",
       "<style scoped>\n",
       "    .dataframe tbody tr th:only-of-type {\n",
       "        vertical-align: middle;\n",
       "    }\n",
       "\n",
       "    .dataframe tbody tr th {\n",
       "        vertical-align: top;\n",
       "    }\n",
       "\n",
       "    .dataframe thead th {\n",
       "        text-align: right;\n",
       "    }\n",
       "</style>\n",
       "<table border=\"1\" class=\"dataframe\">\n",
       "  <thead>\n",
       "    <tr style=\"text-align: right;\">\n",
       "      <th></th>\n",
       "      <th>color</th>\n",
       "      <th>year</th>\n",
       "      <th>owner</th>\n",
       "      <th>price</th>\n",
       "      <th>currency</th>\n",
       "      <th>doors</th>\n",
       "      <th>bodyType</th>\n",
       "      <th>brand</th>\n",
       "      <th>displacement</th>\n",
       "      <th>engine_type</th>\n",
       "      <th>gear_type</th>\n",
       "      <th>transmission</th>\n",
       "      <th>power</th>\n",
       "      <th>power_kvt</th>\n",
       "      <th>acceleration</th>\n",
       "      <th>clearance_min</th>\n",
       "      <th>fuel_rate</th>\n",
       "      <th>mileage</th>\n",
       "      <th>model_name</th>\n",
       "      <th>name</th>\n",
       "      <th>vendor</th>\n",
       "      <th>pts</th>\n",
       "      <th>wheel</th>\n",
       "      <th>sample</th>\n",
       "    </tr>\n",
       "  </thead>\n",
       "  <tbody>\n",
       "    <tr>\n",
       "      <td>0</td>\n",
       "      <td>97948F</td>\n",
       "      <td>2002</td>\n",
       "      <td>4</td>\n",
       "      <td>74990</td>\n",
       "      <td>RUR</td>\n",
       "      <td>4</td>\n",
       "      <td>Седан</td>\n",
       "      <td>VAZ</td>\n",
       "      <td>1596</td>\n",
       "      <td>GASOLINE</td>\n",
       "      <td>FORWARD_CONTROL</td>\n",
       "      <td>MECHANICAL</td>\n",
       "      <td>90</td>\n",
       "      <td>66</td>\n",
       "      <td>12.0</td>\n",
       "      <td>170</td>\n",
       "      <td>7.2</td>\n",
       "      <td>242000</td>\n",
       "      <td>2110</td>\n",
       "      <td>1.6 MT (90 л.с.)</td>\n",
       "      <td>RUSSIAN</td>\n",
       "      <td>DUPLICATE</td>\n",
       "      <td>LEFT</td>\n",
       "      <td>train</td>\n",
       "    </tr>\n",
       "    <tr>\n",
       "      <td>1</td>\n",
       "      <td>040001</td>\n",
       "      <td>2015</td>\n",
       "      <td>2</td>\n",
       "      <td>1320000</td>\n",
       "      <td>RUR</td>\n",
       "      <td>5</td>\n",
       "      <td>Внедорожник 5 дв.</td>\n",
       "      <td>VOLKSWAGEN</td>\n",
       "      <td>1968</td>\n",
       "      <td>DIESEL</td>\n",
       "      <td>ALL_WHEEL_DRIVE</td>\n",
       "      <td>AUTOMATIC</td>\n",
       "      <td>140</td>\n",
       "      <td>103</td>\n",
       "      <td>10.7</td>\n",
       "      <td>200</td>\n",
       "      <td>7.1</td>\n",
       "      <td>152000</td>\n",
       "      <td>TIGUAN</td>\n",
       "      <td>2.0d AT (140 л.с.) 4WD</td>\n",
       "      <td>EUROPEAN</td>\n",
       "      <td>ORIGINAL</td>\n",
       "      <td>LEFT</td>\n",
       "      <td>train</td>\n",
       "    </tr>\n",
       "  </tbody>\n",
       "</table>\n",
       "</div>"
      ],
      "text/plain": [
       "    color  year  owner    price currency  doors           bodyType  \\\n",
       "0  97948F  2002      4    74990      RUR      4              Седан   \n",
       "1  040001  2015      2  1320000      RUR      5  Внедорожник 5 дв.   \n",
       "\n",
       "        brand  displacement engine_type        gear_type transmission  power  \\\n",
       "0         VAZ          1596    GASOLINE  FORWARD_CONTROL   MECHANICAL     90   \n",
       "1  VOLKSWAGEN          1968      DIESEL  ALL_WHEEL_DRIVE    AUTOMATIC    140   \n",
       "\n",
       "   power_kvt  acceleration  clearance_min  fuel_rate  mileage model_name  \\\n",
       "0         66          12.0            170        7.2   242000       2110   \n",
       "1        103          10.7            200        7.1   152000     TIGUAN   \n",
       "\n",
       "                     name    vendor        pts wheel sample  \n",
       "0        1.6 MT (90 л.с.)   RUSSIAN  DUPLICATE  LEFT  train  \n",
       "1  2.0d AT (140 л.с.) 4WD  EUROPEAN   ORIGINAL  LEFT  train  "
      ]
     },
     "execution_count": 19,
     "metadata": {},
     "output_type": "execute_result"
    }
   ],
   "source": [
    "df_train.head(2)"
   ]
  },
  {
   "cell_type": "code",
   "execution_count": 20,
   "metadata": {},
   "outputs": [
    {
     "name": "stdout",
     "output_type": "stream",
     "text": [
      "<class 'pandas.core.frame.DataFrame'>\n",
      "Int64Index: 18463 entries, 0 to 18961\n",
      "Data columns (total 24 columns):\n",
      "color            18463 non-null object\n",
      "year             18463 non-null int64\n",
      "owner            18463 non-null int64\n",
      "price            18463 non-null int64\n",
      "currency         18463 non-null object\n",
      "doors            18463 non-null int64\n",
      "bodyType         18463 non-null object\n",
      "brand            18463 non-null object\n",
      "displacement     18463 non-null int64\n",
      "engine_type      18463 non-null object\n",
      "gear_type        18463 non-null object\n",
      "transmission     18463 non-null object\n",
      "power            18463 non-null int64\n",
      "power_kvt        18463 non-null int64\n",
      "acceleration     18463 non-null float64\n",
      "clearance_min    18463 non-null int64\n",
      "fuel_rate        18463 non-null float64\n",
      "mileage          18463 non-null int64\n",
      "model_name       18463 non-null object\n",
      "name             18463 non-null object\n",
      "vendor           18463 non-null object\n",
      "pts              18463 non-null object\n",
      "wheel            18463 non-null object\n",
      "sample           18463 non-null object\n",
      "dtypes: float64(2), int64(9), object(13)\n",
      "memory usage: 3.5+ MB\n"
     ]
    }
   ],
   "source": [
    "df_train.info()"
   ]
  },
  {
   "cell_type": "markdown",
   "metadata": {
    "papermill": {
     "duration": 0.030254,
     "end_time": "2020-10-26T12:46:48.112586",
     "exception": false,
     "start_time": "2020-10-26T12:46:48.082332",
     "status": "completed"
    },
    "tags": []
   },
   "source": [
    "### 7. Формирование тестового dataframe"
   ]
  },
  {
   "cell_type": "code",
   "execution_count": 21,
   "metadata": {
    "_cell_guid": "79c7e3d0-c299-4dcb-8224-4455121ee9b0",
    "_uuid": "d629ff2d2480ee46fbb7e2d37f6b5fab8052498a",
    "execution": {
     "iopub.execute_input": "2020-10-26T12:46:49.007668Z",
     "iopub.status.busy": "2020-10-26T12:46:49.006762Z",
     "iopub.status.idle": "2020-10-26T12:47:02.121152Z",
     "shell.execute_reply": "2020-10-26T12:47:02.120434Z"
    },
    "papermill": {
     "duration": 13.16556,
     "end_time": "2020-10-26T12:47:02.12133",
     "exception": false,
     "start_time": "2020-10-26T12:46:48.95577",
     "status": "completed"
    },
    "tags": []
   },
   "outputs": [],
   "source": [
    "test = pd.read_csv('test.csv')\n",
    "sample_submission = pd.read_csv('sample_submission.csv')"
   ]
  },
  {
   "cell_type": "code",
   "execution_count": 22,
   "metadata": {
    "execution": {
     "iopub.execute_input": "2020-10-26T12:47:02.599966Z",
     "iopub.status.busy": "2020-10-26T12:47:02.598892Z",
     "iopub.status.idle": "2020-10-26T12:47:02.604335Z",
     "shell.execute_reply": "2020-10-26T12:47:02.60353Z"
    },
    "papermill": {
     "duration": 0.069985,
     "end_time": "2020-10-26T12:47:02.604497",
     "exception": false,
     "start_time": "2020-10-26T12:47:02.534512",
     "status": "completed"
    },
    "scrolled": true,
    "tags": []
   },
   "outputs": [
    {
     "data": {
      "text/html": [
       "<div>\n",
       "<style scoped>\n",
       "    .dataframe tbody tr th:only-of-type {\n",
       "        vertical-align: middle;\n",
       "    }\n",
       "\n",
       "    .dataframe tbody tr th {\n",
       "        vertical-align: top;\n",
       "    }\n",
       "\n",
       "    .dataframe thead th {\n",
       "        text-align: right;\n",
       "    }\n",
       "</style>\n",
       "<table border=\"1\" class=\"dataframe\">\n",
       "  <thead>\n",
       "    <tr style=\"text-align: right;\">\n",
       "      <th></th>\n",
       "      <th>bodyType</th>\n",
       "      <th>brand</th>\n",
       "      <th>car_url</th>\n",
       "      <th>color</th>\n",
       "      <th>complectation_dict</th>\n",
       "      <th>description</th>\n",
       "      <th>engineDisplacement</th>\n",
       "      <th>enginePower</th>\n",
       "      <th>equipment_dict</th>\n",
       "      <th>fuelType</th>\n",
       "      <th>image</th>\n",
       "      <th>mileage</th>\n",
       "      <th>modelDate</th>\n",
       "      <th>model_info</th>\n",
       "      <th>model_name</th>\n",
       "      <th>name</th>\n",
       "      <th>numberOfDoors</th>\n",
       "      <th>parsing_unixtime</th>\n",
       "      <th>priceCurrency</th>\n",
       "      <th>productionDate</th>\n",
       "      <th>sell_id</th>\n",
       "      <th>super_gen</th>\n",
       "      <th>vehicleConfiguration</th>\n",
       "      <th>vehicleTransmission</th>\n",
       "      <th>vendor</th>\n",
       "      <th>Владельцы</th>\n",
       "      <th>Владение</th>\n",
       "      <th>ПТС</th>\n",
       "      <th>Привод</th>\n",
       "      <th>Руль</th>\n",
       "      <th>Состояние</th>\n",
       "      <th>Таможня</th>\n",
       "    </tr>\n",
       "  </thead>\n",
       "  <tbody>\n",
       "    <tr>\n",
       "      <td>0</td>\n",
       "      <td>лифтбек</td>\n",
       "      <td>SKODA</td>\n",
       "      <td>https://auto.ru/cars/used/sale/skoda/octavia/1...</td>\n",
       "      <td>синий</td>\n",
       "      <td>NaN</td>\n",
       "      <td>Все автомобили, представленные в продаже, прох...</td>\n",
       "      <td>1.2 LTR</td>\n",
       "      <td>105 N12</td>\n",
       "      <td>{\"engine-proof\":true,\"tinted-glass\":true,\"airb...</td>\n",
       "      <td>бензин</td>\n",
       "      <td>https://autoru.naydex.net/o9DBXQ270/5ac010hAY0...</td>\n",
       "      <td>74000</td>\n",
       "      <td>2013</td>\n",
       "      <td>{\"code\":\"OCTAVIA\",\"name\":\"Octavia\",\"ru_name\":\"...</td>\n",
       "      <td>OCTAVIA</td>\n",
       "      <td>1.2 AMT (105 л.с.)</td>\n",
       "      <td>5</td>\n",
       "      <td>1603226273</td>\n",
       "      <td>RUB</td>\n",
       "      <td>2014</td>\n",
       "      <td>1100575026</td>\n",
       "      <td>{\"id\":\"10373605\",\"displacement\":1197,\"engine_t...</td>\n",
       "      <td>LIFTBACK ROBOT 1.2</td>\n",
       "      <td>роботизированная</td>\n",
       "      <td>EUROPEAN</td>\n",
       "      <td>3 или более</td>\n",
       "      <td>NaN</td>\n",
       "      <td>Оригинал</td>\n",
       "      <td>передний</td>\n",
       "      <td>Левый</td>\n",
       "      <td>Не требует ремонта</td>\n",
       "      <td>Растаможен</td>\n",
       "    </tr>\n",
       "    <tr>\n",
       "      <td>1</td>\n",
       "      <td>лифтбек</td>\n",
       "      <td>SKODA</td>\n",
       "      <td>https://auto.ru/cars/used/sale/skoda/octavia/1...</td>\n",
       "      <td>чёрный</td>\n",
       "      <td>NaN</td>\n",
       "      <td>ЛОТ: 01217195\\nАвтопрага Север\\nДанный автомоб...</td>\n",
       "      <td>1.6 LTR</td>\n",
       "      <td>110 N12</td>\n",
       "      <td>{\"cruise-control\":true,\"asr\":true,\"esp\":true,\"...</td>\n",
       "      <td>бензин</td>\n",
       "      <td>https://autoru.naydex.net/o9DBXQ270/5ac010hAY0...</td>\n",
       "      <td>60563</td>\n",
       "      <td>2017</td>\n",
       "      <td>{\"code\":\"OCTAVIA\",\"name\":\"Octavia\",\"ru_name\":\"...</td>\n",
       "      <td>OCTAVIA</td>\n",
       "      <td>1.6 MT (110 л.с.)</td>\n",
       "      <td>5</td>\n",
       "      <td>1603226277</td>\n",
       "      <td>RUB</td>\n",
       "      <td>2017</td>\n",
       "      <td>1100549428</td>\n",
       "      <td>{\"id\":\"20913311\",\"displacement\":1598,\"engine_t...</td>\n",
       "      <td>LIFTBACK MECHANICAL 1.6</td>\n",
       "      <td>механическая</td>\n",
       "      <td>EUROPEAN</td>\n",
       "      <td>1 владелец</td>\n",
       "      <td>NaN</td>\n",
       "      <td>Оригинал</td>\n",
       "      <td>передний</td>\n",
       "      <td>Левый</td>\n",
       "      <td>Не требует ремонта</td>\n",
       "      <td>Растаможен</td>\n",
       "    </tr>\n",
       "  </tbody>\n",
       "</table>\n",
       "</div>"
      ],
      "text/plain": [
       "  bodyType  brand                                            car_url   color  \\\n",
       "0  лифтбек  SKODA  https://auto.ru/cars/used/sale/skoda/octavia/1...   синий   \n",
       "1  лифтбек  SKODA  https://auto.ru/cars/used/sale/skoda/octavia/1...  чёрный   \n",
       "\n",
       "  complectation_dict                                        description  \\\n",
       "0                NaN  Все автомобили, представленные в продаже, прох...   \n",
       "1                NaN  ЛОТ: 01217195\\nАвтопрага Север\\nДанный автомоб...   \n",
       "\n",
       "  engineDisplacement enginePower  \\\n",
       "0            1.2 LTR     105 N12   \n",
       "1            1.6 LTR     110 N12   \n",
       "\n",
       "                                      equipment_dict fuelType  \\\n",
       "0  {\"engine-proof\":true,\"tinted-glass\":true,\"airb...   бензин   \n",
       "1  {\"cruise-control\":true,\"asr\":true,\"esp\":true,\"...   бензин   \n",
       "\n",
       "                                               image  mileage  modelDate  \\\n",
       "0  https://autoru.naydex.net/o9DBXQ270/5ac010hAY0...    74000       2013   \n",
       "1  https://autoru.naydex.net/o9DBXQ270/5ac010hAY0...    60563       2017   \n",
       "\n",
       "                                          model_info model_name  \\\n",
       "0  {\"code\":\"OCTAVIA\",\"name\":\"Octavia\",\"ru_name\":\"...    OCTAVIA   \n",
       "1  {\"code\":\"OCTAVIA\",\"name\":\"Octavia\",\"ru_name\":\"...    OCTAVIA   \n",
       "\n",
       "                 name  numberOfDoors  parsing_unixtime priceCurrency  \\\n",
       "0  1.2 AMT (105 л.с.)              5        1603226273           RUB   \n",
       "1   1.6 MT (110 л.с.)              5        1603226277           RUB   \n",
       "\n",
       "   productionDate     sell_id  \\\n",
       "0            2014  1100575026   \n",
       "1            2017  1100549428   \n",
       "\n",
       "                                           super_gen     vehicleConfiguration  \\\n",
       "0  {\"id\":\"10373605\",\"displacement\":1197,\"engine_t...       LIFTBACK ROBOT 1.2   \n",
       "1  {\"id\":\"20913311\",\"displacement\":1598,\"engine_t...  LIFTBACK MECHANICAL 1.6   \n",
       "\n",
       "  vehicleTransmission    vendor    Владельцы Владение       ПТС    Привод  \\\n",
       "0    роботизированная  EUROPEAN  3 или более      NaN  Оригинал  передний   \n",
       "1        механическая  EUROPEAN   1 владелец      NaN  Оригинал  передний   \n",
       "\n",
       "    Руль           Состояние     Таможня  \n",
       "0  Левый  Не требует ремонта  Растаможен  \n",
       "1  Левый  Не требует ремонта  Растаможен  "
      ]
     },
     "execution_count": 22,
     "metadata": {},
     "output_type": "execute_result"
    }
   ],
   "source": [
    "test.head(2)"
   ]
  },
  {
   "cell_type": "code",
   "execution_count": 23,
   "metadata": {},
   "outputs": [
    {
     "data": {
      "text/html": [
       "<div>\n",
       "<style scoped>\n",
       "    .dataframe tbody tr th:only-of-type {\n",
       "        vertical-align: middle;\n",
       "    }\n",
       "\n",
       "    .dataframe tbody tr th {\n",
       "        vertical-align: top;\n",
       "    }\n",
       "\n",
       "    .dataframe thead th {\n",
       "        text-align: right;\n",
       "    }\n",
       "</style>\n",
       "<table border=\"1\" class=\"dataframe\">\n",
       "  <thead>\n",
       "    <tr style=\"text-align: right;\">\n",
       "      <th></th>\n",
       "      <th>color</th>\n",
       "      <th>productionDate</th>\n",
       "      <th>Владельцы</th>\n",
       "      <th>priceCurrency</th>\n",
       "      <th>numberOfDoors</th>\n",
       "      <th>bodyType</th>\n",
       "      <th>brand</th>\n",
       "      <th>super_gen</th>\n",
       "      <th>mileage</th>\n",
       "      <th>model_name</th>\n",
       "      <th>name_</th>\n",
       "      <th>vendor</th>\n",
       "      <th>ПТС</th>\n",
       "      <th>Руль</th>\n",
       "    </tr>\n",
       "  </thead>\n",
       "  <tbody>\n",
       "    <tr>\n",
       "      <td>0</td>\n",
       "      <td>синий</td>\n",
       "      <td>2014</td>\n",
       "      <td>3 или более</td>\n",
       "      <td>RUB</td>\n",
       "      <td>5</td>\n",
       "      <td>лифтбек</td>\n",
       "      <td>SKODA</td>\n",
       "      <td>{\"id\":\"10373605\",\"displacement\":1197,\"engine_t...</td>\n",
       "      <td>74000</td>\n",
       "      <td>OCTAVIA</td>\n",
       "      <td>1.2 AMT (105 л.с.)</td>\n",
       "      <td>EUROPEAN</td>\n",
       "      <td>Оригинал</td>\n",
       "      <td>Левый</td>\n",
       "    </tr>\n",
       "    <tr>\n",
       "      <td>1</td>\n",
       "      <td>чёрный</td>\n",
       "      <td>2017</td>\n",
       "      <td>1 владелец</td>\n",
       "      <td>RUB</td>\n",
       "      <td>5</td>\n",
       "      <td>лифтбек</td>\n",
       "      <td>SKODA</td>\n",
       "      <td>{\"id\":\"20913311\",\"displacement\":1598,\"engine_t...</td>\n",
       "      <td>60563</td>\n",
       "      <td>OCTAVIA</td>\n",
       "      <td>1.6 MT (110 л.с.)</td>\n",
       "      <td>EUROPEAN</td>\n",
       "      <td>Оригинал</td>\n",
       "      <td>Левый</td>\n",
       "    </tr>\n",
       "  </tbody>\n",
       "</table>\n",
       "</div>"
      ],
      "text/plain": [
       "    color  productionDate    Владельцы priceCurrency  numberOfDoors bodyType  \\\n",
       "0   синий            2014  3 или более           RUB              5  лифтбек   \n",
       "1  чёрный            2017   1 владелец           RUB              5  лифтбек   \n",
       "\n",
       "   brand                                          super_gen  mileage  \\\n",
       "0  SKODA  {\"id\":\"10373605\",\"displacement\":1197,\"engine_t...    74000   \n",
       "1  SKODA  {\"id\":\"20913311\",\"displacement\":1598,\"engine_t...    60563   \n",
       "\n",
       "  model_name               name_    vendor       ПТС   Руль  \n",
       "0    OCTAVIA  1.2 AMT (105 л.с.)  EUROPEAN  Оригинал  Левый  \n",
       "1    OCTAVIA   1.6 MT (110 л.с.)  EUROPEAN  Оригинал  Левый  "
      ]
     },
     "execution_count": 23,
     "metadata": {},
     "output_type": "execute_result"
    }
   ],
   "source": [
    "# выбираем столбцы, которые повторяются в тренировочном dataset\n",
    "test=test[['color','productionDate','Владельцы','priceCurrency','numberOfDoors','bodyType','brand','super_gen','mileage',\n",
    "     'model_name','name','vendor','ПТС','Руль']]\n",
    "\n",
    "# переименуем столбец name, чтобы при деление super_gen на столбцы в след. шагах названия не дублировались\n",
    "test.columns = (['color','productionDate','Владельцы','priceCurrency','numberOfDoors','bodyType','brand','super_gen','mileage',\n",
    "     'model_name','name_','vendor','ПТС','Руль'])\n",
    "test.head(2)"
   ]
  },
  {
   "cell_type": "code",
   "execution_count": 24,
   "metadata": {
    "scrolled": true
   },
   "outputs": [
    {
     "data": {
      "text/html": [
       "<div>\n",
       "<style scoped>\n",
       "    .dataframe tbody tr th:only-of-type {\n",
       "        vertical-align: middle;\n",
       "    }\n",
       "\n",
       "    .dataframe tbody tr th {\n",
       "        vertical-align: top;\n",
       "    }\n",
       "\n",
       "    .dataframe thead th {\n",
       "        text-align: right;\n",
       "    }\n",
       "</style>\n",
       "<table border=\"1\" class=\"dataframe\">\n",
       "  <thead>\n",
       "    <tr style=\"text-align: right;\">\n",
       "      <th></th>\n",
       "      <th>color</th>\n",
       "      <th>productionDate</th>\n",
       "      <th>Владельцы</th>\n",
       "      <th>priceCurrency</th>\n",
       "      <th>numberOfDoors</th>\n",
       "      <th>bodyType</th>\n",
       "      <th>brand</th>\n",
       "      <th>mileage</th>\n",
       "      <th>model_name</th>\n",
       "      <th>name_</th>\n",
       "      <th>vendor</th>\n",
       "      <th>ПТС</th>\n",
       "      <th>Руль</th>\n",
       "      <th>id</th>\n",
       "      <th>displacement</th>\n",
       "      <th>engine_type</th>\n",
       "      <th>gear_type</th>\n",
       "      <th>transmission</th>\n",
       "      <th>power</th>\n",
       "      <th>power_kvt</th>\n",
       "      <th>human_name</th>\n",
       "      <th>acceleration</th>\n",
       "      <th>clearance_min</th>\n",
       "      <th>fuel_rate</th>\n",
       "      <th>nameplate</th>\n",
       "      <th>clearance_max</th>\n",
       "      <th>name</th>\n",
       "    </tr>\n",
       "  </thead>\n",
       "  <tbody>\n",
       "    <tr>\n",
       "      <td>0</td>\n",
       "      <td>синий</td>\n",
       "      <td>2014</td>\n",
       "      <td>3 или более</td>\n",
       "      <td>RUB</td>\n",
       "      <td>5</td>\n",
       "      <td>лифтбек</td>\n",
       "      <td>SKODA</td>\n",
       "      <td>74000</td>\n",
       "      <td>OCTAVIA</td>\n",
       "      <td>1.2 AMT (105 л.с.)</td>\n",
       "      <td>EUROPEAN</td>\n",
       "      <td>Оригинал</td>\n",
       "      <td>Левый</td>\n",
       "      <td>10373605</td>\n",
       "      <td>1197</td>\n",
       "      <td>GASOLINE</td>\n",
       "      <td>FORWARD_CONTROL</td>\n",
       "      <td>ROBOT</td>\n",
       "      <td>105</td>\n",
       "      <td>77</td>\n",
       "      <td>1.2 AMT (105 л.с.)</td>\n",
       "      <td>10.5</td>\n",
       "      <td>155.0</td>\n",
       "      <td>5.0</td>\n",
       "      <td>NaN</td>\n",
       "      <td>NaN</td>\n",
       "      <td>NaN</td>\n",
       "    </tr>\n",
       "    <tr>\n",
       "      <td>1</td>\n",
       "      <td>чёрный</td>\n",
       "      <td>2017</td>\n",
       "      <td>1 владелец</td>\n",
       "      <td>RUB</td>\n",
       "      <td>5</td>\n",
       "      <td>лифтбек</td>\n",
       "      <td>SKODA</td>\n",
       "      <td>60563</td>\n",
       "      <td>OCTAVIA</td>\n",
       "      <td>1.6 MT (110 л.с.)</td>\n",
       "      <td>EUROPEAN</td>\n",
       "      <td>Оригинал</td>\n",
       "      <td>Левый</td>\n",
       "      <td>20913311</td>\n",
       "      <td>1598</td>\n",
       "      <td>GASOLINE</td>\n",
       "      <td>FORWARD_CONTROL</td>\n",
       "      <td>MECHANICAL</td>\n",
       "      <td>110</td>\n",
       "      <td>81</td>\n",
       "      <td>1.6 MT (110 л.с.)</td>\n",
       "      <td>10.8</td>\n",
       "      <td>156.0</td>\n",
       "      <td>6.4</td>\n",
       "      <td>NaN</td>\n",
       "      <td>NaN</td>\n",
       "      <td>NaN</td>\n",
       "    </tr>\n",
       "  </tbody>\n",
       "</table>\n",
       "</div>"
      ],
      "text/plain": [
       "    color  productionDate    Владельцы priceCurrency  numberOfDoors bodyType  \\\n",
       "0   синий            2014  3 или более           RUB              5  лифтбек   \n",
       "1  чёрный            2017   1 владелец           RUB              5  лифтбек   \n",
       "\n",
       "   brand  mileage model_name               name_    vendor       ПТС   Руль  \\\n",
       "0  SKODA    74000    OCTAVIA  1.2 AMT (105 л.с.)  EUROPEAN  Оригинал  Левый   \n",
       "1  SKODA    60563    OCTAVIA   1.6 MT (110 л.с.)  EUROPEAN  Оригинал  Левый   \n",
       "\n",
       "         id  displacement engine_type        gear_type transmission  power  \\\n",
       "0  10373605          1197    GASOLINE  FORWARD_CONTROL        ROBOT    105   \n",
       "1  20913311          1598    GASOLINE  FORWARD_CONTROL   MECHANICAL    110   \n",
       "\n",
       "   power_kvt          human_name  acceleration  clearance_min  fuel_rate  \\\n",
       "0         77  1.2 AMT (105 л.с.)          10.5          155.0        5.0   \n",
       "1         81   1.6 MT (110 л.с.)          10.8          156.0        6.4   \n",
       "\n",
       "  nameplate  clearance_max name  \n",
       "0       NaN            NaN  NaN  \n",
       "1       NaN            NaN  NaN  "
      ]
     },
     "execution_count": 24,
     "metadata": {},
     "output_type": "execute_result"
    }
   ],
   "source": [
    "# столбец super_gen нужно из str преобразовать в dict\n",
    "test['super_gen'] = test['super_gen'].apply(lambda x: json.loads(x))\n",
    "\n",
    "# разносим элементы dict по столбцам\n",
    "test= pd.concat([test, json_normalize(test['super_gen'])], axis=1).drop(['super_gen'], axis=1)\n",
    "test.head(2)"
   ]
  },
  {
   "cell_type": "code",
   "execution_count": 25,
   "metadata": {},
   "outputs": [
    {
     "data": {
      "text/html": [
       "<div>\n",
       "<style scoped>\n",
       "    .dataframe tbody tr th:only-of-type {\n",
       "        vertical-align: middle;\n",
       "    }\n",
       "\n",
       "    .dataframe tbody tr th {\n",
       "        vertical-align: top;\n",
       "    }\n",
       "\n",
       "    .dataframe thead th {\n",
       "        text-align: right;\n",
       "    }\n",
       "</style>\n",
       "<table border=\"1\" class=\"dataframe\">\n",
       "  <thead>\n",
       "    <tr style=\"text-align: right;\">\n",
       "      <th></th>\n",
       "      <th>color</th>\n",
       "      <th>productionDate</th>\n",
       "      <th>Владельцы</th>\n",
       "      <th>priceCurrency</th>\n",
       "      <th>numberOfDoors</th>\n",
       "      <th>bodyType</th>\n",
       "      <th>brand</th>\n",
       "      <th>displacement</th>\n",
       "      <th>engine_type</th>\n",
       "      <th>gear_type</th>\n",
       "      <th>transmission</th>\n",
       "      <th>power</th>\n",
       "      <th>power_kvt</th>\n",
       "      <th>acceleration</th>\n",
       "      <th>clearance_min</th>\n",
       "      <th>fuel_rate</th>\n",
       "      <th>mileage</th>\n",
       "      <th>model_name</th>\n",
       "      <th>name_</th>\n",
       "      <th>vendor</th>\n",
       "      <th>ПТС</th>\n",
       "      <th>Руль</th>\n",
       "    </tr>\n",
       "  </thead>\n",
       "  <tbody>\n",
       "    <tr>\n",
       "      <td>0</td>\n",
       "      <td>синий</td>\n",
       "      <td>2014</td>\n",
       "      <td>3 или более</td>\n",
       "      <td>RUB</td>\n",
       "      <td>5</td>\n",
       "      <td>лифтбек</td>\n",
       "      <td>SKODA</td>\n",
       "      <td>1197</td>\n",
       "      <td>GASOLINE</td>\n",
       "      <td>FORWARD_CONTROL</td>\n",
       "      <td>ROBOT</td>\n",
       "      <td>105</td>\n",
       "      <td>77</td>\n",
       "      <td>10.5</td>\n",
       "      <td>155.0</td>\n",
       "      <td>5.0</td>\n",
       "      <td>74000</td>\n",
       "      <td>OCTAVIA</td>\n",
       "      <td>1.2 AMT (105 л.с.)</td>\n",
       "      <td>EUROPEAN</td>\n",
       "      <td>Оригинал</td>\n",
       "      <td>Левый</td>\n",
       "    </tr>\n",
       "    <tr>\n",
       "      <td>1</td>\n",
       "      <td>чёрный</td>\n",
       "      <td>2017</td>\n",
       "      <td>1 владелец</td>\n",
       "      <td>RUB</td>\n",
       "      <td>5</td>\n",
       "      <td>лифтбек</td>\n",
       "      <td>SKODA</td>\n",
       "      <td>1598</td>\n",
       "      <td>GASOLINE</td>\n",
       "      <td>FORWARD_CONTROL</td>\n",
       "      <td>MECHANICAL</td>\n",
       "      <td>110</td>\n",
       "      <td>81</td>\n",
       "      <td>10.8</td>\n",
       "      <td>156.0</td>\n",
       "      <td>6.4</td>\n",
       "      <td>60563</td>\n",
       "      <td>OCTAVIA</td>\n",
       "      <td>1.6 MT (110 л.с.)</td>\n",
       "      <td>EUROPEAN</td>\n",
       "      <td>Оригинал</td>\n",
       "      <td>Левый</td>\n",
       "    </tr>\n",
       "  </tbody>\n",
       "</table>\n",
       "</div>"
      ],
      "text/plain": [
       "    color  productionDate    Владельцы priceCurrency  numberOfDoors bodyType  \\\n",
       "0   синий            2014  3 или более           RUB              5  лифтбек   \n",
       "1  чёрный            2017   1 владелец           RUB              5  лифтбек   \n",
       "\n",
       "   brand  displacement engine_type        gear_type transmission  power  \\\n",
       "0  SKODA          1197    GASOLINE  FORWARD_CONTROL        ROBOT    105   \n",
       "1  SKODA          1598    GASOLINE  FORWARD_CONTROL   MECHANICAL    110   \n",
       "\n",
       "   power_kvt  acceleration  clearance_min  fuel_rate  mileage model_name  \\\n",
       "0         77          10.5          155.0        5.0    74000    OCTAVIA   \n",
       "1         81          10.8          156.0        6.4    60563    OCTAVIA   \n",
       "\n",
       "                name_    vendor       ПТС   Руль  \n",
       "0  1.2 AMT (105 л.с.)  EUROPEAN  Оригинал  Левый  \n",
       "1   1.6 MT (110 л.с.)  EUROPEAN  Оригинал  Левый  "
      ]
     },
     "execution_count": 25,
     "metadata": {},
     "output_type": "execute_result"
    }
   ],
   "source": [
    "test=test[['color','productionDate','Владельцы','priceCurrency','numberOfDoors','bodyType','brand','displacement', 'engine_type',\n",
    "           'gear_type','transmission','power','power_kvt','acceleration','clearance_min','fuel_rate','mileage', 'model_name',\n",
    "           'name_','vendor','ПТС','Руль']]\n",
    "test.head(2)"
   ]
  },
  {
   "cell_type": "code",
   "execution_count": 26,
   "metadata": {
    "scrolled": true
   },
   "outputs": [
    {
     "data": {
      "text/html": [
       "<div>\n",
       "<style scoped>\n",
       "    .dataframe tbody tr th:only-of-type {\n",
       "        vertical-align: middle;\n",
       "    }\n",
       "\n",
       "    .dataframe tbody tr th {\n",
       "        vertical-align: top;\n",
       "    }\n",
       "\n",
       "    .dataframe thead th {\n",
       "        text-align: right;\n",
       "    }\n",
       "</style>\n",
       "<table border=\"1\" class=\"dataframe\">\n",
       "  <thead>\n",
       "    <tr style=\"text-align: right;\">\n",
       "      <th></th>\n",
       "      <th>color</th>\n",
       "      <th>year</th>\n",
       "      <th>owner</th>\n",
       "      <th>currency</th>\n",
       "      <th>doors</th>\n",
       "      <th>bodyType</th>\n",
       "      <th>brand</th>\n",
       "      <th>displacement</th>\n",
       "      <th>engine_type</th>\n",
       "      <th>gear_type</th>\n",
       "      <th>transmission</th>\n",
       "      <th>power</th>\n",
       "      <th>power_kvt</th>\n",
       "      <th>acceleration</th>\n",
       "      <th>clearance_min</th>\n",
       "      <th>fuel_rate</th>\n",
       "      <th>mileage</th>\n",
       "      <th>model_name</th>\n",
       "      <th>name</th>\n",
       "      <th>vendor</th>\n",
       "      <th>pts</th>\n",
       "      <th>wheel</th>\n",
       "    </tr>\n",
       "  </thead>\n",
       "  <tbody>\n",
       "    <tr>\n",
       "      <td>0</td>\n",
       "      <td>синий</td>\n",
       "      <td>2014</td>\n",
       "      <td>3 или более</td>\n",
       "      <td>RUB</td>\n",
       "      <td>5</td>\n",
       "      <td>лифтбек</td>\n",
       "      <td>SKODA</td>\n",
       "      <td>1197</td>\n",
       "      <td>GASOLINE</td>\n",
       "      <td>FORWARD_CONTROL</td>\n",
       "      <td>ROBOT</td>\n",
       "      <td>105</td>\n",
       "      <td>77</td>\n",
       "      <td>10.5</td>\n",
       "      <td>155.0</td>\n",
       "      <td>5.0</td>\n",
       "      <td>74000</td>\n",
       "      <td>OCTAVIA</td>\n",
       "      <td>1.2 AMT (105 л.с.)</td>\n",
       "      <td>EUROPEAN</td>\n",
       "      <td>Оригинал</td>\n",
       "      <td>Левый</td>\n",
       "    </tr>\n",
       "    <tr>\n",
       "      <td>1</td>\n",
       "      <td>чёрный</td>\n",
       "      <td>2017</td>\n",
       "      <td>1 владелец</td>\n",
       "      <td>RUB</td>\n",
       "      <td>5</td>\n",
       "      <td>лифтбек</td>\n",
       "      <td>SKODA</td>\n",
       "      <td>1598</td>\n",
       "      <td>GASOLINE</td>\n",
       "      <td>FORWARD_CONTROL</td>\n",
       "      <td>MECHANICAL</td>\n",
       "      <td>110</td>\n",
       "      <td>81</td>\n",
       "      <td>10.8</td>\n",
       "      <td>156.0</td>\n",
       "      <td>6.4</td>\n",
       "      <td>60563</td>\n",
       "      <td>OCTAVIA</td>\n",
       "      <td>1.6 MT (110 л.с.)</td>\n",
       "      <td>EUROPEAN</td>\n",
       "      <td>Оригинал</td>\n",
       "      <td>Левый</td>\n",
       "    </tr>\n",
       "  </tbody>\n",
       "</table>\n",
       "</div>"
      ],
      "text/plain": [
       "    color  year        owner currency  doors bodyType  brand  displacement  \\\n",
       "0   синий  2014  3 или более      RUB      5  лифтбек  SKODA          1197   \n",
       "1  чёрный  2017   1 владелец      RUB      5  лифтбек  SKODA          1598   \n",
       "\n",
       "  engine_type        gear_type transmission  power  power_kvt  acceleration  \\\n",
       "0    GASOLINE  FORWARD_CONTROL        ROBOT    105         77          10.5   \n",
       "1    GASOLINE  FORWARD_CONTROL   MECHANICAL    110         81          10.8   \n",
       "\n",
       "   clearance_min  fuel_rate  mileage model_name                name    vendor  \\\n",
       "0          155.0        5.0    74000    OCTAVIA  1.2 AMT (105 л.с.)  EUROPEAN   \n",
       "1          156.0        6.4    60563    OCTAVIA   1.6 MT (110 л.с.)  EUROPEAN   \n",
       "\n",
       "        pts  wheel  \n",
       "0  Оригинал  Левый  \n",
       "1  Оригинал  Левый  "
      ]
     },
     "execution_count": 26,
     "metadata": {},
     "output_type": "execute_result"
    }
   ],
   "source": [
    "# переименовываем столбцы для соответствия с тренировочным dataframe\n",
    "test.columns = (['color','year','owner','currency','doors','bodyType','brand','displacement', \n",
    "                 'engine_type','gear_type','transmission','power','power_kvt','acceleration','clearance_min','fuel_rate', \n",
    "                 'mileage', 'model_name','name','vendor','pts','wheel'])\n",
    "test.head(2)"
   ]
  },
  {
   "cell_type": "code",
   "execution_count": 27,
   "metadata": {},
   "outputs": [],
   "source": [
    "# создаем фиктивный столбец, чтобы соединить 2 dataframe для обработки\n",
    "test['price']=0"
   ]
  },
  {
   "cell_type": "code",
   "execution_count": 28,
   "metadata": {},
   "outputs": [],
   "source": [
    "df_test=test\n",
    "# помечаем, что это тестовый dataframe\n",
    "df_test['sample']= 'test'"
   ]
  },
  {
   "cell_type": "code",
   "execution_count": 29,
   "metadata": {},
   "outputs": [
    {
     "name": "stdout",
     "output_type": "stream",
     "text": [
      "<class 'pandas.core.frame.DataFrame'>\n",
      "RangeIndex: 34686 entries, 0 to 34685\n",
      "Data columns (total 24 columns):\n",
      "color            34686 non-null object\n",
      "year             34686 non-null int64\n",
      "owner            34686 non-null object\n",
      "currency         34686 non-null object\n",
      "doors            34686 non-null int64\n",
      "bodyType         34686 non-null object\n",
      "brand            34686 non-null object\n",
      "displacement     34686 non-null int64\n",
      "engine_type      34686 non-null object\n",
      "gear_type        34686 non-null object\n",
      "transmission     34686 non-null object\n",
      "power            34686 non-null int64\n",
      "power_kvt        34686 non-null int64\n",
      "acceleration     32741 non-null float64\n",
      "clearance_min    33735 non-null float64\n",
      "fuel_rate        31210 non-null float64\n",
      "mileage          34686 non-null int64\n",
      "model_name       34686 non-null object\n",
      "name             34686 non-null object\n",
      "vendor           34686 non-null object\n",
      "pts              34685 non-null object\n",
      "wheel            34686 non-null object\n",
      "price            34686 non-null int64\n",
      "sample           34686 non-null object\n",
      "dtypes: float64(3), int64(7), object(14)\n",
      "memory usage: 6.4+ MB\n"
     ]
    }
   ],
   "source": [
    "df_test.info()"
   ]
  },
  {
   "cell_type": "markdown",
   "metadata": {},
   "source": [
    "**Комментарий**: *для дальнейшей обработки объединим тестовый и тренировочный dataframe*"
   ]
  },
  {
   "cell_type": "code",
   "execution_count": 30,
   "metadata": {},
   "outputs": [],
   "source": [
    "all_data = df_test.append(df_train, sort=False).reset_index(drop=True)"
   ]
  },
  {
   "cell_type": "code",
   "execution_count": 31,
   "metadata": {},
   "outputs": [
    {
     "data": {
      "text/html": [
       "<div>\n",
       "<style scoped>\n",
       "    .dataframe tbody tr th:only-of-type {\n",
       "        vertical-align: middle;\n",
       "    }\n",
       "\n",
       "    .dataframe tbody tr th {\n",
       "        vertical-align: top;\n",
       "    }\n",
       "\n",
       "    .dataframe thead th {\n",
       "        text-align: right;\n",
       "    }\n",
       "</style>\n",
       "<table border=\"1\" class=\"dataframe\">\n",
       "  <thead>\n",
       "    <tr style=\"text-align: right;\">\n",
       "      <th></th>\n",
       "      <th>color</th>\n",
       "      <th>year</th>\n",
       "      <th>owner</th>\n",
       "      <th>currency</th>\n",
       "      <th>doors</th>\n",
       "      <th>bodyType</th>\n",
       "      <th>brand</th>\n",
       "      <th>displacement</th>\n",
       "      <th>engine_type</th>\n",
       "      <th>gear_type</th>\n",
       "      <th>transmission</th>\n",
       "      <th>power</th>\n",
       "      <th>power_kvt</th>\n",
       "      <th>acceleration</th>\n",
       "      <th>clearance_min</th>\n",
       "      <th>fuel_rate</th>\n",
       "      <th>mileage</th>\n",
       "      <th>model_name</th>\n",
       "      <th>name</th>\n",
       "      <th>vendor</th>\n",
       "      <th>pts</th>\n",
       "      <th>wheel</th>\n",
       "      <th>price</th>\n",
       "      <th>sample</th>\n",
       "    </tr>\n",
       "  </thead>\n",
       "  <tbody>\n",
       "    <tr>\n",
       "      <td>0</td>\n",
       "      <td>синий</td>\n",
       "      <td>2014</td>\n",
       "      <td>3 или более</td>\n",
       "      <td>RUB</td>\n",
       "      <td>5</td>\n",
       "      <td>лифтбек</td>\n",
       "      <td>SKODA</td>\n",
       "      <td>1197</td>\n",
       "      <td>GASOLINE</td>\n",
       "      <td>FORWARD_CONTROL</td>\n",
       "      <td>ROBOT</td>\n",
       "      <td>105</td>\n",
       "      <td>77</td>\n",
       "      <td>10.5</td>\n",
       "      <td>155.0</td>\n",
       "      <td>5.0</td>\n",
       "      <td>74000</td>\n",
       "      <td>OCTAVIA</td>\n",
       "      <td>1.2 AMT (105 л.с.)</td>\n",
       "      <td>EUROPEAN</td>\n",
       "      <td>Оригинал</td>\n",
       "      <td>Левый</td>\n",
       "      <td>0</td>\n",
       "      <td>test</td>\n",
       "    </tr>\n",
       "    <tr>\n",
       "      <td>1</td>\n",
       "      <td>чёрный</td>\n",
       "      <td>2017</td>\n",
       "      <td>1 владелец</td>\n",
       "      <td>RUB</td>\n",
       "      <td>5</td>\n",
       "      <td>лифтбек</td>\n",
       "      <td>SKODA</td>\n",
       "      <td>1598</td>\n",
       "      <td>GASOLINE</td>\n",
       "      <td>FORWARD_CONTROL</td>\n",
       "      <td>MECHANICAL</td>\n",
       "      <td>110</td>\n",
       "      <td>81</td>\n",
       "      <td>10.8</td>\n",
       "      <td>156.0</td>\n",
       "      <td>6.4</td>\n",
       "      <td>60563</td>\n",
       "      <td>OCTAVIA</td>\n",
       "      <td>1.6 MT (110 л.с.)</td>\n",
       "      <td>EUROPEAN</td>\n",
       "      <td>Оригинал</td>\n",
       "      <td>Левый</td>\n",
       "      <td>0</td>\n",
       "      <td>test</td>\n",
       "    </tr>\n",
       "  </tbody>\n",
       "</table>\n",
       "</div>"
      ],
      "text/plain": [
       "    color  year        owner currency  doors bodyType  brand  displacement  \\\n",
       "0   синий  2014  3 или более      RUB      5  лифтбек  SKODA          1197   \n",
       "1  чёрный  2017   1 владелец      RUB      5  лифтбек  SKODA          1598   \n",
       "\n",
       "  engine_type        gear_type transmission  power  power_kvt  acceleration  \\\n",
       "0    GASOLINE  FORWARD_CONTROL        ROBOT    105         77          10.5   \n",
       "1    GASOLINE  FORWARD_CONTROL   MECHANICAL    110         81          10.8   \n",
       "\n",
       "   clearance_min  fuel_rate  mileage model_name                name    vendor  \\\n",
       "0          155.0        5.0    74000    OCTAVIA  1.2 AMT (105 л.с.)  EUROPEAN   \n",
       "1          156.0        6.4    60563    OCTAVIA   1.6 MT (110 л.с.)  EUROPEAN   \n",
       "\n",
       "        pts  wheel  price sample  \n",
       "0  Оригинал  Левый      0   test  \n",
       "1  Оригинал  Левый      0   test  "
      ]
     },
     "execution_count": 31,
     "metadata": {},
     "output_type": "execute_result"
    }
   ],
   "source": [
    "all_data.head(2)"
   ]
  },
  {
   "cell_type": "code",
   "execution_count": 32,
   "metadata": {},
   "outputs": [
    {
     "name": "stdout",
     "output_type": "stream",
     "text": [
      "<class 'pandas.core.frame.DataFrame'>\n",
      "RangeIndex: 53149 entries, 0 to 53148\n",
      "Data columns (total 24 columns):\n",
      "color            53149 non-null object\n",
      "year             53149 non-null int64\n",
      "owner            53149 non-null object\n",
      "currency         53149 non-null object\n",
      "doors            53149 non-null int64\n",
      "bodyType         53149 non-null object\n",
      "brand            53149 non-null object\n",
      "displacement     53149 non-null int64\n",
      "engine_type      53149 non-null object\n",
      "gear_type        53149 non-null object\n",
      "transmission     53149 non-null object\n",
      "power            53149 non-null int64\n",
      "power_kvt        53149 non-null int64\n",
      "acceleration     51204 non-null float64\n",
      "clearance_min    52198 non-null float64\n",
      "fuel_rate        49673 non-null float64\n",
      "mileage          53149 non-null int64\n",
      "model_name       53149 non-null object\n",
      "name             53149 non-null object\n",
      "vendor           53149 non-null object\n",
      "pts              53148 non-null object\n",
      "wheel            53149 non-null object\n",
      "price            53149 non-null int64\n",
      "sample           53149 non-null object\n",
      "dtypes: float64(3), int64(7), object(14)\n",
      "memory usage: 9.7+ MB\n"
     ]
    }
   ],
   "source": [
    "all_data.info()"
   ]
  },
  {
   "cell_type": "markdown",
   "metadata": {},
   "source": [
    "### 8 Первичный анализ, обработка данных"
   ]
  },
  {
   "cell_type": "markdown",
   "metadata": {},
   "source": [
    "**Этапы анализа:** \n",
    "* Определить количество нулевых значений, уникальных значений;\n",
    "* Построить диаграмму распределения признака;\n",
    "* Принять решение по обработке нулевых значений. Варианты решения:\n",
    "    1. заполнить, опираясь на данные из других столбцов;\n",
    "    2. удалить нулевые значения;\n",
    "    3. проставить среднее значение (для числовые столбцов);\n",
    "    4. проставить рандомный признак (для текстовых столбцов);\n",
    "    5. ничего не делать.\n",
    "* Выявить выбросы и провести их обработку.\n",
    "\n",
    "\n",
    "**При обработке dataframe необходимо учесть особенность сбора данных с сайта auto.ru, при которой в случае NaN проставлялся 0.**"
   ]
  },
  {
   "cell_type": "markdown",
   "metadata": {},
   "source": [
    "### 8.1 Color"
   ]
  },
  {
   "cell_type": "code",
   "execution_count": 33,
   "metadata": {
    "scrolled": true
   },
   "outputs": [
    {
     "name": "stdout",
     "output_type": "stream",
     "text": [
      "Количество уникальных значений в столбце: 32\n",
      "Перечень уникальных значений: ['синий' 'чёрный' 'серый' 'коричневый' 'белый' 'пурпурный' 'бежевый'\n",
      " 'серебристый' 'красный' 'зелёный' 'жёлтый' 'голубой' 'оранжевый'\n",
      " 'фиолетовый' 'золотистый' 'розовый' '97948F' '040001' 'FAFBFB' 'DEA522'\n",
      " 'CACECB' '007F00' '200204' 'EE1D19' 'C49648' '0000CC' 'FFD600' '660099'\n",
      " '22A0F8' 'FF8649' '4A2197' 'FFC0CB']\n",
      "Длина столбца: 53149\n",
      "Количество значений \"NaN\": 0\n",
      "Количество значений, встретившихся в столбце более 10 раз: 31\n"
     ]
    }
   ],
   "source": [
    "description_column(all_data['color'])"
   ]
  },
  {
   "cell_type": "code",
   "execution_count": 34,
   "metadata": {},
   "outputs": [],
   "source": [
    "# для преобразования данных не использую оттенки цветов\n",
    "# например, темно-синий записан как синий\n",
    "all_data['color'] = np.where(all_data['color']=='040001','чёрный', \n",
    "              np.where(all_data['color']=='CACECB','зелёный',  \n",
    "              np.where(all_data['color']=='FAFBFB','голубой', \n",
    "              np.where(all_data['color']=='4A2197','фиолетовый',  \n",
    "              np.where(all_data['color']=='97948F','серый',  \n",
    "              np.where(all_data['color']=='0000CC','синий', \n",
    "              np.where(all_data['color']=='FFD600','жёлтый', \n",
    "              np.where(all_data['color']=='C49648','золотистый', \n",
    "              np.where(all_data['color']=='EE1D19','красный',  \n",
    "              np.where(all_data['color']=='200204','черный',  \n",
    "              np.where(all_data['color']=='007F00','зелёный', \n",
    "              np.where(all_data['color']=='22A0F8','голубой', \n",
    "              np.where(all_data['color']=='660099','фиолетовый',  \n",
    "              np.where(all_data['color']=='FF8649','оранжевый', \n",
    "              np.where(all_data['color']=='DEA522','золотистый',\n",
    "              np.where(all_data['color']=='FFC0CB','розовый', all_data['color']))))))))))))))))"
   ]
  },
  {
   "cell_type": "code",
   "execution_count": 35,
   "metadata": {},
   "outputs": [
    {
     "data": {
      "image/png": "[encoded data removed]",
      "text/plain": [
       "<Figure size 1296x360 with 1 Axes>"
      ]
     },
     "metadata": {},
     "output_type": "display_data"
    }
   ],
   "source": [
    "share_count(all_data['color'], 'Цвета машин', 'Количество', 'ТОП-10 цветов машин')"
   ]
  },
  {
   "cell_type": "code",
   "execution_count": 36,
   "metadata": {},
   "outputs": [
    {
     "name": "stdout",
     "output_type": "stream",
     "text": [
      "Количество строк, где есть нули: 0\n"
     ]
    }
   ],
   "source": [
    "print('Количество строк, где есть нули:', len(all_data[all_data['color']==0]))"
   ]
  },
  {
   "cell_type": "code",
   "execution_count": 37,
   "metadata": {},
   "outputs": [],
   "source": [
    "# категориальные переменные в число\n",
    "for colum in ['color']:\n",
    "    all_data[colum] = all_data[colum].astype('category').cat.codes\n",
    "    \n",
    "all_data['color'] = all_data['color'].astype(int)"
   ]
  },
  {
   "cell_type": "markdown",
   "metadata": {},
   "source": [
    "**Комментарий**: *проведена обработка столбца, заменены названия цветов, а категориальные переменные на числовые. Согласно диаграмме самыми распространенными цветами являются черный и серый.*"
   ]
  },
  {
   "cell_type": "markdown",
   "metadata": {},
   "source": [
    "### 8.2 Year"
   ]
  },
  {
   "cell_type": "code",
   "execution_count": 38,
   "metadata": {
    "scrolled": true
   },
   "outputs": [
    {
     "name": "stdout",
     "output_type": "stream",
     "text": [
      "Длина столбца: 53149\n",
      "Количество значений \"NaN\": 0\n",
      "Минимальное значение: 1904\n",
      "Максимальное значение: 2021\n"
     ]
    }
   ],
   "source": [
    "description_column_count(all_data['year'])"
   ]
  },
  {
   "cell_type": "code",
   "execution_count": 39,
   "metadata": {},
   "outputs": [
    {
     "data": {
      "image/png": "[encoded data removed]",
      "text/plain": [
       "<Figure size 1296x360 with 1 Axes>"
      ]
     },
     "metadata": {},
     "output_type": "display_data"
    }
   ],
   "source": [
    "share_count(all_data['year'], 'Год', 'Количество', 'Распределение машин по году выпуска')"
   ]
  },
  {
   "cell_type": "code",
   "execution_count": 40,
   "metadata": {
    "scrolled": true
   },
   "outputs": [
    {
     "name": "stdout",
     "output_type": "stream",
     "text": [
      "Количество, где есть нули: 0\n"
     ]
    }
   ],
   "source": [
    "print('Количество, где есть нули:', len(all_data[all_data['year']==0]))"
   ]
  },
  {
   "cell_type": "markdown",
   "metadata": {},
   "source": [
    "**Комментарий**: *обработка не требуется. Согласно диаграмме больше всего продается машин 2021 года выпуска.*"
   ]
  },
  {
   "cell_type": "markdown",
   "metadata": {},
   "source": [
    "### 8.3 Owner"
   ]
  },
  {
   "cell_type": "code",
   "execution_count": 41,
   "metadata": {
    "scrolled": true
   },
   "outputs": [
    {
     "name": "stdout",
     "output_type": "stream",
     "text": [
      "Количество уникальных значений в столбце: 8\n",
      "Перечень уникальных значений: ['3 или более' '1\\xa0владелец' '2\\xa0владельца' 4 2 1 0 3]\n",
      "Длина столбца: 53149\n",
      "Количество значений \"NaN\": 0\n",
      "Количество значений, встретившихся в столбце более 10 раз: 8\n"
     ]
    }
   ],
   "source": [
    "description_column(all_data['owner'])"
   ]
  },
  {
   "cell_type": "code",
   "execution_count": 42,
   "metadata": {},
   "outputs": [],
   "source": [
    "# заменим текстовые значения на числовые\n",
    "all_data['owner'] = np.where(all_data['owner']=='3 или более', 3,\n",
    "                    np.where(all_data['owner']=='1\\xa0владелец', 1,\n",
    "                    np.where(all_data['owner']=='2\\xa0владельца', 2, all_data['owner'])))\n",
    "all_data['owner'] = all_data['owner'].astype(int)"
   ]
  },
  {
   "cell_type": "code",
   "execution_count": 43,
   "metadata": {
    "scrolled": true
   },
   "outputs": [
    {
     "name": "stdout",
     "output_type": "stream",
     "text": [
      "Количество, где есть нули: 4344\n"
     ]
    }
   ],
   "source": [
    "print('Количество, где есть нули:', len(all_data[all_data['owner']==0]))"
   ]
  },
  {
   "cell_type": "markdown",
   "metadata": {},
   "source": [
    "Т.к. считается количество владельцев, то наличие нулей возможно (не было владельцев)."
   ]
  },
  {
   "cell_type": "code",
   "execution_count": 44,
   "metadata": {
    "scrolled": true
   },
   "outputs": [
    {
     "data": {
      "image/png": "[encoded data removed]",
      "text/plain": [
       "<Figure size 1296x360 with 1 Axes>"
      ]
     },
     "metadata": {},
     "output_type": "display_data"
    }
   ],
   "source": [
    "hist(all_data['owner'], 7, 1, \"Частота встречаемости\", \"Количество владельцев\", \"Распределение машин по количеству владельцев\")"
   ]
  },
  {
   "cell_type": "code",
   "execution_count": 45,
   "metadata": {
    "scrolled": true
   },
   "outputs": [
    {
     "data": {
      "image/png": "[encoded data removed]",
      "text/plain": [
       "<Figure size 1296x360 with 1 Axes>"
      ]
     },
     "metadata": {},
     "output_type": "display_data"
    }
   ],
   "source": [
    "one_boxplot(all_data['owner'], 'Статистики по столбцу \"owner\"', 'Количество владельцев')"
   ]
  },
  {
   "cell_type": "markdown",
   "metadata": {},
   "source": [
    "**Комментарий**: *проведена обработка, заменены текстовые значения кол-ва владельцев машин на числовые. Частотная диаграмма показала, что большинство машин, выставляемых на продажу имели от 1 до 4-х владельцев, в среднем 2-х.*"
   ]
  },
  {
   "cell_type": "markdown",
   "metadata": {},
   "source": [
    "### 8.4 Currency"
   ]
  },
  {
   "cell_type": "code",
   "execution_count": 46,
   "metadata": {
    "scrolled": false
   },
   "outputs": [
    {
     "name": "stdout",
     "output_type": "stream",
     "text": [
      "Количество уникальных значений в столбце: 2\n",
      "Перечень уникальных значений: ['RUB' 'RUR']\n",
      "Длина столбца: 53149\n",
      "Количество значений \"NaN\": 0\n",
      "Количество значений, встретившихся в столбце более 10 раз: 2\n"
     ]
    }
   ],
   "source": [
    "description_column(all_data['currency'])"
   ]
  },
  {
   "cell_type": "code",
   "execution_count": 47,
   "metadata": {},
   "outputs": [
    {
     "name": "stdout",
     "output_type": "stream",
     "text": [
      "Количество, где есть нули: 0\n"
     ]
    }
   ],
   "source": [
    "print('Количество, где есть нули:', len(all_data[all_data['currency']==0]))"
   ]
  },
  {
   "cell_type": "code",
   "execution_count": 48,
   "metadata": {},
   "outputs": [],
   "source": [
    "# т.к. с сайта брались данные по цене в рублях, то заполним 499 строк значениями RUB\n",
    "all_data['currency'] = np.where(all_data['currency']==0, 'RUB', all_data['currency'])"
   ]
  },
  {
   "cell_type": "code",
   "execution_count": 49,
   "metadata": {},
   "outputs": [],
   "source": [
    "all_data = all_data.drop(['currency'], axis=1)"
   ]
  },
  {
   "cell_type": "markdown",
   "metadata": {},
   "source": [
    "**Комментарий**: *обработка проведена, 0 заменены на 'RUB'. Позже принято решение удалить столбец, т.к. он не несет полезной информации.*"
   ]
  },
  {
   "cell_type": "markdown",
   "metadata": {},
   "source": [
    "### 8.5 Doors\t"
   ]
  },
  {
   "cell_type": "code",
   "execution_count": 50,
   "metadata": {
    "scrolled": true
   },
   "outputs": [
    {
     "name": "stdout",
     "output_type": "stream",
     "text": [
      "Количество уникальных значений в столбце: 5\n",
      "Перечень уникальных значений: [5 4 2 3 0]\n",
      "Длина столбца: 53149\n",
      "Количество значений \"NaN\": 0\n",
      "Количество значений, встретившихся в столбце более 10 раз: 4\n"
     ]
    }
   ],
   "source": [
    "description_column(all_data['doors'])"
   ]
  },
  {
   "cell_type": "code",
   "execution_count": 51,
   "metadata": {},
   "outputs": [
    {
     "name": "stdout",
     "output_type": "stream",
     "text": [
      "Количество, где есть нули: 1\n"
     ]
    }
   ],
   "source": [
    "print('Количество, где есть нули:', len(all_data[all_data['doors']==0]))"
   ]
  },
  {
   "cell_type": "code",
   "execution_count": 52,
   "metadata": {},
   "outputs": [],
   "source": [
    "# вставим вместо 0 среднее кол-во дверей\n",
    "all_data['doors'] = np.where(all_data['doors'] == 0, all_data['doors'].median(), all_data['doors'])"
   ]
  },
  {
   "cell_type": "code",
   "execution_count": 53,
   "metadata": {
    "scrolled": true
   },
   "outputs": [
    {
     "data": {
      "image/png": "[encoded data removed]",
      "text/plain": [
       "<Figure size 1296x360 with 1 Axes>"
      ]
     },
     "metadata": {},
     "output_type": "display_data"
    }
   ],
   "source": [
    "hist(all_data['doors'], 6, 1, \"Частота встречаемости\", \"Количество дверей в машине\", \"Распределение машин по количеству дверей\")"
   ]
  },
  {
   "cell_type": "code",
   "execution_count": 54,
   "metadata": {
    "scrolled": true
   },
   "outputs": [
    {
     "data": {
      "image/png": "[encoded data removed]",
      "text/plain": [
       "<Figure size 1296x360 with 1 Axes>"
      ]
     },
     "metadata": {},
     "output_type": "display_data"
    }
   ],
   "source": [
    "one_boxplot(all_data['doors'], 'Статистики по столбцу \"doors\"', 'Количество дверей')"
   ]
  },
  {
   "cell_type": "markdown",
   "metadata": {},
   "source": [
    "**Комментарий**: *обработка проведена, 0 заменены на средние. Частотная диаграмма показала, что в большинстве машин от 4 до 5 дверей. Есть выброс - 2 двери в машине. Принято решение не удалять.*"
   ]
  },
  {
   "cell_type": "markdown",
   "metadata": {},
   "source": [
    "### 8.6 BodyType"
   ]
  },
  {
   "cell_type": "code",
   "execution_count": 55,
   "metadata": {
    "scrolled": true
   },
   "outputs": [
    {
     "name": "stdout",
     "output_type": "stream",
     "text": [
      "Количество уникальных значений в столбце: 97\n",
      "Перечень уникальных значений: ['лифтбек' 'внедорожник 5 дв.' 'хэтчбек 5 дв.' 'седан' 'компактвэн'\n",
      " 'универсал 5 дв.' 'пикап одинарная кабина' 'хэтчбек 3 дв.' 'купе'\n",
      " 'кабриолет' 'минивэн' 'пикап двойная кабина' 'внедорожник 3 дв.'\n",
      " 'родстер' 'микровэн' 'седан 2 дв.' 'купе-хардтоп' 'фастбек' 'тарга'\n",
      " 'внедорожник открытый' 'лимузин' 'пикап полуторная кабина'\n",
      " 'седан-хардтоп' 'фургон' 'Седан' 'Внедорожник 5 дв.' 'Купе'\n",
      " 'Хэтчбек 3 дв. GTC' 'Лимузин' 'Минивэн' 'Хэтчбек 5 дв.' 'Компактвэн'\n",
      " 'Универсал 5 дв.' 'Седан Gran Coupe' 'Седан Long' 'Лифтбек'\n",
      " 'Кабриолет GranCabrio' 'Минивэн XL' 'Внедорожник 5 дв. Cooper S'\n",
      " 'Пикап Полуторная кабина' 'Фастбек' 'Купе-хардтоп' 'Внедорожник 3 дв.'\n",
      " 'Хэтчбек 3 дв.' 'Внедорожник 5 дв. Prime' 'Минивэн L2'\n",
      " 'Лифтбек Sportback' 'Хэтчбек 5 дв. X-Line' 'Родстер' 'Минивэн Grand'\n",
      " 'Лифтбек Gran Coupe' 'Седан Type-S' 'Пикап Двойная кабина Double Cab'\n",
      " 'Пикап Двойная кабина' 'Минивэн Long' 'Универсал 5 дв. Alltrack'\n",
      " 'Пикап Двойная кабина Crew Cab' 'Внедорожник 5 дв. JCW'\n",
      " 'Минивэн Extralong' 'Хэтчбек 5 дв. Sportback' 'Универсал 5 дв. SW Cross'\n",
      " 'Седан Sport' 'Внедорожник 5 дв. Long' 'Минивэн L3'\n",
      " 'Внедорожник 3 дв. Urban' 'Внедорожник 3 дв. 90' 'Универсал 5 дв. JCW'\n",
      " 'Седан SRT' 'Лифтбек Gran Turismo' 'Минивэн SWB' 'Компактвэн Maxi'\n",
      " 'Внедорожник 5 дв. ESV' 'Компактвэн Gran Tourer' 'Компактвэн Grand'\n",
      " 'Пикап Двойная кабина CrewMax' 'Минивэн LWB' 'Седан 2 дв.'\n",
      " 'Хэтчбек 5 дв. XV' 'Минивэн Spada' 'Хэтчбек 5 дв. Stepway' 'Минивэн L'\n",
      " 'Седан SWB' 'Универсал 5 дв. Country Tourer' 'Фургон' 'Компактвэн SWB'\n",
      " 'Минивэн L1' 'Компактвэн Scout' 'Компактвэн Freetrack'\n",
      " 'Хэтчбек 3 дв. Cooper S' 'Хэтчбек 3 дв. JCW' 'Внедорожник открытый'\n",
      " 'Хэтчбек 5 дв. Sport' 'Универсал 5 дв. Cross' 'Универсал 5 дв. SW'\n",
      " 'Пикап Двойная кабина Super Crew' 'Внедорожник 5 дв. Grand'\n",
      " 'Внедорожник 3 дв. Bronto']\n",
      "Длина столбца: 53149\n",
      "Количество значений \"NaN\": 0\n",
      "Количество значений, встретившихся в столбце более 10 раз: 31\n"
     ]
    }
   ],
   "source": [
    "description_column(all_data['bodyType'])"
   ]
  },
  {
   "cell_type": "code",
   "execution_count": 56,
   "metadata": {},
   "outputs": [],
   "source": [
    "# замена на строчные буквы\n",
    "all_data['bodyType'] = all_data['bodyType'].apply(lambda x: x.lower())"
   ]
  },
  {
   "cell_type": "code",
   "execution_count": 57,
   "metadata": {},
   "outputs": [
    {
     "name": "stdout",
     "output_type": "stream",
     "text": [
      "Количество, где есть нули: 0\n"
     ]
    }
   ],
   "source": [
    "print('Количество, где есть нули:', len(all_data[all_data['bodyType']==0]))"
   ]
  },
  {
   "cell_type": "code",
   "execution_count": 58,
   "metadata": {},
   "outputs": [
    {
     "data": {
      "image/png": "[encoded data removed]",
      "text/plain": [
       "<Figure size 1296x360 with 1 Axes>"
      ]
     },
     "metadata": {},
     "output_type": "display_data"
    }
   ],
   "source": [
    "share(all_data['bodyType'], 'Тип машины', 'Доля, %', 'ТОП-10 типов машин')"
   ]
  },
  {
   "cell_type": "code",
   "execution_count": 59,
   "metadata": {},
   "outputs": [],
   "source": [
    "# категориальные переменные в число\n",
    "for colum in ['bodyType']:\n",
    "    all_data[colum] = all_data[colum].astype('category').cat.codes"
   ]
  },
  {
   "cell_type": "markdown",
   "metadata": {},
   "source": [
    "**Комментарий**: *обработка проведена, в названиях заменены заглавные буквы на строчные, категориальные переменные переведены в числовые. Согласно диаграмме чаще всего продаются внедорожники или седаны.*"
   ]
  },
  {
   "cell_type": "markdown",
   "metadata": {},
   "source": [
    "### 8.7 Brand"
   ]
  },
  {
   "cell_type": "code",
   "execution_count": 60,
   "metadata": {
    "scrolled": false
   },
   "outputs": [
    {
     "name": "stdout",
     "output_type": "stream",
     "text": [
      "Количество уникальных значений в столбце: 66\n",
      "Перечень уникальных значений: ['SKODA' 'AUDI' 'HONDA' 'VOLVO' 'BMW' 'NISSAN' 'INFINITI' 'MERCEDES'\n",
      " 'TOYOTA' 'LEXUS' 'VOLKSWAGEN' 'MITSUBISHI' 'VAZ' 'RENAULT' 'LAMBORGHINI'\n",
      " 'OPEL' 'ZIL' 'KIA' 'PORSCHE' 'CITROEN' 'MASERATI' 'LIFAN' 'HYUNDAI'\n",
      " 'PEUGEOT' 'JAGUAR' 'CHRYSLER' 'BENTLEY' 'MAZDA' 'GENESIS' 'CHEVROLET'\n",
      " 'SUZUKI' 'TESLA' 'CHERY' 'LAND_ROVER' 'MINI' 'GAZ' 'DODGE' 'FORD' 'HAVAL'\n",
      " 'SUBARU' 'JEEP' 'FIAT' 'UAZ' 'IRAN_KHODRO' 'DERWAYS' 'DAEWOO' 'GEELY'\n",
      " 'SSANG_YONG' 'GREAT_WALL' 'ALFA_ROMEO' 'HUMMER' 'FERRARI' 'TAGAZ' 'ACURA'\n",
      " 'CADILLAC' 'ZOTYE' 'MOSCVICH' 'FOTON' 'ZAZ' 'ROLLS_ROYCE' 'CHANGAN'\n",
      " 'SEAT' 'SMART' 'CHERYEXEED' 'ROVER' 'DATSUN']\n",
      "Длина столбца: 53149\n",
      "Количество значений \"NaN\": 0\n",
      "Количество значений, встретившихся в столбце более 10 раз: 41\n"
     ]
    }
   ],
   "source": [
    "description_column(all_data['brand'])"
   ]
  },
  {
   "cell_type": "code",
   "execution_count": 61,
   "metadata": {},
   "outputs": [],
   "source": [
    "# замена на строчные буквы\n",
    "all_data['brand'] = all_data['brand'].apply(lambda x: x.lower())"
   ]
  },
  {
   "cell_type": "code",
   "execution_count": 62,
   "metadata": {},
   "outputs": [
    {
     "name": "stdout",
     "output_type": "stream",
     "text": [
      "Количество, где есть нули: 0\n"
     ]
    }
   ],
   "source": [
    "print('Количество, где есть нули:', len(all_data[all_data['brand']==0]))"
   ]
  },
  {
   "cell_type": "code",
   "execution_count": 63,
   "metadata": {},
   "outputs": [
    {
     "data": {
      "image/png": "[encoded data removed]",
      "text/plain": [
       "<Figure size 1296x360 with 1 Axes>"
      ]
     },
     "metadata": {},
     "output_type": "display_data"
    }
   ],
   "source": [
    "share(all_data['brand'], 'Бренд', 'Доля, %', 'ТОП-10 брендов машин')"
   ]
  },
  {
   "cell_type": "code",
   "execution_count": 64,
   "metadata": {},
   "outputs": [],
   "source": [
    "# категориальные переменные в число\n",
    "for colum in ['brand']:\n",
    "    all_data[colum] = all_data[colum].astype('category').cat.codes"
   ]
  },
  {
   "cell_type": "markdown",
   "metadata": {},
   "source": [
    "**Комментарий**: *обработка проведена, категориальные переменные заменены на числовые. Согласно диаграмме чаще всего продают машины марки volkswagen, mersedes, bmw.*"
   ]
  },
  {
   "cell_type": "markdown",
   "metadata": {},
   "source": [
    "### 8.8 Displacement"
   ]
  },
  {
   "cell_type": "code",
   "execution_count": 65,
   "metadata": {
    "scrolled": false
   },
   "outputs": [
    {
     "name": "stdout",
     "output_type": "stream",
     "text": [
      "Длина столбца: 53149\n",
      "Количество значений \"NaN\": 0\n",
      "Минимальное значение: 0\n",
      "Максимальное значение: 7680\n"
     ]
    }
   ],
   "source": [
    "description_column_count(all_data['displacement'])"
   ]
  },
  {
   "cell_type": "code",
   "execution_count": 66,
   "metadata": {
    "scrolled": true
   },
   "outputs": [
    {
     "name": "stdout",
     "output_type": "stream",
     "text": [
      "Количество, где есть нули: 65\n"
     ]
    }
   ],
   "source": [
    "print('Количество, где есть нули:', len(all_data[all_data['displacement']==0]))"
   ]
  },
  {
   "cell_type": "code",
   "execution_count": 67,
   "metadata": {},
   "outputs": [],
   "source": [
    "# заменим нули на среднее\n",
    "all_data['displacement'] = np.where(all_data['displacement']==0, all_data['displacement'].median(), all_data['displacement'])"
   ]
  },
  {
   "cell_type": "code",
   "execution_count": 68,
   "metadata": {
    "scrolled": true
   },
   "outputs": [
    {
     "data": {
      "image/png": "[encoded data removed]",
      "text/plain": [
       "<Figure size 1296x360 with 1 Axes>"
      ]
     },
     "metadata": {},
     "output_type": "display_data"
    }
   ],
   "source": [
    "hist(all_data['displacement'], 8000, 500, \"Частота встречаемости\", \"Объем двигателя\",\"Распределение машин по объему двигателя\")"
   ]
  },
  {
   "cell_type": "code",
   "execution_count": 69,
   "metadata": {},
   "outputs": [
    {
     "data": {
      "image/png": "[encoded data removed]",
      "text/plain": [
       "<Figure size 1296x360 with 1 Axes>"
      ]
     },
     "metadata": {},
     "output_type": "display_data"
    }
   ],
   "source": [
    "one_boxplot(all_data['displacement'], 'Статистики по столбцу \"displacement\"', 'Объем двигателя')"
   ]
  },
  {
   "cell_type": "code",
   "execution_count": 70,
   "metadata": {},
   "outputs": [
    {
     "name": "stdout",
     "output_type": "stream",
     "text": [
      "25-й квартиль: 1598.0, 75-й квартиль: 2967.0, IQR: 1369.0, границы выбросов: [-455.5,5020.5].\n"
     ]
    }
   ],
   "source": [
    "# определим границы выбросов\n",
    "outliers(all_data['displacement'])"
   ]
  },
  {
   "cell_type": "code",
   "execution_count": 71,
   "metadata": {},
   "outputs": [],
   "source": [
    "# проведем очистку данных\n",
    "all_data=all_data.loc[all_data['displacement'].between(delete_outliers(all_data['displacement'])[0],\n",
    "                                                      delete_outliers(all_data['displacement'])[1])]"
   ]
  },
  {
   "cell_type": "markdown",
   "metadata": {},
   "source": [
    "**Комментарий**: *проведена обработка столбца, удалены выбросы. Согласно диаграмме распределения чаще всего продаются машины с объемом двигателя от 1500 до 2000.*"
   ]
  },
  {
   "cell_type": "markdown",
   "metadata": {},
   "source": [
    "### 8.9 Engine_type\t"
   ]
  },
  {
   "cell_type": "code",
   "execution_count": 72,
   "metadata": {},
   "outputs": [
    {
     "name": "stdout",
     "output_type": "stream",
     "text": [
      "Количество уникальных значений в столбце: 5\n",
      "Перечень уникальных значений: ['GASOLINE' 'DIESEL' 'HYBRID' 'ELECTRO' 'LPG']\n",
      "Длина столбца: 51018\n",
      "Количество значений \"NaN\": 0\n",
      "Количество значений, встретившихся в столбце более 10 раз: 4\n"
     ]
    }
   ],
   "source": [
    "description_column(all_data['engine_type'])"
   ]
  },
  {
   "cell_type": "code",
   "execution_count": 73,
   "metadata": {},
   "outputs": [],
   "source": [
    "# замена на строчные буквы\n",
    "all_data['engine_type'] = all_data['engine_type'].apply(lambda x: x.lower())"
   ]
  },
  {
   "cell_type": "code",
   "execution_count": 74,
   "metadata": {},
   "outputs": [
    {
     "name": "stdout",
     "output_type": "stream",
     "text": [
      "Количество, где есть нули: 0\n"
     ]
    }
   ],
   "source": [
    "print('Количество, где есть нули:', len(all_data[all_data['engine_type']==0]))"
   ]
  },
  {
   "cell_type": "code",
   "execution_count": 75,
   "metadata": {},
   "outputs": [
    {
     "data": {
      "image/png": "[encoded data removed]",
      "text/plain": [
       "<Figure size 1296x360 with 1 Axes>"
      ]
     },
     "metadata": {},
     "output_type": "display_data"
    }
   ],
   "source": [
    "share(all_data['engine_type'], 'Тип двигателя', 'Доля, %', 'ТОП типов двигателей')"
   ]
  },
  {
   "cell_type": "code",
   "execution_count": 76,
   "metadata": {},
   "outputs": [],
   "source": [
    "# категориальные переменные в число\n",
    "for colum in ['engine_type']:\n",
    "    all_data[colum] = all_data[colum].astype('category').cat.codes"
   ]
  },
  {
   "cell_type": "markdown",
   "metadata": {},
   "source": [
    "**Комментарий**: *проведена обработка данных, категориальные переменные заменены на числовые. Согласно диаграмме чаще всего продаются машины с типов двигателя: gasoline, diesel.*"
   ]
  },
  {
   "cell_type": "markdown",
   "metadata": {},
   "source": [
    "### 8.10 Gear_type\t"
   ]
  },
  {
   "cell_type": "code",
   "execution_count": 77,
   "metadata": {},
   "outputs": [
    {
     "name": "stdout",
     "output_type": "stream",
     "text": [
      "Количество уникальных значений в столбце: 3\n",
      "Перечень уникальных значений: ['FORWARD_CONTROL' 'ALL_WHEEL_DRIVE' 'REAR_DRIVE']\n",
      "Длина столбца: 51018\n",
      "Количество значений \"NaN\": 0\n",
      "Количество значений, встретившихся в столбце более 10 раз: 3\n"
     ]
    }
   ],
   "source": [
    "description_column(all_data['gear_type'])"
   ]
  },
  {
   "cell_type": "code",
   "execution_count": 78,
   "metadata": {},
   "outputs": [
    {
     "name": "stdout",
     "output_type": "stream",
     "text": [
      "Количество, где есть нули: 0\n"
     ]
    }
   ],
   "source": [
    "print('Количество, где есть нули:', len(all_data[all_data['gear_type']==0]))"
   ]
  },
  {
   "cell_type": "code",
   "execution_count": 79,
   "metadata": {},
   "outputs": [],
   "source": [
    "# замена на строчные буквы\n",
    "all_data['gear_type'] = all_data['gear_type'].apply(lambda x: x.lower())"
   ]
  },
  {
   "cell_type": "code",
   "execution_count": 80,
   "metadata": {},
   "outputs": [
    {
     "data": {
      "image/png": "[encoded data removed]",
      "text/plain": [
       "<Figure size 1296x360 with 1 Axes>"
      ]
     },
     "metadata": {},
     "output_type": "display_data"
    }
   ],
   "source": [
    "share(all_data['gear_type'],\"Коробка передач\", \"Доля, %\", 'ТОП коробок передач ,%')"
   ]
  },
  {
   "cell_type": "code",
   "execution_count": 81,
   "metadata": {},
   "outputs": [],
   "source": [
    "# категориальные переменные в число\n",
    "for colum in ['gear_type']:\n",
    "    all_data[colum] = all_data[colum].astype('category').cat.codes"
   ]
  },
  {
   "cell_type": "markdown",
   "metadata": {},
   "source": [
    "**Комментарий**: *проведена обработка данных, категориальные переменные заменены на числовые. Согласно диаграмме чаще всео встречаются машины с коробками передач forward_control.*"
   ]
  },
  {
   "cell_type": "markdown",
   "metadata": {},
   "source": [
    "### 8.11 Transmission"
   ]
  },
  {
   "cell_type": "code",
   "execution_count": 82,
   "metadata": {
    "scrolled": true
   },
   "outputs": [
    {
     "name": "stdout",
     "output_type": "stream",
     "text": [
      "Количество уникальных значений в столбце: 4\n",
      "Перечень уникальных значений: ['ROBOT' 'MECHANICAL' 'AUTOMATIC' 'VARIATOR']\n",
      "Длина столбца: 51018\n",
      "Количество значений \"NaN\": 0\n",
      "Количество значений, встретившихся в столбце более 10 раз: 4\n"
     ]
    }
   ],
   "source": [
    "description_column(all_data['transmission'])"
   ]
  },
  {
   "cell_type": "code",
   "execution_count": 83,
   "metadata": {},
   "outputs": [
    {
     "name": "stdout",
     "output_type": "stream",
     "text": [
      "Количество, где есть нули: 0\n"
     ]
    }
   ],
   "source": [
    "print('Количество, где есть нули:', len(all_data[all_data['transmission']==0]))"
   ]
  },
  {
   "cell_type": "code",
   "execution_count": 84,
   "metadata": {},
   "outputs": [],
   "source": [
    "# замена на строчные буквы\n",
    "all_data['transmission'] = all_data['transmission'].apply(lambda x: x.lower())"
   ]
  },
  {
   "cell_type": "code",
   "execution_count": 85,
   "metadata": {},
   "outputs": [
    {
     "data": {
      "image/png": "[encoded data removed]",
      "text/plain": [
       "<Figure size 1296x360 with 1 Axes>"
      ]
     },
     "metadata": {},
     "output_type": "display_data"
    }
   ],
   "source": [
    "share(all_data['transmission'],\"Трансмиссия\", \"Доля, %\", 'ТОП трансмиссий ,%')"
   ]
  },
  {
   "cell_type": "code",
   "execution_count": 86,
   "metadata": {},
   "outputs": [],
   "source": [
    "# категориальные переменные в число\n",
    "for colum in ['transmission']:\n",
    "    all_data[colum] = all_data[colum].astype('category').cat.codes"
   ]
  },
  {
   "cell_type": "markdown",
   "metadata": {},
   "source": [
    "**Комментарий**: *обработка проведена, категориальные переменные заменены на числовые. Согласно диаграмме больше всего продают машин с автоматической трансмиссией.*"
   ]
  },
  {
   "cell_type": "markdown",
   "metadata": {},
   "source": [
    "### 8.12 Power"
   ]
  },
  {
   "cell_type": "code",
   "execution_count": 87,
   "metadata": {
    "scrolled": true
   },
   "outputs": [
    {
     "name": "stdout",
     "output_type": "stream",
     "text": [
      "Длина столбца: 51018\n",
      "Количество значений \"NaN\": 0\n",
      "Минимальное значение: 27\n",
      "Максимальное значение: 762\n"
     ]
    }
   ],
   "source": [
    "description_column_count(all_data['power'])"
   ]
  },
  {
   "cell_type": "code",
   "execution_count": 88,
   "metadata": {},
   "outputs": [
    {
     "name": "stdout",
     "output_type": "stream",
     "text": [
      "Количество, где есть нули: 0\n"
     ]
    }
   ],
   "source": [
    "print('Количество, где есть нули:', len(all_data[all_data['power']==0]))"
   ]
  },
  {
   "cell_type": "code",
   "execution_count": 89,
   "metadata": {},
   "outputs": [
    {
     "data": {
      "image/png": "[encoded data removed]",
      "text/plain": [
       "<Figure size 1296x360 with 1 Axes>"
      ]
     },
     "metadata": {},
     "output_type": "display_data"
    }
   ],
   "source": [
    "hist(all_data['power'], 800, 50, \"Частота встречаемости\", \"Сила двигателя\", \"Распределение машин по силе двигателя\")"
   ]
  },
  {
   "cell_type": "code",
   "execution_count": 90,
   "metadata": {
    "scrolled": true
   },
   "outputs": [
    {
     "data": {
      "image/png": "[encoded data removed]",
      "text/plain": [
       "<Figure size 1296x360 with 1 Axes>"
      ]
     },
     "metadata": {},
     "output_type": "display_data"
    }
   ],
   "source": [
    "one_boxplot(all_data['power'], 'Статистики по столбцу \"power\"', 'Сила двигателя')"
   ]
  },
  {
   "cell_type": "code",
   "execution_count": 91,
   "metadata": {},
   "outputs": [
    {
     "name": "stdout",
     "output_type": "stream",
     "text": [
      "25-й квартиль: 128.0, 75-й квартиль: 215.0, IQR: 87.0, границы выбросов: [-2.5,345.5].\n"
     ]
    }
   ],
   "source": [
    "outliers(all_data['power'])"
   ]
  },
  {
   "cell_type": "code",
   "execution_count": 92,
   "metadata": {},
   "outputs": [],
   "source": [
    "all_data=all_data.loc[all_data['power'].between(delete_outliers(all_data['power'])[0],\n",
    "                                                      delete_outliers(all_data['power'])[1])]"
   ]
  },
  {
   "cell_type": "markdown",
   "metadata": {},
   "source": [
    "**Комментарий**: *обработка проведена, удалены выбросы. Согласно диаграмме распределения признака больше всего распространены машины с милой двигателя от 150 до 200.*"
   ]
  },
  {
   "cell_type": "markdown",
   "metadata": {},
   "source": [
    "### 8.13 Power_kvt"
   ]
  },
  {
   "cell_type": "code",
   "execution_count": 93,
   "metadata": {
    "scrolled": false
   },
   "outputs": [
    {
     "name": "stdout",
     "output_type": "stream",
     "text": [
      "Длина столбца: 48682\n",
      "Количество значений \"NaN\": 0\n",
      "Минимальное значение: 20\n",
      "Максимальное значение: 280\n"
     ]
    }
   ],
   "source": [
    "description_column_count(all_data['power_kvt'])"
   ]
  },
  {
   "cell_type": "code",
   "execution_count": 94,
   "metadata": {},
   "outputs": [
    {
     "name": "stdout",
     "output_type": "stream",
     "text": [
      "Количество, где есть нули: 0\n"
     ]
    }
   ],
   "source": [
    "print('Количество, где есть нули:', len(all_data[all_data['power_kvt']==0]))"
   ]
  },
  {
   "cell_type": "code",
   "execution_count": 95,
   "metadata": {},
   "outputs": [
    {
     "data": {
      "image/png": "[encoded data removed]",
      "text/plain": [
       "<Figure size 1296x360 with 1 Axes>"
      ]
     },
     "metadata": {},
     "output_type": "display_data"
    }
   ],
   "source": [
    "hist(all_data['power_kvt'], 300, 10, \"Частота встречаемости\", \"Сила kvt двигателя\", \"Распределение машин по силе kvt двигателя\")"
   ]
  },
  {
   "cell_type": "code",
   "execution_count": 96,
   "metadata": {},
   "outputs": [
    {
     "data": {
      "image/png": "[encoded data removed]",
      "text/plain": [
       "<Figure size 1296x360 with 1 Axes>"
      ]
     },
     "metadata": {},
     "output_type": "display_data"
    }
   ],
   "source": [
    "one_boxplot(all_data['power_kvt'], 'Статистики по столбцу \"power_kvt\"', 'Сила kvt двигателя')"
   ]
  },
  {
   "cell_type": "code",
   "execution_count": 97,
   "metadata": {
    "scrolled": true
   },
   "outputs": [
    {
     "name": "stdout",
     "output_type": "stream",
     "text": [
      "25-й квартиль: 92.0, 75-й квартиль: 149.0, IQR: 57.0, границы выбросов: [6.5,234.5].\n"
     ]
    }
   ],
   "source": [
    "outliers(all_data['power_kvt'])"
   ]
  },
  {
   "cell_type": "code",
   "execution_count": 98,
   "metadata": {},
   "outputs": [],
   "source": [
    "all_data=all_data.loc[all_data['power_kvt'].between(delete_outliers(all_data['power_kvt'])[0],\n",
    "                                                      delete_outliers(all_data['power_kvt'])[1])]"
   ]
  },
  {
   "cell_type": "markdown",
   "metadata": {},
   "source": [
    "**Комментарий**: *обработка проведена, удалены выбросы. Согласно диаграмме наиболее распространены машины с силой kvt от 100  до 150.*"
   ]
  },
  {
   "cell_type": "markdown",
   "metadata": {},
   "source": [
    "### 8.14 Acceleration"
   ]
  },
  {
   "cell_type": "code",
   "execution_count": 99,
   "metadata": {
    "scrolled": true
   },
   "outputs": [
    {
     "name": "stdout",
     "output_type": "stream",
     "text": [
      "Длина столбца: 46928\n",
      "Количество значений \"NaN\": 1877\n",
      "Минимальное значение: 0.0\n",
      "Максимальное значение: 35.0\n"
     ]
    }
   ],
   "source": [
    "description_column_count(all_data['acceleration'])"
   ]
  },
  {
   "cell_type": "code",
   "execution_count": 100,
   "metadata": {
    "scrolled": true
   },
   "outputs": [
    {
     "name": "stdout",
     "output_type": "stream",
     "text": [
      "Количество, где есть нули: 50\n"
     ]
    }
   ],
   "source": [
    "print('Количество, где есть нули:', len(all_data[all_data['acceleration']==0]))"
   ]
  },
  {
   "cell_type": "code",
   "execution_count": 101,
   "metadata": {},
   "outputs": [],
   "source": [
    "# заменим нули на среднее\n",
    "all_data['acceleration'] = np.where(all_data['acceleration']==0, all_data['acceleration'].median(), all_data['acceleration'])"
   ]
  },
  {
   "cell_type": "code",
   "execution_count": 102,
   "metadata": {},
   "outputs": [
    {
     "data": {
      "image/png": "[encoded data removed]",
      "text/plain": [
       "<Figure size 1296x360 with 1 Axes>"
      ]
     },
     "metadata": {},
     "output_type": "display_data"
    }
   ],
   "source": [
    "hist(all_data['acceleration'], 37, 1, \"Частота встречаемости\", \"Ускорение\", \"Распределение машин по силе ускорения\")"
   ]
  },
  {
   "cell_type": "code",
   "execution_count": 103,
   "metadata": {},
   "outputs": [
    {
     "data": {
      "image/png": "[encoded data removed]",
      "text/plain": [
       "<Figure size 1296x360 with 1 Axes>"
      ]
     },
     "metadata": {},
     "output_type": "display_data"
    }
   ],
   "source": [
    "one_boxplot(all_data['acceleration'], 'Статистики по столбцу \"acceleration\"', 'Ускорение')"
   ]
  },
  {
   "cell_type": "code",
   "execution_count": 104,
   "metadata": {},
   "outputs": [
    {
     "name": "stdout",
     "output_type": "stream",
     "text": [
      "25-й квартиль: 8.3, 75-й квартиль: 11.4, IQR: 3.0999999999999996, границы выбросов: [3.6500000000000012,16.05].\n"
     ]
    }
   ],
   "source": [
    "outliers(all_data['acceleration'])"
   ]
  },
  {
   "cell_type": "code",
   "execution_count": 105,
   "metadata": {},
   "outputs": [],
   "source": [
    "all_data=all_data.loc[all_data['acceleration'].between(delete_outliers(all_data['acceleration'])[0],\n",
    "                                                      delete_outliers(all_data['acceleration'])[1])]"
   ]
  },
  {
   "cell_type": "markdown",
   "metadata": {},
   "source": [
    "**Комментарий**: *обработка проведена, удалены выбросы. Согласно диаграмме наиболее распространены машины с силой ускорения от 9 до 10.*"
   ]
  },
  {
   "cell_type": "markdown",
   "metadata": {},
   "source": [
    "### 8.15 Clearance_min"
   ]
  },
  {
   "cell_type": "code",
   "execution_count": 106,
   "metadata": {},
   "outputs": [
    {
     "name": "stdout",
     "output_type": "stream",
     "text": [
      "Длина столбца: 44344\n",
      "Количество значений \"NaN\": 641\n",
      "Минимальное значение: 0.0\n",
      "Максимальное значение: 300.0\n"
     ]
    }
   ],
   "source": [
    "description_column_count(all_data['clearance_min'])"
   ]
  },
  {
   "cell_type": "code",
   "execution_count": 107,
   "metadata": {},
   "outputs": [
    {
     "name": "stdout",
     "output_type": "stream",
     "text": [
      "Количество, где есть нули: 13\n"
     ]
    }
   ],
   "source": [
    "print('Количество, где есть нули:', len(all_data[all_data['clearance_min']==0]))"
   ]
  },
  {
   "cell_type": "code",
   "execution_count": 108,
   "metadata": {},
   "outputs": [],
   "source": [
    "# заменим нули на среднее\n",
    "all_data['clearance_min'] = np.where(all_data['clearance_min']==0, all_data['clearance_min'].median(), \n",
    "                                     all_data['clearance_min'])"
   ]
  },
  {
   "cell_type": "code",
   "execution_count": 109,
   "metadata": {},
   "outputs": [
    {
     "data": {
      "image/png": "[encoded data removed]",
      "text/plain": [
       "<Figure size 1296x360 with 1 Axes>"
      ]
     },
     "metadata": {},
     "output_type": "display_data"
    }
   ],
   "source": [
    "hist(all_data['clearance_min'], 320, 10, \"Частота встречаемости\", \"clearance min\", \"Распределение машин по clearance min\")"
   ]
  },
  {
   "cell_type": "code",
   "execution_count": 110,
   "metadata": {},
   "outputs": [
    {
     "data": {
      "image/png": "[encoded data removed]",
      "text/plain": [
       "<Figure size 1296x360 with 1 Axes>"
      ]
     },
     "metadata": {},
     "output_type": "display_data"
    }
   ],
   "source": [
    "one_boxplot(all_data['clearance_min'], 'Статистики по столбцу \"clearance_min\"', 'clearance min')"
   ]
  },
  {
   "cell_type": "code",
   "execution_count": 111,
   "metadata": {},
   "outputs": [
    {
     "name": "stdout",
     "output_type": "stream",
     "text": [
      "25-й квартиль: 145.0, 75-й квартиль: 191.0, IQR: 46.0, границы выбросов: [76.0,260.0].\n"
     ]
    }
   ],
   "source": [
    "outliers(all_data['clearance_min'])"
   ]
  },
  {
   "cell_type": "code",
   "execution_count": 112,
   "metadata": {},
   "outputs": [],
   "source": [
    "all_data=all_data.loc[all_data['clearance_min'].between(delete_outliers(all_data['clearance_min'])[0],\n",
    "                                                      delete_outliers(all_data['clearance_min'])[1])]"
   ]
  },
  {
   "cell_type": "markdown",
   "metadata": {},
   "source": [
    "**Комментарий**: *проведена обработка, удалены выбросы. Согласно диаграмме наиболее распросранены машины с clearance min от 140 до 150 и 190-200.*"
   ]
  },
  {
   "cell_type": "markdown",
   "metadata": {},
   "source": [
    "### 8.16 Fuel_rate"
   ]
  },
  {
   "cell_type": "code",
   "execution_count": 113,
   "metadata": {
    "scrolled": false
   },
   "outputs": [
    {
     "name": "stdout",
     "output_type": "stream",
     "text": [
      "Длина столбца: 43664\n",
      "Количество значений \"NaN\": 2225\n",
      "Минимальное значение: 0.0\n",
      "Максимальное значение: 19.2\n"
     ]
    }
   ],
   "source": [
    "description_column_count(all_data['fuel_rate'])"
   ]
  },
  {
   "cell_type": "code",
   "execution_count": 114,
   "metadata": {},
   "outputs": [
    {
     "name": "stdout",
     "output_type": "stream",
     "text": [
      "Количество, где есть нули: 1220\n"
     ]
    }
   ],
   "source": [
    "print('Количество, где есть нули:', len(all_data[all_data['fuel_rate']==0]))"
   ]
  },
  {
   "cell_type": "code",
   "execution_count": 115,
   "metadata": {},
   "outputs": [],
   "source": [
    "# заменим нули на среднее\n",
    "all_data['fuel_rate'] = np.where(all_data['fuel_rate']==0, all_data['fuel_rate'].median(), all_data['fuel_rate'])"
   ]
  },
  {
   "cell_type": "code",
   "execution_count": 116,
   "metadata": {},
   "outputs": [
    {
     "data": {
      "image/png": "[encoded data removed]",
      "text/plain": [
       "<Figure size 1296x360 with 1 Axes>"
      ]
     },
     "metadata": {},
     "output_type": "display_data"
    }
   ],
   "source": [
    "hist(all_data['fuel_rate'], 20, 1, \"Частота встречаемости\", \"Расход топлива\", \"Распределение машин по расходу топлива\")"
   ]
  },
  {
   "cell_type": "code",
   "execution_count": 117,
   "metadata": {},
   "outputs": [
    {
     "data": {
      "image/png": "[encoded data removed]",
      "text/plain": [
       "<Figure size 1296x360 with 1 Axes>"
      ]
     },
     "metadata": {},
     "output_type": "display_data"
    }
   ],
   "source": [
    "one_boxplot(all_data['fuel_rate'], 'Статистики по столбцу \"fuel_rate\"', 'Расход топлива')"
   ]
  },
  {
   "cell_type": "code",
   "execution_count": 118,
   "metadata": {
    "scrolled": true
   },
   "outputs": [
    {
     "name": "stdout",
     "output_type": "stream",
     "text": [
      "25-й квартиль: 6.5, 75-й квартиль: 8.5, IQR: 2.0, границы выбросов: [3.5,11.5].\n"
     ]
    }
   ],
   "source": [
    "outliers(all_data['fuel_rate'])"
   ]
  },
  {
   "cell_type": "code",
   "execution_count": 119,
   "metadata": {},
   "outputs": [],
   "source": [
    "all_data=all_data.loc[all_data['fuel_rate'].between(delete_outliers(all_data['fuel_rate'])[0],\n",
    "                                                      delete_outliers(all_data['fuel_rate'])[1])]"
   ]
  },
  {
   "cell_type": "markdown",
   "metadata": {},
   "source": [
    "**Комментарий**: *обработка проведена, удалены выбросы. Наиболее распространены машины с fuel rate от 6 до 7.*"
   ]
  },
  {
   "cell_type": "markdown",
   "metadata": {},
   "source": [
    "### 8.17 Mileage"
   ]
  },
  {
   "cell_type": "code",
   "execution_count": 120,
   "metadata": {
    "scrolled": false
   },
   "outputs": [
    {
     "name": "stdout",
     "output_type": "stream",
     "text": [
      "Длина столбца: 38859\n",
      "Количество значений \"NaN\": 0\n",
      "Минимальное значение: 0\n",
      "Максимальное значение: 1000000\n"
     ]
    }
   ],
   "source": [
    "description_column_count(all_data['mileage'])"
   ]
  },
  {
   "cell_type": "code",
   "execution_count": 121,
   "metadata": {},
   "outputs": [
    {
     "name": "stdout",
     "output_type": "stream",
     "text": [
      "Количество, где есть нули: 4327\n"
     ]
    }
   ],
   "source": [
    "print('Количество, где есть нули:', len(all_data[all_data['mileage']==0]))"
   ]
  },
  {
   "cell_type": "code",
   "execution_count": 122,
   "metadata": {},
   "outputs": [],
   "source": [
    "# заменим нули на среднее\n",
    "all_data['mileage'] = np.where(all_data['mileage']==0, all_data['mileage'].median(), all_data['mileage'])"
   ]
  },
  {
   "cell_type": "code",
   "execution_count": 123,
   "metadata": {},
   "outputs": [
    {
     "data": {
      "image/png": "[encoded data removed]",
      "text/plain": [
       "<Figure size 1296x360 with 1 Axes>"
      ]
     },
     "metadata": {},
     "output_type": "display_data"
    }
   ],
   "source": [
    "hist(all_data['mileage'], 1000100, 10000, \"Частота встречаемости\", \"Пробег\", \"Распределение машин по пробегу\")"
   ]
  },
  {
   "cell_type": "code",
   "execution_count": 124,
   "metadata": {},
   "outputs": [
    {
     "data": {
      "image/png": "[encoded data removed]",
      "text/plain": [
       "<Figure size 1296x360 with 1 Axes>"
      ]
     },
     "metadata": {},
     "output_type": "display_data"
    }
   ],
   "source": [
    "one_boxplot(all_data['mileage'], 'Статистики по столбцу \"mileage\"', 'Пробег')"
   ]
  },
  {
   "cell_type": "code",
   "execution_count": 125,
   "metadata": {},
   "outputs": [
    {
     "name": "stdout",
     "output_type": "stream",
     "text": [
      "25-й квартиль: 82521.5, 75-й квартиль: 182000.0, IQR: 99478.5, границы выбросов: [-66696.25,331217.75].\n"
     ]
    }
   ],
   "source": [
    "outliers(all_data['mileage'])"
   ]
  },
  {
   "cell_type": "code",
   "execution_count": 126,
   "metadata": {},
   "outputs": [],
   "source": [
    "all_data=all_data.loc[all_data['mileage'].between(delete_outliers(all_data['mileage'])[0],\n",
    "                                                      delete_outliers(all_data['mileage'])[1])]"
   ]
  },
  {
   "cell_type": "markdown",
   "metadata": {},
   "source": [
    "**Комментарий**: *обработка проведена, удалены выбросы.*"
   ]
  },
  {
   "cell_type": "markdown",
   "metadata": {},
   "source": [
    "### 8.18 Model_name"
   ]
  },
  {
   "cell_type": "code",
   "execution_count": 127,
   "metadata": {
    "scrolled": true
   },
   "outputs": [
    {
     "name": "stdout",
     "output_type": "stream",
     "text": [
      "Количество уникальных значений в столбце: 531\n",
      "Перечень уникальных значений: ['OCTAVIA' 'SUPERB' 'OCTAVIA_RS' 'YETI' 'KODIAQ' 'RAPID' 'FABIA'\n",
      " 'ROOMSTER' 'KAROQ' 'FABIA_RS' 'FELICIA' 'Q5' 'Q7' 'Q3' 'A4' 'A3' 'A5'\n",
      " 'A6' 'TT' 'A1' 'ALLROAD' '80' 'A8' 'A7' 'A4_ALLROAD' 'Q8' '100' 'RSQ3'\n",
      " '90' 'COUPE' 'A2' 'TTS' 'S4' 'S3' '200' 'CR_V' 'ACCORD' 'CIVIC'\n",
      " 'CROSSTOUR' 'ELYSION' 'STREAM' 'FIT' 'SHUTTLE' 'FREED' 'PILOT' 'JAZZ'\n",
      " 'CR_Z' 'LEGEND' 'STEPWAGON' 'CIVIC_TYPE_R' 'FR_V' 'CR_X' 'ZEST' 'INSPIRE'\n",
      " 'VEZEL' 'PRELUDE' 'SABER' 'S2000' 'CROSSROAD' 'INSIGHT' 'HR_V' 'CONCERTO'\n",
      " 'V60_CROSS_COUNTRY' 'XC40' 'XC60' 'C30' 'V50' 'XC90' 'V90_CROSS_COUNTRY'\n",
      " 'S60' 'XC70' 'V40_CC' 'S40' 'V40' 'S80' 'S60_CROSS_COUNTRY' '850' 'V60'\n",
      " 'V70' 'S70' 'C70' 'S90' '240_SERIES' '460' '740' '760' '440' 'X5' 'X6'\n",
      " 'X7' 'X3' '5ER' 'X2' 'Z4' 'X1' '6ER' '7ER' '1ER' '3ER' '4' 'X4' '2ER'\n",
      " '2GRANDTOURER' '2ACTIVETOURER' 'Z3' 'TEANA' 'QASHQAI' 'X_TRAIL' 'MURANO'\n",
      " 'NAVARA' 'PATHFINDER' 'NOTE' 'TIIDA' 'JUKE' 'TERRANO' 'ALMERA_CLASSIC'\n",
      " 'PRIMERA' 'SKYLINE' 'ALMERA' 'QASHQAI_PLUS_2' 'SENTRA' 'NP300'\n",
      " 'ALMERA_TINO' 'PATROL' 'JUKE_NISMO' '350Z' 'CEFIRO' 'MICRA' 'PULSAR'\n",
      " 'CUBE' 'FUGA' 'LAUREL' 'GLORIA' 'EXPERT' '100NX' 'SERENA' 'ALTIMA'\n",
      " 'MARCH' 'BLUEBIRD_SYLPHY' 'SUNNY' 'CEDRIC' 'JX' 'G35' 'Q50' 'QX50' 'EX'\n",
      " 'Q70' 'QX70' 'QX60' 'M' 'FX' 'Q30' 'QX30' 'V_KLASSE' 'C_KLASSE'\n",
      " 'GLE_KLASSE' 'E_KLASSE' 'GLA_CLASS' 'SLK_KLASSE' 'GLE_KLASSE_COUPE'\n",
      " 'GLC_KLASSE' 'CLA_KLASSE' 'B_KLASSE' 'GL_KLASSE' 'GLS_KLASSE'\n",
      " 'GLK_KLASSE' 'M_KLASSE' 'VITO' 'G_KLASSE' 'VIANO' 'CLC_KLASSE'\n",
      " 'CLK_KLASSE' 'A_KLASSE' 'S_KLASSE' 'GLC_COUPE' 'CLS_KLASSE' 'R_KLASSE'\n",
      " 'W201' 'SLC_KLASSE' 'GLB_KLASSE' 'X_KLASSE' 'SL_KLASSE' 'W124' 'VANEO'\n",
      " 'W123' 'CITAN' 'CAMRY' 'RAV_4' 'AVENSIS' 'GT86' 'LAND_CRUISER' 'COROLLA'\n",
      " 'LAND_CRUISER_PRADO' 'HILUX' 'AURIS' 'PRIUS' 'HIGHLANDER' 'YARIS' 'VERSO'\n",
      " 'VENZA' 'IQ' 'FORTUNER' 'ALPHARD' 'C_HR' 'CELICA' 'ALTEZZA' 'ARISTO'\n",
      " 'VERSO_S' 'COROLLA_VERSO' 'AVENSIS_VERSO' 'CARINA_E' 'PROBOX' 'SIENTA'\n",
      " 'BB' 'FUNCARGO' 'SUCCEED' 'COROLLA_SPACIO' 'PRIUS_ALPHA' 'PRIUSPLUS'\n",
      " 'PASSO' 'STARLET' 'GS' 'ES' 'IS' 'RX' 'NX' 'UX' 'CT' 'LX' 'LM' 'RC' 'LS'\n",
      " 'HS' 'TOUAREG' 'TIGUAN' 'PASSAT' 'AMAROK' 'POLO' 'CADDY' 'PASSAT_CC'\n",
      " 'JETTA' 'SCIROCCO' 'GOLF' 'TOURAN' 'CARAVELLE' 'MULTIVAN' 'GOLF_PLUS'\n",
      " 'TERAMONT' 'SHARAN' 'ARTEON' 'PHAETON' 'GOLF_GTI' 'BEETLE' 'TRANSPORTER'\n",
      " 'GOLF_R' 'GOLF_R32' 'CORRADO' 'EOS' 'BORA' 'POLO_GTI' 'LUPO' 'VENTO'\n",
      " 'PAJERO_SPORT' 'OUTLANDER' 'L200' 'LANCER' 'PAJERO' 'ASX' 'GALANT'\n",
      " 'CARISMA' 'SPACE_STAR' 'PAJERO_PININ' 'COLT' 'LANCER_EVOLUTION' 'GRANDIS'\n",
      " 'ECLIPSE_CROSS' 'DELICA_D_5' 'LANCER_RALLIART' 'ECLIPSE' 'SPACE_WAGON'\n",
      " 'DIAMANTE' 'SPACE_RUNNER' 'RVR' 'AIRTREK' 'LEGNUM' 'CHARIOT' 'DINGO'\n",
      " 'MINICA' 'CALIFORNIA' 'MAXIMA' 'EK_WAGON' '2110' 'DUSTER' 'ASTRA'\n",
      " 'CARNIVAL' 'C4_PICASSO' 'X60' 'SONATA' '508' 'OPTIMA' 'XE' 'PT_CRUISER'\n",
      " '6' 'G70' '3' 'K5' '2111' 'VOXY' 'WAGON_R' 'C4' 'TIGGO_7_PRO' 'MEGANE'\n",
      " 'DISCOVERY_SPORT' 'CERATO' 'COUNTRYMAN' 'M_20' 'INSIGNIA' 'SELTOS'\n",
      " 'SANTA_FE' 'VESTA' 'ESPACE' 'CALIBER' 'LACETTI' 'ESCAPE' 'F7'\n",
      " 'IMPREZA_WRX_STI' 'SORENTO' 'SOLARIS' 'ACCENT' 'FOCUS' 'LATITUDE'\n",
      " 'RENEGADE' 'STINGER' 'C_MAX' 'HATCH' 'RIO' 'FREELANDER' 'FREEMONT' 'C5'\n",
      " '2170' 'CLIO_RS' 'CEED' 'PATRIOT' 'ARKANA' 'GRANTA' 'SAMAND' 'CHALLENGER'\n",
      " 'IMPREZA_WRX' 'NEXIA' 'ZAFIRA' '300C' 'TRAVELLER' 'XRAY'\n",
      " 'RANGE_ROVER_SPORT' '3008' 'TALISMAN' 'SX4' 'COOLRAY' 'KUGA' 'OUTBACK'\n",
      " 'I40' 'FORESTER' 'XJ' 'PROCEED' 'SOUL' 'CX_7' 'GRAND_CHEROKEE' 'VITARA'\n",
      " 'GRAND_VITARA' 'SPORTAGE' 'ATLAS' 'STAVIC' 'HOVERH5' 'CX_5' 'STELVIO'\n",
      " 'H3' 'H9' 'STAGEA' 'LARGUS' 'REXTON' 'I30' 'TUCSON' 'LAGUNA' 'EVOQUE'\n",
      " 'TAGER' 'CX_9' 'DISCOVERY' 'HOVER_2005' 'GRANDEUR' 'RANGER' 'TRAILBLAZER'\n",
      " 'SPACETOURER' 'EXPLORER' 'SANDERO' 'CRETA' 'IX35' 'COMPASS' '3102'\n",
      " 'WRANGLER' 'EQUINOX' 'KAPTUR' 'CAPTIVA' 'MODEL_S' 'GRAND_STAREX'\n",
      " 'CLUBMAN' 'KOLEOS' '500' 'CRUZE' 'XF' '31105' 'TIGGO_4' 'F7X' 'FLUENCE'\n",
      " 'H_1_STAREX' 'ORLANDO' '2107' 'DS4' 'TIGGO_8' 'XV' 'T600' 'ECOSPORT'\n",
      " 'F_PACE' 'FUSION' 'MOHAVES' 'MALIBU' 'C_CROSSER' 'RANGE_ROVER_VELAR'\n",
      " '2114' 'KIZASHI' 'KNYAZ_VLADIMIR' 'MDX' 'SAUVANA' 'XT5' '208' 'RCZ'\n",
      " 'MACAN' 'H6' 'CX_30' 'TOURNEO_CUSTOM' 'JIMNY' 'FIESTA' 'ELANTRA' '965'\n",
      " 'G80' 'TIGGO' 'IMPREZA' 'MONDEO' 'WRX' 'LOGAN' '308' 'CAYENNE' 'RDX'\n",
      " '2113' 'LEAF' 'SWIFT' 'S_MAX' 'CEED_GT' 'EMGRAND_X7' 'GALAXY' '2112'\n",
      " '5008' 'BT_50' 'ELEMENT' 'CS75' 'IX55' 'SCENIC' 'PICANTO' 'COBALT'\n",
      " 'AMULET' 'KANGOO' '3MPS' 'LEON' 'CORSA' 'BREEZ' 'GRANDLAND_X' '4RUNNER'\n",
      " 'ATS' '5' 'LEVANTE' 'FORTWO' 'KALINA' 'PARTNER' 'SIENNA' 'TXL' '107'\n",
      " 'MOKKA' 'VOLT' 'LEGACY' 'E_PACE' '69' 'VENGA' 'VIVARO' 'TOURNEO_CONNECT'\n",
      " '301' 'TIGGO_2' 'ALTEA' '19' 'TWINGO' 'MERIVA' 'TOWN_AND_COUNTRY'\n",
      " 'PICKUP' 'CLA_KLASSE_AMG' 'TIGGO_5' 'HOVER_M4' 'STAREX' 'CTS' 'TUNDRA'\n",
      " 'X50' 'LANOS' 'EPICA' '307' 'PUNTO' 'RANGE_ROVER' 'SRX' 'JOURNEY' '626'\n",
      " 'DOKKER' 'C3_PICASSO' 'DEFENDER' 'VOYAGER' 'H2' 'AVANTE' 'WISH' 'ACTYON'\n",
      " 'MI_DO' 'F_TYPE' 'HOVERH3' 'MATRIX' 'MUSTANG' '406' 'STRATUS']\n",
      "Длина столбца: 37769\n",
      "Количество значений \"NaN\": 0\n",
      "Количество значений, встретившихся в столбце более 10 раз: 198\n"
     ]
    }
   ],
   "source": [
    "description_column(all_data['model_name'])"
   ]
  },
  {
   "cell_type": "code",
   "execution_count": 128,
   "metadata": {},
   "outputs": [],
   "source": [
    "# замена на строчные буквы\n",
    "all_data['model_name'] = all_data['model_name'].apply(lambda x: x.lower())"
   ]
  },
  {
   "cell_type": "code",
   "execution_count": 129,
   "metadata": {},
   "outputs": [
    {
     "name": "stdout",
     "output_type": "stream",
     "text": [
      "Количество, где есть нули: 0\n"
     ]
    }
   ],
   "source": [
    "print('Количество, где есть нули:', len(all_data[all_data['model_name']==0]))"
   ]
  },
  {
   "cell_type": "code",
   "execution_count": 130,
   "metadata": {},
   "outputs": [
    {
     "data": {
      "image/png": "[encoded data removed]",
      "text/plain": [
       "<Figure size 1296x360 with 1 Axes>"
      ]
     },
     "metadata": {},
     "output_type": "display_data"
    }
   ],
   "source": [
    "share(all_data['model_name'],\"Модель\", \"Доля, %\", 'ТОП-10 моделей ,%')"
   ]
  },
  {
   "cell_type": "code",
   "execution_count": 131,
   "metadata": {},
   "outputs": [],
   "source": [
    "# категориальные переменные в число\n",
    "for colum in ['model_name']:\n",
    "    all_data[colum] = all_data[colum].astype('category').cat.codes"
   ]
  },
  {
   "cell_type": "markdown",
   "metadata": {},
   "source": [
    "**Комментарий**: *обработка проведена, категориальные переменные переведены в числовые.*"
   ]
  },
  {
   "cell_type": "markdown",
   "metadata": {},
   "source": [
    "### 8.19 Name"
   ]
  },
  {
   "cell_type": "code",
   "execution_count": 132,
   "metadata": {
    "scrolled": true
   },
   "outputs": [
    {
     "name": "stdout",
     "output_type": "stream",
     "text": [
      "Количество уникальных значений в столбце: 1812\n",
      "Перечень уникальных значений: ['1.2 AMT (105 л.с.)' '1.6 MT (110 л.с.)' 'DSG 1.8 AMT (152 л.с.)' ...\n",
      " '200 d длинный 2.1d MT (136 л.с.)' 'Grand 2.2d AT (197 л.с.) 4WD'\n",
      " '4.4d AT (313 л.с.) 4WD']\n",
      "Длина столбца: 37769\n",
      "Количество значений \"NaN\": 0\n",
      "Количество значений, встретившихся в столбце более 10 раз: 464\n"
     ]
    }
   ],
   "source": [
    "description_column(all_data['name'])"
   ]
  },
  {
   "cell_type": "code",
   "execution_count": 133,
   "metadata": {},
   "outputs": [
    {
     "name": "stdout",
     "output_type": "stream",
     "text": [
      "Количество, где есть нули: 0\n"
     ]
    }
   ],
   "source": [
    "print('Количество, где есть нули:', len(all_data[all_data['name']==0]))"
   ]
  },
  {
   "cell_type": "code",
   "execution_count": 134,
   "metadata": {},
   "outputs": [],
   "source": [
    "# категориальные переменные в число\n",
    "for colum in ['name']:\n",
    "    all_data[colum] = all_data[colum].astype('category').cat.codes"
   ]
  },
  {
   "cell_type": "markdown",
   "metadata": {},
   "source": [
    "**Комментарий**: *обработка проведена, категориальные переменные переведены в числовые.*"
   ]
  },
  {
   "cell_type": "markdown",
   "metadata": {},
   "source": [
    "### 8.20 Vendor\t"
   ]
  },
  {
   "cell_type": "code",
   "execution_count": 135,
   "metadata": {
    "scrolled": true
   },
   "outputs": [
    {
     "name": "stdout",
     "output_type": "stream",
     "text": [
      "Количество уникальных значений в столбце: 7\n",
      "Перечень уникальных значений: ['EUROPEAN' 'JAPANESE' 'RUSSIAN' 'KOREAN' 'CHINESE' 'AMERICAN'\n",
      " 'VENDOR_UNKNOWN']\n",
      "Длина столбца: 37769\n",
      "Количество значений \"NaN\": 0\n",
      "Количество значений, встретившихся в столбце более 10 раз: 6\n"
     ]
    }
   ],
   "source": [
    "description_column(all_data['vendor'])"
   ]
  },
  {
   "cell_type": "code",
   "execution_count": 136,
   "metadata": {},
   "outputs": [
    {
     "name": "stdout",
     "output_type": "stream",
     "text": [
      "Количество, где есть нули: 0\n"
     ]
    }
   ],
   "source": [
    "print('Количество, где есть нули:', len(all_data[all_data['vendor']==0]))"
   ]
  },
  {
   "cell_type": "code",
   "execution_count": 137,
   "metadata": {},
   "outputs": [],
   "source": [
    "# замена на строчные буквы\n",
    "all_data['vendor'] = all_data['vendor'].apply(lambda x: x.lower())"
   ]
  },
  {
   "cell_type": "code",
   "execution_count": 138,
   "metadata": {},
   "outputs": [
    {
     "data": {
      "image/png": "[encoded data removed]",
      "text/plain": [
       "<Figure size 1296x360 with 1 Axes>"
      ]
     },
     "metadata": {},
     "output_type": "display_data"
    }
   ],
   "source": [
    "share(all_data['vendor'],\"Вендор\", \"Доля, %\", 'ТОП-10 вендоров ,%')"
   ]
  },
  {
   "cell_type": "code",
   "execution_count": 139,
   "metadata": {},
   "outputs": [],
   "source": [
    "# категориальные переменные в число\n",
    "for colum in ['vendor']:\n",
    "    all_data[colum] = all_data[colum].astype('category').cat.codes"
   ]
  },
  {
   "cell_type": "markdown",
   "metadata": {},
   "source": [
    "**Комментарий**: *обработка проведена, категориальные переменные заменены на числовые.*"
   ]
  },
  {
   "cell_type": "markdown",
   "metadata": {},
   "source": [
    "### 8.21 Pts"
   ]
  },
  {
   "cell_type": "code",
   "execution_count": 140,
   "metadata": {
    "scrolled": false
   },
   "outputs": [
    {
     "name": "stdout",
     "output_type": "stream",
     "text": [
      "Количество уникальных значений в столбце: 5\n",
      "Перечень уникальных значений: ['Оригинал' 'Дубликат' nan 'DUPLICATE' 'ORIGINAL' 0]\n",
      "Длина столбца: 37769\n",
      "Количество значений \"NaN\": 1\n",
      "Количество значений, встретившихся в столбце более 10 раз: 5\n"
     ]
    }
   ],
   "source": [
    "description_column(all_data['pts'])"
   ]
  },
  {
   "cell_type": "code",
   "execution_count": 141,
   "metadata": {},
   "outputs": [
    {
     "name": "stdout",
     "output_type": "stream",
     "text": [
      "Количество, где есть нули: 3624\n"
     ]
    }
   ],
   "source": [
    "print('Количество, где есть нули:', len(all_data[all_data['pts']==0]))"
   ]
  },
  {
   "cell_type": "code",
   "execution_count": 142,
   "metadata": {},
   "outputs": [],
   "source": [
    "all_data['pts'] = np.where(all_data['pts']=='DUPLICATE', 'Дубликат',\n",
    "                  np.where(all_data['pts']=='ORIGINAL', 'Оригинал', \n",
    "                  np.where(all_data['pts']== np.nan, 'Оригинал', all_data['pts'])))"
   ]
  },
  {
   "cell_type": "code",
   "execution_count": 143,
   "metadata": {},
   "outputs": [],
   "source": [
    "all_data['pts'] = all_data['pts'].astype(str)"
   ]
  },
  {
   "cell_type": "code",
   "execution_count": 144,
   "metadata": {},
   "outputs": [],
   "source": [
    "# замена на строчные буквы\n",
    "all_data['pts'] = all_data['pts'].apply(lambda x: x.lower())"
   ]
  },
  {
   "cell_type": "code",
   "execution_count": 145,
   "metadata": {},
   "outputs": [
    {
     "data": {
      "image/png": "[encoded data removed]",
      "text/plain": [
       "<Figure size 1296x360 with 1 Axes>"
      ]
     },
     "metadata": {},
     "output_type": "display_data"
    }
   ],
   "source": [
    "share(all_data['pts'],\"Модель\", \"Доля, %\", 'ТОП-10 моделей ,%')"
   ]
  },
  {
   "cell_type": "code",
   "execution_count": 146,
   "metadata": {},
   "outputs": [],
   "source": [
    "# категориальные переменные в число\n",
    "for colum in ['pts']:\n",
    "    all_data[colum] = all_data[colum].astype('category').cat.codes"
   ]
  },
  {
   "cell_type": "markdown",
   "metadata": {},
   "source": [
    "**Комментарий**: *обработка проведена, категориальные переменные заменены на числовые.*"
   ]
  },
  {
   "cell_type": "markdown",
   "metadata": {},
   "source": [
    "### 8.22 Wheel"
   ]
  },
  {
   "cell_type": "code",
   "execution_count": 147,
   "metadata": {
    "scrolled": true
   },
   "outputs": [
    {
     "name": "stdout",
     "output_type": "stream",
     "text": [
      "Количество уникальных значений в столбце: 4\n",
      "Перечень уникальных значений: ['Левый' 'Правый' 'LEFT' 'RIGHT']\n",
      "Длина столбца: 37769\n",
      "Количество значений \"NaN\": 0\n",
      "Количество значений, встретившихся в столбце более 10 раз: 4\n"
     ]
    }
   ],
   "source": [
    "description_column(all_data['wheel'])"
   ]
  },
  {
   "cell_type": "code",
   "execution_count": 148,
   "metadata": {},
   "outputs": [
    {
     "name": "stdout",
     "output_type": "stream",
     "text": [
      "Количество, где есть нули: 0\n"
     ]
    }
   ],
   "source": [
    "print('Количество, где есть нули:', len(all_data[all_data['wheel']==0]))"
   ]
  },
  {
   "cell_type": "code",
   "execution_count": 149,
   "metadata": {},
   "outputs": [],
   "source": [
    "all_data['wheel'] = np.where(all_data['wheel']=='LEFT', 'Левый',\n",
    "                  np.where(all_data['wheel']=='RIGHT', 'Правый', all_data['wheel']))"
   ]
  },
  {
   "cell_type": "code",
   "execution_count": 150,
   "metadata": {},
   "outputs": [],
   "source": [
    "# замена на строчные буквы\n",
    "all_data['wheel'] = all_data['wheel'].apply(lambda x: x.lower())"
   ]
  },
  {
   "cell_type": "code",
   "execution_count": 151,
   "metadata": {},
   "outputs": [
    {
     "data": {
      "image/png": "[encoded data removed]",
      "text/plain": [
       "<Figure size 1296x360 with 1 Axes>"
      ]
     },
     "metadata": {},
     "output_type": "display_data"
    }
   ],
   "source": [
    "share(all_data['wheel'],\"Модель\", \"Доля, %\", 'ТОП-10 моделей ,%')"
   ]
  },
  {
   "cell_type": "code",
   "execution_count": 152,
   "metadata": {},
   "outputs": [],
   "source": [
    "# категориальные переменные в число\n",
    "for colum in ['wheel']:\n",
    "    all_data[colum] = all_data[colum].astype('category').cat.codes"
   ]
  },
  {
   "cell_type": "markdown",
   "metadata": {},
   "source": [
    "**Комментарий**: *обработка проведена, категриальные переменные заменены на числовые.*"
   ]
  },
  {
   "cell_type": "code",
   "execution_count": 153,
   "metadata": {},
   "outputs": [
    {
     "data": {
      "text/html": [
       "<div>\n",
       "<style scoped>\n",
       "    .dataframe tbody tr th:only-of-type {\n",
       "        vertical-align: middle;\n",
       "    }\n",
       "\n",
       "    .dataframe tbody tr th {\n",
       "        vertical-align: top;\n",
       "    }\n",
       "\n",
       "    .dataframe thead th {\n",
       "        text-align: right;\n",
       "    }\n",
       "</style>\n",
       "<table border=\"1\" class=\"dataframe\">\n",
       "  <thead>\n",
       "    <tr style=\"text-align: right;\">\n",
       "      <th></th>\n",
       "      <th>color</th>\n",
       "      <th>year</th>\n",
       "      <th>owner</th>\n",
       "      <th>doors</th>\n",
       "      <th>bodyType</th>\n",
       "      <th>brand</th>\n",
       "      <th>displacement</th>\n",
       "      <th>engine_type</th>\n",
       "      <th>gear_type</th>\n",
       "      <th>transmission</th>\n",
       "      <th>power</th>\n",
       "      <th>power_kvt</th>\n",
       "      <th>acceleration</th>\n",
       "      <th>clearance_min</th>\n",
       "      <th>fuel_rate</th>\n",
       "      <th>mileage</th>\n",
       "      <th>model_name</th>\n",
       "      <th>name</th>\n",
       "      <th>vendor</th>\n",
       "      <th>pts</th>\n",
       "      <th>wheel</th>\n",
       "      <th>price</th>\n",
       "      <th>sample</th>\n",
       "    </tr>\n",
       "  </thead>\n",
       "  <tbody>\n",
       "    <tr>\n",
       "      <td>0</td>\n",
       "      <td>13</td>\n",
       "      <td>2014</td>\n",
       "      <td>3</td>\n",
       "      <td>5.0</td>\n",
       "      <td>24</td>\n",
       "      <td>51</td>\n",
       "      <td>1197.0</td>\n",
       "      <td>2</td>\n",
       "      <td>1</td>\n",
       "      <td>2</td>\n",
       "      <td>105</td>\n",
       "      <td>77</td>\n",
       "      <td>10.5</td>\n",
       "      <td>155.0</td>\n",
       "      <td>5.0</td>\n",
       "      <td>74000.0</td>\n",
       "      <td>330</td>\n",
       "      <td>13</td>\n",
       "      <td>2</td>\n",
       "      <td>3</td>\n",
       "      <td>0</td>\n",
       "      <td>0</td>\n",
       "      <td>test</td>\n",
       "    </tr>\n",
       "    <tr>\n",
       "      <td>1</td>\n",
       "      <td>16</td>\n",
       "      <td>2017</td>\n",
       "      <td>1</td>\n",
       "      <td>5.0</td>\n",
       "      <td>24</td>\n",
       "      <td>51</td>\n",
       "      <td>1598.0</td>\n",
       "      <td>2</td>\n",
       "      <td>1</td>\n",
       "      <td>1</td>\n",
       "      <td>110</td>\n",
       "      <td>81</td>\n",
       "      <td>10.8</td>\n",
       "      <td>156.0</td>\n",
       "      <td>6.4</td>\n",
       "      <td>60563.0</td>\n",
       "      <td>330</td>\n",
       "      <td>226</td>\n",
       "      <td>2</td>\n",
       "      <td>3</td>\n",
       "      <td>0</td>\n",
       "      <td>0</td>\n",
       "      <td>test</td>\n",
       "    </tr>\n",
       "    <tr>\n",
       "      <td>2</td>\n",
       "      <td>12</td>\n",
       "      <td>2014</td>\n",
       "      <td>1</td>\n",
       "      <td>5.0</td>\n",
       "      <td>24</td>\n",
       "      <td>51</td>\n",
       "      <td>1798.0</td>\n",
       "      <td>2</td>\n",
       "      <td>1</td>\n",
       "      <td>2</td>\n",
       "      <td>152</td>\n",
       "      <td>112</td>\n",
       "      <td>8.7</td>\n",
       "      <td>139.0</td>\n",
       "      <td>7.1</td>\n",
       "      <td>88000.0</td>\n",
       "      <td>442</td>\n",
       "      <td>1681</td>\n",
       "      <td>2</td>\n",
       "      <td>3</td>\n",
       "      <td>0</td>\n",
       "      <td>0</td>\n",
       "      <td>test</td>\n",
       "    </tr>\n",
       "    <tr>\n",
       "      <td>3</td>\n",
       "      <td>6</td>\n",
       "      <td>2014</td>\n",
       "      <td>1</td>\n",
       "      <td>5.0</td>\n",
       "      <td>24</td>\n",
       "      <td>51</td>\n",
       "      <td>1598.0</td>\n",
       "      <td>2</td>\n",
       "      <td>1</td>\n",
       "      <td>0</td>\n",
       "      <td>110</td>\n",
       "      <td>81</td>\n",
       "      <td>12.2</td>\n",
       "      <td>155.0</td>\n",
       "      <td>6.7</td>\n",
       "      <td>95000.0</td>\n",
       "      <td>330</td>\n",
       "      <td>183</td>\n",
       "      <td>2</td>\n",
       "      <td>3</td>\n",
       "      <td>0</td>\n",
       "      <td>0</td>\n",
       "      <td>test</td>\n",
       "    </tr>\n",
       "    <tr>\n",
       "      <td>4</td>\n",
       "      <td>1</td>\n",
       "      <td>2012</td>\n",
       "      <td>1</td>\n",
       "      <td>5.0</td>\n",
       "      <td>24</td>\n",
       "      <td>51</td>\n",
       "      <td>1798.0</td>\n",
       "      <td>2</td>\n",
       "      <td>1</td>\n",
       "      <td>0</td>\n",
       "      <td>152</td>\n",
       "      <td>112</td>\n",
       "      <td>8.8</td>\n",
       "      <td>164.0</td>\n",
       "      <td>7.7</td>\n",
       "      <td>58536.0</td>\n",
       "      <td>330</td>\n",
       "      <td>315</td>\n",
       "      <td>2</td>\n",
       "      <td>3</td>\n",
       "      <td>0</td>\n",
       "      <td>0</td>\n",
       "      <td>test</td>\n",
       "    </tr>\n",
       "  </tbody>\n",
       "</table>\n",
       "</div>"
      ],
      "text/plain": [
       "   color  year  owner  doors  bodyType  brand  displacement  engine_type  \\\n",
       "0     13  2014      3    5.0        24     51        1197.0            2   \n",
       "1     16  2017      1    5.0        24     51        1598.0            2   \n",
       "2     12  2014      1    5.0        24     51        1798.0            2   \n",
       "3      6  2014      1    5.0        24     51        1598.0            2   \n",
       "4      1  2012      1    5.0        24     51        1798.0            2   \n",
       "\n",
       "   gear_type  transmission  power  power_kvt  acceleration  clearance_min  \\\n",
       "0          1             2    105         77          10.5          155.0   \n",
       "1          1             1    110         81          10.8          156.0   \n",
       "2          1             2    152        112           8.7          139.0   \n",
       "3          1             0    110         81          12.2          155.0   \n",
       "4          1             0    152        112           8.8          164.0   \n",
       "\n",
       "   fuel_rate  mileage  model_name  name  vendor  pts  wheel  price sample  \n",
       "0        5.0  74000.0         330    13       2    3      0      0   test  \n",
       "1        6.4  60563.0         330   226       2    3      0      0   test  \n",
       "2        7.1  88000.0         442  1681       2    3      0      0   test  \n",
       "3        6.7  95000.0         330   183       2    3      0      0   test  \n",
       "4        7.7  58536.0         330   315       2    3      0      0   test  "
      ]
     },
     "execution_count": 153,
     "metadata": {},
     "output_type": "execute_result"
    }
   ],
   "source": [
    "all_data.head()"
   ]
  },
  {
   "cell_type": "code",
   "execution_count": 154,
   "metadata": {},
   "outputs": [
    {
     "name": "stdout",
     "output_type": "stream",
     "text": [
      "<class 'pandas.core.frame.DataFrame'>\n",
      "Int64Index: 37769 entries, 0 to 53148\n",
      "Data columns (total 23 columns):\n",
      "color            37769 non-null int32\n",
      "year             37769 non-null int64\n",
      "owner            37769 non-null int32\n",
      "doors            37769 non-null float64\n",
      "bodyType         37769 non-null int8\n",
      "brand            37769 non-null int8\n",
      "displacement     37769 non-null float64\n",
      "engine_type      37769 non-null int8\n",
      "gear_type        37769 non-null int8\n",
      "transmission     37769 non-null int8\n",
      "power            37769 non-null int64\n",
      "power_kvt        37769 non-null int64\n",
      "acceleration     37769 non-null float64\n",
      "clearance_min    37769 non-null float64\n",
      "fuel_rate        37769 non-null float64\n",
      "mileage          37769 non-null float64\n",
      "model_name       37769 non-null int16\n",
      "name             37769 non-null int16\n",
      "vendor           37769 non-null int8\n",
      "pts              37769 non-null int8\n",
      "wheel            37769 non-null int8\n",
      "price            37769 non-null int64\n",
      "sample           37769 non-null object\n",
      "dtypes: float64(6), int16(2), int32(2), int64(4), int8(8), object(1)\n",
      "memory usage: 4.2+ MB\n"
     ]
    }
   ],
   "source": [
    "all_data.info()"
   ]
  },
  {
   "cell_type": "code",
   "execution_count": 155,
   "metadata": {},
   "outputs": [
    {
     "data": {
      "text/html": [
       "<div>\n",
       "<style scoped>\n",
       "    .dataframe tbody tr th:only-of-type {\n",
       "        vertical-align: middle;\n",
       "    }\n",
       "\n",
       "    .dataframe tbody tr th {\n",
       "        vertical-align: top;\n",
       "    }\n",
       "\n",
       "    .dataframe thead th {\n",
       "        text-align: right;\n",
       "    }\n",
       "</style>\n",
       "<table border=\"1\" class=\"dataframe\">\n",
       "  <thead>\n",
       "    <tr style=\"text-align: right;\">\n",
       "      <th></th>\n",
       "      <th>color</th>\n",
       "      <th>year</th>\n",
       "      <th>owner</th>\n",
       "      <th>doors</th>\n",
       "      <th>bodyType</th>\n",
       "      <th>brand</th>\n",
       "      <th>displacement</th>\n",
       "      <th>engine_type</th>\n",
       "      <th>gear_type</th>\n",
       "      <th>transmission</th>\n",
       "      <th>power</th>\n",
       "      <th>power_kvt</th>\n",
       "      <th>acceleration</th>\n",
       "      <th>clearance_min</th>\n",
       "      <th>fuel_rate</th>\n",
       "      <th>mileage</th>\n",
       "      <th>model_name</th>\n",
       "      <th>name</th>\n",
       "      <th>vendor</th>\n",
       "      <th>pts</th>\n",
       "      <th>wheel</th>\n",
       "      <th>price</th>\n",
       "    </tr>\n",
       "  </thead>\n",
       "  <tbody>\n",
       "    <tr>\n",
       "      <td>count</td>\n",
       "      <td>37769.000000</td>\n",
       "      <td>37769.000000</td>\n",
       "      <td>37769.000000</td>\n",
       "      <td>37769.000000</td>\n",
       "      <td>37769.000000</td>\n",
       "      <td>37769.000000</td>\n",
       "      <td>37769.000000</td>\n",
       "      <td>37769.000000</td>\n",
       "      <td>37769.000000</td>\n",
       "      <td>37769.000000</td>\n",
       "      <td>37769.000000</td>\n",
       "      <td>37769.000000</td>\n",
       "      <td>37769.000000</td>\n",
       "      <td>37769.000000</td>\n",
       "      <td>37769.000000</td>\n",
       "      <td>37769.000000</td>\n",
       "      <td>37769.000000</td>\n",
       "      <td>37769.000000</td>\n",
       "      <td>37769.000000</td>\n",
       "      <td>37769.000000</td>\n",
       "      <td>37769.000000</td>\n",
       "      <td>3.776900e+04</td>\n",
       "    </tr>\n",
       "    <tr>\n",
       "      <td>mean</td>\n",
       "      <td>9.836427</td>\n",
       "      <td>2012.489237</td>\n",
       "      <td>1.901162</td>\n",
       "      <td>4.493526</td>\n",
       "      <td>30.784453</td>\n",
       "      <td>39.320527</td>\n",
       "      <td>2030.462602</td>\n",
       "      <td>1.666605</td>\n",
       "      <td>0.798936</td>\n",
       "      <td>0.865127</td>\n",
       "      <td>164.079933</td>\n",
       "      <td>120.657762</td>\n",
       "      <td>9.846096</td>\n",
       "      <td>168.080807</td>\n",
       "      <td>7.429209</td>\n",
       "      <td>130304.314279</td>\n",
       "      <td>278.446689</td>\n",
       "      <td>662.971167</td>\n",
       "      <td>2.388149</td>\n",
       "      <td>2.610871</td>\n",
       "      <td>0.005163</td>\n",
       "      <td>5.923387e+05</td>\n",
       "    </tr>\n",
       "    <tr>\n",
       "      <td>std</td>\n",
       "      <td>5.867246</td>\n",
       "      <td>6.459604</td>\n",
       "      <td>1.140612</td>\n",
       "      <td>0.688296</td>\n",
       "      <td>23.853352</td>\n",
       "      <td>20.156442</td>\n",
       "      <td>598.254814</td>\n",
       "      <td>0.753863</td>\n",
       "      <td>0.613886</td>\n",
       "      <td>1.026922</td>\n",
       "      <td>49.840023</td>\n",
       "      <td>36.687106</td>\n",
       "      <td>2.039298</td>\n",
       "      <td>28.425528</td>\n",
       "      <td>1.480423</td>\n",
       "      <td>74990.681175</td>\n",
       "      <td>163.979031</td>\n",
       "      <td>497.263699</td>\n",
       "      <td>0.704626</td>\n",
       "      <td>0.901938</td>\n",
       "      <td>0.071669</td>\n",
       "      <td>1.024746e+06</td>\n",
       "    </tr>\n",
       "    <tr>\n",
       "      <td>min</td>\n",
       "      <td>0.000000</td>\n",
       "      <td>1956.000000</td>\n",
       "      <td>0.000000</td>\n",
       "      <td>2.000000</td>\n",
       "      <td>0.000000</td>\n",
       "      <td>0.000000</td>\n",
       "      <td>657.000000</td>\n",
       "      <td>0.000000</td>\n",
       "      <td>0.000000</td>\n",
       "      <td>0.000000</td>\n",
       "      <td>27.000000</td>\n",
       "      <td>20.000000</td>\n",
       "      <td>4.900000</td>\n",
       "      <td>93.000000</td>\n",
       "      <td>3.500000</td>\n",
       "      <td>1.000000</td>\n",
       "      <td>0.000000</td>\n",
       "      <td>0.000000</td>\n",
       "      <td>0.000000</td>\n",
       "      <td>0.000000</td>\n",
       "      <td>0.000000</td>\n",
       "      <td>0.000000e+00</td>\n",
       "    </tr>\n",
       "    <tr>\n",
       "      <td>25%</td>\n",
       "      <td>4.000000</td>\n",
       "      <td>2009.000000</td>\n",
       "      <td>1.000000</td>\n",
       "      <td>4.000000</td>\n",
       "      <td>4.000000</td>\n",
       "      <td>27.000000</td>\n",
       "      <td>1596.000000</td>\n",
       "      <td>2.000000</td>\n",
       "      <td>0.000000</td>\n",
       "      <td>0.000000</td>\n",
       "      <td>125.000000</td>\n",
       "      <td>92.000000</td>\n",
       "      <td>8.400000</td>\n",
       "      <td>148.000000</td>\n",
       "      <td>6.500000</td>\n",
       "      <td>80000.000000</td>\n",
       "      <td>107.000000</td>\n",
       "      <td>219.000000</td>\n",
       "      <td>2.000000</td>\n",
       "      <td>3.000000</td>\n",
       "      <td>0.000000</td>\n",
       "      <td>0.000000e+00</td>\n",
       "    </tr>\n",
       "    <tr>\n",
       "      <td>50%</td>\n",
       "      <td>12.000000</td>\n",
       "      <td>2013.000000</td>\n",
       "      <td>2.000000</td>\n",
       "      <td>5.000000</td>\n",
       "      <td>29.000000</td>\n",
       "      <td>43.000000</td>\n",
       "      <td>1984.000000</td>\n",
       "      <td>2.000000</td>\n",
       "      <td>1.000000</td>\n",
       "      <td>0.000000</td>\n",
       "      <td>150.000000</td>\n",
       "      <td>110.000000</td>\n",
       "      <td>9.700000</td>\n",
       "      <td>163.000000</td>\n",
       "      <td>7.200000</td>\n",
       "      <td>113800.000000</td>\n",
       "      <td>330.000000</td>\n",
       "      <td>558.000000</td>\n",
       "      <td>2.000000</td>\n",
       "      <td>3.000000</td>\n",
       "      <td>0.000000</td>\n",
       "      <td>0.000000e+00</td>\n",
       "    </tr>\n",
       "    <tr>\n",
       "      <td>75%</td>\n",
       "      <td>16.000000</td>\n",
       "      <td>2017.000000</td>\n",
       "      <td>3.000000</td>\n",
       "      <td>5.000000</td>\n",
       "      <td>49.000000</td>\n",
       "      <td>58.000000</td>\n",
       "      <td>2359.000000</td>\n",
       "      <td>2.000000</td>\n",
       "      <td>1.000000</td>\n",
       "      <td>2.000000</td>\n",
       "      <td>190.000000</td>\n",
       "      <td>140.000000</td>\n",
       "      <td>11.300000</td>\n",
       "      <td>191.000000</td>\n",
       "      <td>8.200000</td>\n",
       "      <td>175000.000000</td>\n",
       "      <td>422.000000</td>\n",
       "      <td>1033.000000</td>\n",
       "      <td>3.000000</td>\n",
       "      <td>3.000000</td>\n",
       "      <td>0.000000</td>\n",
       "      <td>9.650000e+05</td>\n",
       "    </tr>\n",
       "    <tr>\n",
       "      <td>max</td>\n",
       "      <td>16.000000</td>\n",
       "      <td>2021.000000</td>\n",
       "      <td>4.000000</td>\n",
       "      <td>5.000000</td>\n",
       "      <td>77.000000</td>\n",
       "      <td>65.000000</td>\n",
       "      <td>4988.000000</td>\n",
       "      <td>4.000000</td>\n",
       "      <td>2.000000</td>\n",
       "      <td>3.000000</td>\n",
       "      <td>318.000000</td>\n",
       "      <td>234.000000</td>\n",
       "      <td>16.000000</td>\n",
       "      <td>260.000000</td>\n",
       "      <td>11.500000</td>\n",
       "      <td>331000.000000</td>\n",
       "      <td>530.000000</td>\n",
       "      <td>1811.000000</td>\n",
       "      <td>6.000000</td>\n",
       "      <td>3.000000</td>\n",
       "      <td>1.000000</td>\n",
       "      <td>2.870000e+07</td>\n",
       "    </tr>\n",
       "  </tbody>\n",
       "</table>\n",
       "</div>"
      ],
      "text/plain": [
       "              color          year         owner         doors      bodyType  \\\n",
       "count  37769.000000  37769.000000  37769.000000  37769.000000  37769.000000   \n",
       "mean       9.836427   2012.489237      1.901162      4.493526     30.784453   \n",
       "std        5.867246      6.459604      1.140612      0.688296     23.853352   \n",
       "min        0.000000   1956.000000      0.000000      2.000000      0.000000   \n",
       "25%        4.000000   2009.000000      1.000000      4.000000      4.000000   \n",
       "50%       12.000000   2013.000000      2.000000      5.000000     29.000000   \n",
       "75%       16.000000   2017.000000      3.000000      5.000000     49.000000   \n",
       "max       16.000000   2021.000000      4.000000      5.000000     77.000000   \n",
       "\n",
       "              brand  displacement   engine_type     gear_type  transmission  \\\n",
       "count  37769.000000  37769.000000  37769.000000  37769.000000  37769.000000   \n",
       "mean      39.320527   2030.462602      1.666605      0.798936      0.865127   \n",
       "std       20.156442    598.254814      0.753863      0.613886      1.026922   \n",
       "min        0.000000    657.000000      0.000000      0.000000      0.000000   \n",
       "25%       27.000000   1596.000000      2.000000      0.000000      0.000000   \n",
       "50%       43.000000   1984.000000      2.000000      1.000000      0.000000   \n",
       "75%       58.000000   2359.000000      2.000000      1.000000      2.000000   \n",
       "max       65.000000   4988.000000      4.000000      2.000000      3.000000   \n",
       "\n",
       "              power     power_kvt  acceleration  clearance_min     fuel_rate  \\\n",
       "count  37769.000000  37769.000000  37769.000000   37769.000000  37769.000000   \n",
       "mean     164.079933    120.657762      9.846096     168.080807      7.429209   \n",
       "std       49.840023     36.687106      2.039298      28.425528      1.480423   \n",
       "min       27.000000     20.000000      4.900000      93.000000      3.500000   \n",
       "25%      125.000000     92.000000      8.400000     148.000000      6.500000   \n",
       "50%      150.000000    110.000000      9.700000     163.000000      7.200000   \n",
       "75%      190.000000    140.000000     11.300000     191.000000      8.200000   \n",
       "max      318.000000    234.000000     16.000000     260.000000     11.500000   \n",
       "\n",
       "             mileage    model_name          name        vendor           pts  \\\n",
       "count   37769.000000  37769.000000  37769.000000  37769.000000  37769.000000   \n",
       "mean   130304.314279    278.446689    662.971167      2.388149      2.610871   \n",
       "std     74990.681175    163.979031    497.263699      0.704626      0.901938   \n",
       "min         1.000000      0.000000      0.000000      0.000000      0.000000   \n",
       "25%     80000.000000    107.000000    219.000000      2.000000      3.000000   \n",
       "50%    113800.000000    330.000000    558.000000      2.000000      3.000000   \n",
       "75%    175000.000000    422.000000   1033.000000      3.000000      3.000000   \n",
       "max    331000.000000    530.000000   1811.000000      6.000000      3.000000   \n",
       "\n",
       "              wheel         price  \n",
       "count  37769.000000  3.776900e+04  \n",
       "mean       0.005163  5.923387e+05  \n",
       "std        0.071669  1.024746e+06  \n",
       "min        0.000000  0.000000e+00  \n",
       "25%        0.000000  0.000000e+00  \n",
       "50%        0.000000  0.000000e+00  \n",
       "75%        0.000000  9.650000e+05  \n",
       "max        1.000000  2.870000e+07  "
      ]
     },
     "execution_count": 155,
     "metadata": {},
     "output_type": "execute_result"
    }
   ],
   "source": [
    "all_data.describe()"
   ]
  },
  {
   "cell_type": "markdown",
   "metadata": {},
   "source": [
    "**Комментарий**: *в процессе обработки dataframe были обработаны нулевые значения (в данном случае 0 = NaN из-за особенностей сбора данных с сайта auto.ru), удалены выбросы, категориальные переменные переведены в числовые. Итоговый dataframe включается в себя 37851 строку и 23 столбца.*"
   ]
  },
  {
   "cell_type": "markdown",
   "metadata": {},
   "source": [
    "### 9. Построение модели"
   ]
  },
  {
   "cell_type": "code",
   "execution_count": 156,
   "metadata": {},
   "outputs": [],
   "source": [
    "# Делим на тестовую и тренировочную части\n",
    "X = all_data.query('sample == \"train\"').drop(['sample'], axis=1)\n",
    "X_sub = all_data.query('sample == \"test\"').drop(['sample'], axis=1)"
   ]
  },
  {
   "cell_type": "code",
   "execution_count": 157,
   "metadata": {},
   "outputs": [],
   "source": [
    "# определяем целевую переменную\n",
    "y = X['price']"
   ]
  },
  {
   "cell_type": "code",
   "execution_count": 158,
   "metadata": {},
   "outputs": [],
   "source": [
    "# удаляем столбец с целевой переменной\n",
    "X = X.drop(['price'], axis=1)\n",
    "X_sub = X_sub.drop(['price'], axis=1)"
   ]
  },
  {
   "cell_type": "markdown",
   "metadata": {},
   "source": [
    "#### 9.1 Делим dataframe на тестовую и тренировочную части  в пропорции 20/80"
   ]
  },
  {
   "cell_type": "code",
   "execution_count": 159,
   "metadata": {},
   "outputs": [],
   "source": [
    "X_train, X_test, y_train, y_test = train_test_split(X, y, test_size=VAL_SIZE, shuffle=True, random_state=RANDOM_SEED)"
   ]
  },
  {
   "cell_type": "code",
   "execution_count": 160,
   "metadata": {},
   "outputs": [],
   "source": [
    "tmp_train = X_train.copy()\n",
    "tmp_train['price'] = y_train"
   ]
  },
  {
   "cell_type": "markdown",
   "metadata": {},
   "source": [
    "#### 9.2 Создаем простую модель, которая бы предсказывала цену по типу двигателя"
   ]
  },
  {
   "cell_type": "code",
   "execution_count": 161,
   "metadata": {},
   "outputs": [
    {
     "name": "stdout",
     "output_type": "stream",
     "text": [
      "Точность наивной модели по метрике MAPE: 38.92%\n"
     ]
    }
   ],
   "source": [
    "# Находим median по экземплярам displacement в трейне и размечаем тест\n",
    "predict = X_test['displacement'].map(tmp_train.groupby('displacement')['price'].median())\n",
    "\n",
    "#оцениваем точность\n",
    "print(f\"Точность наивной модели по метрике MAPE: {(mape(y_test, predict.values))*100:0.2f}%\")"
   ]
  },
  {
   "cell_type": "markdown",
   "metadata": {},
   "source": [
    "В biseline 117%"
   ]
  },
  {
   "cell_type": "markdown",
   "metadata": {},
   "source": [
    "#### 9.3 Создаем модель с помощью библиотеки CatBoost от Яндекса, которая хорошо работает с категориальными данными"
   ]
  },
  {
   "cell_type": "code",
   "execution_count": 162,
   "metadata": {},
   "outputs": [],
   "source": [
    "model = CatBoostRegressor(iterations = 5000,\n",
    "                          random_seed = RANDOM_SEED,\n",
    "                          eval_metric='MAPE',\n",
    "                          custom_metric=['R2', 'MAE'],\n",
    "                          silent=True,\n",
    "                         )\n",
    "model.fit(X_train, y_train,\n",
    "         #cat_features=cat_features_ids,\n",
    "         eval_set=(X_test, y_test),\n",
    "         verbose_eval=0,\n",
    "         use_best_model=True,\n",
    "         #plot=True\n",
    "         )\n",
    "\n",
    "model.save_model('catboost_single_model_baseline.model')"
   ]
  },
  {
   "cell_type": "code",
   "execution_count": 163,
   "metadata": {
    "scrolled": true
   },
   "outputs": [
    {
     "name": "stdout",
     "output_type": "stream",
     "text": [
      "Точность модели по метрике MAPE: 3.41%\n"
     ]
    }
   ],
   "source": [
    "# оцениваем точность\n",
    "predict = model.predict(X_test)\n",
    "print(f\"Точность модели по метрике MAPE: {(mape(y_test, predict))*100:0.2f}%\")"
   ]
  },
  {
   "cell_type": "markdown",
   "metadata": {},
   "source": [
    "В biseline 15%"
   ]
  },
  {
   "cell_type": "markdown",
   "metadata": {},
   "source": [
    "#### 9.4 Предсказываем цену машины"
   ]
  },
  {
   "cell_type": "code",
   "execution_count": 164,
   "metadata": {},
   "outputs": [],
   "source": [
    "predict_submission = model.predict(X_sub)"
   ]
  },
  {
   "cell_type": "code",
   "execution_count": 165,
   "metadata": {},
   "outputs": [],
   "source": [
    "X_sub['price'] = predict_submission"
   ]
  },
  {
   "cell_type": "markdown",
   "metadata": {},
   "source": [
    "### 10. Выводы"
   ]
  },
  {
   "cell_type": "markdown",
   "metadata": {},
   "source": [
    "Точность модели, предсказывающей стоимость автомобиля, составила 3,41%.\n",
    "Такую точность удалось добиться благодаря:\n",
    "* сбору актуальной информации по стоимости и характеристикам машин с сайта [Auto.ru](https://auto.ru/ \"Сайт Auto.ru\");\n",
    "* проведению разведовательного анализа данных и их предобработке (удалению выбросов, замене категориальных переменных на числовые, а NaN на медианные значения).\n",
    "\n",
    "Общий вывод таков: сбору данных и предобработке необходимо уделять должное внимание. Трата 80% времени на разведавательный анализ данных оправдана."
   ]
  }
 ],
 "metadata": {
  "kernelspec": {
   "display_name": "Python 3",
   "language": "python",
   "name": "python3"
  },
  "language_info": {
   "codemirror_mode": {
    "name": "ipython",
    "version": 3
   },
   "file_extension": ".py",
   "mimetype": "text/x-python",
   "name": "python",
   "nbconvert_exporter": "python",
   "pygments_lexer": "ipython3",
   "version": "3.7.4"
  }
 },
 "nbformat": 4,
 "nbformat_minor": 4
}

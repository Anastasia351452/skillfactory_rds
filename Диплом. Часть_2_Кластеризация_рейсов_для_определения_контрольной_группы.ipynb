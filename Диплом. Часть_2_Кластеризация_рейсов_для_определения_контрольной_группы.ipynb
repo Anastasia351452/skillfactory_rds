{
 "cells": [
  {
   "cell_type": "markdown",
   "metadata": {},
   "source": [
    "### Часть 2. Кластеризация рейсов для определения контрольной группы"
   ]
  },
  {
   "cell_type": "markdown",
   "metadata": {},
   "source": [
    "Если в продуктовых тестах, осуществляемых на сайте, четко определены тестовая и контрольная группы, то технология проведения ценовых тестов (изменение цен на дополнительные услуги) не предусматривает выделения контрольной группы. В связи с этим возникает проблема определения эффективности теста.\n",
    "\n",
    "Как вариант решения проблемы - кластеризация рейсов с целью выявления похожих рейсов по ряду параметров: удельная выручка на пассажира по услуге \"Выбор места\", средний чек услуги \"Выбор места\", расстояние. \n",
    "\n",
    "При этом важно понимать, что маршрутная сеть разнообразна и часть рейсов будут уникальны и не войдут ни в один кластер (выбросы), поэтому предлагается для рейсов в одном кластере применять межрейсовое сравнение, а для специфичных рейсов при проведении тестов сравнивать результаты до и после тестов."
   ]
  },
  {
   "cell_type": "markdown",
   "metadata": {},
   "source": [
    "![](https://pro.arcgis.com/ru/pro-app/latest/tool-reference/spatial-statistics/GUID-A06A412D-2F4F-4D35-8FFF-1F4B3B3A8F16-web.png)"
   ]
  },
  {
   "cell_type": "markdown",
   "metadata": {},
   "source": [
    "**Оценка качества** кластеризации будет проходить с использованием **коэффициент силуэта**, который показывает, насколько объект похож на свой кластер по сравнению с другими кластерами:\n",
    "$$S = {{b-a}\\over\\max(a,b)}$$\n",
    "\n",
    "a — среднее расстояние от данного объекта до объектов из того же кластера;\n",
    "\n",
    "b — среднее расстояние от данного объекта до объектов из ближайшего кластера.\n",
    "\n",
    "Значение коэффициента находится в диапазоне от **-1 до +1**, где высокое значение указывает, что объект хорошо согласуется с кластером, которому он принадлежит, и плохо согласуется с «чужими» кластерами. Если у подавляющего большинства объектов этот коэффициент высокий, то можно считать кластеризацию достаточно качественной. Если же у большого числа объектов низкий или отрицательный коэффициент силуэта, то, возможно, кластеров слишком много, слишком мало или просто данные плохо поддаются разделению на кластеры."
   ]
  },
  {
   "cell_type": "markdown",
   "metadata": {},
   "source": [
    "### 1. Импортирование библиотек"
   ]
  },
  {
   "cell_type": "code",
   "execution_count": 1,
   "metadata": {},
   "outputs": [],
   "source": [
    "# библиотеки для работы с данными\n",
    "import pandas as pd\n",
    "import numpy as np\n",
    "from datetime import datetime, timedelta\n",
    "\n",
    "# библиотеки для статистического анализа\n",
    "from scipy.stats import ttest_ind\n",
    "from scipy.stats import chi2_contingency\n",
    "from scipy.stats import chi2\n",
    "\n",
    "# библиотеки для визуализации\n",
    "import altair as alt\n",
    "# отключение ограничения в 5000 строк для alt\n",
    "alt.data_transformers.disable_max_rows()\n",
    "import matplotlib.pyplot as plt\n",
    "import seaborn as sns\n",
    "%matplotlib inline\n",
    "\n",
    "# опции для вывода данных в нужном количестве и формате\n",
    "pd.set_option('display.max_columns', 50)\n",
    "pd.set_option('display.max_rows', 100)\n",
    "pd.set_option('display.float_format', '{:.5f}'.format)\n",
    "\n",
    "# импортируем библиотеку для работы с алгоритмом K-means\n",
    "from sklearn.cluster import KMeans\n",
    "\n",
    "# импортируем библиотеку для работы с ЕМ - алгоритмом\n",
    "from sklearn.mixture import GaussianMixture\n",
    "\n",
    "# импортируем библиотеку для работы с агломеративной кластеризацией\n",
    "from sklearn.cluster import AgglomerativeClustering\n",
    "\n",
    "# импортируем библиотеки для работы с агломеративной кластеризацией и построением дендограммы\n",
    "from scipy.cluster.hierarchy import dendrogram, linkage\n",
    "\n",
    "# импортируем библиотеку для работы с алгоритмом DBSCAN\n",
    "from sklearn.cluster import DBSCAN\n",
    "\n",
    "# библиотеки для стандартизации и нормализации данных\n",
    "from sklearn.preprocessing import StandardScaler, normalize\n",
    "from sklearn.decomposition import PCA\n",
    "from sklearn.metrics import silhouette_score\n",
    "\n",
    "from catboost import CatBoostRegressor\n",
    "import warnings\n",
    "from sklearn.neighbors import kneighbors_graph"
   ]
  },
  {
   "cell_type": "markdown",
   "metadata": {},
   "source": [
    "### 2. Применяемые функции"
   ]
  },
  {
   "cell_type": "code",
   "execution_count": 2,
   "metadata": {},
   "outputs": [],
   "source": [
    "def count_elem_in_cluster(x, y, data, numb):\n",
    "    \n",
    "    \"\"\"Функция используется для подсчета количества элементов в кластере\"\"\"\n",
    "    \n",
    "    cluster_count = pd.DataFrame(data.pivot_table(values = [x], index = [y], \n",
    "                                            aggfunc = 'count')).reset_index()\n",
    "    cluster_count.columns = [['Номер кластера','Количество элементов']]\n",
    "    cluster_count.iloc[:,1]\n",
    "    \n",
    "    plt.figure(figsize=(10,5))\n",
    "    plt.bar(numb, list(cluster_count.iloc[:,1]))\n",
    "    plt.title('Количество элементов, относящихся к каждому кластеру', fontsize=12, color='black')\n",
    "    plt.xlabel('Количество кластеров', fontsize=12, color='black')\n",
    "    plt.ylabel('Количество элементов', fontsize=12, color='black')\n",
    "    plt.grid(True)\n",
    "    plt.show()\n",
    "    \n",
    "    \n",
    "def dif_cluster(x):\n",
    "    \n",
    "    \"\"\"Функция используется для вывода средних метрик по каждому кластеру\"\"\"\n",
    "    \n",
    "    cluster = pd.DataFrame(df.pivot_table(values = ['Пенетрация_услуги','Расстояние','Средний_чек_услуги',\n",
    "                                                'Удельная_выручка_на_пассажира'], index = [x], \n",
    "                                      aggfunc = 'mean')).reset_index()\n",
    "    cluster.columns = [[\"Номер кластера\",\"Пенетрация\",\"Расстояние, км.\",\"Средний чек, руб.\",\"Уд. выручка на пас.\"]]\n",
    "    return cluster"
   ]
  },
  {
   "cell_type": "markdown",
   "metadata": {},
   "source": [
    "### 3. Обеспечение воспроизводимости экспериментов"
   ]
  },
  {
   "cell_type": "code",
   "execution_count": 3,
   "metadata": {},
   "outputs": [],
   "source": [
    "# фиксация random_seed для воспроивзодимости экспериментов\n",
    "RANDOM_SEED = 42\n",
    "np.random.seed(RANDOM_SEED)"
   ]
  },
  {
   "cell_type": "markdown",
   "metadata": {},
   "source": [
    "### 4. Знакомство с данными"
   ]
  },
  {
   "cell_type": "code",
   "execution_count": 4,
   "metadata": {},
   "outputs": [],
   "source": [
    "df=pd.read_excel(r'C:\\Users\\1201065\\Desktop\\Дипломный проект\\Данные для модели.xlsx')"
   ]
  },
  {
   "cell_type": "code",
   "execution_count": 5,
   "metadata": {
    "scrolled": false
   },
   "outputs": [
    {
     "data": {
      "text/html": [
       "<div>\n",
       "<style scoped>\n",
       "    .dataframe tbody tr th:only-of-type {\n",
       "        vertical-align: middle;\n",
       "    }\n",
       "\n",
       "    .dataframe tbody tr th {\n",
       "        vertical-align: top;\n",
       "    }\n",
       "\n",
       "    .dataframe thead th {\n",
       "        text-align: right;\n",
       "    }\n",
       "</style>\n",
       "<table border=\"1\" class=\"dataframe\">\n",
       "  <thead>\n",
       "    <tr style=\"text-align: right;\">\n",
       "      <th></th>\n",
       "      <th>Маршрут</th>\n",
       "      <th>Пенетрация_услуги</th>\n",
       "      <th>Удельная_выручка_на_пассажира</th>\n",
       "      <th>Тип_ВС</th>\n",
       "      <th>Средний_чек_услуги</th>\n",
       "      <th>Количество_проданных_сегментов</th>\n",
       "      <th>ВВЛ/МВЛ</th>\n",
       "      <th>Направленность</th>\n",
       "      <th>Налет</th>\n",
       "      <th>Тип_маршрута</th>\n",
       "      <th>Расстояние</th>\n",
       "    </tr>\n",
       "  </thead>\n",
       "  <tbody>\n",
       "    <tr>\n",
       "      <td>0</td>\n",
       "      <td>IKT-VKO</td>\n",
       "      <td>0.40268</td>\n",
       "      <td>191.33119</td>\n",
       "      <td>Boeing Московский</td>\n",
       "      <td>487.57926</td>\n",
       "      <td>6337</td>\n",
       "      <td>ВВЛ</td>\n",
       "      <td>Московские</td>\n",
       "      <td>5.46666</td>\n",
       "      <td>Московские</td>\n",
       "      <td>4413.00000</td>\n",
       "    </tr>\n",
       "    <tr>\n",
       "      <td>1</td>\n",
       "      <td>AAQ-VKO</td>\n",
       "      <td>0.37797</td>\n",
       "      <td>163.35751</td>\n",
       "      <td>Boeing Московский</td>\n",
       "      <td>421.38962</td>\n",
       "      <td>84801</td>\n",
       "      <td>ВВЛ</td>\n",
       "      <td>Московские</td>\n",
       "      <td>2.08626</td>\n",
       "      <td>Московские</td>\n",
       "      <td>1390.68746</td>\n",
       "    </tr>\n",
       "    <tr>\n",
       "      <td>2</td>\n",
       "      <td>AER-TJM</td>\n",
       "      <td>0.36009</td>\n",
       "      <td>172.33264</td>\n",
       "      <td>Boeing Региональный</td>\n",
       "      <td>480.23171</td>\n",
       "      <td>9988</td>\n",
       "      <td>ВВЛ</td>\n",
       "      <td>Региональные</td>\n",
       "      <td>3.44479</td>\n",
       "      <td>Региональные</td>\n",
       "      <td>2548.65625</td>\n",
       "    </tr>\n",
       "  </tbody>\n",
       "</table>\n",
       "</div>"
      ],
      "text/plain": [
       "   Маршрут  Пенетрация_услуги  Удельная_выручка_на_пассажира  \\\n",
       "0  IKT-VKO            0.40268                      191.33119   \n",
       "1  AAQ-VKO            0.37797                      163.35751   \n",
       "2  AER-TJM            0.36009                      172.33264   \n",
       "\n",
       "                Тип_ВС  Средний_чек_услуги  Количество_проданных_сегментов  \\\n",
       "0    Boeing Московский           487.57926                            6337   \n",
       "1    Boeing Московский           421.38962                           84801   \n",
       "2  Boeing Региональный           480.23171                            9988   \n",
       "\n",
       "  ВВЛ/МВЛ Направленность   Налет  Тип_маршрута  Расстояние  \n",
       "0     ВВЛ     Московские 5.46666    Московские  4413.00000  \n",
       "1     ВВЛ     Московские 2.08626    Московские  1390.68746  \n",
       "2     ВВЛ   Региональные 3.44479  Региональные  2548.65625  "
      ]
     },
     "execution_count": 5,
     "metadata": {},
     "output_type": "execute_result"
    }
   ],
   "source": [
    "df.head(3)"
   ]
  },
  {
   "cell_type": "code",
   "execution_count": 6,
   "metadata": {
    "scrolled": true
   },
   "outputs": [
    {
     "name": "stdout",
     "output_type": "stream",
     "text": [
      "<class 'pandas.core.frame.DataFrame'>\n",
      "RangeIndex: 160 entries, 0 to 159\n",
      "Data columns (total 11 columns):\n",
      "Маршрут                           160 non-null object\n",
      "Пенетрация_услуги                 160 non-null float64\n",
      "Удельная_выручка_на_пассажира     160 non-null float64\n",
      "Тип_ВС                            160 non-null object\n",
      "Средний_чек_услуги                160 non-null float64\n",
      "Количество_проданных_сегментов    160 non-null int64\n",
      "ВВЛ/МВЛ                           160 non-null object\n",
      "Направленность                    160 non-null object\n",
      "Налет                             160 non-null float64\n",
      "Тип_маршрута                      160 non-null object\n",
      "Расстояние                        160 non-null float64\n",
      "dtypes: float64(5), int64(1), object(5)\n",
      "memory usage: 13.9+ KB\n"
     ]
    }
   ],
   "source": [
    "df.info()"
   ]
  },
  {
   "cell_type": "markdown",
   "metadata": {},
   "source": [
    "Работа будет проведена над dataset, содержащим 160 строк, 11 колонок и следующие поля:\n",
    "* **маршрут** - категориальная переменная, содержит информацию о пункте прилета и вылета;\n",
    "* **пенетрация_услуги** - число, содержит информацию о том, сколько услуг \"Выбор места\" приходится на пассажиров;\n",
    "* **удельная_выручка_на_пассажира** - число, удельная выручка по услуге;\n",
    "* **тип_ВС** - категориальная переменная, тип воздушного судна;\n",
    "* **средний_чек_услуги** - число;\n",
    "* **количество_проданных_сегментов** - число;\n",
    "* **ВВЛ/МВЛ** - категориальная переменная, внутренние и международные перевозки;\n",
    "* **направленность** - категориальная переменная;\n",
    "* **налет** -  число;\n",
    "* **тип_маршрута** - категориальная переменная;\n",
    "* **расстояние** - число."
   ]
  },
  {
   "cell_type": "code",
   "execution_count": 7,
   "metadata": {},
   "outputs": [
    {
     "data": {
      "text/html": [
       "<div>\n",
       "<style scoped>\n",
       "    .dataframe tbody tr th:only-of-type {\n",
       "        vertical-align: middle;\n",
       "    }\n",
       "\n",
       "    .dataframe tbody tr th {\n",
       "        vertical-align: top;\n",
       "    }\n",
       "\n",
       "    .dataframe thead th {\n",
       "        text-align: right;\n",
       "    }\n",
       "</style>\n",
       "<table border=\"1\" class=\"dataframe\">\n",
       "  <thead>\n",
       "    <tr style=\"text-align: right;\">\n",
       "      <th></th>\n",
       "      <th>Пенетрация_услуги</th>\n",
       "      <th>Удельная_выручка_на_пассажира</th>\n",
       "      <th>Средний_чек_услуги</th>\n",
       "      <th>Количество_проданных_сегментов</th>\n",
       "      <th>Налет</th>\n",
       "      <th>Расстояние</th>\n",
       "    </tr>\n",
       "  </thead>\n",
       "  <tbody>\n",
       "    <tr>\n",
       "      <td>count</td>\n",
       "      <td>160.00000</td>\n",
       "      <td>160.00000</td>\n",
       "      <td>160.00000</td>\n",
       "      <td>160.00000</td>\n",
       "      <td>160.00000</td>\n",
       "      <td>160.00000</td>\n",
       "    </tr>\n",
       "    <tr>\n",
       "      <td>mean</td>\n",
       "      <td>0.19071</td>\n",
       "      <td>84.55933</td>\n",
       "      <td>431.21865</td>\n",
       "      <td>10082.80625</td>\n",
       "      <td>2.49464</td>\n",
       "      <td>1528.64077</td>\n",
       "    </tr>\n",
       "    <tr>\n",
       "      <td>std</td>\n",
       "      <td>0.08127</td>\n",
       "      <td>45.29248</td>\n",
       "      <td>121.42053</td>\n",
       "      <td>16788.50766</td>\n",
       "      <td>1.20772</td>\n",
       "      <td>1076.52374</td>\n",
       "    </tr>\n",
       "    <tr>\n",
       "      <td>min</td>\n",
       "      <td>0.01187</td>\n",
       "      <td>3.59033</td>\n",
       "      <td>277.11111</td>\n",
       "      <td>20.00000</td>\n",
       "      <td>0.63889</td>\n",
       "      <td>217.44071</td>\n",
       "    </tr>\n",
       "    <tr>\n",
       "      <td>25%</td>\n",
       "      <td>0.13382</td>\n",
       "      <td>49.98401</td>\n",
       "      <td>328.62849</td>\n",
       "      <td>2100.50000</td>\n",
       "      <td>1.56335</td>\n",
       "      <td>648.11237</td>\n",
       "    </tr>\n",
       "    <tr>\n",
       "      <td>50%</td>\n",
       "      <td>0.18807</td>\n",
       "      <td>80.80268</td>\n",
       "      <td>432.77198</td>\n",
       "      <td>3667.50000</td>\n",
       "      <td>2.27387</td>\n",
       "      <td>1254.74650</td>\n",
       "    </tr>\n",
       "    <tr>\n",
       "      <td>75%</td>\n",
       "      <td>0.24953</td>\n",
       "      <td>115.18452</td>\n",
       "      <td>492.76478</td>\n",
       "      <td>9788.75000</td>\n",
       "      <td>3.16583</td>\n",
       "      <td>2211.31510</td>\n",
       "    </tr>\n",
       "    <tr>\n",
       "      <td>max</td>\n",
       "      <td>0.40268</td>\n",
       "      <td>259.27917</td>\n",
       "      <td>1085.06556</td>\n",
       "      <td>84801.00000</td>\n",
       "      <td>8.68444</td>\n",
       "      <td>6506.46471</td>\n",
       "    </tr>\n",
       "  </tbody>\n",
       "</table>\n",
       "</div>"
      ],
      "text/plain": [
       "       Пенетрация_услуги  Удельная_выручка_на_пассажира  Средний_чек_услуги  \\\n",
       "count          160.00000                      160.00000           160.00000   \n",
       "mean             0.19071                       84.55933           431.21865   \n",
       "std              0.08127                       45.29248           121.42053   \n",
       "min              0.01187                        3.59033           277.11111   \n",
       "25%              0.13382                       49.98401           328.62849   \n",
       "50%              0.18807                       80.80268           432.77198   \n",
       "75%              0.24953                      115.18452           492.76478   \n",
       "max              0.40268                      259.27917          1085.06556   \n",
       "\n",
       "       Количество_проданных_сегментов     Налет  Расстояние  \n",
       "count                       160.00000 160.00000   160.00000  \n",
       "mean                      10082.80625   2.49464  1528.64077  \n",
       "std                       16788.50766   1.20772  1076.52374  \n",
       "min                          20.00000   0.63889   217.44071  \n",
       "25%                        2100.50000   1.56335   648.11237  \n",
       "50%                        3667.50000   2.27387  1254.74650  \n",
       "75%                        9788.75000   3.16583  2211.31510  \n",
       "max                       84801.00000   8.68444  6506.46471  "
      ]
     },
     "execution_count": 7,
     "metadata": {},
     "output_type": "execute_result"
    }
   ],
   "source": [
    "df.describe()"
   ]
  },
  {
   "cell_type": "code",
   "execution_count": 8,
   "metadata": {},
   "outputs": [],
   "source": [
    "# категориальные переменные в число\n",
    "for colum in ['Тип_ВС','ВВЛ/МВЛ','Направленность','Тип_маршрута']:\n",
    "    df[colum] = df[colum].astype('category').cat.codes"
   ]
  },
  {
   "cell_type": "code",
   "execution_count": 9,
   "metadata": {},
   "outputs": [],
   "source": [
    "# возьмем только числовые признаки для анализа\n",
    "X=df[['Расстояние','Средний_чек_услуги','Удельная_выручка_на_пассажира']]  #'Пенетрация_услуги'"
   ]
  },
  {
   "cell_type": "code",
   "execution_count": 10,
   "metadata": {},
   "outputs": [],
   "source": [
    "# проведем стандартизацию признаков\n",
    "scaler = StandardScaler() \n",
    "scaled_df = scaler.fit_transform(X) "
   ]
  },
  {
   "cell_type": "code",
   "execution_count": 11,
   "metadata": {},
   "outputs": [],
   "source": [
    "# нормализируем признаки\n",
    "X = normalize(scaled_df) \n",
    "  \n",
    "# конвертируем матрицу в df и извлекаем значения\n",
    "X = pd.DataFrame(X).values"
   ]
  },
  {
   "cell_type": "code",
   "execution_count": 12,
   "metadata": {},
   "outputs": [
    {
     "data": {
      "text/plain": [
       "array([[ 0.74450105,  0.12898023,  0.65504372],\n",
       "       [-0.07337978, -0.04635393,  0.99622624],\n",
       "       [ 0.43174585,  0.18393512,  0.88304212],\n",
       "       [ 0.44072263,  0.26387167,  0.85798328],\n",
       "       [-0.03264994,  0.12913686,  0.99108912],\n",
       "       [ 0.00357717,  0.10673088,  0.99428151],\n",
       "       [ 0.49671995,  0.20914127,  0.84233557],\n",
       "       [-0.10470114, -0.85801546,  0.50283908],\n",
       "       [ 0.80147581,  0.14064972,  0.58125226],\n",
       "       [ 0.59262444,  0.04804552,  0.80404471],\n",
       "       [ 0.68484052,  0.24305718,  0.68696192],\n",
       "       [ 0.55242948,  0.26054184,  0.79179519],\n",
       "       [ 0.64725759,  0.27684807,  0.71022021],\n",
       "       [-0.57750184, -0.75798469,  0.30323395],\n",
       "       [ 0.73309698,  0.17621286,  0.65690018],\n",
       "       [ 0.86871869, -0.24346198,  0.4313399 ],\n",
       "       [ 0.6471906 ,  0.3377784 ,  0.68341063],\n",
       "       [ 0.49714852,  0.2563969 ,  0.82891735],\n",
       "       [ 0.88028701,  0.26133811,  0.39597623],\n",
       "       [ 0.05731415,  0.38243728,  0.92220216],\n",
       "       [ 0.651404  ,  0.365511  ,  0.66488686],\n",
       "       [-0.6052862 , -0.76756917,  0.21087006],\n",
       "       [ 0.66550893,  0.29965337,  0.68359763],\n",
       "       [ 0.3814713 ,  0.39132852,  0.83746142],\n",
       "       [ 0.73104153,  0.31575707,  0.60487664],\n",
       "       [-0.77263754, -0.62811754,  0.09219319],\n",
       "       [ 0.77600115,  0.26865574,  0.57065428],\n",
       "       [ 0.0953898 ,  0.36826562,  0.92481415],\n",
       "       [ 0.7794891 ,  0.27935421,  0.56067634],\n",
       "       [ 0.44384618,  0.49228841,  0.74876745],\n",
       "       [ 0.79595288,  0.25521059,  0.5489322 ],\n",
       "       [-0.20812437,  0.65321907,  0.7280035 ],\n",
       "       [ 0.64559476,  0.30874508,  0.69848685],\n",
       "       [-0.49867482, -0.86389465,  0.07077748],\n",
       "       [ 0.79994703, -0.11782586,  0.58838918],\n",
       "       [ 0.81858073,  0.00943901,  0.57431394],\n",
       "       [-0.08322328,  0.505197  ,  0.85898188],\n",
       "       [ 0.53038794,  0.21123047,  0.82101786],\n",
       "       [ 0.60789115, -0.49922177,  0.61745119],\n",
       "       [ 0.97953337,  0.0062632 ,  0.20118437],\n",
       "       [ 0.07791464,  0.63018268,  0.77252773],\n",
       "       [ 0.66532005, -0.40278185,  0.62858254],\n",
       "       [-0.62370269,  0.069228  ,  0.77859003],\n",
       "       [-0.30858024,  0.48631028,  0.81748428],\n",
       "       [ 0.1956773 ,  0.58626125,  0.78613494],\n",
       "       [-0.78923804, -0.60647179, -0.09641205],\n",
       "       [ 0.8100727 ,  0.30820474,  0.4987906 ],\n",
       "       [-0.28393174,  0.33877407,  0.89700329],\n",
       "       [-0.11278694,  0.80774742,  0.5786391 ],\n",
       "       [-0.24103712,  0.44450368,  0.86273843],\n",
       "       [ 0.51512832,  0.6105255 ,  0.60158244],\n",
       "       [-0.80024253, -0.59155334, -0.09836939],\n",
       "       [-0.74209846, -0.65728558, -0.13139843],\n",
       "       [ 0.5976813 ,  0.55078055,  0.58259578],\n",
       "       [ 0.40480564,  0.67695146,  0.61471059],\n",
       "       [ 0.3844221 ,  0.55545196,  0.73735525],\n",
       "       [ 0.80384081,  0.27143608,  0.5293037 ],\n",
       "       [ 0.15755155,  0.64836882,  0.74484588],\n",
       "       [ 0.94590762, -0.02150393,  0.32372266],\n",
       "       [-0.79270562, -0.58240126, -0.18007379],\n",
       "       [ 0.94831172,  0.13815621,  0.28568818],\n",
       "       [-0.71538477, -0.65411848, -0.24566978],\n",
       "       [-0.60991484, -0.73740266, -0.29024336],\n",
       "       [-0.9790948 , -0.14760103,  0.13995466],\n",
       "       [ 0.32172858,  0.75977271,  0.56500987],\n",
       "       [-0.70371218, -0.65651379, -0.27162255],\n",
       "       [-0.25296852,  0.83731507,  0.48467556],\n",
       "       [ 0.33735442,  0.78516041,  0.51934105],\n",
       "       [-0.87531281,  0.33441393,  0.34927756],\n",
       "       [ 0.93726197,  0.30137842,  0.17524568],\n",
       "       [-0.19309461, -0.89068111, -0.4115843 ],\n",
       "       [-0.51128337, -0.75790584, -0.40517657],\n",
       "       [-0.80918172, -0.51546305, -0.28199785],\n",
       "       [-0.06973474,  0.91503649,  0.39729747],\n",
       "       [-0.69351186, -0.62923999, -0.35085373],\n",
       "       [-0.8066153 ,  0.54742469,  0.22293039],\n",
       "       [-0.69475989, -0.62822531, -0.35020232],\n",
       "       [-0.37547722, -0.80534354, -0.45873591],\n",
       "       [ 0.91579789,  0.38514502,  0.11391903],\n",
       "       [-0.35598627, -0.8072974 , -0.47068534],\n",
       "       [-0.59607698, -0.68989619, -0.41077423],\n",
       "       [-0.59677976, -0.68593582, -0.41634837],\n",
       "       [ 0.11399014,  0.98357513,  0.13995076],\n",
       "       [ 0.92501311,  0.36610122,  0.10159057],\n",
       "       [-0.97120201, -0.07583116, -0.22586787],\n",
       "       [-0.75878025,  0.63313185,  0.15295942],\n",
       "       [ 0.31954722,  0.9197406 ,  0.22796229],\n",
       "       [-0.57681742, -0.68728763, -0.44149448],\n",
       "       [-0.33957062, -0.78507995, -0.51801667],\n",
       "       [-0.50995194, -0.7101763 , -0.48538504],\n",
       "       [ 0.57356277,  0.80592906,  0.14664275],\n",
       "       [-0.63388532, -0.63941923, -0.43512348],\n",
       "       [-0.49024159, -0.72030853, -0.49073293],\n",
       "       [ 0.23991392,  0.91316149,  0.32951084],\n",
       "       [-0.86874824,  0.49509674,  0.01247885],\n",
       "       [ 0.25318405,  0.94366396, -0.21306374],\n",
       "       [-0.65102041, -0.61083072, -0.45061985],\n",
       "       [ 0.14374019,  0.975552  ,  0.16624395],\n",
       "       [ 0.7589087 ,  0.63628037,  0.1385817 ],\n",
       "       [-0.64619954, -0.60564773, -0.46434576],\n",
       "       [ 0.26802442,  0.94210298,  0.20150654],\n",
       "       [-0.54613445, -0.66064242, -0.51506189],\n",
       "       [-0.40767088, -0.73596305, -0.5405209 ],\n",
       "       [-0.74611559,  0.35390012, -0.56397361],\n",
       "       [-0.61899943, -0.59943853, -0.50745753],\n",
       "       [-0.41008228,  0.90935856, -0.06999667],\n",
       "       [-0.68946362, -0.55464812, -0.46583836],\n",
       "       [ 0.23473834,  0.93373965,  0.27023726],\n",
       "       [-0.38066877, -0.683401  , -0.6229401 ],\n",
       "       [-0.63332668, -0.57912745, -0.51333101],\n",
       "       [ 0.93811922,  0.30889662, -0.15657335],\n",
       "       [-0.64085547, -0.56417796, -0.52058381],\n",
       "       [-0.50340718, -0.63528555, -0.58565645],\n",
       "       [-0.26600637,  0.93853889,  0.21996673],\n",
       "       [-0.50216982, -0.62842869, -0.59405627],\n",
       "       [ 0.29075208,  0.95670814,  0.01314406],\n",
       "       [-0.56006516, -0.6001495 , -0.57109334],\n",
       "       [-0.30044414, -0.65044814, -0.69760342],\n",
       "       [-0.5688086 , -0.5567636 , -0.60536853],\n",
       "       [-0.19710389, -0.68044753, -0.7057912 ],\n",
       "       [-0.57472396, -0.54831178, -0.60749203],\n",
       "       [-0.55371514, -0.59843684, -0.57902754],\n",
       "       [-0.38460065, -0.63338367, -0.67149644],\n",
       "       [ 0.09307076, -0.68756882, -0.72012981],\n",
       "       [-0.6108357 , -0.49523112, -0.61775876],\n",
       "       [-0.60842949, -0.52831114, -0.59220005],\n",
       "       [ 0.5828404 ,  0.33809555, -0.73891033],\n",
       "       [-0.50375041,  0.86236361, -0.05064111],\n",
       "       [ 0.1476492 , -0.16057083, -0.9759184 ],\n",
       "       [-0.18144589, -0.65948242, -0.7294932 ],\n",
       "       [-0.38840662, -0.57796418, -0.71770307],\n",
       "       [-0.17458784,  0.46627286, -0.86724201],\n",
       "       [ 0.62171064,  0.73091754, -0.2814879 ],\n",
       "       [-0.3974498 , -0.55688113, -0.72932645],\n",
       "       [-0.57505349, -0.51595427, -0.63490525],\n",
       "       [-0.44076326, -0.60908075, -0.65935452],\n",
       "       [-0.36425581, -0.59996932, -0.71228823],\n",
       "       [ 0.30012858,  0.63216933, -0.71434219],\n",
       "       [-0.52660475, -0.52058379, -0.67207139],\n",
       "       [-0.56482705, -0.49382316, -0.66114226],\n",
       "       [ 0.24388944,  0.95766196, -0.15297554],\n",
       "       [ 0.86680123,  0.38564191, -0.31612647],\n",
       "       [-0.51008648, -0.55789816, -0.65464603],\n",
       "       [-0.49732741, -0.51297269, -0.69966025],\n",
       "       [-0.49710448, -0.47467343, -0.7263417 ],\n",
       "       [ 0.90770275,  0.30828548, -0.28466784],\n",
       "       [-0.51289501, -0.42472662, -0.74602011],\n",
       "       [-0.53397944, -0.54998477, -0.64217031],\n",
       "       [-0.56652738, -0.45923956, -0.68421178],\n",
       "       [ 0.57523747,  0.72680378, -0.3753107 ],\n",
       "       [-0.50455673, -0.52423282, -0.68600471],\n",
       "       [-0.50868697, -0.50601935, -0.69655006],\n",
       "       [ 0.22656634,  0.89544549, -0.38320369],\n",
       "       [-0.3477251 , -0.48958906, -0.79961854],\n",
       "       [-0.44731658, -0.43476922, -0.78159043],\n",
       "       [-0.45481689, -0.54405407, -0.70508635],\n",
       "       [-0.4958092 , -0.46445366, -0.73379563],\n",
       "       [-0.52879049, -0.39991836, -0.74862936],\n",
       "       [-0.49155936, -0.37518749, -0.78587769],\n",
       "       [-0.46089017, -0.45417443, -0.76243415]])"
      ]
     },
     "execution_count": 12,
     "metadata": {},
     "output_type": "execute_result"
    }
   ],
   "source": [
    "X"
   ]
  },
  {
   "cell_type": "markdown",
   "metadata": {},
   "source": [
    "### 5. Применение алгоритмов кластеризации (обучение без учителя)"
   ]
  },
  {
   "cell_type": "markdown",
   "metadata": {},
   "source": [
    "### 5.1. k-means"
   ]
  },
  {
   "cell_type": "markdown",
   "metadata": {},
   "source": [
    "**k-means** является одним из самых популярных и простых алгоритмов кластеризации. В ходе этого алгоритма все элементы пространства разбиваются на заранее известное (заданное) количество кластеров. Суть алгоритма состоит в том, что он пытается оптимизировать расстояние всех точек кластера от центра этого кластера. То есть он формирует кластеры так, чтобы внутри каждого сумма квадратов расстояний от точек до центра кластера была как можно меньше."
   ]
  },
  {
   "cell_type": "markdown",
   "metadata": {},
   "source": [
    "**Этапы работы алгоритма:**\n",
    "* выбрать количество кластеров, которое нам кажется оптимальным для наших данных;\n",
    "* выбрать случайным образом в пространство наших данных центроиды;\n",
    "* для каждой точки набора данных посчитать, к какому центроиду она ближе;\n",
    "* переместить каждый центроид в центр выборки, которую мы отнесли к этому центроиду. Каждый центроид на каждой итерации — вектор, элементы которого представляют собой средние значения признаков, вычисленные по всем записям кластера;\n",
    "* повторять шаги 3-4 фиксированное число раз или до тех пор, пока центроиды не сойдутся."
   ]
  },
  {
   "cell_type": "markdown",
   "metadata": {},
   "source": [
    "Для начала необходимо определить **оптимальное количество** групп (кластеров) K. Для этого воспользуемся двумя методами:\n",
    "1. **\"метод локтя\"**, который подразумевает многократное циклическое исполнение алгоритма с увеличением количества выбираемых кластеров, а также последующим откладыванием на графике балла кластеризации, вычисленного как функция от количества кластеров.  Балл, как правило, является мерой входных данных по целевой функции k-средних, то есть некой формой отношения внутрикластерного расстояния к межкластерному расстоянию.\n",
    "\n",
    "Определим количество кластеров первым способом."
   ]
  },
  {
   "cell_type": "code",
   "execution_count": 13,
   "metadata": {},
   "outputs": [],
   "source": [
    "# в цикле будем увеличивать кол-во кластеров и обучать модель, добавляя в список wcss inertia\n",
    "\n",
    "wcss = []\n",
    "for i in range(1, 11):\n",
    "    # кол-во кластеров перебираем от 1 до 10, метод инициализации k-means++\n",
    "    kmeans = KMeans(n_clusters = i, init = 'k-means++', random_state = 42)\n",
    "    # обучаем модель\n",
    "    kmeans.fit(X)\n",
    "    # inertia это сумма квадратов расстояний от образцов до ближайшего центра кластера\n",
    "    wcss.append(kmeans.inertia_)"
   ]
  },
  {
   "cell_type": "code",
   "execution_count": 14,
   "metadata": {},
   "outputs": [
    {
     "data": {
      "image/png": "[encoded data removed]",
      "text/plain": [
       "<Figure size 720x360 with 1 Axes>"
      ]
     },
     "metadata": {
      "needs_background": "light"
     },
     "output_type": "display_data"
    }
   ],
   "source": [
    "# выведем график\n",
    "\n",
    "plt.figure(figsize=(10,5))\n",
    "sns.lineplot(range(1, 11), wcss, marker='o',color='blue',size=7)\n",
    "plt.title('Определение количества кластеров \"методом локтя\"', fontsize=12, color='black')\n",
    "plt.xlabel('Количество кластеров', fontsize=12, color='black')\n",
    "plt.ylabel('Сумма квадратов расстояний от точки до центра', fontsize=12, color='black')\n",
    "plt.grid(True)\n",
    "plt.show()"
   ]
  },
  {
   "cell_type": "markdown",
   "metadata": {},
   "source": [
    "\"Метод локтя\" указывает на то, что оптимальное количество кластеров **4 или 5 шт.**"
   ]
  },
  {
   "cell_type": "markdown",
   "metadata": {},
   "source": [
    "2. **коэффициент силуэта**.\n",
    "\n",
    "Определим количество кластеров вторым способом:"
   ]
  },
  {
   "cell_type": "code",
   "execution_count": 15,
   "metadata": {},
   "outputs": [
    {
     "data": {
      "image/png": "[encoded data removed]",
      "text/plain": [
       "<Figure size 720x360 with 1 Axes>"
      ]
     },
     "metadata": {
      "needs_background": "light"
     },
     "output_type": "display_data"
    }
   ],
   "source": [
    "# данные по оценке\n",
    "silhouette_scores = [] \n",
    "\n",
    "for n_cluster in range(2, 11):\n",
    "    silhouette_scores.append(silhouette_score(X, KMeans(n_clusters = n_cluster).fit_predict(X))) \n",
    "    \n",
    "plt.figure(figsize=(10,5))\n",
    "k = [2,3,4,5,6,7,8,9,10]\n",
    "plt.bar(k, silhouette_scores)\n",
    "plt.title('Определение количества кластеров \"силуэтом\"', fontsize=12, color='black')\n",
    "plt.xlabel('Количество кластеров', fontsize=12, color='black')\n",
    "plt.ylabel('Оценка', fontsize=12, color='black')\n",
    "for counter, value in enumerate(silhouette_scores):\n",
    "    plt.text(counter+1.65, value, round(value, 3), ha='left', size=12)\n",
    "plt.grid(True)\n",
    "plt.show()"
   ]
  },
  {
   "cell_type": "markdown",
   "metadata": {},
   "source": [
    "Значение коэффициента указывает на то, что оптимальное количество кластеров **2 шт.**, но в данной задаче лучше применить деление на 4 кластера (коэф. силуэта = 0,54)"
   ]
  },
  {
   "cell_type": "code",
   "execution_count": 16,
   "metadata": {},
   "outputs": [],
   "source": [
    "# обучим модель\n",
    "kmeans = KMeans(n_clusters = 4, init = 'k-means++', random_state = 42)\n",
    "y_kmeans = kmeans.fit_predict(X)"
   ]
  },
  {
   "cell_type": "code",
   "execution_count": 17,
   "metadata": {
    "scrolled": true
   },
   "outputs": [
    {
     "data": {
      "text/html": [
       "<div>\n",
       "<style scoped>\n",
       "    .dataframe tbody tr th:only-of-type {\n",
       "        vertical-align: middle;\n",
       "    }\n",
       "\n",
       "    .dataframe tbody tr th {\n",
       "        vertical-align: top;\n",
       "    }\n",
       "\n",
       "    .dataframe thead th {\n",
       "        text-align: right;\n",
       "    }\n",
       "</style>\n",
       "<table border=\"1\" class=\"dataframe\">\n",
       "  <thead>\n",
       "    <tr style=\"text-align: right;\">\n",
       "      <th></th>\n",
       "      <th>Маршрут</th>\n",
       "      <th>Пенетрация_услуги</th>\n",
       "      <th>Удельная_выручка_на_пассажира</th>\n",
       "      <th>Тип_ВС</th>\n",
       "      <th>Средний_чек_услуги</th>\n",
       "      <th>Количество_проданных_сегментов</th>\n",
       "      <th>ВВЛ/МВЛ</th>\n",
       "      <th>Направленность</th>\n",
       "      <th>Налет</th>\n",
       "      <th>Тип_маршрута</th>\n",
       "      <th>Расстояние</th>\n",
       "      <th>Кластер K-means</th>\n",
       "    </tr>\n",
       "  </thead>\n",
       "  <tbody>\n",
       "    <tr>\n",
       "      <td>0</td>\n",
       "      <td>IKT-VKO</td>\n",
       "      <td>0.40268</td>\n",
       "      <td>191.33119</td>\n",
       "      <td>2</td>\n",
       "      <td>487.57926</td>\n",
       "      <td>6337</td>\n",
       "      <td>0</td>\n",
       "      <td>1</td>\n",
       "      <td>5.46666</td>\n",
       "      <td>0</td>\n",
       "      <td>4413.00000</td>\n",
       "      <td>1</td>\n",
       "    </tr>\n",
       "    <tr>\n",
       "      <td>1</td>\n",
       "      <td>AAQ-VKO</td>\n",
       "      <td>0.37797</td>\n",
       "      <td>163.35751</td>\n",
       "      <td>2</td>\n",
       "      <td>421.38962</td>\n",
       "      <td>84801</td>\n",
       "      <td>0</td>\n",
       "      <td>1</td>\n",
       "      <td>2.08626</td>\n",
       "      <td>0</td>\n",
       "      <td>1390.68746</td>\n",
       "      <td>2</td>\n",
       "    </tr>\n",
       "    <tr>\n",
       "      <td>2</td>\n",
       "      <td>AER-TJM</td>\n",
       "      <td>0.36009</td>\n",
       "      <td>172.33264</td>\n",
       "      <td>3</td>\n",
       "      <td>480.23171</td>\n",
       "      <td>9988</td>\n",
       "      <td>0</td>\n",
       "      <td>2</td>\n",
       "      <td>3.44479</td>\n",
       "      <td>1</td>\n",
       "      <td>2548.65625</td>\n",
       "      <td>1</td>\n",
       "    </tr>\n",
       "  </tbody>\n",
       "</table>\n",
       "</div>"
      ],
      "text/plain": [
       "   Маршрут  Пенетрация_услуги  Удельная_выручка_на_пассажира  Тип_ВС  \\\n",
       "0  IKT-VKO            0.40268                      191.33119       2   \n",
       "1  AAQ-VKO            0.37797                      163.35751       2   \n",
       "2  AER-TJM            0.36009                      172.33264       3   \n",
       "\n",
       "   Средний_чек_услуги  Количество_проданных_сегментов  ВВЛ/МВЛ  \\\n",
       "0           487.57926                            6337        0   \n",
       "1           421.38962                           84801        0   \n",
       "2           480.23171                            9988        0   \n",
       "\n",
       "   Направленность   Налет  Тип_маршрута  Расстояние  Кластер K-means  \n",
       "0               1 5.46666             0  4413.00000                1  \n",
       "1               1 2.08626             0  1390.68746                2  \n",
       "2               2 3.44479             1  2548.65625                1  "
      ]
     },
     "execution_count": 17,
     "metadata": {},
     "output_type": "execute_result"
    }
   ],
   "source": [
    "# добавим номер кластера отдельной колонкой в df\n",
    "df['Кластер K-means'] = kmeans.labels_\n",
    "df.head(3)"
   ]
  },
  {
   "cell_type": "code",
   "execution_count": 18,
   "metadata": {},
   "outputs": [
    {
     "data": {
      "text/plain": [
       "array([1, 2, 0, 3], dtype=int64)"
      ]
     },
     "execution_count": 18,
     "metadata": {},
     "output_type": "execute_result"
    }
   ],
   "source": [
    "# список номеров кластера\n",
    "df['Кластер K-means'].unique()"
   ]
  },
  {
   "cell_type": "code",
   "execution_count": 19,
   "metadata": {},
   "outputs": [
    {
     "data": {
      "image/png": "[encoded data removed]",
      "text/plain": [
       "<Figure size 720x360 with 1 Axes>"
      ]
     },
     "metadata": {
      "needs_background": "light"
     },
     "output_type": "display_data"
    }
   ],
   "source": [
    "# посмотрим на кол-во элементов в каждом кластере\n",
    "count_elem_in_cluster('Маршрут','Кластер K-means', df, list(df['Кластер K-means'].unique()))"
   ]
  },
  {
   "cell_type": "code",
   "execution_count": 20,
   "metadata": {
    "scrolled": true
   },
   "outputs": [
    {
     "data": {
      "text/html": [
       "<div>\n",
       "<style scoped>\n",
       "    .dataframe tbody tr th:only-of-type {\n",
       "        vertical-align: middle;\n",
       "    }\n",
       "\n",
       "    .dataframe tbody tr th {\n",
       "        vertical-align: top;\n",
       "    }\n",
       "\n",
       "    .dataframe thead tr th {\n",
       "        text-align: left;\n",
       "    }\n",
       "</style>\n",
       "<table border=\"1\" class=\"dataframe\">\n",
       "  <thead>\n",
       "    <tr>\n",
       "      <th></th>\n",
       "      <th>Номер кластера</th>\n",
       "      <th>Пенетрация</th>\n",
       "      <th>Расстояние, км.</th>\n",
       "      <th>Средний чек, руб.</th>\n",
       "      <th>Уд. выручка на пас.</th>\n",
       "    </tr>\n",
       "  </thead>\n",
       "  <tbody>\n",
       "    <tr>\n",
       "      <td>0</td>\n",
       "      <td>0</td>\n",
       "      <td>0.14820</td>\n",
       "      <td>715.07245</td>\n",
       "      <td>330.16876</td>\n",
       "      <td>49.60462</td>\n",
       "    </tr>\n",
       "    <tr>\n",
       "      <td>1</td>\n",
       "      <td>1</td>\n",
       "      <td>0.27159</td>\n",
       "      <td>2808.01346</td>\n",
       "      <td>481.89994</td>\n",
       "      <td>130.30340</td>\n",
       "    </tr>\n",
       "    <tr>\n",
       "      <td>2</td>\n",
       "      <td>2</td>\n",
       "      <td>0.23107</td>\n",
       "      <td>1261.54211</td>\n",
       "      <td>535.17706</td>\n",
       "      <td>121.49031</td>\n",
       "    </tr>\n",
       "    <tr>\n",
       "      <td>3</td>\n",
       "      <td>3</td>\n",
       "      <td>0.13372</td>\n",
       "      <td>2327.32648</td>\n",
       "      <td>568.59472</td>\n",
       "      <td>74.39336</td>\n",
       "    </tr>\n",
       "  </tbody>\n",
       "</table>\n",
       "</div>"
      ],
      "text/plain": [
       "  Номер кластера Пенетрация Расстояние, км. Средний чек, руб.  \\\n",
       "0              0    0.14820       715.07245         330.16876   \n",
       "1              1    0.27159      2808.01346         481.89994   \n",
       "2              2    0.23107      1261.54211         535.17706   \n",
       "3              3    0.13372      2327.32648         568.59472   \n",
       "\n",
       "  Уд. выручка на пас.  \n",
       "0            49.60462  \n",
       "1           130.30340  \n",
       "2           121.49031  \n",
       "3            74.39336  "
      ]
     },
     "execution_count": 20,
     "metadata": {},
     "output_type": "execute_result"
    }
   ],
   "source": [
    "# выведем отличия между кластерами\n",
    "dif_cluster('Кластер K-means')"
   ]
  },
  {
   "cell_type": "code",
   "execution_count": 21,
   "metadata": {
    "scrolled": true
   },
   "outputs": [
    {
     "data": {
      "image/png": "[encoded data removed]",
      "text/plain": [
       "<Figure size 1080x504 with 1 Axes>"
      ]
     },
     "metadata": {
      "needs_background": "light"
     },
     "output_type": "display_data"
    }
   ],
   "source": [
    "# строим визуализацию\n",
    "\n",
    "plt.figure(figsize=(15,7))\n",
    "sns.scatterplot(X[y_kmeans == 0, 0], X[y_kmeans == 0, 1], color = 'red', label = 'кластер 1',s=50)\n",
    "sns.scatterplot(X[y_kmeans == 1, 0], X[y_kmeans == 1, 1], color = 'blue', label = 'кластер 2',s=50)\n",
    "sns.scatterplot(X[y_kmeans == 2, 0], X[y_kmeans == 2, 1], color = 'grey', label = 'кластер 3',s=50)\n",
    "sns.scatterplot(X[y_kmeans == 3, 0], X[y_kmeans == 3, 1], color = 'green', label = 'кластер 4',s=50)\n",
    "# выведем центры\n",
    "sns.scatterplot(kmeans.cluster_centers_[:, 0], kmeans.cluster_centers_[:, 1], color = 'black', label = 'центроид',\n",
    "                s=500, marker='.')\n",
    "plt.title('Кластеризация маршрутов методом K-means', fontsize=12, color='black')\n",
    "plt.legend()\n",
    "plt.show()"
   ]
  },
  {
   "cell_type": "markdown",
   "metadata": {},
   "source": [
    "**Вывод:** используя метод k-means имеющиеся данные можно разделить на 4 кластера с коэффициентов силуэта, равным 0,54."
   ]
  },
  {
   "cell_type": "markdown",
   "metadata": {},
   "source": [
    "### 5.2.  Aлгоритм максимизации ожидания (EM)"
   ]
  },
  {
   "cell_type": "markdown",
   "metadata": {},
   "source": [
    "**Схема действий EM-алгоритма:**\n",
    "\n",
    "* выбрать количество кластеров, которое нам кажется оптимальным для наших данных;\n",
    "* выбрать случайным образом в пространство наших данных параметры распределений;\n",
    "* для каждой точки нашего набора данных посчитать вероятность принадлежности к каждому кластеру;\n",
    "* обновить параметры распределений таким образом, чтобы максимизировать вероятность принадлежности точек, отнесённых к кластеру;\n",
    "* повторять шаги 3-4 фиксированное число раз, либо до тех пор пока центроиды не сойдутся."
   ]
  },
  {
   "cell_type": "code",
   "execution_count": 22,
   "metadata": {},
   "outputs": [
    {
     "data": {
      "image/png": "[encoded data removed]",
      "text/plain": [
       "<Figure size 720x360 with 1 Axes>"
      ]
     },
     "metadata": {
      "needs_background": "light"
     },
     "output_type": "display_data"
    }
   ],
   "source": [
    "silhouette_score_em = []\n",
    "\n",
    "for n_cluster in range(2,11):\n",
    "    em_gm = GaussianMixture(n_components=n_cluster, # количество кластеров\n",
    "                        max_iter=100, # количество интераций\n",
    "                        init_params='kmeans' # 'kmeans’, ‘random’\n",
    "                       )\n",
    "    y_pred_em = em_gm.fit_predict(X)\n",
    "    silhouette_score_em.append(silhouette_score(X=X, labels=y_pred_em, metric='euclidean'))\n",
    "\n",
    "plt.figure(figsize=(10,5))\n",
    "k = [2,3,4,5,6,7,8,9,10]\n",
    "plt.bar(k, silhouette_score_em)\n",
    "plt.title('Определение количества кластеров \"силуэтом\"', fontsize=12, color='black')\n",
    "plt.xlabel('Количество кластеров', fontsize=12, color='black')\n",
    "plt.ylabel('Оценка', fontsize=12, color='black')\n",
    "for counter, value in enumerate(silhouette_score_em):\n",
    "    plt.text(counter+1.65, value, round(value, 3), ha='left', size=12)\n",
    "plt.grid(True)\n",
    "plt.show()"
   ]
  },
  {
   "cell_type": "markdown",
   "metadata": {},
   "source": [
    "Согласно коэффициенту силуэта оптимальное количество кластеров - **2 шт. (0.54)**. Однако попробуем разделить данные на 5 кластеров с коэффициентом силуэта 0,5."
   ]
  },
  {
   "cell_type": "code",
   "execution_count": 23,
   "metadata": {},
   "outputs": [],
   "source": [
    "# создадим объект\n",
    "em_gm = GaussianMixture(n_components=5, # количество кластеров\n",
    "                        max_iter=100, # количество интераций\n",
    "                        init_params='kmeans' # 'kmeans’, ‘random’\n",
    "                       )"
   ]
  },
  {
   "cell_type": "code",
   "execution_count": 24,
   "metadata": {},
   "outputs": [
    {
     "data": {
      "text/plain": [
       "array([0, 3, 0, 0, 3, 3, 0, 1, 0, 0, 0, 0, 0, 1, 0, 0, 0, 0, 0, 3, 0, 1,\n",
       "       0, 3, 0, 1, 0, 3, 0, 3, 0, 3, 0, 1, 0, 0, 3, 0, 0, 0, 3, 0, 3, 3,\n",
       "       3, 1, 0, 3, 3, 3, 3, 1, 1, 3, 3, 3, 0, 3, 0, 1, 0, 1, 4, 1, 3, 1,\n",
       "       3, 3, 3, 2, 4, 4, 1, 3, 4, 3, 4, 4, 2, 4, 4, 4, 3, 2, 1, 3, 3, 4,\n",
       "       4, 4, 2, 4, 4, 3, 3, 2, 4, 3, 2, 4, 3, 4, 4, 4, 4, 3, 4, 3, 4, 4,\n",
       "       2, 4, 4, 3, 4, 2, 4, 4, 4, 4, 4, 4, 4, 4, 4, 4, 2, 3, 4, 4, 4, 4,\n",
       "       2, 4, 4, 4, 4, 2, 4, 4, 2, 2, 4, 4, 4, 2, 4, 4, 4, 2, 4, 4, 2, 4,\n",
       "       4, 4, 4, 4, 4, 4], dtype=int64)"
      ]
     },
     "execution_count": 24,
     "metadata": {},
     "output_type": "execute_result"
    }
   ],
   "source": [
    "# обучим модель\n",
    "y_pred_em = em_gm.fit_predict(X)\n",
    "y_pred_em"
   ]
  },
  {
   "cell_type": "code",
   "execution_count": 25,
   "metadata": {
    "scrolled": true
   },
   "outputs": [
    {
     "data": {
      "text/html": [
       "<div>\n",
       "<style scoped>\n",
       "    .dataframe tbody tr th:only-of-type {\n",
       "        vertical-align: middle;\n",
       "    }\n",
       "\n",
       "    .dataframe tbody tr th {\n",
       "        vertical-align: top;\n",
       "    }\n",
       "\n",
       "    .dataframe thead th {\n",
       "        text-align: right;\n",
       "    }\n",
       "</style>\n",
       "<table border=\"1\" class=\"dataframe\">\n",
       "  <thead>\n",
       "    <tr style=\"text-align: right;\">\n",
       "      <th></th>\n",
       "      <th>Маршрут</th>\n",
       "      <th>Пенетрация_услуги</th>\n",
       "      <th>Удельная_выручка_на_пассажира</th>\n",
       "      <th>Тип_ВС</th>\n",
       "      <th>Средний_чек_услуги</th>\n",
       "      <th>Количество_проданных_сегментов</th>\n",
       "      <th>ВВЛ/МВЛ</th>\n",
       "      <th>Направленность</th>\n",
       "      <th>Налет</th>\n",
       "      <th>Тип_маршрута</th>\n",
       "      <th>Расстояние</th>\n",
       "      <th>Кластер K-means</th>\n",
       "      <th>Кластер EM</th>\n",
       "    </tr>\n",
       "  </thead>\n",
       "  <tbody>\n",
       "    <tr>\n",
       "      <td>0</td>\n",
       "      <td>IKT-VKO</td>\n",
       "      <td>0.40268</td>\n",
       "      <td>191.33119</td>\n",
       "      <td>2</td>\n",
       "      <td>487.57926</td>\n",
       "      <td>6337</td>\n",
       "      <td>0</td>\n",
       "      <td>1</td>\n",
       "      <td>5.46666</td>\n",
       "      <td>0</td>\n",
       "      <td>4413.00000</td>\n",
       "      <td>1</td>\n",
       "      <td>0</td>\n",
       "    </tr>\n",
       "    <tr>\n",
       "      <td>1</td>\n",
       "      <td>AAQ-VKO</td>\n",
       "      <td>0.37797</td>\n",
       "      <td>163.35751</td>\n",
       "      <td>2</td>\n",
       "      <td>421.38962</td>\n",
       "      <td>84801</td>\n",
       "      <td>0</td>\n",
       "      <td>1</td>\n",
       "      <td>2.08626</td>\n",
       "      <td>0</td>\n",
       "      <td>1390.68746</td>\n",
       "      <td>2</td>\n",
       "      <td>3</td>\n",
       "    </tr>\n",
       "    <tr>\n",
       "      <td>2</td>\n",
       "      <td>AER-TJM</td>\n",
       "      <td>0.36009</td>\n",
       "      <td>172.33264</td>\n",
       "      <td>3</td>\n",
       "      <td>480.23171</td>\n",
       "      <td>9988</td>\n",
       "      <td>0</td>\n",
       "      <td>2</td>\n",
       "      <td>3.44479</td>\n",
       "      <td>1</td>\n",
       "      <td>2548.65625</td>\n",
       "      <td>1</td>\n",
       "      <td>0</td>\n",
       "    </tr>\n",
       "  </tbody>\n",
       "</table>\n",
       "</div>"
      ],
      "text/plain": [
       "   Маршрут  Пенетрация_услуги  Удельная_выручка_на_пассажира  Тип_ВС  \\\n",
       "0  IKT-VKO            0.40268                      191.33119       2   \n",
       "1  AAQ-VKO            0.37797                      163.35751       2   \n",
       "2  AER-TJM            0.36009                      172.33264       3   \n",
       "\n",
       "   Средний_чек_услуги  Количество_проданных_сегментов  ВВЛ/МВЛ  \\\n",
       "0           487.57926                            6337        0   \n",
       "1           421.38962                           84801        0   \n",
       "2           480.23171                            9988        0   \n",
       "\n",
       "   Направленность   Налет  Тип_маршрута  Расстояние  Кластер K-means  \\\n",
       "0               1 5.46666             0  4413.00000                1   \n",
       "1               1 2.08626             0  1390.68746                2   \n",
       "2               2 3.44479             1  2548.65625                1   \n",
       "\n",
       "   Кластер EM  \n",
       "0           0  \n",
       "1           3  \n",
       "2           0  "
      ]
     },
     "execution_count": 25,
     "metadata": {},
     "output_type": "execute_result"
    }
   ],
   "source": [
    "df['Кластер EM'] = y_pred_em\n",
    "df.head(3)"
   ]
  },
  {
   "cell_type": "code",
   "execution_count": 26,
   "metadata": {},
   "outputs": [
    {
     "data": {
      "text/plain": [
       "array([0, 3, 1, 4, 2], dtype=int64)"
      ]
     },
     "execution_count": 26,
     "metadata": {},
     "output_type": "execute_result"
    }
   ],
   "source": [
    "# список номеров кластера\n",
    "df['Кластер EM'].unique()"
   ]
  },
  {
   "cell_type": "code",
   "execution_count": 27,
   "metadata": {},
   "outputs": [
    {
     "data": {
      "image/png": "[encoded data removed]",
      "text/plain": [
       "<Figure size 720x360 with 1 Axes>"
      ]
     },
     "metadata": {
      "needs_background": "light"
     },
     "output_type": "display_data"
    }
   ],
   "source": [
    "# посмотрим на кол-во элементов в каждом кластере\n",
    "count_elem_in_cluster('Маршрут','Кластер EM', df, list(df['Кластер EM'].unique()))"
   ]
  },
  {
   "cell_type": "code",
   "execution_count": 28,
   "metadata": {},
   "outputs": [
    {
     "data": {
      "text/html": [
       "<div>\n",
       "<style scoped>\n",
       "    .dataframe tbody tr th:only-of-type {\n",
       "        vertical-align: middle;\n",
       "    }\n",
       "\n",
       "    .dataframe tbody tr th {\n",
       "        vertical-align: top;\n",
       "    }\n",
       "\n",
       "    .dataframe thead tr th {\n",
       "        text-align: left;\n",
       "    }\n",
       "</style>\n",
       "<table border=\"1\" class=\"dataframe\">\n",
       "  <thead>\n",
       "    <tr>\n",
       "      <th></th>\n",
       "      <th>Номер кластера</th>\n",
       "      <th>Пенетрация</th>\n",
       "      <th>Расстояние, км.</th>\n",
       "      <th>Средний чек, руб.</th>\n",
       "      <th>Уд. выручка на пас.</th>\n",
       "    </tr>\n",
       "  </thead>\n",
       "  <tbody>\n",
       "    <tr>\n",
       "      <td>0</td>\n",
       "      <td>0</td>\n",
       "      <td>0.28464</td>\n",
       "      <td>2895.75790</td>\n",
       "      <td>472.40974</td>\n",
       "      <td>134.17124</td>\n",
       "    </tr>\n",
       "    <tr>\n",
       "      <td>1</td>\n",
       "      <td>1</td>\n",
       "      <td>0.24138</td>\n",
       "      <td>692.77844</td>\n",
       "      <td>348.02209</td>\n",
       "      <td>83.27316</td>\n",
       "    </tr>\n",
       "    <tr>\n",
       "      <td>2</td>\n",
       "      <td>2</td>\n",
       "      <td>0.13139</td>\n",
       "      <td>2692.83816</td>\n",
       "      <td>552.77403</td>\n",
       "      <td>69.56949</td>\n",
       "    </tr>\n",
       "    <tr>\n",
       "      <td>3</td>\n",
       "      <td>3</td>\n",
       "      <td>0.22381</td>\n",
       "      <td>1511.29953</td>\n",
       "      <td>542.06797</td>\n",
       "      <td>119.26386</td>\n",
       "    </tr>\n",
       "    <tr>\n",
       "      <td>4</td>\n",
       "      <td>4</td>\n",
       "      <td>0.12627</td>\n",
       "      <td>731.15309</td>\n",
       "      <td>328.44271</td>\n",
       "      <td>41.95446</td>\n",
       "    </tr>\n",
       "  </tbody>\n",
       "</table>\n",
       "</div>"
      ],
      "text/plain": [
       "  Номер кластера Пенетрация Расстояние, км. Средний чек, руб.  \\\n",
       "0              0    0.28464      2895.75790         472.40974   \n",
       "1              1    0.24138       692.77844         348.02209   \n",
       "2              2    0.13139      2692.83816         552.77403   \n",
       "3              3    0.22381      1511.29953         542.06797   \n",
       "4              4    0.12627       731.15309         328.44271   \n",
       "\n",
       "  Уд. выручка на пас.  \n",
       "0           134.17124  \n",
       "1            83.27316  \n",
       "2            69.56949  \n",
       "3           119.26386  \n",
       "4            41.95446  "
      ]
     },
     "execution_count": 28,
     "metadata": {},
     "output_type": "execute_result"
    }
   ],
   "source": [
    "# выведем отличия между кластерами\n",
    "dif_cluster('Кластер EM')"
   ]
  },
  {
   "cell_type": "code",
   "execution_count": 29,
   "metadata": {
    "scrolled": true
   },
   "outputs": [
    {
     "data": {
      "image/png": "[encoded data removed]",
      "text/plain": [
       "<Figure size 1080x504 with 1 Axes>"
      ]
     },
     "metadata": {
      "needs_background": "light"
     },
     "output_type": "display_data"
    }
   ],
   "source": [
    "# строим визуализацию\n",
    "\n",
    "plt.figure(figsize=(15,7))\n",
    "sns.scatterplot(X[y_pred_em == 0, 0], X[y_pred_em == 0, 1], color = 'red', label = 'кластер 1',s=50)\n",
    "sns.scatterplot(X[y_pred_em == 1, 0], X[y_pred_em == 1, 1], color = 'blue', label = 'кластер 2',s=50)\n",
    "sns.scatterplot(X[y_pred_em == 2, 0], X[y_pred_em == 2, 1], color = 'green', label = 'кластер 3',s=50)\n",
    "sns.scatterplot(X[y_pred_em == 3, 0], X[y_pred_em == 3, 1], color = 'orange', label = 'кластер 4',s=50)\n",
    "sns.scatterplot(X[y_pred_em == 4, 0], X[y_pred_em == 4, 1], color = 'grey', label = 'кластер 5',s=50)\n",
    "# выведем средние значения\n",
    "sns.scatterplot(em_gm.means_[:, 0], em_gm.means_[:, 1], color = 'black', label = 'центроид',\n",
    "                s=500, marker='.')\n",
    "plt.title('Кластеризация маршрутов ЕМ алгоритмом', fontsize=12, color='black')\n",
    "plt.legend()\n",
    "plt.show()"
   ]
  },
  {
   "cell_type": "markdown",
   "metadata": {},
   "source": [
    "**Вывод:** используя EM алгоритм имеющиеся данные можно разделить на 6 кластеров с коэффициентов силуэта, равным 0,49."
   ]
  },
  {
   "cell_type": "markdown",
   "metadata": {},
   "source": [
    "### 5.3. Агломеративная кластеризация"
   ]
  },
  {
   "cell_type": "markdown",
   "metadata": {},
   "source": [
    "Иерархическая кластеризация делится на две стратегии: **агломеративная** — снизу-вверх, объединяем точки в кластеры и **дивизионная** — сверху-вниз, разделяем один большой кластер на малые.\n",
    "\n",
    "* назначаем каждой точке свой кластер.\n",
    "* сортируем попарные расстояния между центрами кластеров по возрастанию.\n",
    "* берём пару ближайших кластеров, склеиваем их в один и пересчитываем центр кластера.\n",
    "* повторяем шаги 2-3 до тех пор, пока все данные не склеятся в один кластер."
   ]
  },
  {
   "cell_type": "code",
   "execution_count": 30,
   "metadata": {
    "scrolled": true
   },
   "outputs": [
    {
     "name": "stderr",
     "output_type": "stream",
     "text": [
      "C:\\ProgramData\\Anaconda3\\lib\\site-packages\\sklearn\\cluster\\_agglomerative.py:247: UserWarning: the number of connected components of the connectivity matrix is 11 > 1. Completing it to avoid stopping the tree early.\n",
      "  affinity='euclidean')\n",
      "C:\\ProgramData\\Anaconda3\\lib\\site-packages\\sklearn\\cluster\\_agglomerative.py:247: UserWarning: the number of connected components of the connectivity matrix is 11 > 1. Completing it to avoid stopping the tree early.\n",
      "  affinity='euclidean')\n",
      "C:\\ProgramData\\Anaconda3\\lib\\site-packages\\sklearn\\cluster\\_agglomerative.py:247: UserWarning: the number of connected components of the connectivity matrix is 11 > 1. Completing it to avoid stopping the tree early.\n",
      "  affinity='euclidean')\n",
      "C:\\ProgramData\\Anaconda3\\lib\\site-packages\\sklearn\\cluster\\_agglomerative.py:247: UserWarning: the number of connected components of the connectivity matrix is 11 > 1. Completing it to avoid stopping the tree early.\n",
      "  affinity='euclidean')\n",
      "C:\\ProgramData\\Anaconda3\\lib\\site-packages\\sklearn\\cluster\\_agglomerative.py:247: UserWarning: the number of connected components of the connectivity matrix is 11 > 1. Completing it to avoid stopping the tree early.\n",
      "  affinity='euclidean')\n",
      "C:\\ProgramData\\Anaconda3\\lib\\site-packages\\sklearn\\cluster\\_agglomerative.py:247: UserWarning: the number of connected components of the connectivity matrix is 11 > 1. Completing it to avoid stopping the tree early.\n",
      "  affinity='euclidean')\n",
      "C:\\ProgramData\\Anaconda3\\lib\\site-packages\\sklearn\\cluster\\_agglomerative.py:247: UserWarning: the number of connected components of the connectivity matrix is 11 > 1. Completing it to avoid stopping the tree early.\n",
      "  affinity='euclidean')\n",
      "C:\\ProgramData\\Anaconda3\\lib\\site-packages\\sklearn\\cluster\\_agglomerative.py:247: UserWarning: the number of connected components of the connectivity matrix is 11 > 1. Completing it to avoid stopping the tree early.\n",
      "  affinity='euclidean')\n",
      "C:\\ProgramData\\Anaconda3\\lib\\site-packages\\sklearn\\cluster\\_agglomerative.py:247: UserWarning: the number of connected components of the connectivity matrix is 11 > 1. Completing it to avoid stopping the tree early.\n",
      "  affinity='euclidean')\n",
      "C:\\ProgramData\\Anaconda3\\lib\\site-packages\\sklearn\\cluster\\_agglomerative.py:247: UserWarning: the number of connected components of the connectivity matrix is 11 > 1. Completing it to avoid stopping the tree early.\n",
      "  affinity='euclidean')\n",
      "C:\\ProgramData\\Anaconda3\\lib\\site-packages\\sklearn\\cluster\\_agglomerative.py:247: UserWarning: the number of connected components of the connectivity matrix is 11 > 1. Completing it to avoid stopping the tree early.\n",
      "  affinity='euclidean')\n",
      "C:\\ProgramData\\Anaconda3\\lib\\site-packages\\sklearn\\cluster\\_agglomerative.py:247: UserWarning: the number of connected components of the connectivity matrix is 11 > 1. Completing it to avoid stopping the tree early.\n",
      "  affinity='euclidean')\n",
      "C:\\ProgramData\\Anaconda3\\lib\\site-packages\\sklearn\\cluster\\_agglomerative.py:247: UserWarning: the number of connected components of the connectivity matrix is 11 > 1. Completing it to avoid stopping the tree early.\n",
      "  affinity='euclidean')\n",
      "C:\\ProgramData\\Anaconda3\\lib\\site-packages\\sklearn\\cluster\\_agglomerative.py:247: UserWarning: the number of connected components of the connectivity matrix is 11 > 1. Completing it to avoid stopping the tree early.\n",
      "  affinity='euclidean')\n",
      "C:\\ProgramData\\Anaconda3\\lib\\site-packages\\sklearn\\cluster\\_agglomerative.py:247: UserWarning: the number of connected components of the connectivity matrix is 11 > 1. Completing it to avoid stopping the tree early.\n",
      "  affinity='euclidean')\n",
      "C:\\ProgramData\\Anaconda3\\lib\\site-packages\\sklearn\\cluster\\_agglomerative.py:247: UserWarning: the number of connected components of the connectivity matrix is 11 > 1. Completing it to avoid stopping the tree early.\n",
      "  affinity='euclidean')\n",
      "C:\\ProgramData\\Anaconda3\\lib\\site-packages\\sklearn\\cluster\\_agglomerative.py:247: UserWarning: the number of connected components of the connectivity matrix is 11 > 1. Completing it to avoid stopping the tree early.\n",
      "  affinity='euclidean')\n",
      "C:\\ProgramData\\Anaconda3\\lib\\site-packages\\sklearn\\cluster\\_agglomerative.py:247: UserWarning: the number of connected components of the connectivity matrix is 11 > 1. Completing it to avoid stopping the tree early.\n",
      "  affinity='euclidean')\n"
     ]
    },
    {
     "data": {
      "image/png": "[encoded data removed]",
      "text/plain": [
       "<Figure size 720x360 with 1 Axes>"
      ]
     },
     "metadata": {
      "needs_background": "light"
     },
     "output_type": "display_data"
    }
   ],
   "source": [
    "silhouette_score_ac = []\n",
    "\n",
    "for n_cluster in range(2,11):\n",
    "    # строим матрицу смежности\n",
    "    connectivity = kneighbors_graph(X, n_neighbors=2, include_self=False)\n",
    "    # делаем матрицу смежности симметричной\n",
    "    connectivity = 0.5 * (connectivity + connectivity.T)\n",
    "    # создаем объет\n",
    "    ac = AgglomerativeClustering(n_clusters=n_cluster, linkage='ward', connectivity=connectivity)\n",
    "    ac.fit(X)\n",
    "    y_pred_ac = ac.labels_.astype(np.int)\n",
    "    y_pred_ac = ac.fit_predict(X)\n",
    "    silhouette_score_ac.append(silhouette_score(X=X, labels=y_pred_ac, metric='euclidean'))\n",
    "\n",
    "plt.figure(figsize=(10,5))\n",
    "k = [2,3,4,5,6,7,8,9,10]\n",
    "plt.bar(k, silhouette_score_ac)\n",
    "plt.title('Определение количества кластеров \"силуэтом\"', fontsize=12, color='black')\n",
    "plt.xlabel('Количество кластеров', fontsize=12, color='black')\n",
    "plt.ylabel('Оценка', fontsize=12, color='black')\n",
    "for counter, value in enumerate(silhouette_score_ac):\n",
    "    plt.text(counter+1.65, value, round(value, 3), ha='left', size=12)\n",
    "plt.grid(True)\n",
    "plt.show()"
   ]
  },
  {
   "cell_type": "markdown",
   "metadata": {},
   "source": [
    "Оптимальное количество кластеров **2 шт.** с коэффициентом силуэта - 0,6. Однако разделим данные на 3 кластера с коэффициентом - 0.53."
   ]
  },
  {
   "cell_type": "code",
   "execution_count": 31,
   "metadata": {},
   "outputs": [],
   "source": [
    "# создаем объект\n",
    "ac = AgglomerativeClustering(n_clusters=3, # кол-во кластеров\n",
    "                             affinity='euclidean', # расстояние : “euclidean”, “l1”, “l2”, “manhattan”, “cosine”, “precomputed”\n",
    "                             linkage='ward', # способ определения ближайшего соседа: “ward”, “complete”, “average”, “single”\n",
    "                            )"
   ]
  },
  {
   "cell_type": "markdown",
   "metadata": {},
   "source": [
    "В расчетах будем использовать матрицу смежности, для которой нужен параметр n_neighbors, то есть число ближайших соседей.\n",
    "**Матрица смежности** — это матрица, которая соответствует графу, и которая отражает, с какими соседями объект соединен или нет."
   ]
  },
  {
   "cell_type": "code",
   "execution_count": 32,
   "metadata": {},
   "outputs": [],
   "source": [
    "# строим матрицу смежности\n",
    "connectivity = kneighbors_graph(X, n_neighbors=2, include_self=False)\n",
    "\n",
    "# делаем матрицу смежности симметричной\n",
    "connectivity = 0.5 * (connectivity + connectivity.T)"
   ]
  },
  {
   "cell_type": "code",
   "execution_count": 33,
   "metadata": {},
   "outputs": [],
   "source": [
    "# создаем объет\n",
    "ac = AgglomerativeClustering(n_clusters=4, linkage='average', connectivity=connectivity)"
   ]
  },
  {
   "cell_type": "code",
   "execution_count": 34,
   "metadata": {},
   "outputs": [
    {
     "name": "stderr",
     "output_type": "stream",
     "text": [
      "C:\\ProgramData\\Anaconda3\\lib\\site-packages\\sklearn\\cluster\\_agglomerative.py:502: UserWarning: the number of connected components of the connectivity matrix is 11 > 1. Completing it to avoid stopping the tree early.\n",
      "  affinity=affinity)\n"
     ]
    }
   ],
   "source": [
    "# обучаем модель\n",
    "ac.fit(X)\n",
    "y_pred_ac = ac.labels_.astype(np.int)"
   ]
  },
  {
   "cell_type": "code",
   "execution_count": 35,
   "metadata": {},
   "outputs": [
    {
     "data": {
      "text/html": [
       "<div>\n",
       "<style scoped>\n",
       "    .dataframe tbody tr th:only-of-type {\n",
       "        vertical-align: middle;\n",
       "    }\n",
       "\n",
       "    .dataframe tbody tr th {\n",
       "        vertical-align: top;\n",
       "    }\n",
       "\n",
       "    .dataframe thead th {\n",
       "        text-align: right;\n",
       "    }\n",
       "</style>\n",
       "<table border=\"1\" class=\"dataframe\">\n",
       "  <thead>\n",
       "    <tr style=\"text-align: right;\">\n",
       "      <th></th>\n",
       "      <th>Маршрут</th>\n",
       "      <th>Пенетрация_услуги</th>\n",
       "      <th>Удельная_выручка_на_пассажира</th>\n",
       "      <th>Тип_ВС</th>\n",
       "      <th>Средний_чек_услуги</th>\n",
       "      <th>Количество_проданных_сегментов</th>\n",
       "      <th>ВВЛ/МВЛ</th>\n",
       "      <th>Направленность</th>\n",
       "      <th>Налет</th>\n",
       "      <th>Тип_маршрута</th>\n",
       "      <th>Расстояние</th>\n",
       "      <th>Кластер K-means</th>\n",
       "      <th>Кластер EM</th>\n",
       "      <th>Кластер AC</th>\n",
       "    </tr>\n",
       "  </thead>\n",
       "  <tbody>\n",
       "    <tr>\n",
       "      <td>0</td>\n",
       "      <td>IKT-VKO</td>\n",
       "      <td>0.40268</td>\n",
       "      <td>191.33119</td>\n",
       "      <td>2</td>\n",
       "      <td>487.57926</td>\n",
       "      <td>6337</td>\n",
       "      <td>0</td>\n",
       "      <td>1</td>\n",
       "      <td>5.46666</td>\n",
       "      <td>0</td>\n",
       "      <td>4413.00000</td>\n",
       "      <td>1</td>\n",
       "      <td>0</td>\n",
       "      <td>1</td>\n",
       "    </tr>\n",
       "    <tr>\n",
       "      <td>1</td>\n",
       "      <td>AAQ-VKO</td>\n",
       "      <td>0.37797</td>\n",
       "      <td>163.35751</td>\n",
       "      <td>2</td>\n",
       "      <td>421.38962</td>\n",
       "      <td>84801</td>\n",
       "      <td>0</td>\n",
       "      <td>1</td>\n",
       "      <td>2.08626</td>\n",
       "      <td>0</td>\n",
       "      <td>1390.68746</td>\n",
       "      <td>2</td>\n",
       "      <td>3</td>\n",
       "      <td>2</td>\n",
       "    </tr>\n",
       "    <tr>\n",
       "      <td>2</td>\n",
       "      <td>AER-TJM</td>\n",
       "      <td>0.36009</td>\n",
       "      <td>172.33264</td>\n",
       "      <td>3</td>\n",
       "      <td>480.23171</td>\n",
       "      <td>9988</td>\n",
       "      <td>0</td>\n",
       "      <td>2</td>\n",
       "      <td>3.44479</td>\n",
       "      <td>1</td>\n",
       "      <td>2548.65625</td>\n",
       "      <td>1</td>\n",
       "      <td>0</td>\n",
       "      <td>1</td>\n",
       "    </tr>\n",
       "  </tbody>\n",
       "</table>\n",
       "</div>"
      ],
      "text/plain": [
       "   Маршрут  Пенетрация_услуги  Удельная_выручка_на_пассажира  Тип_ВС  \\\n",
       "0  IKT-VKO            0.40268                      191.33119       2   \n",
       "1  AAQ-VKO            0.37797                      163.35751       2   \n",
       "2  AER-TJM            0.36009                      172.33264       3   \n",
       "\n",
       "   Средний_чек_услуги  Количество_проданных_сегментов  ВВЛ/МВЛ  \\\n",
       "0           487.57926                            6337        0   \n",
       "1           421.38962                           84801        0   \n",
       "2           480.23171                            9988        0   \n",
       "\n",
       "   Направленность   Налет  Тип_маршрута  Расстояние  Кластер K-means  \\\n",
       "0               1 5.46666             0  4413.00000                1   \n",
       "1               1 2.08626             0  1390.68746                2   \n",
       "2               2 3.44479             1  2548.65625                1   \n",
       "\n",
       "   Кластер EM  Кластер AC  \n",
       "0           0           1  \n",
       "1           3           2  \n",
       "2           0           1  "
      ]
     },
     "execution_count": 35,
     "metadata": {},
     "output_type": "execute_result"
    }
   ],
   "source": [
    "# добавим столбец с номером кластера\n",
    "df['Кластер AC'] = y_pred_ac\n",
    "df.head(3)"
   ]
  },
  {
   "cell_type": "code",
   "execution_count": 36,
   "metadata": {},
   "outputs": [
    {
     "data": {
      "text/plain": [
       "array([1, 2, 0, 3], dtype=int64)"
      ]
     },
     "execution_count": 36,
     "metadata": {},
     "output_type": "execute_result"
    }
   ],
   "source": [
    "# список номеров кластера\n",
    "df['Кластер AC'].unique()"
   ]
  },
  {
   "cell_type": "code",
   "execution_count": 37,
   "metadata": {},
   "outputs": [
    {
     "data": {
      "image/png": "[encoded data removed]",
      "text/plain": [
       "<Figure size 720x360 with 1 Axes>"
      ]
     },
     "metadata": {
      "needs_background": "light"
     },
     "output_type": "display_data"
    }
   ],
   "source": [
    "# посмотрим на кол-во элементов в каждом кластере\n",
    "count_elem_in_cluster('Маршрут','Кластер AC', df, list(df['Кластер AC'].unique()))"
   ]
  },
  {
   "cell_type": "code",
   "execution_count": 38,
   "metadata": {},
   "outputs": [
    {
     "data": {
      "text/html": [
       "<div>\n",
       "<style scoped>\n",
       "    .dataframe tbody tr th:only-of-type {\n",
       "        vertical-align: middle;\n",
       "    }\n",
       "\n",
       "    .dataframe tbody tr th {\n",
       "        vertical-align: top;\n",
       "    }\n",
       "\n",
       "    .dataframe thead tr th {\n",
       "        text-align: left;\n",
       "    }\n",
       "</style>\n",
       "<table border=\"1\" class=\"dataframe\">\n",
       "  <thead>\n",
       "    <tr>\n",
       "      <th></th>\n",
       "      <th>Номер кластера</th>\n",
       "      <th>Пенетрация</th>\n",
       "      <th>Расстояние, км.</th>\n",
       "      <th>Средний чек, руб.</th>\n",
       "      <th>Уд. выручка на пас.</th>\n",
       "    </tr>\n",
       "  </thead>\n",
       "  <tbody>\n",
       "    <tr>\n",
       "      <td>0</td>\n",
       "      <td>0</td>\n",
       "      <td>0.14860</td>\n",
       "      <td>702.20085</td>\n",
       "      <td>328.99633</td>\n",
       "      <td>49.60601</td>\n",
       "    </tr>\n",
       "    <tr>\n",
       "      <td>1</td>\n",
       "      <td>1</td>\n",
       "      <td>0.22302</td>\n",
       "      <td>2256.22386</td>\n",
       "      <td>520.93379</td>\n",
       "      <td>113.22417</td>\n",
       "    </tr>\n",
       "    <tr>\n",
       "      <td>2</td>\n",
       "      <td>2</td>\n",
       "      <td>0.34514</td>\n",
       "      <td>1466.86072</td>\n",
       "      <td>441.66367</td>\n",
       "      <td>153.71518</td>\n",
       "    </tr>\n",
       "    <tr>\n",
       "      <td>3</td>\n",
       "      <td>3</td>\n",
       "      <td>0.11906</td>\n",
       "      <td>1654.69943</td>\n",
       "      <td>415.75626</td>\n",
       "      <td>49.50372</td>\n",
       "    </tr>\n",
       "  </tbody>\n",
       "</table>\n",
       "</div>"
      ],
      "text/plain": [
       "  Номер кластера Пенетрация Расстояние, км. Средний чек, руб.  \\\n",
       "0              0    0.14860       702.20085         328.99633   \n",
       "1              1    0.22302      2256.22386         520.93379   \n",
       "2              2    0.34514      1466.86072         441.66367   \n",
       "3              3    0.11906      1654.69943         415.75626   \n",
       "\n",
       "  Уд. выручка на пас.  \n",
       "0            49.60601  \n",
       "1           113.22417  \n",
       "2           153.71518  \n",
       "3            49.50372  "
      ]
     },
     "execution_count": 38,
     "metadata": {},
     "output_type": "execute_result"
    }
   ],
   "source": [
    "# выведем отличия между кластерами\n",
    "dif_cluster('Кластер AC')"
   ]
  },
  {
   "cell_type": "code",
   "execution_count": 39,
   "metadata": {
    "scrolled": true
   },
   "outputs": [
    {
     "data": {
      "image/png": "[encoded data removed]",
      "text/plain": [
       "<Figure size 1080x504 with 1 Axes>"
      ]
     },
     "metadata": {
      "needs_background": "light"
     },
     "output_type": "display_data"
    }
   ],
   "source": [
    "# строим визуализацию\n",
    "\n",
    "plt.figure(figsize=(15,7))\n",
    "sns.scatterplot(X[y_pred_ac == 0, 0], X[y_pred_ac == 0, 1], color = 'red', label = 'кластер 1',s=50)\n",
    "sns.scatterplot(X[y_pred_ac == 1, 0], X[y_pred_ac == 1, 1], color = 'blue', label = 'кластер 2',s=50)\n",
    "sns.scatterplot(X[y_pred_ac == 2, 0], X[y_pred_ac == 2, 1], color = 'green', label = 'кластер 3',s=50)\n",
    "sns.scatterplot(X[y_pred_ac == 3, 0], X[y_pred_ac == 3, 1], color = 'grey', label = 'кластер 4',s=50)\n",
    "plt.title('Кластеризация маршрутов ЕМ алгоритмом', fontsize=12, color='black')\n",
    "plt.legend()\n",
    "plt.show()"
   ]
  },
  {
   "cell_type": "markdown",
   "metadata": {},
   "source": [
    "Еще один способ проведения агломеративной кластеризации через пакет scipy.cluster.hierarchy с построением **дендограммы**."
   ]
  },
  {
   "cell_type": "code",
   "execution_count": 40,
   "metadata": {
    "scrolled": true
   },
   "outputs": [
    {
     "data": {
      "image/png": "[encoded data removed]",
      "text/plain": [
       "<Figure size 1080x720 with 1 Axes>"
      ]
     },
     "metadata": {
      "needs_background": "light"
     },
     "output_type": "display_data"
    }
   ],
   "source": [
    "# подготовим данные для построения дендрограммы\n",
    "# ещё один способ выполнить агломеративную кластеризацию\n",
    "Z = linkage(X, \"ward\")\n",
    "\n",
    "ind = df.set_index('Маршрут')\n",
    "\n",
    "# строим дендрограмму\n",
    "plt.figure(figsize=(15,10))\n",
    "dendrogram(Z, labels=ind.index, leaf_rotation=90.)\n",
    "plt.title('Кластеризация маршрутов ЕМ алгоритмом', fontsize=12, color='black')\n",
    "plt.xlabel('Маршруты', fontsize=15, color='black')\n",
    "plt.show()"
   ]
  },
  {
   "cell_type": "markdown",
   "metadata": {},
   "source": [
    "Дендограмма тоже делит данные на 2 больших кластера."
   ]
  },
  {
   "cell_type": "markdown",
   "metadata": {},
   "source": [
    "**Вывод:** используя агломеративную кластеризацию имеющиеся данные можно разделить на 4 кластера с коэффициентов силуэта, равным 0,46."
   ]
  },
  {
   "cell_type": "markdown",
   "metadata": {},
   "source": [
    "### 5.4. DBSCAN"
   ]
  },
  {
   "cell_type": "markdown",
   "metadata": {},
   "source": [
    "Расшифровывается как **Dense-based spatial clustering of applications with noise**. Это основанная на плотности пространственная кластеризация для приложений с шумами.\n",
    "\n",
    "Схема действия DBSCAN\n",
    "\n",
    "* случайно выбираем точку, которую не посещали. Окрестность точки извлекается с использованием расстояния .\n",
    "* если в этой окрестности точек ≥ minPoints, тогда точка становится первой точкой в новом кластере. Иначе — помечаем точку как шум, она становится посещённой.\n",
    "* точки из окрестности становятся частью кластера. Для каждой из них изучаем окрестность: если точек в окрестности < minPoints, то помечаем точку как граничную.\n",
    "* повторяем пункты 2 и 3, пока не определим все точки в кластере.\n",
    "* повторяем пункты 1–4, пока все точки не станут просмотренными."
   ]
  },
  {
   "cell_type": "code",
   "execution_count": 41,
   "metadata": {},
   "outputs": [
    {
     "data": {
      "image/png": "[encoded data removed]",
      "text/plain": [
       "<Figure size 720x360 with 1 Axes>"
      ]
     },
     "metadata": {
      "needs_background": "light"
     },
     "output_type": "display_data"
    }
   ],
   "source": [
    "# данные по оценке\n",
    "silhouette_scores_db = [] \n",
    "\n",
    "for n_cluster in range(2, 11):\n",
    "    dbscan = DBSCAN(eps=0.2, min_samples=5)\n",
    "    dbscan.fit(X)\n",
    "    y_pred_db = dbscan.labels_.astype(np.int)\n",
    "    silhouette_scores_db.append(silhouette_score(X, labels=y_pred_db)) \n",
    "    \n",
    "plt.figure(figsize=(10,5))\n",
    "k = [2,3,4,5,6,7,8,9,10]\n",
    "plt.bar(k, silhouette_scores_db)\n",
    "plt.title('Определение количества кластеров \"силуэтом\"', fontsize=12, color='black')\n",
    "plt.xlabel('Количество кластеров', fontsize=12, color='black')\n",
    "plt.ylabel('Оценка', fontsize=12, color='black')\n",
    "for counter, value in enumerate(silhouette_scores_db):\n",
    "    plt.text(counter+1.65, value, round(value, 3), ha='left', size=12)\n",
    "plt.grid(True)\n",
    "plt.show()"
   ]
  },
  {
   "cell_type": "code",
   "execution_count": 42,
   "metadata": {},
   "outputs": [],
   "source": [
    "# создаем объект\n",
    "dbscan = DBSCAN(eps=0.2, # размер окрестности\n",
    "                min_samples=5) # минимальное число точек в окрестности"
   ]
  },
  {
   "cell_type": "code",
   "execution_count": 43,
   "metadata": {},
   "outputs": [],
   "source": [
    "# обучаем модель\n",
    "dbscan.fit(X)\n",
    "y_pred_db = dbscan.labels_.astype(np.int)"
   ]
  },
  {
   "cell_type": "code",
   "execution_count": 44,
   "metadata": {},
   "outputs": [
    {
     "data": {
      "text/html": [
       "<div>\n",
       "<style scoped>\n",
       "    .dataframe tbody tr th:only-of-type {\n",
       "        vertical-align: middle;\n",
       "    }\n",
       "\n",
       "    .dataframe tbody tr th {\n",
       "        vertical-align: top;\n",
       "    }\n",
       "\n",
       "    .dataframe thead th {\n",
       "        text-align: right;\n",
       "    }\n",
       "</style>\n",
       "<table border=\"1\" class=\"dataframe\">\n",
       "  <thead>\n",
       "    <tr style=\"text-align: right;\">\n",
       "      <th></th>\n",
       "      <th>Маршрут</th>\n",
       "      <th>Пенетрация_услуги</th>\n",
       "      <th>Удельная_выручка_на_пассажира</th>\n",
       "      <th>Тип_ВС</th>\n",
       "      <th>Средний_чек_услуги</th>\n",
       "      <th>Количество_проданных_сегментов</th>\n",
       "      <th>ВВЛ/МВЛ</th>\n",
       "      <th>Направленность</th>\n",
       "      <th>Налет</th>\n",
       "      <th>Тип_маршрута</th>\n",
       "      <th>Расстояние</th>\n",
       "      <th>Кластер K-means</th>\n",
       "      <th>Кластер EM</th>\n",
       "      <th>Кластер AC</th>\n",
       "      <th>Кластер DB</th>\n",
       "    </tr>\n",
       "  </thead>\n",
       "  <tbody>\n",
       "    <tr>\n",
       "      <td>0</td>\n",
       "      <td>IKT-VKO</td>\n",
       "      <td>0.40268</td>\n",
       "      <td>191.33119</td>\n",
       "      <td>2</td>\n",
       "      <td>487.57926</td>\n",
       "      <td>6337</td>\n",
       "      <td>0</td>\n",
       "      <td>1</td>\n",
       "      <td>5.46666</td>\n",
       "      <td>0</td>\n",
       "      <td>4413.00000</td>\n",
       "      <td>1</td>\n",
       "      <td>0</td>\n",
       "      <td>1</td>\n",
       "      <td>0</td>\n",
       "    </tr>\n",
       "    <tr>\n",
       "      <td>1</td>\n",
       "      <td>AAQ-VKO</td>\n",
       "      <td>0.37797</td>\n",
       "      <td>163.35751</td>\n",
       "      <td>2</td>\n",
       "      <td>421.38962</td>\n",
       "      <td>84801</td>\n",
       "      <td>0</td>\n",
       "      <td>1</td>\n",
       "      <td>2.08626</td>\n",
       "      <td>0</td>\n",
       "      <td>1390.68746</td>\n",
       "      <td>2</td>\n",
       "      <td>3</td>\n",
       "      <td>2</td>\n",
       "      <td>-1</td>\n",
       "    </tr>\n",
       "    <tr>\n",
       "      <td>2</td>\n",
       "      <td>AER-TJM</td>\n",
       "      <td>0.36009</td>\n",
       "      <td>172.33264</td>\n",
       "      <td>3</td>\n",
       "      <td>480.23171</td>\n",
       "      <td>9988</td>\n",
       "      <td>0</td>\n",
       "      <td>2</td>\n",
       "      <td>3.44479</td>\n",
       "      <td>1</td>\n",
       "      <td>2548.65625</td>\n",
       "      <td>1</td>\n",
       "      <td>0</td>\n",
       "      <td>1</td>\n",
       "      <td>0</td>\n",
       "    </tr>\n",
       "  </tbody>\n",
       "</table>\n",
       "</div>"
      ],
      "text/plain": [
       "   Маршрут  Пенетрация_услуги  Удельная_выручка_на_пассажира  Тип_ВС  \\\n",
       "0  IKT-VKO            0.40268                      191.33119       2   \n",
       "1  AAQ-VKO            0.37797                      163.35751       2   \n",
       "2  AER-TJM            0.36009                      172.33264       3   \n",
       "\n",
       "   Средний_чек_услуги  Количество_проданных_сегментов  ВВЛ/МВЛ  \\\n",
       "0           487.57926                            6337        0   \n",
       "1           421.38962                           84801        0   \n",
       "2           480.23171                            9988        0   \n",
       "\n",
       "   Направленность   Налет  Тип_маршрута  Расстояние  Кластер K-means  \\\n",
       "0               1 5.46666             0  4413.00000                1   \n",
       "1               1 2.08626             0  1390.68746                2   \n",
       "2               2 3.44479             1  2548.65625                1   \n",
       "\n",
       "   Кластер EM  Кластер AC  Кластер DB  \n",
       "0           0           1           0  \n",
       "1           3           2          -1  \n",
       "2           0           1           0  "
      ]
     },
     "execution_count": 44,
     "metadata": {},
     "output_type": "execute_result"
    }
   ],
   "source": [
    "# добавим столбец с номером кластера\n",
    "df['Кластер DB'] = y_pred_db\n",
    "df.head(3)"
   ]
  },
  {
   "cell_type": "code",
   "execution_count": 45,
   "metadata": {},
   "outputs": [
    {
     "data": {
      "text/plain": [
       "array([ 0, -1,  1,  2], dtype=int64)"
      ]
     },
     "execution_count": 45,
     "metadata": {},
     "output_type": "execute_result"
    }
   ],
   "source": [
    "# список номеров кластера\n",
    "df['Кластер DB'].unique()"
   ]
  },
  {
   "cell_type": "markdown",
   "metadata": {},
   "source": [
    "DBSCAN определяет **выбросы**, относя их к кластеру -1. "
   ]
  },
  {
   "cell_type": "code",
   "execution_count": 46,
   "metadata": {},
   "outputs": [
    {
     "data": {
      "image/png": "[encoded data removed]",
      "text/plain": [
       "<Figure size 720x360 with 1 Axes>"
      ]
     },
     "metadata": {
      "needs_background": "light"
     },
     "output_type": "display_data"
    }
   ],
   "source": [
    "# посмотрим на кол-во элементов в каждом кластере\n",
    "count_elem_in_cluster('Маршрут','Кластер DB', df, list(df['Кластер DB'].unique()))"
   ]
  },
  {
   "cell_type": "code",
   "execution_count": 47,
   "metadata": {},
   "outputs": [
    {
     "data": {
      "text/html": [
       "<div>\n",
       "<style scoped>\n",
       "    .dataframe tbody tr th:only-of-type {\n",
       "        vertical-align: middle;\n",
       "    }\n",
       "\n",
       "    .dataframe tbody tr th {\n",
       "        vertical-align: top;\n",
       "    }\n",
       "\n",
       "    .dataframe thead tr th {\n",
       "        text-align: left;\n",
       "    }\n",
       "</style>\n",
       "<table border=\"1\" class=\"dataframe\">\n",
       "  <thead>\n",
       "    <tr>\n",
       "      <th></th>\n",
       "      <th>Номер кластера</th>\n",
       "      <th>Пенетрация</th>\n",
       "      <th>Расстояние, км.</th>\n",
       "      <th>Средний чек, руб.</th>\n",
       "      <th>Уд. выручка на пас.</th>\n",
       "    </tr>\n",
       "  </thead>\n",
       "  <tbody>\n",
       "    <tr>\n",
       "      <td>0</td>\n",
       "      <td>-1</td>\n",
       "      <td>0.20151</td>\n",
       "      <td>1678.26137</td>\n",
       "      <td>501.31917</td>\n",
       "      <td>97.29160</td>\n",
       "    </tr>\n",
       "    <tr>\n",
       "      <td>1</td>\n",
       "      <td>0</td>\n",
       "      <td>0.27393</td>\n",
       "      <td>2819.19080</td>\n",
       "      <td>492.14663</td>\n",
       "      <td>134.06627</td>\n",
       "    </tr>\n",
       "    <tr>\n",
       "      <td>2</td>\n",
       "      <td>1</td>\n",
       "      <td>0.13842</td>\n",
       "      <td>655.09342</td>\n",
       "      <td>324.30716</td>\n",
       "      <td>45.44411</td>\n",
       "    </tr>\n",
       "    <tr>\n",
       "      <td>3</td>\n",
       "      <td>2</td>\n",
       "      <td>0.16803</td>\n",
       "      <td>1891.57027</td>\n",
       "      <td>589.87762</td>\n",
       "      <td>98.58249</td>\n",
       "    </tr>\n",
       "  </tbody>\n",
       "</table>\n",
       "</div>"
      ],
      "text/plain": [
       "  Номер кластера Пенетрация Расстояние, км. Средний чек, руб.  \\\n",
       "0             -1    0.20151      1678.26137         501.31917   \n",
       "1              0    0.27393      2819.19080         492.14663   \n",
       "2              1    0.13842       655.09342         324.30716   \n",
       "3              2    0.16803      1891.57027         589.87762   \n",
       "\n",
       "  Уд. выручка на пас.  \n",
       "0            97.29160  \n",
       "1           134.06627  \n",
       "2            45.44411  \n",
       "3            98.58249  "
      ]
     },
     "execution_count": 47,
     "metadata": {},
     "output_type": "execute_result"
    }
   ],
   "source": [
    "# выведем отличия между кластерами\n",
    "dif_cluster('Кластер DB')"
   ]
  },
  {
   "cell_type": "code",
   "execution_count": 48,
   "metadata": {
    "scrolled": true
   },
   "outputs": [
    {
     "data": {
      "image/png": "[encoded data removed]",
      "text/plain": [
       "<Figure size 1080x504 with 1 Axes>"
      ]
     },
     "metadata": {
      "needs_background": "light"
     },
     "output_type": "display_data"
    }
   ],
   "source": [
    "# строим визуализацию\n",
    "\n",
    "plt.figure(figsize=(15,7))\n",
    "sns.scatterplot(X[y_pred_db == -1, 0], X[y_pred_db == -1, 1], color = 'black', label = 'Выбросы',s=50)\n",
    "sns.scatterplot(X[y_pred_db == 0, 0], X[y_pred_db == 0, 1], color = 'blue', label = 'кластер 1',s=100)\n",
    "sns.scatterplot(X[y_pred_db == 1, 0], X[y_pred_db == 1, 1], color = 'orange', label = 'кластер 2',s=100)\n",
    "sns.scatterplot(X[y_pred_db == 2, 0], X[y_pred_db == 2, 1], color = 'green', label = 'кластер 3',s=100)\n",
    "\n",
    "plt.title('Кластеризация маршрутов алгоритмом DBSCAN', fontsize=12, color='black')\n",
    "plt.legend()\n",
    "plt.show()"
   ]
  },
  {
   "cell_type": "markdown",
   "metadata": {},
   "source": [
    "**Вывод:** коэффициент силуэта составляет 0,25, что ниже порогового значения в 0,5. Однако алгоритм DBSCAN лучше кластеризирует имеющиеся данные за счет распознавания выбросов."
   ]
  },
  {
   "cell_type": "markdown",
   "metadata": {},
   "source": [
    "Выведем список маршрутов в каждом кластере."
   ]
  },
  {
   "cell_type": "code",
   "execution_count": 49,
   "metadata": {
    "scrolled": true
   },
   "outputs": [
    {
     "name": "stdout",
     "output_type": "stream",
     "text": [
      "Список маршрутов в 1 кластере ['IKT-VKO', 'AER-TJM', 'LED-NJC', 'GDZ-TJM', 'KJA-VKO', 'AAQ-TJM', 'AAQ-NJC', 'EGO-SGC', 'AER-NJC', 'GDZ-SGC', 'AER-SGC', 'LED-SGC', 'DYR-VKO', 'KRR-NJC', 'MRV-SGC', 'LED-TJM', 'AAQ-SGC', 'AER-HMA', 'KRR-SGC', 'KRO-VKO', 'HMA-KRR', 'MRV-TJM', 'KRR-TJM', 'AER-UFA', 'VIE-VKO', 'MRV-UFA', 'ROV-SGC', 'NOJ-VKO', 'GRV-LED', 'TJM-VKO', 'AAQ-SCW', 'AER-SCW', 'SGC-VKO', 'MCX-VKO', 'KUF-NJC', 'TXL-VKO']\n",
      "\n",
      "Список маршрутов в 2 кластере ['AER-STW', 'AER-KRR', 'AER-MRV', 'AER-OGZ', 'AAQ-AER', 'AER-ROV', 'OMS-SGC', 'KJA-OVB', 'SGC-UFA', 'KZN-LPK', 'SGC-TJM', 'AER-GRV', 'ASF-MRV', 'PEE-SGC', 'KUF-TJM', 'BAX-OMS', 'ASF-KRR', 'NJC-OMS', 'BAX-SGC', 'NOZ-OMS', 'KRR-VOG', 'HMA-OMS', 'KZN-UFA', 'MCX-STW', 'AER-MCX', 'SGC-SVX', 'KUF-SVX', 'SVX-TJM', 'LPK-MRV', 'SVX-URJ', 'ASF-VOG', 'NJC-TJM', 'TJM-UFA', 'OVS-SVX', 'UFA-VOG', 'PEE-TJM', 'KJA-SGC', 'OMS-TJM', 'KUF-UFA', 'OVB-SGC', 'NYA-SGC', 'TJM-URJ', 'HMA-UFA', 'IKT-KJA', 'CEK-HMA', 'SVX-UFA', 'HMA-SVX', 'SGC-TOF', 'AER-ESL', 'PEE-UFA', 'HMA-TJM', 'HMA-NJC', 'OVS-TJM', 'ESL-ROV', 'OVS-URJ', 'ESL-MRV', 'HMA-URJ', 'HMA-OVS', 'EYK-TJM', 'EYK-SGC', 'HMA-KGP', 'HMA-NYA', 'EYK-NYA', 'EYK-OVS', 'EYK-HMA']\n",
      "\n",
      "Список маршрутов в 3 кластере ['NJC-UFA', 'USK-VKO', 'NAJ-VKO', 'KJA-TJM', 'GRV-UFA', 'DXB-GRV', 'EVN-VKO']\n",
      "\n",
      "Список уникальных маршрутов ['AAQ-VKO', 'GDZ-VKO', 'AER-VKO', 'AER-VOZ', 'AER-ASF', 'AAQ-HMA', 'OGZ-VKO', 'AER-VOG', 'IGT-VKO', 'OVB-TJM', 'KZN-TJM', 'AAQ-SVX', 'MRV-VKO', 'GDZ-UFA', 'GRV-VKO', 'AAQ-UFA', 'KGD-VKO', 'ROV-VKO', 'STW-VKO', 'SKG-VKO', 'KRR-VKO', 'SGC-VOG', 'KUF-SGC', 'KZN-VKO', 'MSQ-VKO', 'UFA-VKO', 'UCT-VKO', 'KUF-VKO', 'HMA-VKO', 'KGP-VKO', 'LED-VKO', 'ULV-VKO', 'KRR-UFA', 'EGO-VKO', 'GRV-IST', 'GRV-SGC', 'SCW-VKO', 'NUX-TJM', 'MCX-SGC', 'RIX-VKO', 'NNM-VKO', 'GSV-SGC', 'MIL-VKO', 'MMK-VKO', 'UFA-USK', 'NUX-VKO', 'NUX-UFA', 'GYD-VKO', 'MCX-NUX', 'IST-MCX', 'DYU-VKO', 'GYD-TJM']\n"
     ]
    }
   ],
   "source": [
    "print(\"Список маршрутов в 1 кластере\",list(df[df['Кластер DB'] == 0]['Маршрут']))\n",
    "print()\n",
    "print(\"Список маршрутов в 2 кластере\",list(df[df['Кластер DB'] == 1]['Маршрут']))\n",
    "print()\n",
    "print(\"Список маршрутов в 3 кластере\",list(df[df['Кластер DB'] == 2]['Маршрут']))\n",
    "print()\n",
    "print(\"Список уникальных маршрутов\",list(df[df['Кластер DB'] == -1]['Маршрут']))"
   ]
  },
  {
   "cell_type": "markdown",
   "metadata": {},
   "source": [
    "**Вывод:** для кластеризации маршрутов лучше всего использовать алгоритм DBSCAN, т.к. он различает выбросы (в нашем случае это специфичные рейсы). Даныне были разбиты алгоритмом на 3 кластера. Маршруты, находящиеся в 1 кластере можно использовать для сравнения друг с другом."
   ]
  },
  {
   "cell_type": "markdown",
   "metadata": {},
   "source": [
    "### 6. Применение результатов кластеризационного анализа для A/B тестов"
   ]
  },
  {
   "cell_type": "markdown",
   "metadata": {},
   "source": [
    "В мае изменилась цена на услугу \"Выбор места\" (код stw) на маршруте TJM-VKO. Определим для тестовой группы контрольную, используя результаты кластерного анализа. \n",
    "\n",
    "Критерии:\n",
    "* контрольная группа (маршрут) должна быть из того же кластера, что и тестовая группа;\n",
    "* тип воздушных судов должен совпадать;\n",
    "* расстояние примерно одинаковое."
   ]
  },
  {
   "cell_type": "code",
   "execution_count": 50,
   "metadata": {},
   "outputs": [
    {
     "name": "stdout",
     "output_type": "stream",
     "text": [
      "Маршрут TJM-VKO находится в 0 кластере\n"
     ]
    }
   ],
   "source": [
    "print(\"Маршрут TJM-VKO находится в\",list(df[df['Маршрут'] == 'TJM-VKO']['Кластер DB'])[0],\"кластере\")"
   ]
  },
  {
   "cell_type": "code",
   "execution_count": 51,
   "metadata": {},
   "outputs": [
    {
     "name": "stdout",
     "output_type": "stream",
     "text": [
      "Маршрут TJM-VKO находится в 1842.0 кластере\n"
     ]
    }
   ],
   "source": [
    "print(\"Маршрут TJM-VKO находится в\",round(list(df[df['Маршрут'] == 'TJM-VKO']['Расстояние'])[0],0),\"кластере\")"
   ]
  },
  {
   "cell_type": "code",
   "execution_count": 52,
   "metadata": {
    "scrolled": true
   },
   "outputs": [
    {
     "data": {
      "text/html": [
       "<div>\n",
       "<style scoped>\n",
       "    .dataframe tbody tr th:only-of-type {\n",
       "        vertical-align: middle;\n",
       "    }\n",
       "\n",
       "    .dataframe tbody tr th {\n",
       "        vertical-align: top;\n",
       "    }\n",
       "\n",
       "    .dataframe thead th {\n",
       "        text-align: right;\n",
       "    }\n",
       "</style>\n",
       "<table border=\"1\" class=\"dataframe\">\n",
       "  <thead>\n",
       "    <tr style=\"text-align: right;\">\n",
       "      <th></th>\n",
       "      <th>Маршрут</th>\n",
       "      <th>Пенетрация_услуги</th>\n",
       "      <th>Удельная_выручка_на_пассажира</th>\n",
       "      <th>Тип_ВС</th>\n",
       "      <th>Средний_чек_услуги</th>\n",
       "      <th>Количество_проданных_сегментов</th>\n",
       "      <th>ВВЛ/МВЛ</th>\n",
       "      <th>Направленность</th>\n",
       "      <th>Налет</th>\n",
       "      <th>Тип_маршрута</th>\n",
       "      <th>Расстояние</th>\n",
       "      <th>Кластер K-means</th>\n",
       "      <th>Кластер EM</th>\n",
       "      <th>Кластер AC</th>\n",
       "      <th>Кластер DB</th>\n",
       "    </tr>\n",
       "  </thead>\n",
       "  <tbody>\n",
       "    <tr>\n",
       "      <td>55</td>\n",
       "      <td>TJM-VKO</td>\n",
       "      <td>0.22775</td>\n",
       "      <td>109.82586</td>\n",
       "      <td>2</td>\n",
       "      <td>482.24345</td>\n",
       "      <td>40086</td>\n",
       "      <td>0</td>\n",
       "      <td>1</td>\n",
       "      <td>3.07143</td>\n",
       "      <td>0</td>\n",
       "      <td>1841.73469</td>\n",
       "      <td>1</td>\n",
       "      <td>3</td>\n",
       "      <td>1</td>\n",
       "      <td>0</td>\n",
       "    </tr>\n",
       "    <tr>\n",
       "      <td>64</td>\n",
       "      <td>MCX-VKO</td>\n",
       "      <td>0.20873</td>\n",
       "      <td>108.47365</td>\n",
       "      <td>2</td>\n",
       "      <td>517.42745</td>\n",
       "      <td>69275</td>\n",
       "      <td>0</td>\n",
       "      <td>1</td>\n",
       "      <td>2.62453</td>\n",
       "      <td>0</td>\n",
       "      <td>1852.30077</td>\n",
       "      <td>2</td>\n",
       "      <td>3</td>\n",
       "      <td>1</td>\n",
       "      <td>0</td>\n",
       "    </tr>\n",
       "  </tbody>\n",
       "</table>\n",
       "</div>"
      ],
      "text/plain": [
       "    Маршрут  Пенетрация_услуги  Удельная_выручка_на_пассажира  Тип_ВС  \\\n",
       "55  TJM-VKO            0.22775                      109.82586       2   \n",
       "64  MCX-VKO            0.20873                      108.47365       2   \n",
       "\n",
       "    Средний_чек_услуги  Количество_проданных_сегментов  ВВЛ/МВЛ  \\\n",
       "55           482.24345                           40086        0   \n",
       "64           517.42745                           69275        0   \n",
       "\n",
       "    Направленность   Налет  Тип_маршрута  Расстояние  Кластер K-means  \\\n",
       "55               1 3.07143             0  1841.73469                1   \n",
       "64               1 2.62453             0  1852.30077                2   \n",
       "\n",
       "    Кластер EM  Кластер AC  Кластер DB  \n",
       "55           3           1           0  \n",
       "64           3           1           0  "
      ]
     },
     "execution_count": 52,
     "metadata": {},
     "output_type": "execute_result"
    }
   ],
   "source": [
    "# определим схожий маршрут\n",
    "df[(df['Кластер DB'] == 0) & ((df['Расстояние'] > 1800) & (df['Расстояние'] < 2000 )) & (df['Тип_ВС']==2)]"
   ]
  },
  {
   "cell_type": "markdown",
   "metadata": {},
   "source": [
    "Маршрут MCX-VKO похож на TJM-VKO."
   ]
  },
  {
   "cell_type": "code",
   "execution_count": 54,
   "metadata": {},
   "outputs": [],
   "source": [
    "# данные по тесту для групп соберем в таблицу\n",
    "sale_seats = [190, 169]\n",
    "sale_pax = [9645, 4871]\n",
    "rout = ['MCX-VKO', 'TJM-VKO']\n",
    "\n",
    "data = pd.DataFrame({'Маршрут': rout, 'Кол-во услуг': sale_seats , 'Кол-во пассажиров': sale_pax})\n",
    "data['Услуги/пассажиры'] = data['Кол-во услуг']/data['Кол-во пассажиров']\n",
    "data['Ошибка репрезентативности']  = np.sqrt(data['Услуги/пассажиры']*(1-data['Услуги/пассажиры'])/data['Кол-во пассажиров'])\n",
    "data['Нижняя граница ДИ']  = data['Услуги/пассажиры'] - 2 * data['Ошибка репрезентативности']\n",
    "data['Верхняя граница ДИ']  = data['Услуги/пассажиры'] + 2 * data['Ошибка репрезентативности']\n",
    "data['Группа'] = np.where(data['Маршрут'] == 'TJM-VKO', 'тестовая', 'контрольная')"
   ]
  },
  {
   "cell_type": "code",
   "execution_count": 55,
   "metadata": {},
   "outputs": [
    {
     "name": "stdout",
     "output_type": "stream",
     "text": [
      "Тестовая группа лучше контрольной\n"
     ]
    }
   ],
   "source": [
    "# рассчитаем коэффициент Стьюдента и сделаем вывод\n",
    "\n",
    "a = round(data[data['Маршрут']=='MCX-VKO']['Услуги/пассажиры'][0],3)\n",
    "b = round(data[data['Маршрут']=='TJM-VKO']['Услуги/пассажиры'][1],3)\n",
    "m_a = round(data[data['Маршрут']=='MCX-VKO']['Ошибка репрезентативности'][0],3)\n",
    "m_b = round(data[data['Маршрут']=='TJM-VKO']['Ошибка репрезентативности'][1],3)\n",
    "\n",
    "def Student(a, b, m_a, m_b):\n",
    "    k = abs((a-b)/np.sqrt(m_a**2 + m_b**2))\n",
    "    t = 1.96\n",
    "    if k > t:\n",
    "        return print(\"Тестовая группа лучше контрольной\")\n",
    "    else: return print(\"Контрольная группа лучше тестовой\")\n",
    "\n",
    "Student(a, b, m_a, m_b)"
   ]
  },
  {
   "cell_type": "markdown",
   "metadata": {},
   "source": [
    "**Вывод:** алгоритмы кластеризации можно применять для нахождения контрольной группы в ценовых тестах. "
   ]
  }
 ],
 "metadata": {
  "kernelspec": {
   "display_name": "Python 3",
   "language": "python",
   "name": "python3"
  },
  "language_info": {
   "codemirror_mode": {
    "name": "ipython",
    "version": 3
   },
   "file_extension": ".py",
   "mimetype": "text/x-python",
   "name": "python",
   "nbconvert_exporter": "python",
   "pygments_lexer": "ipython3",
   "version": "3.7.4"
  }
 },
 "nbformat": 4,
 "nbformat_minor": 2
}
